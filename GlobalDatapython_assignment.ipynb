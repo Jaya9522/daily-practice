{
  "nbformat": 4,
  "nbformat_minor": 0,
  "metadata": {
    "colab": {
      "provenance": [],
      "authorship_tag": "ABX9TyPTObFOnwe+AMsUwQwLOWWS",
      "include_colab_link": true
    },
    "kernelspec": {
      "name": "python3",
      "display_name": "Python 3"
    },
    "language_info": {
      "name": "python"
    }
  },
  "cells": [
    {
      "cell_type": "markdown",
      "metadata": {
        "id": "view-in-github",
        "colab_type": "text"
      },
      "source": [
        "<a href=\"https://colab.research.google.com/github/Jaya9522/daily-practice/blob/main/GlobalDatapython_assignment.ipynb\" target=\"_parent\"><img src=\"https://colab.research.google.com/assets/colab-badge.svg\" alt=\"Open In Colab\"/></a>"
      ]
    },
    {
      "cell_type": "markdown",
      "source": [
        "### **Q1) Data Processing - 1**\n"
      ],
      "metadata": {
        "id": "MpgNtY1M1qqV"
      }
    },
    {
      "cell_type": "code",
      "source": [
        "import pandas as pd"
      ],
      "metadata": {
        "id": "RMwXEnYg3Bpi"
      },
      "execution_count": null,
      "outputs": []
    },
    {
      "cell_type": "code",
      "execution_count": null,
      "metadata": {
        "id": "lqGavAac0CNK"
      },
      "outputs": [],
      "source": [
        "# create the initial data frame\n",
        "data={\"Letter\":['a','g','s','e','W','a','e','i','d'], \"Number\":[1,5,36,15,4,8,9,6,42]}\n",
        "data_frame=pd.DataFrame(data)"
      ]
    },
    {
      "cell_type": "code",
      "source": [
        "print(data_frame.to_string(index=False))"
      ],
      "metadata": {
        "colab": {
          "base_uri": "https://localhost:8080/"
        },
        "id": "MLx-IgMp3Snu",
        "outputId": "fc7053b4-4d4f-46e5-8288-01f6f3ddb65a"
      },
      "execution_count": 8,
      "outputs": [
        {
          "output_type": "stream",
          "name": "stdout",
          "text": [
            "Letter  Number\n",
            "     a       1\n",
            "     g       5\n",
            "     s      36\n",
            "     e      15\n",
            "     W       4\n",
            "     a       8\n",
            "     e       9\n",
            "     i       6\n",
            "     d      42\n"
          ]
        }
      ]
    },
    {
      "cell_type": "code",
      "source": [
        "# define lambda functions to check for vowel and even numbers\n",
        "is_vowel = lambda x: 'Yes' if x in ['a', 'e', 'i', 'o', 'u'] else 'No'\n",
        "is_even = lambda x: True if x % 2 == 0 else False\n"
      ],
      "metadata": {
        "id": "d5TAVsub7OG0"
      },
      "execution_count": 9,
      "outputs": []
    },
    {
      "cell_type": "code",
      "source": [
        "# create new columns 'vowel' and 'even' using .apply and lambda functions\n",
        "data_frame['vowel'] = data_frame['Letter'].apply(is_vowel)\n",
        "data_frame['even'] = data_frame['Number'].apply(is_even)"
      ],
      "metadata": {
        "id": "s74U9uso7ggh"
      },
      "execution_count": 10,
      "outputs": []
    },
    {
      "cell_type": "code",
      "source": [
        "# print the resulting data frame\n",
        "print(data_frame.to_string(index=False))"
      ],
      "metadata": {
        "colab": {
          "base_uri": "https://localhost:8080/"
        },
        "id": "uyXZ8WVR7r34",
        "outputId": "d5d95386-6fdb-40a7-e4bb-f2e11ac42ac1"
      },
      "execution_count": 11,
      "outputs": [
        {
          "output_type": "stream",
          "name": "stdout",
          "text": [
            "Letter  Number vowel  even\n",
            "     a       1   Yes False\n",
            "     g       5    No False\n",
            "     s      36    No  True\n",
            "     e      15   Yes False\n",
            "     W       4    No  True\n",
            "     a       8   Yes  True\n",
            "     e       9   Yes False\n",
            "     i       6   Yes  True\n",
            "     d      42    No  True\n"
          ]
        }
      ]
    }
  ]
}