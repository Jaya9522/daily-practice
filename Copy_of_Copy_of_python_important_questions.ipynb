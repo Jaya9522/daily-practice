{
  "nbformat": 4,
  "nbformat_minor": 0,
  "metadata": {
    "colab": {
      "provenance": [],
      "authorship_tag": "ABX9TyMQj6HkeGecY67vAugKK0uj",
      "include_colab_link": true
    },
    "kernelspec": {
      "name": "python3",
      "display_name": "Python 3"
    },
    "language_info": {
      "name": "python"
    }
  },
  "cells": [
    {
      "cell_type": "markdown",
      "metadata": {
        "id": "view-in-github",
        "colab_type": "text"
      },
      "source": [
        "<a href=\"https://colab.research.google.com/github/Jaya9522/daily-practice/blob/main/Copy_of_Copy_of_python_important_questions.ipynb\" target=\"_parent\"><img src=\"https://colab.research.google.com/assets/colab-badge.svg\" alt=\"Open In Colab\"/></a>"
      ]
    },
    {
      "cell_type": "markdown",
      "source": [
        "Question-1\n",
        "\n",
        "Write a python code to find the prome numbers between 40 t0 80 ?"
      ],
      "metadata": {
        "id": "-EGb0uA2fjkt"
      }
    },
    {
      "cell_type": "code",
      "execution_count": null,
      "metadata": {
        "id": "tYSUhDhMfXww"
      },
      "outputs": [],
      "source": [
        "start=40\n",
        "end=80\n",
        "for i in range(start,end+1):\n",
        "    for j in range(2,i):\n",
        "        if(i%j)==0:\n",
        "            break\n",
        "    else:\n",
        "        print(i,end=\",\")     "
      ]
    },
    {
      "cell_type": "markdown",
      "source": [
        "Question-2\n",
        "\n",
        "Python program to check if year is a leap year or not ?"
      ],
      "metadata": {
        "id": "L3-gd5puhBbj"
      }
    },
    {
      "cell_type": "code",
      "source": [
        "year=2013\n",
        "if (year % 400 == 0) and (year % 100 == 0):\n",
        "    print(\"{0} is a leap year\".format(year))\n",
        "elif (year % 4 ==0) and (year % 100 != 0):\n",
        "    print(\"{0} is a leap year\".format(year))\n",
        "else:\n",
        "    print(\"{0} is not a leap year\".format(year))"
      ],
      "metadata": {
        "colab": {
          "base_uri": "https://localhost:8080/"
        },
        "id": "5hK4u_XvhI1P",
        "outputId": "4cfd528a-c360-4c6e-b533-353bb36a9766"
      },
      "execution_count": null,
      "outputs": [
        {
          "output_type": "stream",
          "name": "stdout",
          "text": [
            "2013 is not a leap year\n"
          ]
        }
      ]
    },
    {
      "cell_type": "markdown",
      "source": [
        "Question-3\n",
        "\n",
        "Python Program to check if a number is prime or not"
      ],
      "metadata": {
        "id": "EiH0z1CliTd2"
      }
    },
    {
      "cell_type": "code",
      "source": [
        "num=int(input())\n",
        "if num>1:\n",
        "    for i in range(2,num):\n",
        "        if(num%i)==0:\n",
        "            print(num,\"is not a prime number.\")\n",
        "            break\n",
        "    else:\n",
        "        print(num,\"is a prime number\")\n",
        "else:\n",
        "    print(\"please enter a valid number which is any number greater than 1.\")                \n",
        "\n"
      ],
      "metadata": {
        "colab": {
          "base_uri": "https://localhost:8080/"
        },
        "id": "YIR_caQ8iZdl",
        "outputId": "a07440f9-45da-442c-c6a7-2c91d35321ad"
      },
      "execution_count": null,
      "outputs": [
        {
          "output_type": "stream",
          "name": "stdout",
          "text": [
            "6\n",
            "6 is not a prime number.\n"
          ]
        }
      ]
    },
    {
      "cell_type": "markdown",
      "source": [
        "Question-4\n",
        "\n",
        "Python program to find the factorial of a number provided by the user ?\n"
      ],
      "metadata": {
        "id": "t--uTO6Bk710"
      }
    },
    {
      "cell_type": "code",
      "source": [
        "num=int(input())\n",
        "factorial=1\n",
        "if num < 0:\n",
        "    print(\"Sorry, factorial does not exist for negative numbers\")\n",
        "elif num == 0:\n",
        "   print(\"The factorial of 0 is 1\")   \n",
        "else:\n",
        "    for i in range(1,num+1):\n",
        "       factorial=factorial*i\n",
        "    print(\"The factorial of\",num,\"is\",factorial)"
      ],
      "metadata": {
        "colab": {
          "base_uri": "https://localhost:8080/"
        },
        "id": "XlJnGAX5jd2t",
        "outputId": "16814dc8-5a94-44ee-a06e-06a914a86e6d"
      },
      "execution_count": null,
      "outputs": [
        {
          "output_type": "stream",
          "name": "stdout",
          "text": [
            "8\n",
            "The factorial of 8 is 40320\n"
          ]
        }
      ]
    },
    {
      "cell_type": "markdown",
      "source": [
        "Question-5\n",
        "\n",
        "Program to display the Fibonacci sequence up to n-th term ?"
      ],
      "metadata": {
        "id": "1wHBJmDCqUEI"
      }
    },
    {
      "cell_type": "code",
      "source": [
        "nterm=int(input())\n",
        "n1,n2=0,1\n",
        "count=0\n",
        "if nterm <= 0:\n",
        "   print(\"Please enter a positive integer\")\n",
        "elif nterm == 1:\n",
        "   print(\"Fibonacci sequence upto\",nterm,\":\")\n",
        "   print(n1)\n",
        "else:\n",
        "   print(\"Fibonacci sequence:\")\n",
        "   while count < nterm:\n",
        "       print(n1,end=' ')\n",
        "       nth = n1 + n2\n",
        "       n1 = n2\n",
        "       n2 = nth\n",
        "       count += 1   "
      ],
      "metadata": {
        "colab": {
          "base_uri": "https://localhost:8080/"
        },
        "id": "2lgezhGMl-QV",
        "outputId": "ecd2cac1-cdfe-467f-b15a-9287704d0d47"
      },
      "execution_count": null,
      "outputs": [
        {
          "output_type": "stream",
          "name": "stdout",
          "text": [
            "10\n",
            "Fibonacci sequence:\n",
            "0 1 1 2 3 5 8 13 21 34 "
          ]
        }
      ]
    },
    {
      "cell_type": "markdown",
      "source": [
        "Question-6\n",
        "\n",
        "Program to check Armstrong numbers in a certain interval"
      ],
      "metadata": {
        "id": "xKKLaOKLXhY8"
      }
    },
    {
      "cell_type": "code",
      "source": [
        "lower = 100\n",
        "upper = 2000\n",
        "\n",
        "for num in range(lower, upper + 1):\n",
        "\n",
        "   # order of number\n",
        "   order = len(str(num))\n",
        "    \n",
        "   # initialize sum\n",
        "   sum = 0\n",
        "\n",
        "   temp = num\n",
        "   while temp > 0:\n",
        "       digit = temp % 10\n",
        "       sum += digit ** order\n",
        "       temp //= 10\n",
        "\n",
        "   if num == sum:\n",
        "       print(num,end=\",\")"
      ],
      "metadata": {
        "id": "QviX5u9Hs3nW",
        "colab": {
          "base_uri": "https://localhost:8080/"
        },
        "outputId": "6f53ef6d-65ca-41f6-f315-8f05be0885a7"
      },
      "execution_count": null,
      "outputs": [
        {
          "output_type": "stream",
          "name": "stdout",
          "text": [
            "153,370,371,407,1634,"
          ]
        }
      ]
    },
    {
      "cell_type": "markdown",
      "source": [
        "Question-7\n",
        "\n",
        "Python code to separate positive and negative number in a list"
      ],
      "metadata": {
        "id": "e5pXu2isZsxB"
      }
    },
    {
      "cell_type": "code",
      "source": [
        "list1 = [-3, 8, -1, 6, 9, 3, -1, -7, -5, -42, 73, 65]\n",
        "positive_list = []\n",
        "negative_list = []\n",
        "\n",
        "# Separate positive and negative numbers into two separate lists\n",
        "for num in list1:\n",
        "    if num >= 0:\n",
        "        positive_list.append(num)\n",
        "    else:\n",
        "        negative_list.append(num)\n",
        "\n",
        "# Combine positive and negative lists into a single list\n",
        "result_list = negative_list + positive_list\n",
        "print(\"Combined list:\", result_list)"
      ],
      "metadata": {
        "colab": {
          "base_uri": "https://localhost:8080/"
        },
        "id": "7WTQSPTSZ5vv",
        "outputId": "0fe5793f-f453-435d-96d8-776cc843ac28"
      },
      "execution_count": null,
      "outputs": [
        {
          "output_type": "stream",
          "name": "stdout",
          "text": [
            "Combined list: [-3, -1, -1, -7, -5, -42, 8, 6, 9, 3, 73, 65]\n"
          ]
        }
      ]
    },
    {
      "cell_type": "markdown",
      "source": [
        "Question-8\n",
        "\n",
        "Python code to replace nth(8th) character in a string without using replace method"
      ],
      "metadata": {
        "id": "BP_87gYxaRsx"
      }
    },
    {
      "cell_type": "code",
      "source": [
        "string=\"Almabetter\"\n",
        "index=7\n",
        "new_char=\"T\"\n",
        "string=string[:index]+new_char+string[index+1:]\n",
        "print(string)\n"
      ],
      "metadata": {
        "colab": {
          "base_uri": "https://localhost:8080/"
        },
        "id": "qdz-lFzPaejv",
        "outputId": "f946bb41-8026-47d3-b919-9c287c924250"
      },
      "execution_count": null,
      "outputs": [
        {
          "output_type": "stream",
          "name": "stdout",
          "text": [
            "AlmabetTer\n"
          ]
        }
      ]
    },
    {
      "cell_type": "markdown",
      "source": [
        "Question-9\n",
        "\n",
        "Python code to find the pair value that will give num when adding together"
      ],
      "metadata": {
        "id": "3u3lZP8LaeNY"
      }
    },
    {
      "cell_type": "code",
      "source": [
        "num = 12\n",
        "listt = [10, 3, 4, 7, 6, 6, 2]\n",
        "\n",
        "# Create an empty set to store pairs of elements that sum to 'num'\n",
        "pairs = set()\n",
        "\n",
        "# Loop through each element in the list\n",
        "for i in range(len(listt)):\n",
        "    # Check if 'num' minus the current element is already in the set\n",
        "    if num - listt[i] in pairs:\n",
        "        # If it is, print the pair of elements that sum to 'num'\n",
        "        print(\"Pair found:\", num - listt[i], listt[i])\n",
        "    else:\n",
        "        # Otherwise, add the current element to the set\n",
        "        pairs.add(listt[i])\n"
      ],
      "metadata": {
        "colab": {
          "base_uri": "https://localhost:8080/"
        },
        "id": "AKY6i-xlebiX",
        "outputId": "24f828dc-9e4e-4192-c3ef-f9a5c53802e1"
      },
      "execution_count": null,
      "outputs": [
        {
          "output_type": "stream",
          "name": "stdout",
          "text": [
            "Pair found: 6 6\n",
            "Pair found: 10 2\n"
          ]
        }
      ]
    },
    {
      "cell_type": "markdown",
      "source": [
        "Question-10\n",
        "\n",
        "Python program to find H.C.F of two numbers"
      ],
      "metadata": {
        "id": "tA5J4y2YhOH-"
      }
    },
    {
      "cell_type": "code",
      "source": [
        "def compute_hcf(x, y):\n",
        "\n",
        "# choose the smaller number\n",
        "    if x > y:\n",
        "        smaller = y\n",
        "    else:\n",
        "        smaller = x\n",
        "    for i in range(1, smaller+1):\n",
        "        if((x % i == 0) and (y % i == 0)):\n",
        "            hcf = i \n",
        "    return hcf\n",
        "\n",
        "num1 = 54 \n",
        "num2 = 24\n",
        "\n",
        "print(\"The H.C.F. is\", compute_hcf(num1, num2))"
      ],
      "metadata": {
        "colab": {
          "base_uri": "https://localhost:8080/"
        },
        "id": "srqJQAGAhVo3",
        "outputId": "54362727-2a06-45cc-810b-c174748ee868"
      },
      "execution_count": null,
      "outputs": [
        {
          "output_type": "stream",
          "name": "stdout",
          "text": [
            "The H.C.F. is 6\n"
          ]
        }
      ]
    },
    {
      "cell_type": "code",
      "source": [
        "lcm=(num1*num2)//compute_hcf(num1,num2)\n",
        "print(lcm)"
      ],
      "metadata": {
        "colab": {
          "base_uri": "https://localhost:8080/"
        },
        "id": "mjo6A5syhtxb",
        "outputId": "3f5ed5a0-3656-43c2-a9ad-2d2444232edf"
      },
      "execution_count": null,
      "outputs": [
        {
          "output_type": "stream",
          "name": "stdout",
          "text": [
            "216\n"
          ]
        }
      ]
    },
    {
      "cell_type": "markdown",
      "source": [
        "Question-11\n",
        "\n",
        "Python Program to count the number of each vowels\n"
      ],
      "metadata": {
        "id": "lLYpneq0jKWY"
      }
    },
    {
      "cell_type": "code",
      "source": [
        "vowels = 'aeiou'\n",
        "\n",
        "ip_str = 'Hello, have you tried our tutorial section yet?'\n",
        "\n",
        "# make it suitable for caseless comparisions\n",
        "ip_str = ip_str.casefold()\n",
        "\n",
        "\n",
        "# make a dictionary with each vowel a key and value 0\n",
        "count = {}.fromkeys(vowels,0)\n",
        "\n",
        "# count the vowels\n",
        "for char in ip_str:\n",
        "   if char in count:\n",
        "       count[char] += 1\n",
        "\n",
        "print(count)"
      ],
      "metadata": {
        "colab": {
          "base_uri": "https://localhost:8080/"
        },
        "id": "XSM8-B3qjSdd",
        "outputId": "0aab5c2d-3412-4aad-a26e-d0d9cee5ac20"
      },
      "execution_count": null,
      "outputs": [
        {
          "output_type": "stream",
          "name": "stdout",
          "text": [
            "{'a': 2, 'e': 5, 'i': 3, 'o': 5, 'u': 3}\n"
          ]
        }
      ]
    },
    {
      "cell_type": "markdown",
      "source": [
        "Question-12\n",
        "\n",
        "Write a Python program to add a key to a dictionary."
      ],
      "metadata": {
        "id": "qaVHh9FUmLMw"
      }
    },
    {
      "cell_type": "code",
      "source": [
        "dict1={'name': 'xyz', 'age': 27, 'salary': 50000}\n",
        "dict2={'manager': 'abc'}\n",
        "dict1['manager']='abc'\n",
        "print(dict1)"
      ],
      "metadata": {
        "colab": {
          "base_uri": "https://localhost:8080/"
        },
        "id": "SEAq-9nHlxMd",
        "outputId": "3350a945-6a83-4155-e22c-83bfbf0a8662"
      },
      "execution_count": null,
      "outputs": [
        {
          "output_type": "stream",
          "name": "stdout",
          "text": [
            "{'name': 'xyz', 'age': 27, 'salary': 50000, 'manager': 'abc'}\n"
          ]
        }
      ]
    },
    {
      "cell_type": "markdown",
      "source": [
        "Question-13\n",
        "\n",
        "Write a Python program to add an item in a tuple."
      ],
      "metadata": {
        "id": "cP-nSkJOmSP5"
      }
    },
    {
      "cell_type": "code",
      "source": [
        "Input=('a','b','c','d') \n",
        "add=7\n",
        "Input=Input+(add,)\n",
        "print(Input)"
      ],
      "metadata": {
        "colab": {
          "base_uri": "https://localhost:8080/"
        },
        "id": "SzCc1XFemXqZ",
        "outputId": "bff80b0d-e295-4e6f-a391-0f2ce8f56823"
      },
      "execution_count": null,
      "outputs": [
        {
          "output_type": "stream",
          "name": "stdout",
          "text": [
            "('a', 'b', 'c', 'd', 7)\n"
          ]
        }
      ]
    },
    {
      "cell_type": "markdown",
      "source": [
        "Question-14\n",
        "\n",
        "Write a Python program to round every number of a given list of numbers and print the total sum multiplied by the length of the list."
      ],
      "metadata": {
        "id": "QO0ftDO3qKsc"
      }
    },
    {
      "cell_type": "code",
      "source": [
        "listt=[22.4, 4.0, -16.22, -9.10, 11.00, -12.22, 14.20, -5.20, 17.50]\n",
        "round_list=[round(num) for num in listt]\n",
        "length=len(round_list)\n",
        "sum=0\n",
        "for i in round_list:\n",
        "    sum=sum+i\n",
        "print(sum*length)    \n",
        "\n"
      ],
      "metadata": {
        "colab": {
          "base_uri": "https://localhost:8080/"
        },
        "id": "N6q2q69Mnjas",
        "outputId": "1d4207e3-2cba-4e45-974b-b25ceb1fb675"
      },
      "execution_count": null,
      "outputs": [
        {
          "output_type": "stream",
          "name": "stdout",
          "text": [
            "243\n"
          ]
        }
      ]
    },
    {
      "cell_type": "markdown",
      "source": [
        "Question-15\n",
        "\n",
        "Write a Python program to get a string from a given string where all occurrences of its first char have been changed to '$', except the first char itself."
      ],
      "metadata": {
        "id": "i-f2aW8YtoeI"
      }
    },
    {
      "cell_type": "code",
      "source": [
        "s=\"python programming\"\n",
        "fir_s=s[0]\n",
        "re_c=\"@\"\n",
        "new_s=fir_s+s[1:].replace(fir_s,re_c)\n",
        "print(new_s)"
      ],
      "metadata": {
        "colab": {
          "base_uri": "https://localhost:8080/"
        },
        "id": "b_sgFOwDtrvL",
        "outputId": "a602ad19-896f-4b21-df4a-5550375d1053"
      },
      "execution_count": null,
      "outputs": [
        {
          "output_type": "stream",
          "name": "stdout",
          "text": [
            "python @rogramming\n"
          ]
        }
      ]
    },
    {
      "cell_type": "markdown",
      "source": [
        "Question-16\n",
        "\n",
        "Write a Python function to check whether a number is perfect or not."
      ],
      "metadata": {
        "id": "kybqB2LeuRFP"
      }
    },
    {
      "cell_type": "code",
      "source": [
        "num=6\n",
        "sum=0\n",
        "for i in range(1,num):\n",
        "    if num % i ==0:\n",
        "        sum=sum+i\n",
        "if sum == num:\n",
        "    print(num,'is a perfect number')\n",
        "else:\n",
        "    print(\"false\")    \n",
        "\n"
      ],
      "metadata": {
        "colab": {
          "base_uri": "https://localhost:8080/"
        },
        "id": "tIZbdTuiuks4",
        "outputId": "5c2639f6-40d9-4792-fcae-b63da37f6650"
      },
      "execution_count": null,
      "outputs": [
        {
          "output_type": "stream",
          "name": "stdout",
          "text": [
            "6 is a perfect number\n"
          ]
        }
      ]
    },
    {
      "cell_type": "markdown",
      "source": [
        "Question-17\n",
        "\n",
        "Write a Python program that accepts a string and calculate the number of digits and letters."
      ],
      "metadata": {
        "id": "P0rKT9wwy5Om"
      }
    },
    {
      "cell_type": "code",
      "source": [
        "sti=input()\n",
        "digit=alphabet=0\n",
        "for i in sti:\n",
        "    if i.isdigit():\n",
        "      digit=digit+1\n",
        "    elif i.isalpha():\n",
        "      alphabet=alphabet+1\n",
        "    else:\n",
        "      pass\n",
        "print(\"Letters\",alphabet,'Digits',digit) \n",
        "           "
      ],
      "metadata": {
        "colab": {
          "base_uri": "https://localhost:8080/"
        },
        "id": "EFXVYqMhywuV",
        "outputId": "465da866-8170-4e44-dd81-e6332e76f93a"
      },
      "execution_count": null,
      "outputs": [
        {
          "output_type": "stream",
          "name": "stdout",
          "text": [
            "89\n",
            "Letters 0 Digits 2\n"
          ]
        }
      ]
    },
    {
      "cell_type": "markdown",
      "source": [
        "Question-18\n",
        "\n",
        "Write a Python program to move spaces to the front of a given string."
      ],
      "metadata": {
        "id": "ZV1u_VhbIR-g"
      }
    },
    {
      "cell_type": "code",
      "source": [
        "j= \"w3resource . com \"\n",
        "o=[i for i in j if i !=' ']\n",
        "l=len(j)-len(o)\n",
        "r=' '*l\n",
        "re='\"'+r+''.join(o)+'\"'\n",
        "print(re)"
      ],
      "metadata": {
        "colab": {
          "base_uri": "https://localhost:8080/"
        },
        "id": "Jth3rKZKGTz0",
        "outputId": "394c01c3-47bd-40ec-ae44-8f3d8516ee8d"
      },
      "execution_count": null,
      "outputs": [
        {
          "output_type": "stream",
          "name": "stdout",
          "text": [
            "\"   w3resource.com\"\n"
          ]
        }
      ]
    },
    {
      "cell_type": "markdown",
      "source": [
        "Question-19\n",
        "\n",
        "Write a Python program which iterates the integers from 1 to 50. For multiples of three print \"Fizz\" instead of the number and for the multiples of five print \"Buzz\". For numbers which are multiples of both three and five print \"FizzBuzz\"."
      ],
      "metadata": {
        "id": "51-l671tNKJ1"
      }
    },
    {
      "cell_type": "code",
      "source": [
        "for i in range(5):\n",
        "    if i % 3 ==0 and i % 5 ==0:\n",
        "        print('fizzbuzz',end=' ')\n",
        "        continue\n",
        "    elif i % 3 ==0:\n",
        "        print('fizz',end=' ')\n",
        "        continue\n",
        "    elif i % 5 ==0:\n",
        "        print('buzz',end=' ')\n",
        "        continue \n",
        "    print(i,end=' ')       \n"
      ],
      "metadata": {
        "colab": {
          "base_uri": "https://localhost:8080/"
        },
        "id": "oHWxBy_aLmBu",
        "outputId": "4ffd2e3c-3560-40e6-cdbe-13381e6e8a52"
      },
      "execution_count": null,
      "outputs": [
        {
          "output_type": "stream",
          "name": "stdout",
          "text": [
            "fizzbuzz 1 2 fizz 4 "
          ]
        }
      ]
    },
    {
      "cell_type": "markdown",
      "source": [
        "Question-20\n",
        "\n",
        "python code to fond the median of a list"
      ],
      "metadata": {
        "id": "ZbVnNoCdRaqS"
      }
    },
    {
      "cell_type": "code",
      "source": [
        "l=[24,44,57,69,78,90,23,45,67,65]\n",
        "l.sort()\n",
        "n=len(l)\n",
        "if n % 2 == 0:\n",
        "     median = (l[n//2] + l[n//2-1])/2\n",
        "else:\n",
        "     median = l[n//2]\n",
        "print(median)          \n"
      ],
      "metadata": {
        "colab": {
          "base_uri": "https://localhost:8080/"
        },
        "id": "NQmI80UDPFch",
        "outputId": "3045092b-2e60-4ca8-88f9-fc9c6c1a8c9c"
      },
      "execution_count": null,
      "outputs": [
        {
          "output_type": "stream",
          "name": "stdout",
          "text": [
            "61.0\n"
          ]
        }
      ]
    },
    {
      "cell_type": "markdown",
      "source": [
        "Question-21\n",
        "\n",
        "python programm to find the longest word in a string"
      ],
      "metadata": {
        "id": "yK0DvcOcS82Z"
      }
    },
    {
      "cell_type": "code",
      "source": [
        "f=\"king queen knight\"\n",
        "d=f.split(' ')\n",
        "l=0\n",
        "w=\"\"\n",
        "for i in d:\n",
        "    if len(i) > l:\n",
        "        l=len(i)\n",
        "        w=i\n",
        "r=(l,i)\n",
        "print(r)       \n"
      ],
      "metadata": {
        "colab": {
          "base_uri": "https://localhost:8080/"
        },
        "id": "9rSnHpqyRlUB",
        "outputId": "0f7aa809-2ad1-4343-9087-95f713afb63a"
      },
      "execution_count": null,
      "outputs": [
        {
          "output_type": "stream",
          "name": "stdout",
          "text": [
            "(6, 'knight')\n"
          ]
        }
      ]
    },
    {
      "cell_type": "markdown",
      "source": [
        "Question-22\n",
        "\n",
        "Write a Python program to find the first non-repeating character in given string."
      ],
      "metadata": {
        "id": "ekHWmiZLkRIf"
      }
    },
    {
      "cell_type": "code",
      "source": [
        "string = \"abcdaef\"\n",
        "\n",
        "# create a dictionary to store character counts\n",
        "char_counts = {}\n",
        "\n",
        "# loop through each character in the string and count its occurrences\n",
        "for char in string:\n",
        "    if char in char_counts:\n",
        "        char_counts[char] += 1\n",
        "    else:\n",
        "        char_counts[char] = 1\n",
        "\n",
        "# loop through the string again to find the first non-repeating character\n",
        "for char in string:\n",
        "    if char_counts[char] == 1:\n",
        "        print(char)\n",
        "        break\n",
        "else:\n",
        "    print(\"None\")"
      ],
      "metadata": {
        "colab": {
          "base_uri": "https://localhost:8080/"
        },
        "id": "Jz7B67IFkNbn",
        "outputId": "1c38d53e-9173-45dc-8fc1-704f035633c2"
      },
      "execution_count": null,
      "outputs": [
        {
          "output_type": "stream",
          "name": "stdout",
          "text": [
            "b\n"
          ]
        }
      ]
    },
    {
      "cell_type": "markdown",
      "source": [
        "Question-23\n",
        "\n",
        "Write a Python program to construct the following pattern, using a nested for loop."
      ],
      "metadata": {
        "id": "i3P4W6lymMfI"
      }
    },
    {
      "cell_type": "code",
      "source": [
        "n=5\n",
        "# print upper half of the pattern\n",
        "for i in range(1, n+1):\n",
        "    for j in range(1, i+1):\n",
        "        if j == i:\n",
        "            print(\"*.\", end=\"\")\n",
        "        else:\n",
        "            print(\"*.\", end=\"\")\n",
        "    print()\n",
        "# print lower half of the pattern\n",
        "for i in range(n-1, 0, -1):\n",
        "    for j in range(1, i+1):\n",
        "        if j == i:\n",
        "            print(\"*.\", end=\"\")\n",
        "        else:\n",
        "            print(\"*.\", end=\"\")\n",
        "    print()\n"
      ],
      "metadata": {
        "colab": {
          "base_uri": "https://localhost:8080/"
        },
        "id": "p0iteNpnmMHe",
        "outputId": "d0665bc6-0ea9-4909-db3d-a4740565febd"
      },
      "execution_count": null,
      "outputs": [
        {
          "output_type": "stream",
          "name": "stdout",
          "text": [
            "*.\n",
            "*.*.\n",
            "*.*.*.\n",
            "*.*.*.*.\n",
            "*.*.*.*.*.\n",
            "*.*.*.*.\n",
            "*.*.*.\n",
            "*.*.\n",
            "*.\n"
          ]
        }
      ]
    },
    {
      "cell_type": "markdown",
      "source": [
        "Question-24\n",
        "\n",
        "Write a Python program to find the second most repeated word in a given string.\n",
        "\n",
        "Input:\n",
        "string= Both of these issues are fixed by postponing the evaluation of annotations. Instead of compiling code which executes expressions in annotations at their definition time, the compiler stores the annotation in a string form equivalent to the AST of the expression in question. If needed, annotations can be resolved at runtime using typing.get_type_hints(). In the common case where this is not required, the annotations are cheaper to store (since short strings are interned by the interpreter) and make startup time faster."
      ],
      "metadata": {
        "id": "O7wS8KojrN_y"
      }
    },
    {
      "cell_type": "code",
      "source": [
        "string= 'Both of these issues are fixed by postponing the evaluation of annotations. Instead of compiling code which executes expressions in annotations at their definition time, the compiler stores the annotation in a string form equivalent to the AST of the expression in question. If needed, annotations can be resolved at runtime using typing.get_type_hints(). In the common case where this is not required, the annotations are cheaper to store (since short strings are interned by the interpreter) and make startup time faster.'"
      ],
      "metadata": {
        "id": "p4oObrgsqDVF"
      },
      "execution_count": null,
      "outputs": []
    },
    {
      "cell_type": "code",
      "source": [
        "from collections import Counter\n",
        "words = string.split()\n",
        "word_count = Counter(words)\n",
        "most_common = word_count.most_common(2)\n",
        "if len(most_common) == 1:\n",
        "    print(\"There is only one word in the string.\")\n",
        "else:\n",
        "    if most_common[0][1] == most_common[1][1]:\n",
        "        print(\"There is no second most repeated word.\")\n",
        "    else:\n",
        "        second_most_common = most_common[1]\n",
        "        print(\"('{}', {})\".format(second_most_common[0], second_most_common[1]))"
      ],
      "metadata": {
        "colab": {
          "base_uri": "https://localhost:8080/"
        },
        "id": "PgHEb-RpqNYs",
        "outputId": "0117f11e-e227-4e87-897d-7f0e26342383"
      },
      "execution_count": null,
      "outputs": [
        {
          "output_type": "stream",
          "name": "stdout",
          "text": [
            "('of', 4)\n"
          ]
        }
      ]
    },
    {
      "cell_type": "code",
      "source": [
        "lst= ['red', 'black', 'pink', 'green', 'black', 'green']\n",
        "l=set(lst)\n",
        "l=list(sorted(l))\n",
        "l"
      ],
      "metadata": {
        "colab": {
          "base_uri": "https://localhost:8080/"
        },
        "id": "gggGQLdDrckh",
        "outputId": "bcdd674f-245e-4eb6-c642-9fba093e1039"
      },
      "execution_count": null,
      "outputs": [
        {
          "output_type": "execute_result",
          "data": {
            "text/plain": [
              "['black', 'green', 'pink', 'red']"
            ]
          },
          "metadata": {},
          "execution_count": 27
        }
      ]
    },
    {
      "cell_type": "code",
      "source": [
        "b=[(2, 5), (1, 2), (4, 4), (2, 3), (2, 1)]\n",
        "bb=sorted(b,key=lambda x: x[-1])\n",
        "bb"
      ],
      "metadata": {
        "colab": {
          "base_uri": "https://localhost:8080/"
        },
        "id": "FbaIefUExuWk",
        "outputId": "caa43ee5-cb85-4f6b-e06e-050d07d0edd5"
      },
      "execution_count": null,
      "outputs": [
        {
          "output_type": "execute_result",
          "data": {
            "text/plain": [
              "[(2, 1), (1, 2), (2, 3), (4, 4), (2, 5)]"
            ]
          },
          "metadata": {},
          "execution_count": 28
        }
      ]
    },
    {
      "cell_type": "code",
      "source": [
        "inp = \"AI is going to rule the world aeiou\"\n",
        "cha= \"aeiou\"\n",
        "h=''\n",
        "for i in inp:\n",
        "    if i not in cha:\n",
        "        h=h+i\n",
        "print(h)        "
      ],
      "metadata": {
        "colab": {
          "base_uri": "https://localhost:8080/"
        },
        "id": "L6PaP9UJzL-1",
        "outputId": "8c26be33-b2ed-4221-9ee5-9fc8afa7bcec"
      },
      "execution_count": null,
      "outputs": [
        {
          "output_type": "stream",
          "name": "stdout",
          "text": [
            "AI s gng t rl th wrld \n"
          ]
        }
      ]
    },
    {
      "cell_type": "code",
      "source": [
        "j={'john': 170, 'kem':172, 'sam': 168, 'milli': 158}\n",
        "jj=sum(j.values())\n",
        "print(jj)    "
      ],
      "metadata": {
        "colab": {
          "base_uri": "https://localhost:8080/",
          "height": 200
        },
        "id": "E-Likilhzu6q",
        "outputId": "e5881ebe-c941-426e-a984-3c816535b0a7"
      },
      "execution_count": null,
      "outputs": [
        {
          "output_type": "error",
          "ename": "TypeError",
          "evalue": "ignored",
          "traceback": [
            "\u001b[0;31m---------------------------------------------------------------------------\u001b[0m",
            "\u001b[0;31mTypeError\u001b[0m                                 Traceback (most recent call last)",
            "\u001b[0;32m<ipython-input-30-2044e9f1484b>\u001b[0m in \u001b[0;36m<cell line: 2>\u001b[0;34m()\u001b[0m\n\u001b[1;32m      1\u001b[0m \u001b[0mj\u001b[0m\u001b[0;34m=\u001b[0m\u001b[0;34m{\u001b[0m\u001b[0;34m'john'\u001b[0m\u001b[0;34m:\u001b[0m \u001b[0;36m170\u001b[0m\u001b[0;34m,\u001b[0m \u001b[0;34m'kem'\u001b[0m\u001b[0;34m:\u001b[0m\u001b[0;36m172\u001b[0m\u001b[0;34m,\u001b[0m \u001b[0;34m'sam'\u001b[0m\u001b[0;34m:\u001b[0m \u001b[0;36m168\u001b[0m\u001b[0;34m,\u001b[0m \u001b[0;34m'milli'\u001b[0m\u001b[0;34m:\u001b[0m \u001b[0;36m158\u001b[0m\u001b[0;34m}\u001b[0m\u001b[0;34m\u001b[0m\u001b[0;34m\u001b[0m\u001b[0m\n\u001b[0;32m----> 2\u001b[0;31m \u001b[0mjj\u001b[0m\u001b[0;34m=\u001b[0m\u001b[0msum\u001b[0m\u001b[0;34m(\u001b[0m\u001b[0mj\u001b[0m\u001b[0;34m.\u001b[0m\u001b[0mvalues\u001b[0m\u001b[0;34m(\u001b[0m\u001b[0;34m)\u001b[0m\u001b[0;34m)\u001b[0m\u001b[0;34m\u001b[0m\u001b[0;34m\u001b[0m\u001b[0m\n\u001b[0m\u001b[1;32m      3\u001b[0m \u001b[0mprint\u001b[0m\u001b[0;34m(\u001b[0m\u001b[0mjj\u001b[0m\u001b[0;34m)\u001b[0m\u001b[0;34m\u001b[0m\u001b[0;34m\u001b[0m\u001b[0m\n",
            "\u001b[0;31mTypeError\u001b[0m: 'int' object is not callable"
          ]
        }
      ]
    },
    {
      "cell_type": "code",
      "source": [
        "s1= 'abc'\n",
        "s2='xyz'\n",
        "st3=s2[:-1]+s1[-1]+\" \"+s1[:-1]+s2[-1]\n",
        "st3"
      ],
      "metadata": {
        "id": "7Wm4reqp0-jo"
      },
      "execution_count": null,
      "outputs": []
    },
    {
      "cell_type": "code",
      "source": [
        "h='The quick Brown Fox'\n",
        "u=0\n",
        "l=0\n",
        "for i in h:\n",
        "    if i.isupper():\n",
        "        u=u+1\n",
        "    elif i.islower():\n",
        "        l=l+1\n",
        "    else:\n",
        "        pass\n",
        "print(u)\n",
        "print(l)                "
      ],
      "metadata": {
        "id": "9AqjhvNA1WlC"
      },
      "execution_count": null,
      "outputs": []
    },
    {
      "cell_type": "code",
      "source": [
        "x=2\n",
        "y=7\n",
        "if x==y or x+y==5 or abs(x-y)==5:\n",
        "    print('true')\n",
        "else:\n",
        "    print('false')    "
      ],
      "metadata": {
        "id": "hdK44cwmFMuj"
      },
      "execution_count": null,
      "outputs": []
    },
    {
      "cell_type": "code",
      "source": [
        "n=9\n",
        "c,d=0,1\n",
        "e=0\n",
        "while e < n:\n",
        "    print(c)\n",
        "    nn=c+d\n",
        "    c=d\n",
        "    d=nn\n",
        "    e=e+1\n"
      ],
      "metadata": {
        "id": "pdFu1pwzGCX0"
      },
      "execution_count": null,
      "outputs": []
    },
    {
      "cell_type": "code",
      "source": [
        "k='AlmaBetter@datascience'\n",
        "u=0\n",
        "l=0\n",
        "s=0\n",
        "n=0\n",
        "for i in k:\n",
        "    if str(i).islower():\n",
        "        l=l+1\n",
        "    elif str(i).isupper():\n",
        "        u=u+1\n",
        "    elif str(i).isdigit():\n",
        "        n=n+1\n",
        "    else:\n",
        "        s=s+1\n",
        "print(f'({u},{l},{s},{n},)')\n",
        " "
      ],
      "metadata": {
        "id": "-W-AnJPIJ-yj"
      },
      "execution_count": null,
      "outputs": []
    },
    {
      "cell_type": "code",
      "source": [
        "g=input()\n",
        "k=input()\n",
        "if g.isdigit() and k.isdigit():\n",
        "    sum=int(g)+int(k)\n",
        "    print(sum)\n",
        "else:\n",
        "    print('ern')    "
      ],
      "metadata": {
        "id": "KcniG53lNV6g"
      },
      "execution_count": null,
      "outputs": []
    },
    {
      "cell_type": "code",
      "source": [
        "l=(1, 2), (2, 3), (3, 4)\n",
        "ll=[list(i) for i in l]\n",
        "print(ll)"
      ],
      "metadata": {
        "id": "1KCUVwD-OT2b"
      },
      "execution_count": null,
      "outputs": []
    },
    {
      "cell_type": "code",
      "source": [
        "num=int(input())\n",
        "if num>1:\n",
        "    for i in range(2,num):\n",
        "        if(num%i)==0:\n",
        "            print(num,\"is not a prime number.\")\n",
        "            break\n",
        "    else:\n",
        "        print(num,\"is a prime number\")\n",
        "else:\n",
        "    print(\"please enter a valid number which is any number greater than 1.\")       "
      ],
      "metadata": {
        "id": "_EIiKTI8Tn7v"
      },
      "execution_count": null,
      "outputs": []
    },
    {
      "cell_type": "code",
      "source": [
        "num1=2\n",
        "num2=10\n",
        "c=[]\n",
        "for num in range(num1,num2):\n",
        "    for i in range(2,num):\n",
        "       if num % i == 0:\n",
        "        break \n",
        "    else:\n",
        "        c.append(num)\n",
        "print(len(c))        \n",
        "\n",
        "                \n"
      ],
      "metadata": {
        "id": "db5C49WrRGTu"
      },
      "execution_count": null,
      "outputs": []
    },
    {
      "cell_type": "code",
      "source": [
        "l=\"112344565\"\n",
        "s=[]\n",
        "m=[]\n",
        "d={}\n",
        "for i in l:\n",
        "    d[i]=d.get(i,0)+1\n",
        "for i in d:\n",
        "    if d[i]==1:\n",
        "        s.append(i)\n",
        "    else:\n",
        "        m.append(i)\n",
        "print(s,m)            "
      ],
      "metadata": {
        "id": "09tPLwjXWBZ3"
      },
      "execution_count": null,
      "outputs": []
    },
    {
      "cell_type": "code",
      "source": [
        "b=\"apple\"\n",
        "r=[]\n",
        "for i in b:\n",
        "    if not r or i != r[-1]:\n",
        "        r.append(i)\n",
        "print(''.join(r))        "
      ],
      "metadata": {
        "id": "VrDO7KEXZCgG"
      },
      "execution_count": null,
      "outputs": []
    },
    {
      "cell_type": "code",
      "source": [
        "Input= {'name': 'xyz', 'age': 27, 'salary': 50000, 'manager': 'xyz'}\n",
        "n={}\n",
        "for k,v in Input.items():\n",
        "    if v not in n.values():\n",
        "        n[k]=v\n",
        "print(n)        "
      ],
      "metadata": {
        "id": "_YMMi28raVcC"
      },
      "execution_count": null,
      "outputs": []
    },
    {
      "cell_type": "code",
      "source": [
        "m=\"Python\"\n",
        "s='P'\n",
        "if m[0]==s[0]:\n",
        "    print(True)\n",
        "else:\n",
        "    print(False)    "
      ],
      "metadata": {
        "id": "WDkQonoO8RZU"
      },
      "execution_count": null,
      "outputs": []
    },
    {
      "cell_type": "code",
      "source": [
        "n=330\n",
        "i=2\n",
        "lpf=1\n",
        "while i <= n/i:\n",
        "    if n % i ==0:\n",
        "        n//=i\n",
        "        lpf=i\n",
        "    else:\n",
        "        i +=1   \n",
        "if n > 1 and n > lpf:\n",
        "    lpf=n\n",
        "print(lpf)        "
      ],
      "metadata": {
        "id": "dw_hhnkIAofI"
      },
      "execution_count": null,
      "outputs": []
    },
    {
      "cell_type": "code",
      "source": [
        "n=['abcd', 'abc', 'bcd', 'bkie', 'cder', 'cdsw', 'sdfsd', 'dagfa', 'acjd']\n",
        "s='a'\n",
        "k=[]\n",
        "for i in n:\n",
        "    if i[0]==s:\n",
        "        k.append(i)\n",
        "print(k)        "
      ],
      "metadata": {
        "id": "UjllyBL8DP-W"
      },
      "execution_count": null,
      "outputs": []
    },
    {
      "cell_type": "code",
      "source": [
        "h=[-12, -6, 300, -40, 2, 2, 3, 57, -50, -22, 12, 40, 9, 11, 18]\n",
        "h=sorted(h)\n",
        "p=[i for i in h if i >0]\n",
        "n=[i for i in h if i <0]\n",
        "print('[',max(n),min(p),']')\n"
      ],
      "metadata": {
        "id": "zUVy925yEROn"
      },
      "execution_count": null,
      "outputs": []
    },
    {
      "cell_type": "code",
      "source": [
        "l1 = [\"Red\", \"Green\", \"Orange\", \"White\"]\n",
        "l2 = [\"Black\", \"Green\", \"White\", \"Pink\"]\n",
        "print(set(l1) & set(l2))"
      ],
      "metadata": {
        "id": "in1dW6DxGNsV"
      },
      "execution_count": null,
      "outputs": []
    },
    {
      "cell_type": "code",
      "source": [
        "l1=[\"Red\", \"Green\", \"Orange\", \"White\"]\n",
        "\n",
        "l2=[\"Black\", \"Green\", \"White\", \"Pink\"]\n",
        "print(set(l1) & set(l2))"
      ],
      "metadata": {
        "id": "iuu1iqInFbzj"
      },
      "execution_count": null,
      "outputs": []
    },
    {
      "cell_type": "code",
      "source": [
        "x= [(4, 1), (1, 2), (6, 0)]\n",
        "x.sort(key=lambda t:t[-1])  \n",
        "s=x[0] \n",
        "print(s) \n"
      ],
      "metadata": {
        "id": "EX8AvgTfGjro"
      },
      "execution_count": null,
      "outputs": []
    },
    {
      "cell_type": "code",
      "source": [
        "g=\"Thequickbrownfoxjumpsoverthelazydog\"\n",
        "g=g.lower()\n",
        "gg='abcdefghijklmnopqrstuvwxyz'\n",
        "for i in g:\n",
        "    if i in gg:\n",
        "        print(True)\n",
        "        break\n",
        "    else:\n",
        "        print(False)\n"
      ],
      "metadata": {
        "id": "1cnuOmmNHxwu"
      },
      "execution_count": null,
      "outputs": []
    },
    {
      "cell_type": "code",
      "source": [
        "c=\"Hello World\"\n",
        "c=c.split(' ')\n",
        "for i in c:\n",
        "    d=c[1]+\" \"+c[0]\n",
        "d"
      ],
      "metadata": {
        "id": "ix63YqMYI8ME"
      },
      "execution_count": null,
      "outputs": []
    },
    {
      "cell_type": "code",
      "source": [
        "def is_prime(n):\n",
        "    if n <= 1:\n",
        "        return False\n",
        "    for i in range(2, int(n**0.5)+1):\n",
        "        if n % i == 0:\n",
        "            return False\n",
        "    return True\n",
        "\n",
        "def next_prime(n):\n",
        "    next_num = n + 1\n",
        "    while not is_prime(next_num):\n",
        "        next_num += 1\n",
        "    return next_num\n",
        "\n",
        "# example usage\n",
        "n = 48\n",
        "next_prime_num = next_prime(n)\n",
        "print(f\"The next prime number of {n} is: {next_prime_num}\")\n"
      ],
      "metadata": {
        "id": "5cUfeHNdM1ZX"
      },
      "execution_count": null,
      "outputs": []
    },
    {
      "cell_type": "code",
      "source": [
        "def isprime(num):\n",
        "   for i in range(2,num):\n",
        "      if num % i == 0:\n",
        "        return False\n",
        "   return True \n",
        "def nprime(num):\n",
        "    n_p=num+1\n",
        "    while not isprime(n_p):\n",
        "        n_p=n_p+1\n",
        "    return n_p\n",
        "num =48\n",
        "print(nprime(num))        "
      ],
      "metadata": {
        "id": "Y2FZE234KPwe"
      },
      "execution_count": null,
      "outputs": []
    },
    {
      "cell_type": "code",
      "source": [
        "lst=[1, 0, 3, 2, 5, 4]\n",
        "for i in range(0, len(lst)-1, 2):\n",
        "        lst[i], lst[i+1] = lst[i+1], lst[i]\n",
        "print(lst)"
      ],
      "metadata": {
        "id": "MyDudbufNdp2"
      },
      "execution_count": null,
      "outputs": []
    },
    {
      "cell_type": "code",
      "source": [
        "n=81\n",
        "a=3\n",
        "x=0\n",
        "while n % a ==0:\n",
        "    x=x+1\n",
        "    n//=a\n",
        "if n == 1:\n",
        "    print(x)\n",
        "else:\n",
        "    print(-1)\n",
        "\n"
      ],
      "metadata": {
        "id": "M-pfFlbHQvvS"
      },
      "execution_count": null,
      "outputs": []
    },
    {
      "cell_type": "code",
      "source": [
        "b=[1, 2, -8, 0]\n",
        "max(b)"
      ],
      "metadata": {
        "id": "NfGGkOvwSl87"
      },
      "execution_count": null,
      "outputs": []
    },
    {
      "cell_type": "code",
      "source": [
        "string='aaabbbcccccd'\n",
        "listt=[]\n",
        "for i in range(0,len(string)-1):\n",
        "    if string[i]==string[i+1]:\n",
        "        listt.append(string[i])\n",
        "    else:\n",
        "        pass\n",
        "print(list(set(listt)))    "
      ],
      "metadata": {
        "id": "hCJnZ0juq1nE"
      },
      "execution_count": null,
      "outputs": []
    },
    {
      "cell_type": "code",
      "source": [
        "x=25\n",
        "y=45\n",
        "def hcf(x,y):\n",
        "    listt=[]\n",
        "    if x > y:\n",
        "        smaller=y\n",
        "    else:\n",
        "        smaller=x    \n",
        "    for i in range(2,smaller+1):\n",
        "        if x%i==0 and y%i==0:\n",
        "            listt.append(i) \n",
        "    if len(listt) !=0:\n",
        "        result=max(listt)\n",
        "    else:\n",
        "        result=1\n",
        "    return result       \n",
        "\n",
        "def lcm(x,y):\n",
        "    return (x*y)//hcf(x,y)\n",
        "          "
      ],
      "metadata": {
        "id": "gWeIJ1EnrCKz"
      },
      "execution_count": null,
      "outputs": []
    },
    {
      "cell_type": "code",
      "source": [
        "print(hcf(50,hcf(25,45)))"
      ],
      "metadata": {
        "id": "QcRzFGpDrX86"
      },
      "execution_count": null,
      "outputs": []
    },
    {
      "cell_type": "code",
      "source": [
        "print(lcm(100,lcm(25,45)))"
      ],
      "metadata": {
        "id": "YAO5wt1tr7yb"
      },
      "execution_count": null,
      "outputs": []
    },
    {
      "cell_type": "code",
      "source": [
        "tup=('a','b','c','d',7)\n",
        "tup=tup+(8,)\n",
        "print(tup)"
      ],
      "metadata": {
        "id": "Izb-iq9Lsxie"
      },
      "execution_count": null,
      "outputs": []
    },
    {
      "cell_type": "code",
      "source": [
        "tupp=('a', 'b', 'c', 'd', 7, 8)\n",
        "tupp=list(tupp)\n",
        "tupp.remove(7)\n",
        "print(tuple(tupp))"
      ],
      "metadata": {
        "id": "_zu-8TF0udUy"
      },
      "execution_count": null,
      "outputs": []
    },
    {
      "cell_type": "code",
      "source": [
        "hage=15\n",
        "if hage<0:\n",
        "    print(\"enter positive number\")\n",
        "elif hage<=2:\n",
        "    dage=10.5*hage\n",
        "else:\n",
        "    dage=(10.5*2)+((hage-2)*4) \n",
        "print(int(dage))          "
      ],
      "metadata": {
        "id": "SmGck3ClwUQZ"
      },
      "execution_count": null,
      "outputs": []
    },
    {
      "cell_type": "code",
      "source": [
        "P=10000 \n",
        "r=3.5\n",
        "t=7\n",
        "n=1\n",
        "FV =P*(1+(r/100))**7\n",
        "print(round(FV,2)) "
      ],
      "metadata": {
        "id": "5cePykedygMn"
      },
      "execution_count": null,
      "outputs": []
    },
    {
      "cell_type": "code",
      "source": [
        "SI=P*(1+((r/100)*t))\n",
        "print(round(SI,2))"
      ],
      "metadata": {
        "id": "0-TtWAlI4iac"
      },
      "execution_count": null,
      "outputs": []
    },
    {
      "cell_type": "code",
      "source": [
        "if FV > SI:\n",
        "    print(f\"compound interest is better by {FV - SI:.2f} amount\") \n",
        "else:\n",
        "    print(f\"simple interest is better by {SI - FV:.2f} amount\")    "
      ],
      "metadata": {
        "id": "lsK6a3YD5ros"
      },
      "execution_count": null,
      "outputs": []
    },
    {
      "cell_type": "code",
      "source": [
        "base=4\n",
        "Altitude=3\n",
        "hypotenuse=((base**2)+(Altitude**2))**0.5\n",
        "print(int(hypotenuse))"
      ],
      "metadata": {
        "id": "AuxEPCZt7c5b"
      },
      "execution_count": null,
      "outputs": []
    },
    {
      "cell_type": "code",
      "source": [
        "listt=[22.4, 4.0, -16.22, -9.10, 11.00, -12.22, 14.20, -5.20, 17.50]\n",
        "listt=[round(i) for i in listt]\n",
        "len=len(listt)\n",
        "summ=sum(listt)\n",
        "print(summ*len)"
      ],
      "metadata": {
        "id": "A4K7qPdb_UtZ"
      },
      "execution_count": null,
      "outputs": []
    },
    {
      "cell_type": "code",
      "source": [
        "import numpy as np\n",
        "random_numbers = np.random.uniform(-50, 50, 15)\n",
        "random_numbers_rounded = np.round(random_numbers, 2)\n",
        "listtt=list(random_numbers_rounded)\n",
        "print(listtt)"
      ],
      "metadata": {
        "id": "smrxS59S_7eo"
      },
      "execution_count": null,
      "outputs": []
    },
    {
      "cell_type": "code",
      "source": [
        "print(listtt)"
      ],
      "metadata": {
        "id": "MHXTCF-WCH7Z"
      },
      "execution_count": null,
      "outputs": []
    },
    {
      "cell_type": "code",
      "source": [
        "listtt=[round(i) for i in listtt]\n",
        "length=len(listtt)"
      ],
      "metadata": {
        "id": "9g6n52HQCWII"
      },
      "execution_count": null,
      "outputs": []
    }
  ]
}