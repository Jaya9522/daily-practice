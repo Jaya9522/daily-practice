{
  "nbformat": 4,
  "nbformat_minor": 0,
  "metadata": {
    "colab": {
      "provenance": [],
      "authorship_tag": "ABX9TyNwIn0LUu4l3eBTCr0LZBqR",
      "include_colab_link": true
    },
    "kernelspec": {
      "name": "python3",
      "display_name": "Python 3"
    },
    "language_info": {
      "name": "python"
    }
  },
  "cells": [
    {
      "cell_type": "markdown",
      "metadata": {
        "id": "view-in-github",
        "colab_type": "text"
      },
      "source": [
        "<a href=\"https://colab.research.google.com/github/Jaya9522/daily-practice/blob/main/Copy_of_Copy_of_python_important_questions.ipynb\" target=\"_parent\"><img src=\"https://colab.research.google.com/assets/colab-badge.svg\" alt=\"Open In Colab\"/></a>"
      ]
    },
    {
      "cell_type": "markdown",
      "source": [
        "Question-1\n",
        "\n",
        "Write a python code to find the prime numbers between 40 t0 80 ?"
      ],
      "metadata": {
        "id": "-EGb0uA2fjkt"
      }
    },
    {
      "cell_type": "code",
      "execution_count": null,
      "metadata": {
        "id": "tYSUhDhMfXww"
      },
      "outputs": [],
      "source": [
        "start=40\n",
        "end=80\n",
        "for i in range(start,end+1):\n",
        "    for j in range(2,i):\n",
        "        if(i%j)==0:\n",
        "            break\n",
        "    else:\n",
        "        print(i,end=\",\")     "
      ]
    },
    {
      "cell_type": "markdown",
      "source": [
        "Question-2\n",
        "\n",
        "Python program to check if year is a leap year or not ?"
      ],
      "metadata": {
        "id": "L3-gd5puhBbj"
      }
    },
    {
      "cell_type": "code",
      "source": [
        "year=2013\n",
        "if (year % 400 == 0) and (year % 100 == 0):\n",
        "    print(\"{0} is a leap year\".format(year))\n",
        "elif (year % 4 ==0) and (year % 100 != 0):\n",
        "    print(\"{0} is a leap year\".format(year))\n",
        "else:\n",
        "    print(\"{0} is not a leap year\".format(year))"
      ],
      "metadata": {
        "colab": {
          "base_uri": "https://localhost:8080/"
        },
        "id": "5hK4u_XvhI1P",
        "outputId": "4cfd528a-c360-4c6e-b533-353bb36a9766"
      },
      "execution_count": null,
      "outputs": [
        {
          "output_type": "stream",
          "name": "stdout",
          "text": [
            "2013 is not a leap year\n"
          ]
        }
      ]
    },
    {
      "cell_type": "markdown",
      "source": [
        "Question-3\n",
        "\n",
        "Python Program to check if a number is prime or not"
      ],
      "metadata": {
        "id": "EiH0z1CliTd2"
      }
    },
    {
      "cell_type": "code",
      "source": [
        "num=int(input())\n",
        "if num>1:\n",
        "    for i in range(2,num):\n",
        "        if(num%i)==0:\n",
        "            print(num,\"is not a prime number.\")\n",
        "            break\n",
        "    else:\n",
        "        print(num,\"is a prime number\")\n",
        "else:\n",
        "    print(\"please enter a valid number which is any number greater than 1.\")                \n",
        "\n"
      ],
      "metadata": {
        "colab": {
          "base_uri": "https://localhost:8080/"
        },
        "id": "YIR_caQ8iZdl",
        "outputId": "a07440f9-45da-442c-c6a7-2c91d35321ad"
      },
      "execution_count": null,
      "outputs": [
        {
          "output_type": "stream",
          "name": "stdout",
          "text": [
            "6\n",
            "6 is not a prime number.\n"
          ]
        }
      ]
    },
    {
      "cell_type": "markdown",
      "source": [
        "Question-4\n",
        "\n",
        "Python program to find the factorial of a number provided by the user ?\n"
      ],
      "metadata": {
        "id": "t--uTO6Bk710"
      }
    },
    {
      "cell_type": "code",
      "source": [
        "num=int(input())\n",
        "factorial=1\n",
        "if num < 0:\n",
        "    print(\"Sorry, factorial does not exist for negative numbers\")\n",
        "elif num == 0:\n",
        "   print(\"The factorial of 0 is 1\")   \n",
        "else:\n",
        "    for i in range(1,num+1):\n",
        "       factorial=factorial*i\n",
        "    print(\"The factorial of\",num,\"is\",factorial)"
      ],
      "metadata": {
        "colab": {
          "base_uri": "https://localhost:8080/"
        },
        "id": "XlJnGAX5jd2t",
        "outputId": "16814dc8-5a94-44ee-a06e-06a914a86e6d"
      },
      "execution_count": null,
      "outputs": [
        {
          "output_type": "stream",
          "name": "stdout",
          "text": [
            "8\n",
            "The factorial of 8 is 40320\n"
          ]
        }
      ]
    },
    {
      "cell_type": "markdown",
      "source": [
        "Question-5\n",
        "\n",
        "Program to display the Fibonacci sequence up to n-th term ?"
      ],
      "metadata": {
        "id": "1wHBJmDCqUEI"
      }
    },
    {
      "cell_type": "code",
      "source": [
        "nterm=int(input())\n",
        "n1,n2=0,1\n",
        "count=0\n",
        "if nterm <= 0:\n",
        "   print(\"Please enter a positive integer\")\n",
        "elif nterm == 1:\n",
        "   print(\"Fibonacci sequence upto\",nterm,\":\")\n",
        "   print(n1)\n",
        "else:\n",
        "   print(\"Fibonacci sequence:\")\n",
        "   while count < nterm:\n",
        "       print(n1,end=' ')\n",
        "       nth = n1 + n2\n",
        "       n1 = n2\n",
        "       n2 = nth\n",
        "       count += 1   "
      ],
      "metadata": {
        "colab": {
          "base_uri": "https://localhost:8080/"
        },
        "id": "2lgezhGMl-QV",
        "outputId": "ecd2cac1-cdfe-467f-b15a-9287704d0d47"
      },
      "execution_count": null,
      "outputs": [
        {
          "output_type": "stream",
          "name": "stdout",
          "text": [
            "10\n",
            "Fibonacci sequence:\n",
            "0 1 1 2 3 5 8 13 21 34 "
          ]
        }
      ]
    },
    {
      "cell_type": "markdown",
      "source": [
        "Question-6\n",
        "\n",
        "Program to check Armstrong numbers in a certain interval"
      ],
      "metadata": {
        "id": "xKKLaOKLXhY8"
      }
    },
    {
      "cell_type": "code",
      "source": [
        "lower = 100\n",
        "upper = 2000\n",
        "\n",
        "for num in range(lower, upper + 1):\n",
        "   order = len(str(num))\n",
        "   sum = 0\n",
        "   temp = num\n",
        "   while temp > 0:\n",
        "       digit = temp % 10\n",
        "       sum += digit ** order\n",
        "       temp //= 10\n",
        "\n",
        "   if num == sum:\n",
        "       print(num,end=\",\")"
      ],
      "metadata": {
        "id": "QviX5u9Hs3nW",
        "colab": {
          "base_uri": "https://localhost:8080/"
        },
        "outputId": "8db49875-e743-4290-a033-aff4e7542aa0"
      },
      "execution_count": null,
      "outputs": [
        {
          "output_type": "stream",
          "name": "stdout",
          "text": [
            "153,370,371,407,1634,"
          ]
        }
      ]
    },
    {
      "cell_type": "markdown",
      "source": [
        "Question-7\n",
        "\n",
        "Python code to separate positive and negative number in a list"
      ],
      "metadata": {
        "id": "e5pXu2isZsxB"
      }
    },
    {
      "cell_type": "code",
      "source": [
        "list1 = [-3, 8, -1, 6, 9, 3, -1, -7, -5, -42, 73, 65]\n",
        "positive_list = []\n",
        "negative_list = []\n",
        "\n",
        "# Separate positive and negative numbers into two separate lists\n",
        "for num in list1:\n",
        "    if num >= 0:\n",
        "        positive_list.append(num)\n",
        "    else:\n",
        "        negative_list.append(num)\n",
        "\n",
        "# Combine positive and negative lists into a single list\n",
        "result_list = negative_list + positive_list\n",
        "print(\"Combined list:\", result_list)"
      ],
      "metadata": {
        "colab": {
          "base_uri": "https://localhost:8080/"
        },
        "id": "7WTQSPTSZ5vv",
        "outputId": "0fe5793f-f453-435d-96d8-776cc843ac28"
      },
      "execution_count": null,
      "outputs": [
        {
          "output_type": "stream",
          "name": "stdout",
          "text": [
            "Combined list: [-3, -1, -1, -7, -5, -42, 8, 6, 9, 3, 73, 65]\n"
          ]
        }
      ]
    },
    {
      "cell_type": "markdown",
      "source": [
        "Question-8\n",
        "\n",
        "Python code to replace nth(8th) character in a string without using replace method"
      ],
      "metadata": {
        "id": "BP_87gYxaRsx"
      }
    },
    {
      "cell_type": "code",
      "source": [
        "string=\"Almabetter\"\n",
        "index=7\n",
        "new_char=\"T\"\n",
        "string=string[:index]+new_char+string[index+1:]\n",
        "print(string)\n"
      ],
      "metadata": {
        "colab": {
          "base_uri": "https://localhost:8080/"
        },
        "id": "qdz-lFzPaejv",
        "outputId": "f946bb41-8026-47d3-b919-9c287c924250"
      },
      "execution_count": null,
      "outputs": [
        {
          "output_type": "stream",
          "name": "stdout",
          "text": [
            "AlmabetTer\n"
          ]
        }
      ]
    },
    {
      "cell_type": "markdown",
      "source": [
        "Question-9\n",
        "\n",
        "Python code to find the pair value that will give num when adding together"
      ],
      "metadata": {
        "id": "3u3lZP8LaeNY"
      }
    },
    {
      "cell_type": "code",
      "source": [
        "num = 12\n",
        "listt = [10, 3, 4, 7, 6, 6, 2]\n",
        "pairs = set()\n",
        "for i in range(len(listt)):\n",
        "    \n",
        "    if num - listt[i] in pairs:\n",
        "        \n",
        "        print(\"Pair found:\", num - listt[i], listt[i])\n",
        "    else:\n",
        "    \n",
        "        pairs.add(listt[i])\n"
      ],
      "metadata": {
        "colab": {
          "base_uri": "https://localhost:8080/"
        },
        "id": "AKY6i-xlebiX",
        "outputId": "24f828dc-9e4e-4192-c3ef-f9a5c53802e1"
      },
      "execution_count": null,
      "outputs": [
        {
          "output_type": "stream",
          "name": "stdout",
          "text": [
            "Pair found: 6 6\n",
            "Pair found: 10 2\n"
          ]
        }
      ]
    },
    {
      "cell_type": "markdown",
      "source": [
        "Question-10\n",
        "\n",
        "Python program to find H.C.F of two numbers"
      ],
      "metadata": {
        "id": "tA5J4y2YhOH-"
      }
    },
    {
      "cell_type": "code",
      "source": [
        "def compute_hcf(x, y):\n",
        "\n",
        "# choose the smaller number\n",
        "    if x > y:\n",
        "        smaller = y\n",
        "    else:\n",
        "        smaller = x\n",
        "    for i in range(1, smaller+1):\n",
        "        if((x % i == 0) and (y % i == 0)):\n",
        "            hcf = i \n",
        "    return hcf\n",
        "\n",
        "num1 = 54 \n",
        "num2 = 24\n",
        "\n",
        "print(\"The H.C.F. is\", compute_hcf(num1, num2))"
      ],
      "metadata": {
        "colab": {
          "base_uri": "https://localhost:8080/"
        },
        "id": "srqJQAGAhVo3",
        "outputId": "54362727-2a06-45cc-810b-c174748ee868"
      },
      "execution_count": null,
      "outputs": [
        {
          "output_type": "stream",
          "name": "stdout",
          "text": [
            "The H.C.F. is 6\n"
          ]
        }
      ]
    },
    {
      "cell_type": "code",
      "source": [
        "lcm=(num1*num2)//compute_hcf(num1,num2)\n",
        "print(lcm)"
      ],
      "metadata": {
        "colab": {
          "base_uri": "https://localhost:8080/"
        },
        "id": "mjo6A5syhtxb",
        "outputId": "3f5ed5a0-3656-43c2-a9ad-2d2444232edf"
      },
      "execution_count": null,
      "outputs": [
        {
          "output_type": "stream",
          "name": "stdout",
          "text": [
            "216\n"
          ]
        }
      ]
    },
    {
      "cell_type": "markdown",
      "source": [
        "Question-11\n",
        "\n",
        "Python Program to count the number of each vowels\n"
      ],
      "metadata": {
        "id": "lLYpneq0jKWY"
      }
    },
    {
      "cell_type": "code",
      "source": [
        "vowels = 'aeiou'\n",
        "\n",
        "ip_str = 'Hello, have you tried our tutorial section yet?'\n",
        "\n",
        "# make it suitable for caseless comparisions\n",
        "ip_str = ip_str.casefold()\n",
        "\n",
        "\n",
        "# make a dictionary with each vowel a key and value 0\n",
        "count = {}.fromkeys(vowels,0)\n",
        "\n",
        "# count the vowels\n",
        "for char in ip_str:\n",
        "   if char in count:\n",
        "       count[char] += 1\n",
        "\n",
        "print(count)"
      ],
      "metadata": {
        "colab": {
          "base_uri": "https://localhost:8080/"
        },
        "id": "XSM8-B3qjSdd",
        "outputId": "0aab5c2d-3412-4aad-a26e-d0d9cee5ac20"
      },
      "execution_count": null,
      "outputs": [
        {
          "output_type": "stream",
          "name": "stdout",
          "text": [
            "{'a': 2, 'e': 5, 'i': 3, 'o': 5, 'u': 3}\n"
          ]
        }
      ]
    },
    {
      "cell_type": "markdown",
      "source": [
        "Question-12\n",
        "\n",
        "Write a Python program to add a key to a dictionary."
      ],
      "metadata": {
        "id": "qaVHh9FUmLMw"
      }
    },
    {
      "cell_type": "code",
      "source": [
        "dict1={'name': 'xyz', 'age': 27, 'salary': 50000}\n",
        "dict2={'manager': 'abc'}\n",
        "dict1['manager']='abc'\n",
        "print(dict1)"
      ],
      "metadata": {
        "colab": {
          "base_uri": "https://localhost:8080/"
        },
        "id": "SEAq-9nHlxMd",
        "outputId": "3350a945-6a83-4155-e22c-83bfbf0a8662"
      },
      "execution_count": null,
      "outputs": [
        {
          "output_type": "stream",
          "name": "stdout",
          "text": [
            "{'name': 'xyz', 'age': 27, 'salary': 50000, 'manager': 'abc'}\n"
          ]
        }
      ]
    },
    {
      "cell_type": "markdown",
      "source": [
        "Question-13\n",
        "\n",
        "Write a Python program to add an item in a tuple."
      ],
      "metadata": {
        "id": "cP-nSkJOmSP5"
      }
    },
    {
      "cell_type": "code",
      "source": [
        "Input=('a','b','c','d') \n",
        "add=7\n",
        "Input=Input+(add,)\n",
        "print(Input)"
      ],
      "metadata": {
        "colab": {
          "base_uri": "https://localhost:8080/"
        },
        "id": "SzCc1XFemXqZ",
        "outputId": "bff80b0d-e295-4e6f-a391-0f2ce8f56823"
      },
      "execution_count": null,
      "outputs": [
        {
          "output_type": "stream",
          "name": "stdout",
          "text": [
            "('a', 'b', 'c', 'd', 7)\n"
          ]
        }
      ]
    },
    {
      "cell_type": "markdown",
      "source": [
        "Question-14\n",
        "\n",
        "Write a Python program to round every number of a given list of numbers and print the total sum multiplied by the length of the list."
      ],
      "metadata": {
        "id": "QO0ftDO3qKsc"
      }
    },
    {
      "cell_type": "code",
      "source": [
        "listt=[22.4, 4.0, -16.22, -9.10, 11.00, -12.22, 14.20, -5.20, 17.50]\n",
        "round_list=[round(num) for num in listt]\n",
        "length=len(round_list)\n",
        "sum=0\n",
        "for i in round_list:\n",
        "    sum=sum+i\n",
        "print(sum*length)    \n",
        "\n"
      ],
      "metadata": {
        "colab": {
          "base_uri": "https://localhost:8080/"
        },
        "id": "N6q2q69Mnjas",
        "outputId": "1d4207e3-2cba-4e45-974b-b25ceb1fb675"
      },
      "execution_count": null,
      "outputs": [
        {
          "output_type": "stream",
          "name": "stdout",
          "text": [
            "243\n"
          ]
        }
      ]
    },
    {
      "cell_type": "markdown",
      "source": [
        "Question-15\n",
        "\n",
        "Write a Python program to get a string from a given string where all occurrences of its first char have been changed to '$', except the first char itself."
      ],
      "metadata": {
        "id": "i-f2aW8YtoeI"
      }
    },
    {
      "cell_type": "code",
      "source": [
        "s=\"python programming\"\n",
        "fir_s=s[0]\n",
        "re_c=\"@\"\n",
        "new_s=fir_s+s[1:].replace(fir_s,re_c)\n",
        "print(new_s)"
      ],
      "metadata": {
        "colab": {
          "base_uri": "https://localhost:8080/"
        },
        "id": "b_sgFOwDtrvL",
        "outputId": "a602ad19-896f-4b21-df4a-5550375d1053"
      },
      "execution_count": null,
      "outputs": [
        {
          "output_type": "stream",
          "name": "stdout",
          "text": [
            "python @rogramming\n"
          ]
        }
      ]
    },
    {
      "cell_type": "markdown",
      "source": [
        "Question-16\n",
        "\n",
        "Write a Python function to check whether a number is perfect or not."
      ],
      "metadata": {
        "id": "kybqB2LeuRFP"
      }
    },
    {
      "cell_type": "code",
      "source": [
        "num=6\n",
        "sum=0\n",
        "for i in range(1,num):\n",
        "    if num % i ==0:\n",
        "        sum=sum+i\n",
        "if sum == num:\n",
        "    print(num,'is a perfect number')\n",
        "else:\n",
        "    print(\"false\")    \n",
        "\n"
      ],
      "metadata": {
        "colab": {
          "base_uri": "https://localhost:8080/"
        },
        "id": "tIZbdTuiuks4",
        "outputId": "5c2639f6-40d9-4792-fcae-b63da37f6650"
      },
      "execution_count": null,
      "outputs": [
        {
          "output_type": "stream",
          "name": "stdout",
          "text": [
            "6 is a perfect number\n"
          ]
        }
      ]
    },
    {
      "cell_type": "markdown",
      "source": [
        "Question-17\n",
        "\n",
        "Write a Python program that accepts a string and calculate the number of digits and letters."
      ],
      "metadata": {
        "id": "P0rKT9wwy5Om"
      }
    },
    {
      "cell_type": "code",
      "source": [
        "sti=input()\n",
        "digit=alphabet=0\n",
        "for i in sti:\n",
        "    if i.isdigit():\n",
        "      digit=digit+1\n",
        "    elif i.isalpha():\n",
        "      alphabet=alphabet+1\n",
        "    else:\n",
        "      pass\n",
        "print(\"Letters\",alphabet,'Digits',digit) \n",
        "           "
      ],
      "metadata": {
        "colab": {
          "base_uri": "https://localhost:8080/"
        },
        "id": "EFXVYqMhywuV",
        "outputId": "465da866-8170-4e44-dd81-e6332e76f93a"
      },
      "execution_count": null,
      "outputs": [
        {
          "output_type": "stream",
          "name": "stdout",
          "text": [
            "89\n",
            "Letters 0 Digits 2\n"
          ]
        }
      ]
    },
    {
      "cell_type": "markdown",
      "source": [
        "Question-18\n",
        "\n",
        "Write a Python program to move spaces to the front of a given string."
      ],
      "metadata": {
        "id": "ZV1u_VhbIR-g"
      }
    },
    {
      "cell_type": "code",
      "source": [
        "j= \"w3resource . com \"\n",
        "o=[i for i in j if i !=' ']\n",
        "l=len(j)-len(o)\n",
        "r=' '*l\n",
        "re='\"'+r+''.join(o)+'\"'\n",
        "print(re)"
      ],
      "metadata": {
        "colab": {
          "base_uri": "https://localhost:8080/"
        },
        "id": "Jth3rKZKGTz0",
        "outputId": "394c01c3-47bd-40ec-ae44-8f3d8516ee8d"
      },
      "execution_count": null,
      "outputs": [
        {
          "output_type": "stream",
          "name": "stdout",
          "text": [
            "\"   w3resource.com\"\n"
          ]
        }
      ]
    },
    {
      "cell_type": "markdown",
      "source": [
        "Question-19\n",
        "\n",
        "Write a Python program which iterates the integers from 1 to 50. For multiples of three print \"Fizz\" instead of the number and for the multiples of five print \"Buzz\". For numbers which are multiples of both three and five print \"FizzBuzz\"."
      ],
      "metadata": {
        "id": "51-l671tNKJ1"
      }
    },
    {
      "cell_type": "code",
      "source": [
        "for i in range(5):\n",
        "    if i % 3 ==0 and i % 5 ==0:\n",
        "        print('fizzbuzz',end=' ')\n",
        "        continue\n",
        "    elif i % 3 ==0:\n",
        "        print('fizz',end=' ')\n",
        "        continue\n",
        "    elif i % 5 ==0:\n",
        "        print('buzz',end=' ')\n",
        "        continue \n",
        "    print(i,end=' ')       \n"
      ],
      "metadata": {
        "colab": {
          "base_uri": "https://localhost:8080/"
        },
        "id": "oHWxBy_aLmBu",
        "outputId": "4ffd2e3c-3560-40e6-cdbe-13381e6e8a52"
      },
      "execution_count": null,
      "outputs": [
        {
          "output_type": "stream",
          "name": "stdout",
          "text": [
            "fizzbuzz 1 2 fizz 4 "
          ]
        }
      ]
    },
    {
      "cell_type": "markdown",
      "source": [
        "Question-20\n",
        "\n",
        "python code to fond the median of a list"
      ],
      "metadata": {
        "id": "ZbVnNoCdRaqS"
      }
    },
    {
      "cell_type": "code",
      "source": [
        "l=[24,44,57,69,78,90,23,45,67,65]\n",
        "l.sort()\n",
        "n=len(l)\n",
        "if n % 2 == 0:\n",
        "     median = (l[n//2] + l[n//2-1])/2\n",
        "else:\n",
        "     median = l[n//2]\n",
        "print(median)          \n"
      ],
      "metadata": {
        "colab": {
          "base_uri": "https://localhost:8080/"
        },
        "id": "NQmI80UDPFch",
        "outputId": "3045092b-2e60-4ca8-88f9-fc9c6c1a8c9c"
      },
      "execution_count": null,
      "outputs": [
        {
          "output_type": "stream",
          "name": "stdout",
          "text": [
            "61.0\n"
          ]
        }
      ]
    },
    {
      "cell_type": "markdown",
      "source": [
        "Question-21\n",
        "\n",
        "python programm to find the longest word in a string"
      ],
      "metadata": {
        "id": "yK0DvcOcS82Z"
      }
    },
    {
      "cell_type": "code",
      "source": [
        "f=\"king queen knight\"\n",
        "d=f.split(' ')\n",
        "l=0\n",
        "w=\"\"\n",
        "for i in d:\n",
        "    if len(i) > l:\n",
        "        l=len(i)\n",
        "        w=i\n",
        "r=(l,i)\n",
        "print(r)       \n"
      ],
      "metadata": {
        "colab": {
          "base_uri": "https://localhost:8080/"
        },
        "id": "9rSnHpqyRlUB",
        "outputId": "0f7aa809-2ad1-4343-9087-95f713afb63a"
      },
      "execution_count": null,
      "outputs": [
        {
          "output_type": "stream",
          "name": "stdout",
          "text": [
            "(6, 'knight')\n"
          ]
        }
      ]
    },
    {
      "cell_type": "markdown",
      "source": [
        "Question-22\n",
        "\n",
        "Write a Python program to find the first non-repeating character in given string."
      ],
      "metadata": {
        "id": "ekHWmiZLkRIf"
      }
    },
    {
      "cell_type": "code",
      "source": [
        "string = \"abcdaef\"\n",
        "\n",
        "# create a dictionary to store character counts\n",
        "char_counts = {}\n",
        "\n",
        "# loop through each character in the string and count its occurrences\n",
        "for char in string:\n",
        "    if char in char_counts:\n",
        "        char_counts[char] += 1\n",
        "    else:\n",
        "        char_counts[char] = 1\n",
        "\n",
        "# loop through the string again to find the first non-repeating character\n",
        "for char in string:\n",
        "    if char_counts[char] == 1:\n",
        "        print(char)\n",
        "        break\n",
        "else:\n",
        "    print(\"None\")"
      ],
      "metadata": {
        "colab": {
          "base_uri": "https://localhost:8080/"
        },
        "id": "Jz7B67IFkNbn",
        "outputId": "0448d8bb-0999-4cb4-b142-6a0d5af0e7e7"
      },
      "execution_count": null,
      "outputs": [
        {
          "output_type": "stream",
          "name": "stdout",
          "text": [
            "b\n"
          ]
        }
      ]
    },
    {
      "cell_type": "markdown",
      "source": [
        "Question-23\n",
        "\n",
        "Write a Python program to construct the following pattern, using a nested for loop."
      ],
      "metadata": {
        "id": "i3P4W6lymMfI"
      }
    },
    {
      "cell_type": "code",
      "source": [
        "n=5\n",
        "# print upper half of the pattern\n",
        "for i in range(1, n+1):\n",
        "    for j in range(1, i+1):\n",
        "        if j == i:\n",
        "            print(\"*.\", end=\"\")\n",
        "        else:\n",
        "            print(\"*.\", end=\"\")\n",
        "    print()\n",
        "# print lower half of the pattern\n",
        "for i in range(n-1, 0, -1):\n",
        "    for j in range(1, i+1):\n",
        "        if j == i:\n",
        "            print(\"*.\", end=\"\")\n",
        "        else:\n",
        "            print(\"*.\", end=\"\")\n",
        "    print()\n"
      ],
      "metadata": {
        "colab": {
          "base_uri": "https://localhost:8080/"
        },
        "id": "p0iteNpnmMHe",
        "outputId": "d0665bc6-0ea9-4909-db3d-a4740565febd"
      },
      "execution_count": null,
      "outputs": [
        {
          "output_type": "stream",
          "name": "stdout",
          "text": [
            "*.\n",
            "*.*.\n",
            "*.*.*.\n",
            "*.*.*.*.\n",
            "*.*.*.*.*.\n",
            "*.*.*.*.\n",
            "*.*.*.\n",
            "*.*.\n",
            "*.\n"
          ]
        }
      ]
    },
    {
      "cell_type": "markdown",
      "source": [
        "Question-24\n",
        "\n",
        "Write a Python program to find the second most repeated word in a given string.\n",
        "\n",
        "Input:\n",
        "string= Both of these issues are fixed by postponing the evaluation of annotations. Instead of compiling code which executes expressions in annotations at their definition time, the compiler stores the annotation in a string form equivalent to the AST of the expression in question. If needed, annotations can be resolved at runtime using typing.get_type_hints(). In the common case where this is not required, the annotations are cheaper to store (since short strings are interned by the interpreter) and make startup time faster."
      ],
      "metadata": {
        "id": "O7wS8KojrN_y"
      }
    },
    {
      "cell_type": "code",
      "source": [
        "string= 'Both of these issues are fixed by postponing the evaluation of annotations. Instead of compiling code which executes expressions in annotations at their definition time, the compiler stores the annotation in a string form equivalent to the AST of the expression in question. If needed, annotations can be resolved at runtime using typing.get_type_hints(). In the common case where this is not required, the annotations are cheaper to store (since short strings are interned by the interpreter) and make startup time faster.'"
      ],
      "metadata": {
        "id": "p4oObrgsqDVF"
      },
      "execution_count": null,
      "outputs": []
    },
    {
      "cell_type": "code",
      "source": [
        "from collections import Counter\n",
        "words = string.split()\n",
        "word_count = Counter(words)\n",
        "most_common = word_count.most_common(2)\n",
        "if len(most_common) == 1:\n",
        "    print(\"There is only one word in the string.\")\n",
        "else:\n",
        "    if most_common[0][1] == most_common[1][1]:\n",
        "        print(\"There is no second most repeated word.\")\n",
        "    else:\n",
        "        second_most_common = most_common[1]\n",
        "        print(\"('{}', {})\".format(second_most_common[0], second_most_common[1]))"
      ],
      "metadata": {
        "colab": {
          "base_uri": "https://localhost:8080/"
        },
        "id": "PgHEb-RpqNYs",
        "outputId": "0117f11e-e227-4e87-897d-7f0e26342383"
      },
      "execution_count": null,
      "outputs": [
        {
          "output_type": "stream",
          "name": "stdout",
          "text": [
            "('of', 4)\n"
          ]
        }
      ]
    },
    {
      "cell_type": "code",
      "source": [
        "lst= ['red', 'black', 'pink', 'green', 'black', 'green']\n",
        "l=set(lst)\n",
        "l=list(sorted(l))\n",
        "l"
      ],
      "metadata": {
        "colab": {
          "base_uri": "https://localhost:8080/"
        },
        "id": "gggGQLdDrckh",
        "outputId": "bcdd674f-245e-4eb6-c642-9fba093e1039"
      },
      "execution_count": null,
      "outputs": [
        {
          "output_type": "execute_result",
          "data": {
            "text/plain": [
              "['black', 'green', 'pink', 'red']"
            ]
          },
          "metadata": {},
          "execution_count": 27
        }
      ]
    },
    {
      "cell_type": "code",
      "source": [
        "b=[(2, 5), (1, 2), (4, 4), (2, 3), (2, 1)]\n",
        "bb=sorted(b,key=lambda x: x[-1])\n",
        "bb"
      ],
      "metadata": {
        "colab": {
          "base_uri": "https://localhost:8080/"
        },
        "id": "FbaIefUExuWk",
        "outputId": "caa43ee5-cb85-4f6b-e06e-050d07d0edd5"
      },
      "execution_count": null,
      "outputs": [
        {
          "output_type": "execute_result",
          "data": {
            "text/plain": [
              "[(2, 1), (1, 2), (2, 3), (4, 4), (2, 5)]"
            ]
          },
          "metadata": {},
          "execution_count": 28
        }
      ]
    },
    {
      "cell_type": "code",
      "source": [
        "inp = \"AI is going to rule the world aeiou\"\n",
        "cha= \"aeiou\"\n",
        "h=''\n",
        "for i in inp:\n",
        "    if i not in cha:\n",
        "        h=h+i\n",
        "print(h)        "
      ],
      "metadata": {
        "colab": {
          "base_uri": "https://localhost:8080/"
        },
        "id": "L6PaP9UJzL-1",
        "outputId": "8c26be33-b2ed-4221-9ee5-9fc8afa7bcec"
      },
      "execution_count": null,
      "outputs": [
        {
          "output_type": "stream",
          "name": "stdout",
          "text": [
            "AI s gng t rl th wrld \n"
          ]
        }
      ]
    },
    {
      "cell_type": "code",
      "source": [
        "j={'john': 170, 'kem':172, 'sam': 168, 'milli': 158}\n",
        "jj=sum(j.values())\n",
        "print(jj)    "
      ],
      "metadata": {
        "colab": {
          "base_uri": "https://localhost:8080/",
          "height": 200
        },
        "id": "E-Likilhzu6q",
        "outputId": "e5881ebe-c941-426e-a984-3c816535b0a7"
      },
      "execution_count": null,
      "outputs": [
        {
          "output_type": "error",
          "ename": "TypeError",
          "evalue": "ignored",
          "traceback": [
            "\u001b[0;31m---------------------------------------------------------------------------\u001b[0m",
            "\u001b[0;31mTypeError\u001b[0m                                 Traceback (most recent call last)",
            "\u001b[0;32m<ipython-input-30-2044e9f1484b>\u001b[0m in \u001b[0;36m<cell line: 2>\u001b[0;34m()\u001b[0m\n\u001b[1;32m      1\u001b[0m \u001b[0mj\u001b[0m\u001b[0;34m=\u001b[0m\u001b[0;34m{\u001b[0m\u001b[0;34m'john'\u001b[0m\u001b[0;34m:\u001b[0m \u001b[0;36m170\u001b[0m\u001b[0;34m,\u001b[0m \u001b[0;34m'kem'\u001b[0m\u001b[0;34m:\u001b[0m\u001b[0;36m172\u001b[0m\u001b[0;34m,\u001b[0m \u001b[0;34m'sam'\u001b[0m\u001b[0;34m:\u001b[0m \u001b[0;36m168\u001b[0m\u001b[0;34m,\u001b[0m \u001b[0;34m'milli'\u001b[0m\u001b[0;34m:\u001b[0m \u001b[0;36m158\u001b[0m\u001b[0;34m}\u001b[0m\u001b[0;34m\u001b[0m\u001b[0;34m\u001b[0m\u001b[0m\n\u001b[0;32m----> 2\u001b[0;31m \u001b[0mjj\u001b[0m\u001b[0;34m=\u001b[0m\u001b[0msum\u001b[0m\u001b[0;34m(\u001b[0m\u001b[0mj\u001b[0m\u001b[0;34m.\u001b[0m\u001b[0mvalues\u001b[0m\u001b[0;34m(\u001b[0m\u001b[0;34m)\u001b[0m\u001b[0;34m)\u001b[0m\u001b[0;34m\u001b[0m\u001b[0;34m\u001b[0m\u001b[0m\n\u001b[0m\u001b[1;32m      3\u001b[0m \u001b[0mprint\u001b[0m\u001b[0;34m(\u001b[0m\u001b[0mjj\u001b[0m\u001b[0;34m)\u001b[0m\u001b[0;34m\u001b[0m\u001b[0;34m\u001b[0m\u001b[0m\n",
            "\u001b[0;31mTypeError\u001b[0m: 'int' object is not callable"
          ]
        }
      ]
    },
    {
      "cell_type": "code",
      "source": [
        "s1= 'abc'\n",
        "s2='xyz'\n",
        "st3=s2[:-1]+s1[-1]+\" \"+s1[:-1]+s2[-1]\n",
        "st3"
      ],
      "metadata": {
        "id": "7Wm4reqp0-jo"
      },
      "execution_count": null,
      "outputs": []
    },
    {
      "cell_type": "code",
      "source": [
        "h='The quick Brown Fox'\n",
        "u=0\n",
        "l=0\n",
        "for i in h:\n",
        "    if i.isupper():\n",
        "        u=u+1\n",
        "    elif i.islower():\n",
        "        l=l+1\n",
        "    else:\n",
        "        pass\n",
        "print(u)\n",
        "print(l)                "
      ],
      "metadata": {
        "id": "9AqjhvNA1WlC"
      },
      "execution_count": null,
      "outputs": []
    },
    {
      "cell_type": "code",
      "source": [
        "x=2\n",
        "y=7\n",
        "if x==y or x+y==5 or abs(x-y)==5:\n",
        "    print('true')\n",
        "else:\n",
        "    print('false')    "
      ],
      "metadata": {
        "id": "hdK44cwmFMuj"
      },
      "execution_count": null,
      "outputs": []
    },
    {
      "cell_type": "code",
      "source": [
        "n=9\n",
        "c,d=0,1\n",
        "e=0\n",
        "while e < n:\n",
        "    print(c)\n",
        "    nn=c+d\n",
        "    c=d\n",
        "    d=nn\n",
        "    e=e+1\n"
      ],
      "metadata": {
        "id": "pdFu1pwzGCX0"
      },
      "execution_count": null,
      "outputs": []
    },
    {
      "cell_type": "code",
      "source": [
        "k='AlmaBetter@datascience'\n",
        "u=0\n",
        "l=0\n",
        "s=0\n",
        "n=0\n",
        "for i in k:\n",
        "    if str(i).islower():\n",
        "        l=l+1\n",
        "    elif str(i).isupper():\n",
        "        u=u+1\n",
        "    elif str(i).isdigit():\n",
        "        n=n+1\n",
        "    else:\n",
        "        s=s+1\n",
        "print(f'({u},{l},{s},{n},)')\n",
        " "
      ],
      "metadata": {
        "id": "-W-AnJPIJ-yj"
      },
      "execution_count": null,
      "outputs": []
    },
    {
      "cell_type": "code",
      "source": [
        "g=input()\n",
        "k=input()\n",
        "if g.isdigit() and k.isdigit():\n",
        "    sum=int(g)+int(k)\n",
        "    print(sum)\n",
        "else:\n",
        "    print('ern')    "
      ],
      "metadata": {
        "id": "KcniG53lNV6g"
      },
      "execution_count": null,
      "outputs": []
    },
    {
      "cell_type": "code",
      "source": [
        "l=(1, 2), (2, 3), (3, 4)\n",
        "ll=[list(i) for i in l]\n",
        "print(ll)"
      ],
      "metadata": {
        "id": "1KCUVwD-OT2b"
      },
      "execution_count": null,
      "outputs": []
    },
    {
      "cell_type": "code",
      "source": [
        "num=int(input())\n",
        "if num>1:\n",
        "    for i in range(2,num):\n",
        "        if(num%i)==0:\n",
        "            print(num,\"is not a prime number.\")\n",
        "            break\n",
        "    else:\n",
        "        print(num,\"is a prime number\")\n",
        "else:\n",
        "    print(\"please enter a valid number which is any number greater than 1.\")       "
      ],
      "metadata": {
        "id": "_EIiKTI8Tn7v"
      },
      "execution_count": null,
      "outputs": []
    },
    {
      "cell_type": "code",
      "source": [
        "num1=2\n",
        "num2=10\n",
        "c=[]\n",
        "for num in range(num1,num2):\n",
        "    for i in range(2,num):\n",
        "       if num % i == 0:\n",
        "        break \n",
        "    else:\n",
        "        c.append(num)\n",
        "print(len(c))        \n",
        "\n",
        "                \n"
      ],
      "metadata": {
        "id": "db5C49WrRGTu"
      },
      "execution_count": null,
      "outputs": []
    },
    {
      "cell_type": "code",
      "source": [
        "l=\"112344565\"\n",
        "s=[]\n",
        "m=[]\n",
        "d={}\n",
        "for i in l:\n",
        "    d[i]=d.get(i,0)+1\n",
        "for i in d:\n",
        "    if d[i]==1:\n",
        "        s.append(i)\n",
        "    else:\n",
        "        m.append(i)\n",
        "print(s,m)            "
      ],
      "metadata": {
        "id": "09tPLwjXWBZ3"
      },
      "execution_count": null,
      "outputs": []
    },
    {
      "cell_type": "code",
      "source": [
        "b=\"apple\"\n",
        "r=[]\n",
        "for i in b:\n",
        "    if not r or i != r[-1]:\n",
        "        r.append(i)\n",
        "print(''.join(r))        "
      ],
      "metadata": {
        "id": "VrDO7KEXZCgG"
      },
      "execution_count": null,
      "outputs": []
    },
    {
      "cell_type": "code",
      "source": [
        "Input= {'name': 'xyz', 'age': 27, 'salary': 50000, 'manager': 'xyz'}\n",
        "n={}\n",
        "for k,v in Input.items():\n",
        "    if v not in n.values():\n",
        "        n[k]=v\n",
        "print(n)        "
      ],
      "metadata": {
        "id": "_YMMi28raVcC"
      },
      "execution_count": null,
      "outputs": []
    },
    {
      "cell_type": "code",
      "source": [
        "m=\"Python\"\n",
        "s='P'\n",
        "if m[0]==s[0]:\n",
        "    print(True)\n",
        "else:\n",
        "    print(False)    "
      ],
      "metadata": {
        "id": "WDkQonoO8RZU"
      },
      "execution_count": null,
      "outputs": []
    },
    {
      "cell_type": "code",
      "source": [
        "n=330\n",
        "i=2\n",
        "lpf=1\n",
        "while i <= n/i:\n",
        "    if n % i ==0:\n",
        "        n//=i\n",
        "        lpf=i\n",
        "    else:\n",
        "        i +=1   \n",
        "if n > 1 and n > lpf:\n",
        "    lpf=n\n",
        "print(lpf)        "
      ],
      "metadata": {
        "id": "dw_hhnkIAofI"
      },
      "execution_count": null,
      "outputs": []
    },
    {
      "cell_type": "code",
      "source": [
        "n=['abcd', 'abc', 'bcd', 'bkie', 'cder', 'cdsw', 'sdfsd', 'dagfa', 'acjd']\n",
        "s='a'\n",
        "k=[]\n",
        "for i in n:\n",
        "    if i[0]==s:\n",
        "        k.append(i)\n",
        "print(k)        "
      ],
      "metadata": {
        "id": "UjllyBL8DP-W"
      },
      "execution_count": null,
      "outputs": []
    },
    {
      "cell_type": "code",
      "source": [
        "h=[-12, -6, 300, -40, 2, 2, 3, 57, -50, -22, 12, 40, 9, 11, 18]\n",
        "h=sorted(h)\n",
        "p=[i for i in h if i >0]\n",
        "n=[i for i in h if i <0]\n",
        "print('[',max(n),min(p),']')\n"
      ],
      "metadata": {
        "id": "zUVy925yEROn"
      },
      "execution_count": null,
      "outputs": []
    },
    {
      "cell_type": "code",
      "source": [
        "l1 = [\"Red\", \"Green\", \"Orange\", \"White\"]\n",
        "l2 = [\"Black\", \"Green\", \"White\", \"Pink\"]\n",
        "print(set(l1) & set(l2))"
      ],
      "metadata": {
        "id": "in1dW6DxGNsV"
      },
      "execution_count": null,
      "outputs": []
    },
    {
      "cell_type": "code",
      "source": [
        "l1=[\"Red\", \"Green\", \"Orange\", \"White\"]\n",
        "\n",
        "l2=[\"Black\", \"Green\", \"White\", \"Pink\"]\n",
        "print(set(l1) & set(l2))"
      ],
      "metadata": {
        "id": "iuu1iqInFbzj"
      },
      "execution_count": null,
      "outputs": []
    },
    {
      "cell_type": "code",
      "source": [
        "x= [(4, 1), (1, 2), (6, 0)]\n",
        "x.sort(key=lambda t:t[-1])  \n",
        "s=x[0] \n",
        "print(s) \n"
      ],
      "metadata": {
        "id": "EX8AvgTfGjro"
      },
      "execution_count": null,
      "outputs": []
    },
    {
      "cell_type": "code",
      "source": [
        "g=\"Thequickbrownfoxjumpsoverthelazydog\"\n",
        "g=g.lower()\n",
        "gg='abcdefghijklmnopqrstuvwxyz'\n",
        "for i in g:\n",
        "    if i in gg:\n",
        "        print(True)\n",
        "        break\n",
        "    else:\n",
        "        print(False)\n"
      ],
      "metadata": {
        "id": "1cnuOmmNHxwu"
      },
      "execution_count": null,
      "outputs": []
    },
    {
      "cell_type": "code",
      "source": [
        "c=\"Hello World\"\n",
        "c=c.split(' ')\n",
        "for i in c:\n",
        "    d=c[1]+\" \"+c[0]\n",
        "d"
      ],
      "metadata": {
        "id": "ix63YqMYI8ME"
      },
      "execution_count": null,
      "outputs": []
    },
    {
      "cell_type": "code",
      "source": [
        "def is_prime(n):\n",
        "    if n <= 1:\n",
        "        return False\n",
        "    for i in range(2, int(n**0.5)+1):\n",
        "        if n % i == 0:\n",
        "            return False\n",
        "    return True\n",
        "\n",
        "def next_prime(n):\n",
        "    next_num = n + 1\n",
        "    while not is_prime(next_num):\n",
        "        next_num += 1\n",
        "    return next_num\n",
        "\n",
        "# example usage\n",
        "n = 48\n",
        "next_prime_num = next_prime(n)\n",
        "print(f\"The next prime number of {n} is: {next_prime_num}\")\n"
      ],
      "metadata": {
        "id": "5cUfeHNdM1ZX"
      },
      "execution_count": null,
      "outputs": []
    },
    {
      "cell_type": "code",
      "source": [
        "def isprime(num):\n",
        "   for i in range(2,num):\n",
        "      if num % i == 0:\n",
        "        return False\n",
        "   return True \n",
        "def nprime(num):\n",
        "    n_p=num+1\n",
        "    while not isprime(n_p):\n",
        "        n_p=n_p+1\n",
        "    return n_p\n",
        "num =48\n",
        "print(nprime(num))        "
      ],
      "metadata": {
        "id": "Y2FZE234KPwe"
      },
      "execution_count": null,
      "outputs": []
    },
    {
      "cell_type": "code",
      "source": [
        "lst=[1, 0, 3, 2, 5, 4]\n",
        "for i in range(0, len(lst)-1, 2):\n",
        "        lst[i], lst[i+1] = lst[i+1], lst[i]\n",
        "print(lst)"
      ],
      "metadata": {
        "id": "MyDudbufNdp2"
      },
      "execution_count": null,
      "outputs": []
    },
    {
      "cell_type": "code",
      "source": [
        "n=81\n",
        "a=3\n",
        "x=0\n",
        "while n % a ==0:\n",
        "    x=x+1\n",
        "    n//=a\n",
        "if n == 1:\n",
        "    print(x)\n",
        "else:\n",
        "    print(-1)\n",
        "\n"
      ],
      "metadata": {
        "id": "M-pfFlbHQvvS",
        "colab": {
          "base_uri": "https://localhost:8080/"
        },
        "outputId": "860713ea-722c-4371-a925-130e82d09d7f"
      },
      "execution_count": null,
      "outputs": [
        {
          "output_type": "stream",
          "name": "stdout",
          "text": [
            "4\n"
          ]
        }
      ]
    },
    {
      "cell_type": "code",
      "source": [
        "b=[1, 2, -8, 0]\n",
        "max(b)"
      ],
      "metadata": {
        "id": "NfGGkOvwSl87"
      },
      "execution_count": null,
      "outputs": []
    },
    {
      "cell_type": "code",
      "source": [
        "string='aaabbbcccccd'\n",
        "listt=[]\n",
        "for i in range(0,len(string)-1):\n",
        "    if string[i]==string[i+1]:\n",
        "        listt.append(string[i])\n",
        "    else:\n",
        "        pass\n",
        "print(list(set(listt)))    "
      ],
      "metadata": {
        "id": "hCJnZ0juq1nE",
        "colab": {
          "base_uri": "https://localhost:8080/"
        },
        "outputId": "13b30337-57bc-4632-edf2-b730e57b281d"
      },
      "execution_count": null,
      "outputs": [
        {
          "output_type": "stream",
          "name": "stdout",
          "text": [
            "['a', 'b', 'c']\n"
          ]
        }
      ]
    },
    {
      "cell_type": "code",
      "source": [
        "x=25\n",
        "y=45\n",
        "def hcf(x,y):\n",
        "    listt=[]\n",
        "    if x > y:\n",
        "        smaller=y\n",
        "    else:\n",
        "        smaller=x    \n",
        "    for i in range(2,smaller+1):\n",
        "        if x%i==0 and y%i==0:\n",
        "            listt.append(i) \n",
        "    if len(listt) !=0:\n",
        "        result=max(listt)\n",
        "    else:\n",
        "        result=1\n",
        "    return result       \n",
        "\n",
        "def lcm(x,y):\n",
        "    return (x*y)//hcf(x,y)\n",
        "          "
      ],
      "metadata": {
        "id": "gWeIJ1EnrCKz"
      },
      "execution_count": null,
      "outputs": []
    },
    {
      "cell_type": "code",
      "source": [
        "print(hcf(50,hcf(25,45)))"
      ],
      "metadata": {
        "id": "QcRzFGpDrX86"
      },
      "execution_count": null,
      "outputs": []
    },
    {
      "cell_type": "code",
      "source": [
        "print(lcm(100,lcm(25,45)))"
      ],
      "metadata": {
        "id": "YAO5wt1tr7yb"
      },
      "execution_count": null,
      "outputs": []
    },
    {
      "cell_type": "code",
      "source": [
        "tup=('a','b','c','d',7)\n",
        "tup=tup+(8,)\n",
        "print(tup)"
      ],
      "metadata": {
        "id": "Izb-iq9Lsxie"
      },
      "execution_count": null,
      "outputs": []
    },
    {
      "cell_type": "code",
      "source": [
        "tupp=('a', 'b', 'c', 'd', 7, 8)\n",
        "tupp=list(tupp)\n",
        "tupp.remove(7)\n",
        "print(tuple(tupp))"
      ],
      "metadata": {
        "id": "_zu-8TF0udUy"
      },
      "execution_count": null,
      "outputs": []
    },
    {
      "cell_type": "code",
      "source": [
        "hage=15\n",
        "if hage<0:\n",
        "    print(\"enter positive number\")\n",
        "elif hage<=2:\n",
        "    dage=10.5*hage\n",
        "else:\n",
        "    dage=(10.5*2)+((hage-2)*4) \n",
        "print(int(dage))          "
      ],
      "metadata": {
        "id": "SmGck3ClwUQZ"
      },
      "execution_count": null,
      "outputs": []
    },
    {
      "cell_type": "code",
      "source": [
        "P=10000 \n",
        "r=3.5\n",
        "t=7\n",
        "n=1\n",
        "FV =P*(1+(r/100))**7\n",
        "print(round(FV,2)) "
      ],
      "metadata": {
        "id": "5cePykedygMn"
      },
      "execution_count": null,
      "outputs": []
    },
    {
      "cell_type": "code",
      "source": [
        "SI=P*(1+((r/100)*t))\n",
        "print(round(SI,2))"
      ],
      "metadata": {
        "id": "0-TtWAlI4iac"
      },
      "execution_count": null,
      "outputs": []
    },
    {
      "cell_type": "code",
      "source": [
        "if FV > SI:\n",
        "    print(f\"compound interest is better by {FV - SI:.2f} amount\") \n",
        "else:\n",
        "    print(f\"simple interest is better by {SI - FV:.2f} amount\")    "
      ],
      "metadata": {
        "id": "lsK6a3YD5ros"
      },
      "execution_count": null,
      "outputs": []
    },
    {
      "cell_type": "code",
      "source": [
        "base=4\n",
        "Altitude=3\n",
        "hypotenuse=((base**2)+(Altitude**2))**0.5\n",
        "print(int(hypotenuse))"
      ],
      "metadata": {
        "id": "AuxEPCZt7c5b"
      },
      "execution_count": null,
      "outputs": []
    },
    {
      "cell_type": "code",
      "source": [
        "listt=[22.4, 4.0, -16.22, -9.10, 11.00, -12.22, 14.20, -5.20, 17.50]\n",
        "listt=[round(i) for i in listt]\n",
        "len=len(listt)\n",
        "summ=sum(listt)\n",
        "print(summ*len)"
      ],
      "metadata": {
        "id": "A4K7qPdb_UtZ",
        "colab": {
          "base_uri": "https://localhost:8080/"
        },
        "outputId": "04558a7d-09fa-4da9-e7d2-992750c3381c"
      },
      "execution_count": null,
      "outputs": [
        {
          "output_type": "stream",
          "name": "stdout",
          "text": [
            "243\n"
          ]
        }
      ]
    },
    {
      "cell_type": "code",
      "source": [
        "import numpy as np\n",
        "random_numbers = np.random.uniform(-50, 50, 15)\n",
        "random_numbers_rounded = np.round(random_numbers,2)\n",
        "listtt=list(random_numbers_rounded)\n",
        "print(listtt)"
      ],
      "metadata": {
        "id": "smrxS59S_7eo",
        "colab": {
          "base_uri": "https://localhost:8080/"
        },
        "outputId": "80b99a32-9493-4bdb-d32f-533b7275873d"
      },
      "execution_count": null,
      "outputs": [
        {
          "output_type": "stream",
          "name": "stdout",
          "text": [
            "[22.87, -21.78, -20.92, -42.88, 28.6, -25.02, -37.88, -33.08, 34.32, -13.1, -2.63, 33.54, 21.86, 6.95, -23.65]\n"
          ]
        }
      ]
    },
    {
      "cell_type": "code",
      "source": [
        "string='restartryurrtb'\n",
        "s=string[0]+string[1:].replace(string[0],'$')\n",
        "print(s)"
      ],
      "metadata": {
        "colab": {
          "base_uri": "https://localhost:8080/"
        },
        "id": "vZrkv8pPH5MA",
        "outputId": "a67095e4-950d-4626-d3ee-8a87d3f544a1"
      },
      "execution_count": null,
      "outputs": [
        {
          "output_type": "stream",
          "name": "stdout",
          "text": [
            "resta$t$yu$$tb\n"
          ]
        }
      ]
    },
    {
      "cell_type": "code",
      "source": [
        "string='jayshreeram'\n",
        "new_c='@'\n",
        "a=string[:3]+new_c+string[4:]\n",
        "print(a)"
      ],
      "metadata": {
        "colab": {
          "base_uri": "https://localhost:8080/"
        },
        "id": "kIYfW1_RIfHP",
        "outputId": "6c106e29-ab48-4507-d970-a07a7a184ebd"
      },
      "execution_count": null,
      "outputs": [
        {
          "output_type": "stream",
          "name": "stdout",
          "text": [
            "jay@hreeram\n"
          ]
        }
      ]
    },
    {
      "cell_type": "code",
      "source": [
        "g = 'aabbcccdffghhiik'\n",
        "gg=[]\n",
        "for i in range(len(g)-1):\n",
        "    if g[i]==g[i+1] !=g[i+2]: \n",
        "            gg.append(g[i])\n",
        "            gg.append('#')\n",
        "    else:\n",
        "        if g[i] not in gg:\n",
        "            gg.append(g[i])    \n",
        "gg.append(g[-1])\n",
        "new=''.join(gg)\n",
        "print(new)"
      ],
      "metadata": {
        "id": "Z10eEAGnXIw9"
      },
      "execution_count": null,
      "outputs": []
    },
    {
      "cell_type": "code",
      "source": [
        "a#b#cc#df#gh#i#k"
      ],
      "metadata": {
        "id": "v_DT5N-5XZyV"
      },
      "execution_count": null,
      "outputs": []
    },
    {
      "cell_type": "code",
      "source": [
        "num=496\n",
        "l=[]\n",
        "for i in range(1,num):\n",
        "    if num%i==0:\n",
        "        l.append(i)\n",
        "summ=sum(l)\n",
        "if num==summ:\n",
        "    print(f'{num} is a perfect number')\n",
        "else:\n",
        "    print(f'{num} is not a perfect number') "
      ],
      "metadata": {
        "colab": {
          "base_uri": "https://localhost:8080/"
        },
        "id": "XSJEmQz_fNHi",
        "outputId": "073499be-03f6-4109-acc4-141e262b9fef"
      },
      "execution_count": null,
      "outputs": [
        {
          "output_type": "stream",
          "name": "stdout",
          "text": [
            "496 is a perfect number\n"
          ]
        }
      ]
    },
    {
      "cell_type": "code",
      "source": [
        "di={1: 10, 2: 20, 3: 30, 4: 40, 5: 50, 6: 60} \n",
        "va=5\n",
        "if va in di.keys():\n",
        "    print('present')\n",
        "else:\n",
        "    print('not present')    "
      ],
      "metadata": {
        "colab": {
          "base_uri": "https://localhost:8080/"
        },
        "id": "Hb2uec9dg9r-",
        "outputId": "5bc0c2d9-f92d-4b13-9976-8b7b10f2072c"
      },
      "execution_count": null,
      "outputs": [
        {
          "output_type": "stream",
          "name": "stdout",
          "text": [
            "present\n"
          ]
        }
      ]
    },
    {
      "cell_type": "code",
      "source": [
        "di={1: 10, 2: 20, 3: 30, 4: 40, 5: 50, 6: 60} \n",
        "va=50\n",
        "if va in di.values():\n",
        "    print('present')\n",
        "else:\n",
        "    print('not present') "
      ],
      "metadata": {
        "colab": {
          "base_uri": "https://localhost:8080/"
        },
        "id": "FMbk9JOUiXTV",
        "outputId": "78d93226-2b73-43c3-9eea-9933e3b8f03d"
      },
      "execution_count": null,
      "outputs": [
        {
          "output_type": "stream",
          "name": "stdout",
          "text": [
            "present\n"
          ]
        }
      ]
    },
    {
      "cell_type": "code",
      "source": [
        "value='rock mountain hill'\n",
        "vla=value.split(' ')\n",
        "check='peak'\n",
        "if check in vla:\n",
        "    print(True)\n",
        "else:\n",
        "    print(False)    "
      ],
      "metadata": {
        "colab": {
          "base_uri": "https://localhost:8080/"
        },
        "id": "BdBBm7LDieVE",
        "outputId": "68fe8583-0de8-4fcb-a747-ae93700c0bfd"
      },
      "execution_count": null,
      "outputs": [
        {
          "output_type": "stream",
          "name": "stdout",
          "text": [
            "False\n"
          ]
        }
      ]
    },
    {
      "cell_type": "code",
      "source": [
        "num=7\n",
        "for i in range(1,num+1):\n",
        "    print(str(i)*i)"
      ],
      "metadata": {
        "colab": {
          "base_uri": "https://localhost:8080/"
        },
        "id": "_FwMqIpdjVcL",
        "outputId": "f7599f17-467d-4d8c-f73d-a1f966de15d4"
      },
      "execution_count": null,
      "outputs": [
        {
          "output_type": "stream",
          "name": "stdout",
          "text": [
            "1\n",
            "22\n",
            "333\n",
            "4444\n",
            "55555\n",
            "666666\n",
            "7777777\n"
          ]
        }
      ]
    },
    {
      "cell_type": "code",
      "source": [
        "feet=5\n",
        "inch=3\n",
        "cm=(feet*30.48)+(inch*2.54)\n",
        "print(round(cm,1))"
      ],
      "metadata": {
        "colab": {
          "base_uri": "https://localhost:8080/"
        },
        "id": "xbE89w_A00FU",
        "outputId": "61348d50-15fc-40c0-9459-173ca5f011bf"
      },
      "execution_count": null,
      "outputs": [
        {
          "output_type": "stream",
          "name": "stdout",
          "text": [
            "160.0\n"
          ]
        }
      ]
    },
    {
      "cell_type": "code",
      "source": [
        "tup=('e','x','e','r','c','i','s','e')\n",
        "string=''.join(tup)\n",
        "print(string)\n"
      ],
      "metadata": {
        "colab": {
          "base_uri": "https://localhost:8080/"
        },
        "id": "_Lm0Nrat12w8",
        "outputId": "7ad89dab-3afb-48fd-b096-3b05146ac639"
      },
      "execution_count": null,
      "outputs": [
        {
          "output_type": "stream",
          "name": "stdout",
          "text": [
            "exercise\n"
          ]
        }
      ]
    },
    {
      "cell_type": "code",
      "source": [
        "string='python'\n",
        "tuup=tuple(string)\n",
        "print(tuup)"
      ],
      "metadata": {
        "colab": {
          "base_uri": "https://localhost:8080/"
        },
        "id": "nkq5bpHN2sf-",
        "outputId": "4b31f0d5-4b0a-4976-bc4c-b5545ec12dea"
      },
      "execution_count": null,
      "outputs": [
        {
          "output_type": "stream",
          "name": "stdout",
          "text": [
            "('p', 'y', 't', 'h', 'o', 'n')\n"
          ]
        }
      ]
    },
    {
      "cell_type": "code",
      "source": [
        "string='program@2022'\n",
        "s=0\n",
        "d=0\n",
        "for i in string:\n",
        "    if i.isdigit():\n",
        "        d=d+1\n",
        "    elif i.isalpha():\n",
        "        s=s+1\n",
        "    else:\n",
        "        pass\n",
        "print(f'numbers {d} and alphabetes {s}')                \n"
      ],
      "metadata": {
        "colab": {
          "base_uri": "https://localhost:8080/"
        },
        "id": "bmplSZt04ZuZ",
        "outputId": "afb7e70a-0f49-4104-84ea-3c3cab4a9596"
      },
      "execution_count": null,
      "outputs": [
        {
          "output_type": "stream",
          "name": "stdout",
          "text": [
            "numbers 4 and alphabetes 7\n"
          ]
        }
      ]
    },
    {
      "cell_type": "code",
      "source": [
        "listt=[1, 2, 3, 4, 5, 6, 7, 8, 9]\n",
        "even=0\n",
        "odd=0\n",
        "for i in listt:\n",
        "    if i%2==0:\n",
        "        even=even+1\n",
        "    else:\n",
        "        odd=odd+1\n",
        "print(f'even {even} odd {odd}')            "
      ],
      "metadata": {
        "colab": {
          "base_uri": "https://localhost:8080/"
        },
        "id": "o99iOZN45aIN",
        "outputId": "e1064c17-a08f-4248-b481-6265e8edacc7"
      },
      "execution_count": null,
      "outputs": [
        {
          "output_type": "stream",
          "name": "stdout",
          "text": [
            "even 4 odd 5\n"
          ]
        }
      ]
    },
    {
      "cell_type": "code",
      "source": [
        "listt=[2,3, 4, 5, 6, 7, 8, 9, 11, 13,10]\n",
        "notprime=0\n",
        "prime=0\n",
        "for i in listt:\n",
        "    for j in range(2,i):\n",
        "        if (i%j)==0:\n",
        "            notprime=notprime+1\n",
        "            break\n",
        "    else:\n",
        "        prime=prime+1\n",
        "print(f'prime {prime} not prime {notprime}')               "
      ],
      "metadata": {
        "colab": {
          "base_uri": "https://localhost:8080/"
        },
        "id": "mjNV6nhpAN83",
        "outputId": "6365b932-76db-46de-a344-c8b2847103c2"
      },
      "execution_count": null,
      "outputs": [
        {
          "output_type": "stream",
          "name": "stdout",
          "text": [
            "prime 6 not prime 5\n"
          ]
        }
      ]
    },
    {
      "cell_type": "code",
      "source": [
        "sti='google.com'\n",
        "di={}\n",
        "unid=set(sti)\n",
        "for i in unid:\n",
        "    di[i]=sti.count(i)\n",
        "print(di)    "
      ],
      "metadata": {
        "colab": {
          "base_uri": "https://localhost:8080/"
        },
        "id": "1VU4_EAtCdrc",
        "outputId": "c1607913-1b37-45c1-d672-7946a86b5f91"
      },
      "execution_count": null,
      "outputs": [
        {
          "output_type": "stream",
          "name": "stdout",
          "text": [
            "{'o': 3, 'l': 1, '.': 1, 'e': 1, 'g': 2, 'c': 1, 'm': 1}\n"
          ]
        }
      ]
    },
    {
      "cell_type": "code",
      "source": [
        "sti='google.com'\n",
        "dii={}\n",
        "for i in sti:\n",
        "    dii[i]=sti.count(i)\n",
        "print(dii)"
      ],
      "metadata": {
        "colab": {
          "base_uri": "https://localhost:8080/"
        },
        "id": "3f34HW-mDmTn",
        "outputId": "edea0dea-fbc7-4ced-cdc1-248ce447bfed"
      },
      "execution_count": null,
      "outputs": [
        {
          "output_type": "stream",
          "name": "stdout",
          "text": [
            "{'g': 2, 'o': 3, 'l': 1, 'e': 1, '.': 1, 'c': 1, 'm': 1}\n"
          ]
        }
      ]
    },
    {
      "cell_type": "code",
      "source": [
        "l=['abc', 'xyz', 'aba', '1221']\n",
        "count=0\n",
        "for i in l:\n",
        "    if len(i)>2 and i[0]==i[-1]:\n",
        "        count+=1\n",
        "print(count)        "
      ],
      "metadata": {
        "id": "HkUjFNdaXl-2",
        "colab": {
          "base_uri": "https://localhost:8080/"
        },
        "outputId": "2e87a5a9-9bd0-495a-d4c2-f7065f195ab4"
      },
      "execution_count": null,
      "outputs": [
        {
          "output_type": "stream",
          "name": "stdout",
          "text": [
            "2\n"
          ]
        }
      ]
    },
    {
      "cell_type": "code",
      "source": [
        "string= 'the quick brown fox jumps over the lazy dog'\n",
        "string=string.split(' ')\n",
        "d={}\n",
        "for i in string:\n",
        "    d[i]=string.count(i)\n",
        "print(d)    "
      ],
      "metadata": {
        "colab": {
          "base_uri": "https://localhost:8080/"
        },
        "id": "3qDHZmH5Fw5N",
        "outputId": "925f2236-edcb-4266-98a1-8eb0baef0cea"
      },
      "execution_count": null,
      "outputs": [
        {
          "output_type": "stream",
          "name": "stdout",
          "text": [
            "{'the': 2, 'quick': 1, 'brown': 1, 'fox': 1, 'jumps': 1, 'over': 1, 'lazy': 1, 'dog': 1}\n"
          ]
        }
      ]
    },
    {
      "cell_type": "code",
      "source": [
        "j= [1,2,3,3,3,3,4,5]\n",
        "jj=[]\n",
        "for i in j:\n",
        "    if i not in jj:\n",
        "        jj.append(i)\n",
        "print(jj)        "
      ],
      "metadata": {
        "colab": {
          "base_uri": "https://localhost:8080/"
        },
        "id": "pE4brqbFGi3q",
        "outputId": "4f299113-73fa-4947-be64-4b8a266d4c6b"
      },
      "execution_count": null,
      "outputs": [
        {
          "output_type": "stream",
          "name": "stdout",
          "text": [
            "[1, 2, 3, 4, 5]\n"
          ]
        }
      ]
    },
    {
      "cell_type": "code",
      "source": [
        "n=4\n",
        "squares_dict = {x: (lambda x: x * x)(x) for x in range(1, n + 1)}\n",
        "print(squares_dict)"
      ],
      "metadata": {
        "colab": {
          "base_uri": "https://localhost:8080/"
        },
        "id": "Aba8xm2vHDMy",
        "outputId": "03666b9f-2486-47e8-fd8d-c0497be6ae39"
      },
      "execution_count": null,
      "outputs": [
        {
          "output_type": "stream",
          "name": "stdout",
          "text": [
            "{1: 1, 2: 4, 3: 9, 4: 16}\n"
          ]
        }
      ]
    },
    {
      "cell_type": "code",
      "source": [
        "n=4\n",
        "sd={}\n",
        "for i in range(1,n+1):\n",
        "    sd[i]=i*i*i\n",
        "print(sd)    \n"
      ],
      "metadata": {
        "colab": {
          "base_uri": "https://localhost:8080/"
        },
        "id": "BBRkgK4kqgG8",
        "outputId": "9e6485f3-5c2e-4c53-985d-4783d00b6413"
      },
      "execution_count": null,
      "outputs": [
        {
          "output_type": "stream",
          "name": "stdout",
          "text": [
            "{1: 1, 2: 8, 3: 27, 4: 64}\n"
          ]
        }
      ]
    },
    {
      "cell_type": "code",
      "source": [
        "k='[[]]'\n",
        "j='python'\n",
        "kk=len(k)//2"
      ],
      "metadata": {
        "id": "y3Rv-TovrBLl"
      },
      "execution_count": null,
      "outputs": []
    },
    {
      "cell_type": "code",
      "source": [
        "kkk=k[:2]+j+k[2:]\n",
        "print(kkk)"
      ],
      "metadata": {
        "colab": {
          "base_uri": "https://localhost:8080/"
        },
        "id": "ME-FdvJ-vMgh",
        "outputId": "59210907-c0b0-436e-e6f2-d8f71679d4a3"
      },
      "execution_count": null,
      "outputs": [
        {
          "output_type": "stream",
          "name": "stdout",
          "text": [
            "[[python]]\n"
          ]
        }
      ]
    },
    {
      "cell_type": "code",
      "source": [
        "l=[1,2,3,4]\n",
        "ll=[]\n",
        "for i in l:\n",
        "    ll.append('emp'+str(i))\n",
        "print(ll)    "
      ],
      "metadata": {
        "colab": {
          "base_uri": "https://localhost:8080/"
        },
        "id": "HxZ--7Ycv_Kl",
        "outputId": "c7ed1d2c-5d02-43e4-fddb-bf00ec58f9b0"
      },
      "execution_count": null,
      "outputs": [
        {
          "output_type": "stream",
          "name": "stdout",
          "text": [
            "['emp1', 'emp2', 'emp3', 'emp4']\n"
          ]
        }
      ]
    },
    {
      "cell_type": "code",
      "source": [
        "d = {'x': 10, 'y': 20, 'z': 30}\n",
        "for i,j in d.items():\n",
        "    print(i,'=>',j,end=' ')"
      ],
      "metadata": {
        "colab": {
          "base_uri": "https://localhost:8080/"
        },
        "id": "JNJ0xBFxwqHz",
        "outputId": "3b0d7192-192c-4be2-95a6-dd0710e1f79a"
      },
      "execution_count": null,
      "outputs": [
        {
          "output_type": "stream",
          "name": "stdout",
          "text": [
            "x => 10 y => 20 z => 30 "
          ]
        }
      ]
    },
    {
      "cell_type": "code",
      "source": [
        "l1=[1,2,3,4]\n",
        "l2=[1,4,9,16]\n",
        "m=dict(zip(l1,l2))\n",
        "print(m)"
      ],
      "metadata": {
        "colab": {
          "base_uri": "https://localhost:8080/"
        },
        "id": "TP_1_dm-xWy1",
        "outputId": "6892bb1a-f4cb-44ab-9f74-4dea748b8eee"
      },
      "execution_count": null,
      "outputs": [
        {
          "output_type": "stream",
          "name": "stdout",
          "text": [
            "{1: 1, 2: 4, 3: 9, 4: 16}\n"
          ]
        }
      ]
    },
    {
      "cell_type": "code",
      "source": [
        "d1 = {'a': 100, 'b': 200} \n",
        "d2 = {'x': 300, 'y': 200}\n",
        "d3=d1.copy()\n",
        "d3.update(d2)\n",
        "print(d3)"
      ],
      "metadata": {
        "colab": {
          "base_uri": "https://localhost:8080/"
        },
        "id": "9y1C-0CAyUNe",
        "outputId": "e8460348-6eba-4cc4-ecbf-4c25473f5fe5"
      },
      "execution_count": null,
      "outputs": [
        {
          "output_type": "stream",
          "name": "stdout",
          "text": [
            "{'a': 100, 'b': 200, 'x': 300, 'y': 200}\n"
          ]
        }
      ]
    },
    {
      "cell_type": "code",
      "source": [
        "d1 = ['a',100,'b',200] \n",
        "d2 = ['x',300,'y',200]\n",
        "d3=d1.copy()+d2\n",
        "print(d3)"
      ],
      "metadata": {
        "colab": {
          "base_uri": "https://localhost:8080/"
        },
        "id": "h44r3050yWVD",
        "outputId": "d87dac96-1b1c-439d-fb14-78b141ed5f37"
      },
      "execution_count": null,
      "outputs": [
        {
          "output_type": "stream",
          "name": "stdout",
          "text": [
            "['a', 100, 'b', 200, 'x', 300, 'y', 200]\n"
          ]
        }
      ]
    },
    {
      "cell_type": "code",
      "source": [
        "v=[3, 4, 0, 0, 0, 6, 2, 0, 6, 7, 6, 0, 0, 0, 9, 10, 7, 4, 4, 5, 3, 0, 0, 2, 9, 7, 1]\n",
        "z=[]\n",
        "nz=[]\n",
        "for i in v:\n",
        "    if i ==0:\n",
        "        z.append(i)\n",
        "    else:\n",
        "        nz.append(i)  \n",
        "print(nz+z)          "
      ],
      "metadata": {
        "colab": {
          "base_uri": "https://localhost:8080/"
        },
        "id": "FJUNYsJs03GC",
        "outputId": "2950194a-713d-4239-c2e3-96741cbfed02"
      },
      "execution_count": null,
      "outputs": [
        {
          "output_type": "stream",
          "name": "stdout",
          "text": [
            "[3, 4, 6, 2, 6, 7, 6, 9, 10, 7, 4, 4, 5, 3, 2, 9, 7, 1, 0, 0, 0, 0, 0, 0, 0, 0, 0]\n"
          ]
        }
      ]
    },
    {
      "cell_type": "code",
      "source": [
        "m=[-1,0,4,6,-58,-24,85,64,-36,95,-29,0,56,-29,9,0,4,56]\n",
        "z=[]\n",
        "n=[]\n",
        "p=[]\n",
        "for i in m:\n",
        "    if i<0:\n",
        "        n.append(i)\n",
        "    elif i==0:\n",
        "        z.append(i)    \n",
        "    else:\n",
        "        p.append(i)\n",
        "print(n+z+p)            "
      ],
      "metadata": {
        "colab": {
          "base_uri": "https://localhost:8080/"
        },
        "id": "1tWb4zLe1EUo",
        "outputId": "6a47561f-3fb4-4c55-d080-e184acb5c767"
      },
      "execution_count": null,
      "outputs": [
        {
          "output_type": "stream",
          "name": "stdout",
          "text": [
            "[-1, -58, -24, -36, -29, -29, 0, 0, 0, 4, 6, 85, 64, 95, 56, 9, 4, 56]\n"
          ]
        }
      ]
    },
    {
      "cell_type": "code",
      "source": [
        "s=\"w3resource . com \"\n",
        "ss=''\n",
        "sss=''\n",
        "for i in s:\n",
        "    if i !=' ':\n",
        "        ss=ss+i\n",
        "    else:\n",
        "        sss=sss+i    \n",
        "print(f'\"{sss+ss}\"')        "
      ],
      "metadata": {
        "colab": {
          "base_uri": "https://localhost:8080/"
        },
        "id": "b-sBRTYz2ML-",
        "outputId": "5c2c1ac9-9bc7-43c3-9c73-2fc655fa995e"
      },
      "execution_count": null,
      "outputs": [
        {
          "output_type": "stream",
          "name": "stdout",
          "text": [
            "\"   w3resource.com\"\n"
          ]
        }
      ]
    },
    {
      "cell_type": "code",
      "source": [
        "print(f'\"{ss+sss}\"')"
      ],
      "metadata": {
        "colab": {
          "base_uri": "https://localhost:8080/"
        },
        "id": "Pd-ePfdG3HPs",
        "outputId": "b71f8114-2d70-4c88-f435-e8f979825baf"
      },
      "execution_count": null,
      "outputs": [
        {
          "output_type": "stream",
          "name": "stdout",
          "text": [
            "\"w3resource.com   \"\n"
          ]
        }
      ]
    },
    {
      "cell_type": "code",
      "source": [
        "o='jaya'\n",
        "if len(o)>3:\n",
        "    if o[-3:]=='ing':\n",
        "        o=o+'ly'\n",
        "    else:\n",
        "        o=o+'ing'\n",
        "else:\n",
        "    o=o\n",
        "print(o)        "
      ],
      "metadata": {
        "colab": {
          "base_uri": "https://localhost:8080/"
        },
        "id": "siLSQn0b3XRH",
        "outputId": "93d78603-9143-4ac4-b493-feaf27163975"
      },
      "execution_count": null,
      "outputs": [
        {
          "output_type": "stream",
          "name": "stdout",
          "text": [
            "jayaing\n"
          ]
        }
      ]
    },
    {
      "cell_type": "code",
      "source": [
        "strr='programming'\n",
        "d={}\n",
        "for i in strr:\n",
        "    d[i]=strr.count(i)\n",
        "print(d)\n"
      ],
      "metadata": {
        "colab": {
          "base_uri": "https://localhost:8080/"
        },
        "id": "1mK2jAyF48se",
        "outputId": "2376f520-686c-4f9b-ffe2-ec982f26ea0c"
      },
      "execution_count": null,
      "outputs": [
        {
          "output_type": "stream",
          "name": "stdout",
          "text": [
            "{'p': 1, 'r': 2, 'o': 1, 'g': 2, 'a': 1, 'm': 2, 'i': 1, 'n': 1}\n"
          ]
        }
      ]
    },
    {
      "cell_type": "code",
      "source": [
        "str1='american express'\n",
        "s='e'\n",
        "ss=''\n",
        "for i in str1:\n",
        "    if i==s:\n",
        "        ss=ss+i\n",
        "    else:\n",
        "        pass\n",
        "print(ss)            "
      ],
      "metadata": {
        "colab": {
          "base_uri": "https://localhost:8080/"
        },
        "id": "k9MBh2Hi5Nv2",
        "outputId": "0fb83b13-8cb3-40b3-cbb5-0c9d58d27e95"
      },
      "execution_count": null,
      "outputs": [
        {
          "output_type": "stream",
          "name": "stdout",
          "text": [
            "eee\n"
          ]
        }
      ]
    },
    {
      "cell_type": "code",
      "source": [
        "start=500\n",
        "end=900\n",
        "n=[]\n",
        "for i in range(start,end+1):\n",
        "    if i%5==0 and i%7==0:\n",
        "        n.append(str(i))\n",
        "print(','.join(n))        \n"
      ],
      "metadata": {
        "colab": {
          "base_uri": "https://localhost:8080/"
        },
        "id": "2MJCt4am5zwZ",
        "outputId": "939e9b6b-d59f-49ac-c115-799dcfc2f7c9"
      },
      "execution_count": null,
      "outputs": [
        {
          "output_type": "stream",
          "name": "stdout",
          "text": [
            "525,560,595,630,665,700,735,770,805,840,875\n"
          ]
        }
      ]
    },
    {
      "cell_type": "code",
      "source": [
        "g='abc'\n",
        "n=2\n",
        "print(g*n)"
      ],
      "metadata": {
        "colab": {
          "base_uri": "https://localhost:8080/"
        },
        "id": "dVQ1c2A27iNr",
        "outputId": "42664861-49a8-40c4-85fe-0ba614f60fe7"
      },
      "execution_count": null,
      "outputs": [
        {
          "output_type": "stream",
          "name": "stdout",
          "text": [
            "abcabc\n"
          ]
        }
      ]
    },
    {
      "cell_type": "code",
      "source": [
        "n=5\n",
        "for i in range(n):\n",
        "    if i%3==0 and i%5==0:\n",
        "        print(\"fizzbuzz\",end=' ')\n",
        "        continue\n",
        "    elif i % 3 == 0:\n",
        "            print(\"fizz\",end=' ')\n",
        "            continue\n",
        "    elif i % 5 == 0:\n",
        "            print(\"buzz\",end=' ')\n",
        "            continue\n",
        "    print(i,end=' ')"
      ],
      "metadata": {
        "colab": {
          "base_uri": "https://localhost:8080/"
        },
        "id": "3gDiEZD17rmy",
        "outputId": "24b3128c-0fb7-427a-a63d-db27a63e7edd"
      },
      "execution_count": null,
      "outputs": [
        {
          "output_type": "stream",
          "name": "stdout",
          "text": [
            "fizzbuzz 1 2 fizz 4 "
          ]
        }
      ]
    },
    {
      "cell_type": "code",
      "source": [
        "str2='buzz words'\n",
        "v='aeiouAEIOU'\n",
        "j=[]\n",
        "for i in str2:\n",
        "    if i in v:\n",
        "        j.append(i)\n",
        "h=len(j)\n",
        "print(h,j)  "
      ],
      "metadata": {
        "colab": {
          "base_uri": "https://localhost:8080/"
        },
        "id": "TzAHtu6o9vQA",
        "outputId": "0a5b14e1-e7c7-4bf6-f6d4-75babd869b22"
      },
      "execution_count": null,
      "outputs": [
        {
          "output_type": "stream",
          "name": "stdout",
          "text": [
            "2 ['u', 'o']\n"
          ]
        }
      ]
    },
    {
      "cell_type": "code",
      "source": [
        "n=[103,4935,239]\n",
        "mean=sum(n)/len(n)\n",
        "n.sort()\n",
        "if len(n)%2 !=0:\n",
        "    m=len(n)//2\n",
        "    median=n[m]\n",
        "    \n",
        "print(median)\n",
        "print(mean)\n"
      ],
      "metadata": {
        "colab": {
          "base_uri": "https://localhost:8080/"
        },
        "id": "kicmF2vB_30M",
        "outputId": "d0f39642-4eef-48d1-8f85-8959d279376a"
      },
      "execution_count": null,
      "outputs": [
        {
          "output_type": "stream",
          "name": "stdout",
          "text": [
            "239\n",
            "1759.0\n"
          ]
        }
      ]
    },
    {
      "cell_type": "code",
      "source": [
        "l=[124,785,459,389,555,490,389,568,789,290]\n",
        "l.sort()\n",
        "if len(l)%2 !=0:\n",
        "    me=len(l)//2\n",
        "    median=l[me]\n",
        "else:\n",
        "    m1=(len(l)//2)-1\n",
        "    mm=l[m1]\n",
        "    m2=m1+1\n",
        "    mmm=l[m2]\n",
        "    median=(mm+mmm)/2\n",
        "print(median)        "
      ],
      "metadata": {
        "colab": {
          "base_uri": "https://localhost:8080/"
        },
        "id": "r7VkdLlhBj9C",
        "outputId": "477362b3-a2a0-4d1b-af3e-482cc0f28ba4"
      },
      "execution_count": null,
      "outputs": [
        {
          "output_type": "stream",
          "name": "stdout",
          "text": [
            "474.5\n"
          ]
        }
      ]
    },
    {
      "cell_type": "code",
      "source": [
        "import statistics\n",
        "l=[124,785,459,389,555,490,389,568,789,290]\n",
        "median=statistics.median(l)\n",
        "print(median)"
      ],
      "metadata": {
        "colab": {
          "base_uri": "https://localhost:8080/"
        },
        "id": "LoC26rDtD2XM",
        "outputId": "5a6520a9-f65b-45dc-868f-a5f701526591"
      },
      "execution_count": null,
      "outputs": [
        {
          "output_type": "stream",
          "name": "stdout",
          "text": [
            "474.5\n"
          ]
        }
      ]
    },
    {
      "cell_type": "code",
      "source": [
        "mean=statistics.mean(l)\n",
        "print(round(mean,2))"
      ],
      "metadata": {
        "colab": {
          "base_uri": "https://localhost:8080/"
        },
        "id": "50kpTFUzEpLj",
        "outputId": "d41a7907-64da-40a4-9a40-cfc437ac070a"
      },
      "execution_count": null,
      "outputs": [
        {
          "output_type": "stream",
          "name": "stdout",
          "text": [
            "483.8\n"
          ]
        }
      ]
    },
    {
      "cell_type": "code",
      "source": [
        "mode=statistics.mode(l)\n",
        "print(mode)"
      ],
      "metadata": {
        "colab": {
          "base_uri": "https://localhost:8080/"
        },
        "id": "48yK1nPHEzBl",
        "outputId": "7909ea69-9248-4c33-9247-04ee6291a5d8"
      },
      "execution_count": null,
      "outputs": [
        {
          "output_type": "stream",
          "name": "stdout",
          "text": [
            "389\n"
          ]
        }
      ]
    },
    {
      "cell_type": "code",
      "source": [
        "dt='king queen knight'\n",
        "dt=dt.split(' ')\n",
        "c=[]\n",
        "for i in dt:\n",
        "    c.append((len(i),i))\n",
        "c.sort(reverse=True)    \n",
        "print(c[0])"
      ],
      "metadata": {
        "colab": {
          "base_uri": "https://localhost:8080/"
        },
        "id": "CYGQLrqcF2a1",
        "outputId": "7511b659-156c-46c0-8c12-907314239dfc"
      },
      "execution_count": null,
      "outputs": [
        {
          "output_type": "stream",
          "name": "stdout",
          "text": [
            "(6, 'knight')\n"
          ]
        }
      ]
    },
    {
      "cell_type": "code",
      "source": [
        "j=[0, 12, 45, 3, 4923, 322, 105, 29, 15, 39, 55]\n",
        "t=100\n",
        "p=[]\n",
        "for i,k in enumerate(j):\n",
        "    if k < t:\n",
        "        p.append(i)\n",
        "print(p)        "
      ],
      "metadata": {
        "id": "rkrTHPJCGOM-",
        "colab": {
          "base_uri": "https://localhost:8080/"
        },
        "outputId": "529c611a-c908-4005-c852-d303d935fd95"
      },
      "execution_count": null,
      "outputs": [
        {
          "output_type": "stream",
          "name": "stdout",
          "text": [
            "[0, 1, 2, 3, 7, 8, 9, 10]\n"
          ]
        }
      ]
    },
    {
      "cell_type": "code",
      "source": [
        "num='12234567'\n",
        "if num==num[::-1]:\n",
        "    print('Number is Palindrome')\n",
        "else:\n",
        "    print('Number is not Palindrome')    "
      ],
      "metadata": {
        "colab": {
          "base_uri": "https://localhost:8080/"
        },
        "id": "mkNbyPW_OXnK",
        "outputId": "dda90454-f440-4ca0-dfed-434e3900d836"
      },
      "execution_count": null,
      "outputs": [
        {
          "output_type": "stream",
          "name": "stdout",
          "text": [
            "Number is not Palindrome\n"
          ]
        }
      ]
    },
    {
      "cell_type": "code",
      "source": [
        "num='abchdfrgytr'\n",
        "if num==num[::-1]:\n",
        "    print('Number is Palindrome')\n",
        "else:\n",
        "    print('Number is not Palindrome')    "
      ],
      "metadata": {
        "colab": {
          "base_uri": "https://localhost:8080/"
        },
        "id": "DNNB0UUcRccq",
        "outputId": "17b6c7e0-deed-459f-9b61-715c179b2bbf"
      },
      "execution_count": null,
      "outputs": [
        {
          "output_type": "stream",
          "name": "stdout",
          "text": [
            "Number is not Palindrome\n"
          ]
        }
      ]
    },
    {
      "cell_type": "code",
      "source": [
        "n=9\n",
        "if n>1:\n",
        "    for i in range(2,n):\n",
        "        if n%i==0:\n",
        "            print('not prime')\n",
        "            break\n",
        "    else:\n",
        "        print('prime')\n",
        "else:\n",
        "    print('enter number > 1')                "
      ],
      "metadata": {
        "colab": {
          "base_uri": "https://localhost:8080/"
        },
        "id": "GWTh93B-Rmzt",
        "outputId": "300e03ca-821b-433f-aff2-92b2e50f9914"
      },
      "execution_count": null,
      "outputs": [
        {
          "output_type": "stream",
          "name": "stdout",
          "text": [
            "not prime\n"
          ]
        }
      ]
    },
    {
      "cell_type": "code",
      "source": [
        "s='faabbccdde'\n",
        "d={}\n",
        "for i in s:\n",
        "    d[i]=s.count(i)\n",
        "for j,k in d.items():\n",
        "    if k==1:\n",
        "        print(j)\n",
        "        break\n",
        "else:\n",
        "    print(None)    "
      ],
      "metadata": {
        "colab": {
          "base_uri": "https://localhost:8080/"
        },
        "id": "n7U_3KcTRqDS",
        "outputId": "0bc2954a-64a1-4159-de4c-8020bf4c87e8"
      },
      "execution_count": null,
      "outputs": [
        {
          "output_type": "stream",
          "name": "stdout",
          "text": [
            "f\n"
          ]
        }
      ]
    },
    {
      "cell_type": "code",
      "source": [
        "n=9\n",
        "k=[]\n",
        "for i in range(n):\n",
        "    if i !=3 and i !=6:\n",
        "        k.append(i)\n",
        "print(k)        "
      ],
      "metadata": {
        "colab": {
          "base_uri": "https://localhost:8080/"
        },
        "id": "fG6FTEqqWbHs",
        "outputId": "cdbe7665-4d0a-4130-fdab-d6ffcecc8ff1"
      },
      "execution_count": null,
      "outputs": [
        {
          "output_type": "stream",
          "name": "stdout",
          "text": [
            "[0, 1, 2, 4, 5, 7, 8]\n"
          ]
        }
      ]
    },
    {
      "cell_type": "code",
      "source": [
        "n=5\n",
        "for i in range(1,n+1):\n",
        "    for j in range(1,i+1):\n",
        "        if i==j:\n",
        "            print('*.',end='')\n",
        "        else:\n",
        "            print('*.',end='')   \n",
        "    print()\n",
        "for i in range(n-1,0,-1):\n",
        "    for j in range(1,i+1):\n",
        "       if i==j:\n",
        "            print('*.',end='')\n",
        "       else:\n",
        "            print('*.',end='')   \n",
        "    print() "
      ],
      "metadata": {
        "colab": {
          "base_uri": "https://localhost:8080/"
        },
        "id": "XptTJn5QYE54",
        "outputId": "d323f4ad-df96-4595-fcd5-0244e7b59c42"
      },
      "execution_count": null,
      "outputs": [
        {
          "output_type": "stream",
          "name": "stdout",
          "text": [
            "*.\n",
            "*.*.\n",
            "*.*.*.\n",
            "*.*.*.*.\n",
            "*.*.*.*.*.\n",
            "*.*.*.*.\n",
            "*.*.*.\n",
            "*.*.\n",
            "*.\n"
          ]
        }
      ]
    },
    {
      "cell_type": "code",
      "source": [
        "string='Both of these issues are fixed by postponing the evaluation of annotations. Instead of compiling code which executes expressions in annotations at their definition time, the compiler stores the annotation in a string form equivalent to the AST of the expression in question. If needed, annotations can be resolved at runtime using typing.get_type_hints(). In the common case where this is not required, the annotations are cheaper to store (since short strings are interned by the interpreter) and make startup time faster.'\n",
        "string=string.split(' ')\n",
        "d={}\n",
        "for i in string:\n",
        "    d[i]=string.count(i)\n",
        "k=sorted(d.items(),key=lambda x: x[1],reverse=True)\n",
        "print(k[1])\n",
        "\n",
        "    "
      ],
      "metadata": {
        "colab": {
          "base_uri": "https://localhost:8080/"
        },
        "id": "uigtg5oibHRm",
        "outputId": "4a2dd1bb-d362-4eab-91cb-c735c1a97b1f"
      },
      "execution_count": null,
      "outputs": [
        {
          "output_type": "stream",
          "name": "stdout",
          "text": [
            "('of', 4)\n"
          ]
        }
      ]
    },
    {
      "cell_type": "code",
      "source": [
        "lst= \"red, black, pink, green, black, green\"\n",
        "words=lst.split(',')\n",
        "uniword=sorted(set(words))\n",
        "result=','.join(uniword)\n",
        "print(result)"
      ],
      "metadata": {
        "colab": {
          "base_uri": "https://localhost:8080/"
        },
        "id": "uD4IbYSafUPQ",
        "outputId": "f76a6988-75a7-405b-fa70-e2fa5f8c4a75"
      },
      "execution_count": null,
      "outputs": [
        {
          "output_type": "stream",
          "name": "stdout",
          "text": [
            " black, green, pink,red\n"
          ]
        }
      ]
    },
    {
      "cell_type": "code",
      "source": [
        "sti=\"data,analysis,model,decission\"\n",
        "word=sti.split(',')\n",
        "uw=sorted(set(word))\n",
        "r=','.join(uw)\n",
        "print(r)"
      ],
      "metadata": {
        "colab": {
          "base_uri": "https://localhost:8080/"
        },
        "id": "Ut8I4oEeiE8f",
        "outputId": "0858f4b4-7db0-430a-882a-11d863c17907"
      },
      "execution_count": null,
      "outputs": [
        {
          "output_type": "stream",
          "name": "stdout",
          "text": [
            "analysis,data,decission,model\n"
          ]
        }
      ]
    },
    {
      "cell_type": "code",
      "source": [
        "listt=[[10, 20], [40], [30, 56, 25], [10, 20], [33], [40]]\n",
        "uni=[]\n",
        "for i in listt:\n",
        "    if i not in uni:\n",
        "        uni.append(i)\n",
        "print(uni)        "
      ],
      "metadata": {
        "colab": {
          "base_uri": "https://localhost:8080/"
        },
        "id": "1wrE6IHli7Y8",
        "outputId": "68bf952f-924d-4c9c-f5b8-6ec009545b34"
      },
      "execution_count": null,
      "outputs": [
        {
          "output_type": "stream",
          "name": "stdout",
          "text": [
            "[[10, 20], [40], [30, 56, 25], [33]]\n"
          ]
        }
      ]
    },
    {
      "cell_type": "code",
      "source": [
        "tup=((10,20),(40,),(30,56,25),(33,),(40,))\n",
        "uni=()\n",
        "for i in tup:\n",
        "    if i not in uni:\n",
        "        uni+=(i,)\n",
        "print(uni)       "
      ],
      "metadata": {
        "colab": {
          "base_uri": "https://localhost:8080/"
        },
        "id": "nSEEkhiXjFuH",
        "outputId": "b5608e25-5c6e-4654-af21-c7f20bd906d4"
      },
      "execution_count": null,
      "outputs": [
        {
          "output_type": "stream",
          "name": "stdout",
          "text": [
            "((10, 20), (40,), (30, 56, 25), (33,))\n"
          ]
        }
      ]
    },
    {
      "cell_type": "code",
      "source": [
        "h='python exercises practice solution'\n",
        "g=''\n",
        "for i in h:\n",
        "    if i not in g:\n",
        "        g+=i\n",
        "print(g)        "
      ],
      "metadata": {
        "colab": {
          "base_uri": "https://localhost:8080/"
        },
        "id": "6uJ5-TOmyjoa",
        "outputId": "4128b2e8-2510-4e4c-c574-e40282e72169"
      },
      "execution_count": null,
      "outputs": [
        {
          "output_type": "stream",
          "name": "stdout",
          "text": [
            "python exrcisalu\n"
          ]
        }
      ]
    },
    {
      "cell_type": "code",
      "source": [
        "h=1,2,3,4,5,6,7,1,2,3,4,8,9,0\n",
        "j=[]\n",
        "for i in h:\n",
        "   if i not in j:\n",
        "       j.append(i)\n",
        "print(j)        "
      ],
      "metadata": {
        "colab": {
          "base_uri": "https://localhost:8080/"
        },
        "id": "32VHo8qIzWo_",
        "outputId": "2842c1f5-1f7f-4c7f-bf76-79e8fb22ed89"
      },
      "execution_count": null,
      "outputs": [
        {
          "output_type": "stream",
          "name": "stdout",
          "text": [
            "[1, 2, 3, 4, 5, 6, 7, 8, 9, 0]\n"
          ]
        }
      ]
    },
    {
      "cell_type": "code",
      "source": [
        "k= ('a', 'b', 'c', 'd', 'e', 'g','f')\n",
        "k=list(k)\n",
        "k.remove('f')\n",
        "print(tuple(k))"
      ],
      "metadata": {
        "colab": {
          "base_uri": "https://localhost:8080/"
        },
        "id": "e1ifh_O1z5wb",
        "outputId": "4879973c-2f32-43f1-ba31-254e9edc3832"
      },
      "execution_count": null,
      "outputs": [
        {
          "output_type": "stream",
          "name": "stdout",
          "text": [
            "('a', 'b', 'c', 'd', 'e', 'g')\n"
          ]
        }
      ]
    },
    {
      "cell_type": "code",
      "source": [
        "str1='abcd'\n",
        "if len(str1)%4==0:\n",
        "    print(str1[::-1])\n",
        "else:\n",
        "    print(str1)    "
      ],
      "metadata": {
        "colab": {
          "base_uri": "https://localhost:8080/"
        },
        "id": "d3Ru-YM20KTa",
        "outputId": "5c32e7b0-d744-4f46-fd66-c0b8c4489e93"
      },
      "execution_count": null,
      "outputs": [
        {
          "output_type": "stream",
          "name": "stdout",
          "text": [
            "dcba\n"
          ]
        }
      ]
    },
    {
      "cell_type": "code",
      "source": [
        "str1='python'\n",
        "if len(str1)%4==0:\n",
        "    print(str1[::-1])\n",
        "else:\n",
        "    print(str1)"
      ],
      "metadata": {
        "colab": {
          "base_uri": "https://localhost:8080/"
        },
        "id": "G_KE94W90fmU",
        "outputId": "161278c4-5f3c-4e9a-e800-e560d7fbb6d3"
      },
      "execution_count": null,
      "outputs": [
        {
          "output_type": "stream",
          "name": "stdout",
          "text": [
            "python\n"
          ]
        }
      ]
    },
    {
      "cell_type": "code",
      "source": [
        "str2=\"green-red-black-white\"\n",
        "str2=str2.split('-')\n",
        "string=sorted(set(str2))\n",
        "result='-'.join(string)\n",
        "print(result)"
      ],
      "metadata": {
        "colab": {
          "base_uri": "https://localhost:8080/"
        },
        "id": "yzD765Eu0szW",
        "outputId": "eccd17d8-4930-4155-c475-7718d39c729e"
      },
      "execution_count": null,
      "outputs": [
        {
          "output_type": "stream",
          "name": "stdout",
          "text": [
            "black-green-red-white\n"
          ]
        }
      ]
    },
    {
      "cell_type": "code",
      "source": [
        "num=320\n",
        "factors=[]\n",
        "for i in range(2,num):\n",
        "    if num%i==0:\n",
        "        factors.append(i)\n",
        "print(min(factors))        "
      ],
      "metadata": {
        "colab": {
          "base_uri": "https://localhost:8080/"
        },
        "id": "wtC_Oxnp2e5K",
        "outputId": "e2d85602-b9c6-4679-efb8-6f4ad0d55909"
      },
      "execution_count": null,
      "outputs": [
        {
          "output_type": "stream",
          "name": "stdout",
          "text": [
            "2\n"
          ]
        }
      ]
    },
    {
      "cell_type": "code",
      "source": [
        "tlist=[(2, 5), (1, 2), (4, 4), (2, 3), (2, 1)]\n",
        "tlist.sort(key=lambda x: x[1])\n",
        "print(tlist)"
      ],
      "metadata": {
        "colab": {
          "base_uri": "https://localhost:8080/"
        },
        "id": "3EH_VpvD3U7u",
        "outputId": "ee64e657-93ea-403d-9457-0b9600197e3c"
      },
      "execution_count": null,
      "outputs": [
        {
          "output_type": "stream",
          "name": "stdout",
          "text": [
            "[(2, 1), (1, 2), (2, 3), (4, 4), (2, 5)]\n"
          ]
        }
      ]
    },
    {
      "cell_type": "code",
      "source": [
        "l='Python Exercises'\n",
        "rstr=''\n",
        "for i in l:\n",
        "    if i.isupper():\n",
        "        rstr+=i.lower()\n",
        "    else:\n",
        "        rstr+=i.upper()\n",
        "print(rstr)            "
      ],
      "metadata": {
        "colab": {
          "base_uri": "https://localhost:8080/"
        },
        "id": "HddsQ2gl5m-L",
        "outputId": "833cfa1b-8063-451a-a0e6-a7d32aab1bf9"
      },
      "execution_count": null,
      "outputs": [
        {
          "output_type": "stream",
          "name": "stdout",
          "text": [
            "pYTHON eXERCISES\n"
          ]
        }
      ]
    },
    {
      "cell_type": "code",
      "source": [
        "mstr='AI is going to rule the world'\n",
        "sstr='aeiou'\n",
        "nstr=''\n",
        "for i in mstr:\n",
        "    if i not in sstr:\n",
        "        nstr+=i\n",
        "print(nstr)        "
      ],
      "metadata": {
        "colab": {
          "base_uri": "https://localhost:8080/"
        },
        "id": "D15-7A-d6pfU",
        "outputId": "f0920cc8-05bf-49e5-ea9a-e175b0b001c4"
      },
      "execution_count": null,
      "outputs": [
        {
          "output_type": "stream",
          "name": "stdout",
          "text": [
            "AI s gng t rl th wrld\n"
          ]
        }
      ]
    },
    {
      "cell_type": "code",
      "source": [
        "d={'john': 170, 'kem':172, 'sam': 168, 'milli': 158}\n",
        "dd=[]\n",
        "for i,j in d.items():\n",
        "    dd.append(j)\n",
        "print(sum(dd))    "
      ],
      "metadata": {
        "colab": {
          "base_uri": "https://localhost:8080/"
        },
        "id": "VdQbeZT57XbP",
        "outputId": "7203181e-001d-4bbd-c727-b5daf48f5c34"
      },
      "execution_count": null,
      "outputs": [
        {
          "output_type": "stream",
          "name": "stdout",
          "text": [
            "668\n"
          ]
        }
      ]
    },
    {
      "cell_type": "code",
      "source": [
        "string1= 'Scta'\n",
        "string2= 'Daientist'\n",
        "string3=string2[:2]+string1[2:]\n",
        "string4=string1[:2]+string2[2:]\n",
        "string3+' '+string4"
      ],
      "metadata": {
        "colab": {
          "base_uri": "https://localhost:8080/",
          "height": 36
        },
        "id": "lrnNldPW8CCA",
        "outputId": "523f5009-4417-4af8-b58a-b2597a8343e1"
      },
      "execution_count": null,
      "outputs": [
        {
          "output_type": "execute_result",
          "data": {
            "text/plain": [
              "'Data Scientist'"
            ],
            "application/vnd.google.colaboratory.intrinsic+json": {
              "type": "string"
            }
          },
          "metadata": {},
          "execution_count": 34
        }
      ]
    },
    {
      "cell_type": "code",
      "source": [
        "b='The quick Brown Fox'\n",
        "u=0\n",
        "l=0\n",
        "for i in b:\n",
        "    if i.isupper():\n",
        "        u=u+1\n",
        "    elif i.islower():\n",
        "        l=l+1\n",
        "    else:\n",
        "        pass\n",
        "print(f'upper count {u} lower count {l}')                "
      ],
      "metadata": {
        "colab": {
          "base_uri": "https://localhost:8080/"
        },
        "id": "nCejWlk99CU6",
        "outputId": "23a1c698-b793-410f-ae85-34fd97f8dcf5"
      },
      "execution_count": null,
      "outputs": [
        {
          "output_type": "stream",
          "name": "stdout",
          "text": [
            "upper count 3 lower count 13\n"
          ]
        }
      ]
    },
    {
      "cell_type": "code",
      "source": [
        "n1=7\n",
        "n2=3\n",
        "if n1==n2 or (n1+n2)==5 or abs(n1-n2)==5:\n",
        "    print(True)\n",
        "else:\n",
        "    print(False)    "
      ],
      "metadata": {
        "colab": {
          "base_uri": "https://localhost:8080/"
        },
        "id": "4vcey6qjSWj8",
        "outputId": "32c8624e-6fb6-47f9-eeaf-e5a3fb1ae059"
      },
      "execution_count": null,
      "outputs": [
        {
          "output_type": "stream",
          "name": "stdout",
          "text": [
            "False\n"
          ]
        }
      ]
    },
    {
      "cell_type": "code",
      "source": [
        "n=10\n",
        "n1=0\n",
        "n2=1\n",
        "c=0\n",
        "if n<0:\n",
        "    print('enter positive number')\n",
        "elif n==1:\n",
        "    print('fibbonaci sequence of 1 is',n1) \n",
        "else:\n",
        "    print('fibbonaci sequesnce')\n",
        "    while c<n:\n",
        "        print(n1,end=' ')\n",
        "        nn=n1+n2\n",
        "        n1=n2\n",
        "        n2=nn\n",
        "        c=c+1 \n",
        "       "
      ],
      "metadata": {
        "colab": {
          "base_uri": "https://localhost:8080/"
        },
        "id": "nJAtaNLuVony",
        "outputId": "fa274191-ab98-49ea-ceda-1509f5cb40d0"
      },
      "execution_count": null,
      "outputs": [
        {
          "output_type": "stream",
          "name": "stdout",
          "text": [
            "fibbonaci sequesnce\n",
            "0 1 1 2 3 5 8 13 21 34 "
          ]
        }
      ]
    },
    {
      "cell_type": "code",
      "source": [
        "n=10\n",
        "n1=0\n",
        "n2=1\n",
        "c=0\n",
        "if n<0:\n",
        "    print('enter positive number')\n",
        "elif n==1:\n",
        "    print('fibbonaci sequence of 1 is',n1) \n",
        "else:\n",
        "    print('fibbonaci sequesnce')\n",
        "    while c<n-1:\n",
        "        nn=n1+n2\n",
        "        n1=n2\n",
        "        n2=nn\n",
        "        c=c+1 \n",
        "    print(n1)         "
      ],
      "metadata": {
        "colab": {
          "base_uri": "https://localhost:8080/"
        },
        "id": "4A9-fvZDWHCV",
        "outputId": "760c45ac-88a2-4b17-d32c-0acbffd30a44"
      },
      "execution_count": null,
      "outputs": [
        {
          "output_type": "stream",
          "name": "stdout",
          "text": [
            "fibbonaci sequesnce\n",
            "34\n"
          ]
        }
      ]
    },
    {
      "cell_type": "code",
      "source": [
        "str5='AlmaBetter@datascience'\n",
        "u=0\n",
        "l=0\n",
        "s=0\n",
        "n=0\n",
        "for i in str5:\n",
        "    if i.isupper():\n",
        "        u+=1\n",
        "    elif i.islower():\n",
        "        l+=1\n",
        "    elif i.isdigit():\n",
        "        n+=1\n",
        "    else:\n",
        "        s+=1\n",
        "print(f\"({u},{l},{n},{s})\")             "
      ],
      "metadata": {
        "colab": {
          "base_uri": "https://localhost:8080/"
        },
        "id": "PK5hyW-7WiEM",
        "outputId": "a8537de7-b69b-4958-b2a0-e2e9bf98340f"
      },
      "execution_count": null,
      "outputs": [
        {
          "output_type": "stream",
          "name": "stdout",
          "text": [
            "(2,19,0,1)\n"
          ]
        }
      ]
    },
    {
      "cell_type": "code",
      "source": [
        "import re\n",
        "password=input()\n",
        "x=True\n",
        "while x:\n",
        "    if (len(password) < 6 or len(password) > 16):\n",
        "        break\n",
        "    elif not re.search('[a-z]',password):\n",
        "        break\n",
        "    elif not re.search('[0-9]',password):\n",
        "        break\n",
        "    elif not re.search('[A-Z]',password):\n",
        "        break\n",
        "    elif not re.search(\"[$#@]\",password):\n",
        "        break\n",
        "    elif re.search(\"\\s\",password):\n",
        "        break\n",
        "    else:\n",
        "        print(\"Valid Password\")\n",
        "        x=False\n",
        "        break\n",
        "if x:\n",
        "    print('Not a valid password')                                "
      ],
      "metadata": {
        "colab": {
          "base_uri": "https://localhost:8080/"
        },
        "id": "qADazkKSa35B",
        "outputId": "459c1e8e-2866-4200-b7d0-a8cacc8d5e09"
      },
      "execution_count": null,
      "outputs": [
        {
          "output_type": "stream",
          "name": "stdout",
          "text": [
            "ind@jaya\n",
            "Not a valid password\n"
          ]
        }
      ]
    },
    {
      "cell_type": "code",
      "source": [
        "t=(1, 2), (2, 3), (3, 4)\n",
        "tt=[]\n",
        "for i in t:\n",
        "    tt.append(list(i))\n",
        "print(tt)    \n"
      ],
      "metadata": {
        "colab": {
          "base_uri": "https://localhost:8080/"
        },
        "id": "EUTnvp_jc-eD",
        "outputId": "dca74c25-fa7a-484f-bfab-207060024873"
      },
      "execution_count": null,
      "outputs": [
        {
          "output_type": "stream",
          "name": "stdout",
          "text": [
            "[[1, 2], [2, 3], [3, 4]]\n"
          ]
        }
      ]
    },
    {
      "cell_type": "code",
      "source": [
        "n=10\n",
        "count=0\n",
        "for i in range(2,n+1):\n",
        "    for j in range(2,i):\n",
        "        if i%j==0:\n",
        "            break\n",
        "    else:\n",
        "        count+=1\n",
        "print(count)                \n"
      ],
      "metadata": {
        "colab": {
          "base_uri": "https://localhost:8080/"
        },
        "id": "5Vld1VLPeaIq",
        "outputId": "3c8b3d5a-a3fc-4e72-c678-9c5b6c4a5a54"
      },
      "execution_count": null,
      "outputs": [
        {
          "output_type": "stream",
          "name": "stdout",
          "text": [
            "4\n"
          ]
        }
      ]
    },
    {
      "cell_type": "code",
      "source": [
        "str6='112344565'\n",
        "single=[]\n",
        "multi=[]\n",
        "for i in str6:\n",
        "    if str6.count(i)==1:\n",
        "        single.append(i)\n",
        "    else:\n",
        "        multi.append(i)\n",
        "multi=sorted(set(multi))        \n",
        "print(f\"({single},{multi})\")  "
      ],
      "metadata": {
        "colab": {
          "base_uri": "https://localhost:8080/"
        },
        "id": "Ms0alrAkgWKf",
        "outputId": "94514170-1af6-4961-8bbb-ae7cb0e91ced"
      },
      "execution_count": null,
      "outputs": [
        {
          "output_type": "stream",
          "name": "stdout",
          "text": [
            "(['2', '3', '6'],['1', '4', '5'])\n"
          ]
        }
      ]
    },
    {
      "cell_type": "code",
      "source": [
        "fn=17\n",
        "vn=22\n",
        "if vn>fn:\n",
        "    print((abs(vn-fn))*2)\n",
        "else:\n",
        "    print(fn-vn)    "
      ],
      "metadata": {
        "colab": {
          "base_uri": "https://localhost:8080/"
        },
        "id": "iTugmUXohqbs",
        "outputId": "cb076891-7f74-4c5a-ed18-db8092c12acb"
      },
      "execution_count": null,
      "outputs": [
        {
          "output_type": "stream",
          "name": "stdout",
          "text": [
            "10\n"
          ]
        }
      ]
    },
    {
      "cell_type": "code",
      "source": [
        "str7='xxxxxyyyyyyz'\n",
        "re=''\n",
        "for i in range(len(str7)):\n",
        "    if i==0 or str7[i]!=str7[i-1]:\n",
        "        re+=str7[i]\n",
        "print(re)        "
      ],
      "metadata": {
        "colab": {
          "base_uri": "https://localhost:8080/"
        },
        "id": "KaQgygs1iXm0",
        "outputId": "de4a15a4-5813-416d-998b-b405ce416e75"
      },
      "execution_count": null,
      "outputs": [
        {
          "output_type": "stream",
          "name": "stdout",
          "text": [
            "xyz\n"
          ]
        }
      ]
    },
    {
      "cell_type": "code",
      "source": [
        "d={'name': 'xyz', 'age': 27, 'salary': 50000, 'manager': 'xyz'}\n",
        "dd={}\n",
        "for i,j in d.items():\n",
        "    if j not in dd.values():\n",
        "        dd[i]=j\n",
        "print(dd)        "
      ],
      "metadata": {
        "colab": {
          "base_uri": "https://localhost:8080/"
        },
        "id": "8U2vQFxFj7aK",
        "outputId": "71d02548-bdbd-4a76-d212-12659f9bb806"
      },
      "execution_count": null,
      "outputs": [
        {
          "output_type": "stream",
          "name": "stdout",
          "text": [
            "{'name': 'xyz', 'age': 27, 'salary': 50000}\n"
          ]
        }
      ]
    },
    {
      "cell_type": "code",
      "source": [
        "str1='beginning'\n",
        "n=3\n",
        "length=len(str1)\n",
        "count=0\n",
        "freq=[0]*26\n",
        "left, right, distinct = 0, 0, 0\n",
        "while right < length:\n",
        "    if freq[ord(str1[right]) - ord('a')] == 0:\n",
        "        distinct += 1\n",
        "    freq[ord(str1[right]) - ord('a')] += 1\n",
        "    while distinct == n:\n",
        "        count += 1\n",
        "        freq[ord(str1[left]) - ord('a')] -= 1  \n",
        "        if freq[ord(str1[left]) - ord('a')] == 0:\n",
        "            distinct -= 1 \n",
        "        left += 1  \n",
        "    right += 1  \n",
        "print(\"Number of substrings with exactly\", n, \"distinct characters:\", count)       "
      ],
      "metadata": {
        "colab": {
          "base_uri": "https://localhost:8080/"
        },
        "id": "R_OkD71lbw6P",
        "outputId": "8a820ece-2efe-4654-df72-a00526b45b58"
      },
      "execution_count": null,
      "outputs": [
        {
          "output_type": "stream",
          "name": "stdout",
          "text": [
            "Number of substrings with exactly 3 distinct characters: 7\n"
          ]
        }
      ]
    },
    {
      "cell_type": "code",
      "source": [
        "import datetime\n",
        "today = datetime.date.today()\n",
        "print(today)\n",
        "print(today.day)\n",
        "print(today.month)\n",
        "print(today.year)\n",
        "day_of_week=today.weekday()\n",
        "weekday_names = [\"Monday\", \"Tuesday\", \"Wednesday\", \"Thursday\", \"Friday\", \"Saturday\", \"Sunday\"]\n",
        "weekday = weekday_names[day_of_week]\n",
        "print(weekday)"
      ],
      "metadata": {
        "colab": {
          "base_uri": "https://localhost:8080/"
        },
        "id": "QHwe1ObLdaqW",
        "outputId": "2e9fc0b0-1f7f-48f5-9e13-90e37035b912"
      },
      "execution_count": null,
      "outputs": [
        {
          "output_type": "stream",
          "name": "stdout",
          "text": [
            "2023-04-20\n",
            "20\n",
            "4\n",
            "2023\n",
            "Thursday\n"
          ]
        }
      ]
    },
    {
      "cell_type": "code",
      "source": [
        "m=4\n",
        "n=4\n",
        "mat=[]\n",
        "for i in range(m):\n",
        "    row = []\n",
        "    for j in range(n):\n",
        "        row.append(i * j)\n",
        "    mat.append(row)\n",
        "for row in mat:\n",
        "    print(row,end=',')\n"
      ],
      "metadata": {
        "colab": {
          "base_uri": "https://localhost:8080/"
        },
        "id": "KSn9MSk8hRS9",
        "outputId": "08d88d84-1021-43ad-ab28-46391e9f40b6"
      },
      "execution_count": null,
      "outputs": [
        {
          "output_type": "stream",
          "name": "stdout",
          "text": [
            "[0, 0, 0, 0],[0, 1, 2, 3],[0, 2, 4, 6],[0, 3, 6, 9],"
          ]
        }
      ]
    },
    {
      "cell_type": "code",
      "source": [
        "n=330\n",
        "fact=[]\n",
        "for i in range(2,330):\n",
        "    if n%i==0:\n",
        "        fact.append(i)\n",
        "f=[]\n",
        "for j in fact:\n",
        "    for k in range(2,j):\n",
        "        if j%k==0:\n",
        "            break\n",
        "    else:\n",
        "        f.append(j) \n",
        "print(max(f))               "
      ],
      "metadata": {
        "colab": {
          "base_uri": "https://localhost:8080/"
        },
        "id": "G_iZKlV6hxsh",
        "outputId": "a69d30b2-f5d8-40fd-c28b-7a0f05e06ea7"
      },
      "execution_count": null,
      "outputs": [
        {
          "output_type": "stream",
          "name": "stdout",
          "text": [
            "11\n"
          ]
        }
      ]
    },
    {
      "cell_type": "markdown",
      "source": [
        "https://docs.google.com/spreadsheets/d/1XDLsny7iElCb1pE0_f2yGYVrlv_bnhEWZ9Pj6vfsVj4/edit#gid=0"
      ],
      "metadata": {
        "id": "UCbOrohWIXJz"
      }
    },
    {
      "cell_type": "markdown",
      "source": [],
      "metadata": {
        "id": "ahxVyfQXIXDg"
      }
    }
  ]
}