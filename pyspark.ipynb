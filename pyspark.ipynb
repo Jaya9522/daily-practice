{
  "nbformat": 4,
  "nbformat_minor": 0,
  "metadata": {
    "colab": {
      "provenance": [],
      "mount_file_id": "1RrPiuQgg-_TRaiLx89FNmhwQRfRi6u42",
      "authorship_tag": "ABX9TyOwMXyLZpn7g6boOxlxN3cR",
      "include_colab_link": true
    },
    "kernelspec": {
      "name": "python3",
      "display_name": "Python 3"
    },
    "language_info": {
      "name": "python"
    }
  },
  "cells": [
    {
      "cell_type": "markdown",
      "metadata": {
        "id": "view-in-github",
        "colab_type": "text"
      },
      "source": [
        "<a href=\"https://colab.research.google.com/github/Jaya9522/daily-practice/blob/main/pyspark.ipynb\" target=\"_parent\"><img src=\"https://colab.research.google.com/assets/colab-badge.svg\" alt=\"Open In Colab\"/></a>"
      ]
    },
    {
      "cell_type": "code",
      "source": [
        "!pip install pyspark\n"
      ],
      "metadata": {
        "colab": {
          "base_uri": "https://localhost:8080/"
        },
        "id": "_FIJ3QdXKPca",
        "outputId": "3b45f9e6-e6a2-4e82-adf1-8a76f7762523"
      },
      "execution_count": 1,
      "outputs": [
        {
          "output_type": "stream",
          "name": "stdout",
          "text": [
            "Looking in indexes: https://pypi.org/simple, https://us-python.pkg.dev/colab-wheels/public/simple/\n",
            "Collecting pyspark\n",
            "  Downloading pyspark-3.3.2.tar.gz (281.4 MB)\n",
            "\u001b[2K     \u001b[90m━━━━━━━━━━━━━━━━━━━━━━━━━━━━━━━━━━━━━━━\u001b[0m \u001b[32m281.4/281.4 MB\u001b[0m \u001b[31m4.4 MB/s\u001b[0m eta \u001b[36m0:00:00\u001b[0m\n",
            "\u001b[?25h  Preparing metadata (setup.py) ... \u001b[?25l\u001b[?25hdone\n",
            "Collecting py4j==0.10.9.5\n",
            "  Downloading py4j-0.10.9.5-py2.py3-none-any.whl (199 kB)\n",
            "\u001b[2K     \u001b[90m━━━━━━━━━━━━━━━━━━━━━━━━━━━━━━━━━━━━━━━\u001b[0m \u001b[32m199.7/199.7 KB\u001b[0m \u001b[31m8.0 MB/s\u001b[0m eta \u001b[36m0:00:00\u001b[0m\n",
            "\u001b[?25hBuilding wheels for collected packages: pyspark\n",
            "  Building wheel for pyspark (setup.py) ... \u001b[?25l\u001b[?25hdone\n",
            "  Created wheel for pyspark: filename=pyspark-3.3.2-py2.py3-none-any.whl size=281824025 sha256=3fce20d440f1a65c1d212e8e1fc2ca97df96cfeff94a54d6ad9ec4ea644911de\n",
            "  Stored in directory: /root/.cache/pip/wheels/b1/59/a0/a1a0624b5e865fd389919c1a10f53aec9b12195d6747710baf\n",
            "Successfully built pyspark\n",
            "Installing collected packages: py4j, pyspark\n",
            "Successfully installed py4j-0.10.9.5 pyspark-3.3.2\n"
          ]
        }
      ]
    },
    {
      "cell_type": "code",
      "source": [
        "import pyspark"
      ],
      "metadata": {
        "id": "mWVgLWMAPxla"
      },
      "execution_count": 2,
      "outputs": []
    },
    {
      "cell_type": "code",
      "source": [
        "import pandas as pd\n",
        "pd.read_csv(\"/content/drive/MyDrive/Unsupervised Machine Learning Book Recommendation System Project/Ratings.csv\")"
      ],
      "metadata": {
        "id": "soKErhZuTu2x",
        "colab": {
          "base_uri": "https://localhost:8080/",
          "height": 423
        },
        "outputId": "a0167836-35dc-477b-8f50-ffb79373a2ee"
      },
      "execution_count": 3,
      "outputs": [
        {
          "output_type": "execute_result",
          "data": {
            "text/plain": [
              "         User-ID         ISBN  Book-Rating\n",
              "0         276725   034545104X            0\n",
              "1         276726   0155061224            5\n",
              "2         276727   0446520802            0\n",
              "3         276729   052165615X            3\n",
              "4         276729   0521795028            6\n",
              "...          ...          ...          ...\n",
              "1149775   276704   1563526298            9\n",
              "1149776   276706   0679447156            0\n",
              "1149777   276709   0515107662           10\n",
              "1149778   276721   0590442449           10\n",
              "1149779   276723  05162443314            8\n",
              "\n",
              "[1149780 rows x 3 columns]"
            ],
            "text/html": [
              "\n",
              "  <div id=\"df-21f6117b-eaaf-4d77-81e9-8c5ecc31d961\">\n",
              "    <div class=\"colab-df-container\">\n",
              "      <div>\n",
              "<style scoped>\n",
              "    .dataframe tbody tr th:only-of-type {\n",
              "        vertical-align: middle;\n",
              "    }\n",
              "\n",
              "    .dataframe tbody tr th {\n",
              "        vertical-align: top;\n",
              "    }\n",
              "\n",
              "    .dataframe thead th {\n",
              "        text-align: right;\n",
              "    }\n",
              "</style>\n",
              "<table border=\"1\" class=\"dataframe\">\n",
              "  <thead>\n",
              "    <tr style=\"text-align: right;\">\n",
              "      <th></th>\n",
              "      <th>User-ID</th>\n",
              "      <th>ISBN</th>\n",
              "      <th>Book-Rating</th>\n",
              "    </tr>\n",
              "  </thead>\n",
              "  <tbody>\n",
              "    <tr>\n",
              "      <th>0</th>\n",
              "      <td>276725</td>\n",
              "      <td>034545104X</td>\n",
              "      <td>0</td>\n",
              "    </tr>\n",
              "    <tr>\n",
              "      <th>1</th>\n",
              "      <td>276726</td>\n",
              "      <td>0155061224</td>\n",
              "      <td>5</td>\n",
              "    </tr>\n",
              "    <tr>\n",
              "      <th>2</th>\n",
              "      <td>276727</td>\n",
              "      <td>0446520802</td>\n",
              "      <td>0</td>\n",
              "    </tr>\n",
              "    <tr>\n",
              "      <th>3</th>\n",
              "      <td>276729</td>\n",
              "      <td>052165615X</td>\n",
              "      <td>3</td>\n",
              "    </tr>\n",
              "    <tr>\n",
              "      <th>4</th>\n",
              "      <td>276729</td>\n",
              "      <td>0521795028</td>\n",
              "      <td>6</td>\n",
              "    </tr>\n",
              "    <tr>\n",
              "      <th>...</th>\n",
              "      <td>...</td>\n",
              "      <td>...</td>\n",
              "      <td>...</td>\n",
              "    </tr>\n",
              "    <tr>\n",
              "      <th>1149775</th>\n",
              "      <td>276704</td>\n",
              "      <td>1563526298</td>\n",
              "      <td>9</td>\n",
              "    </tr>\n",
              "    <tr>\n",
              "      <th>1149776</th>\n",
              "      <td>276706</td>\n",
              "      <td>0679447156</td>\n",
              "      <td>0</td>\n",
              "    </tr>\n",
              "    <tr>\n",
              "      <th>1149777</th>\n",
              "      <td>276709</td>\n",
              "      <td>0515107662</td>\n",
              "      <td>10</td>\n",
              "    </tr>\n",
              "    <tr>\n",
              "      <th>1149778</th>\n",
              "      <td>276721</td>\n",
              "      <td>0590442449</td>\n",
              "      <td>10</td>\n",
              "    </tr>\n",
              "    <tr>\n",
              "      <th>1149779</th>\n",
              "      <td>276723</td>\n",
              "      <td>05162443314</td>\n",
              "      <td>8</td>\n",
              "    </tr>\n",
              "  </tbody>\n",
              "</table>\n",
              "<p>1149780 rows × 3 columns</p>\n",
              "</div>\n",
              "      <button class=\"colab-df-convert\" onclick=\"convertToInteractive('df-21f6117b-eaaf-4d77-81e9-8c5ecc31d961')\"\n",
              "              title=\"Convert this dataframe to an interactive table.\"\n",
              "              style=\"display:none;\">\n",
              "        \n",
              "  <svg xmlns=\"http://www.w3.org/2000/svg\" height=\"24px\"viewBox=\"0 0 24 24\"\n",
              "       width=\"24px\">\n",
              "    <path d=\"M0 0h24v24H0V0z\" fill=\"none\"/>\n",
              "    <path d=\"M18.56 5.44l.94 2.06.94-2.06 2.06-.94-2.06-.94-.94-2.06-.94 2.06-2.06.94zm-11 1L8.5 8.5l.94-2.06 2.06-.94-2.06-.94L8.5 2.5l-.94 2.06-2.06.94zm10 10l.94 2.06.94-2.06 2.06-.94-2.06-.94-.94-2.06-.94 2.06-2.06.94z\"/><path d=\"M17.41 7.96l-1.37-1.37c-.4-.4-.92-.59-1.43-.59-.52 0-1.04.2-1.43.59L10.3 9.45l-7.72 7.72c-.78.78-.78 2.05 0 2.83L4 21.41c.39.39.9.59 1.41.59.51 0 1.02-.2 1.41-.59l7.78-7.78 2.81-2.81c.8-.78.8-2.07 0-2.86zM5.41 20L4 18.59l7.72-7.72 1.47 1.35L5.41 20z\"/>\n",
              "  </svg>\n",
              "      </button>\n",
              "      \n",
              "  <style>\n",
              "    .colab-df-container {\n",
              "      display:flex;\n",
              "      flex-wrap:wrap;\n",
              "      gap: 12px;\n",
              "    }\n",
              "\n",
              "    .colab-df-convert {\n",
              "      background-color: #E8F0FE;\n",
              "      border: none;\n",
              "      border-radius: 50%;\n",
              "      cursor: pointer;\n",
              "      display: none;\n",
              "      fill: #1967D2;\n",
              "      height: 32px;\n",
              "      padding: 0 0 0 0;\n",
              "      width: 32px;\n",
              "    }\n",
              "\n",
              "    .colab-df-convert:hover {\n",
              "      background-color: #E2EBFA;\n",
              "      box-shadow: 0px 1px 2px rgba(60, 64, 67, 0.3), 0px 1px 3px 1px rgba(60, 64, 67, 0.15);\n",
              "      fill: #174EA6;\n",
              "    }\n",
              "\n",
              "    [theme=dark] .colab-df-convert {\n",
              "      background-color: #3B4455;\n",
              "      fill: #D2E3FC;\n",
              "    }\n",
              "\n",
              "    [theme=dark] .colab-df-convert:hover {\n",
              "      background-color: #434B5C;\n",
              "      box-shadow: 0px 1px 3px 1px rgba(0, 0, 0, 0.15);\n",
              "      filter: drop-shadow(0px 1px 2px rgba(0, 0, 0, 0.3));\n",
              "      fill: #FFFFFF;\n",
              "    }\n",
              "  </style>\n",
              "\n",
              "      <script>\n",
              "        const buttonEl =\n",
              "          document.querySelector('#df-21f6117b-eaaf-4d77-81e9-8c5ecc31d961 button.colab-df-convert');\n",
              "        buttonEl.style.display =\n",
              "          google.colab.kernel.accessAllowed ? 'block' : 'none';\n",
              "\n",
              "        async function convertToInteractive(key) {\n",
              "          const element = document.querySelector('#df-21f6117b-eaaf-4d77-81e9-8c5ecc31d961');\n",
              "          const dataTable =\n",
              "            await google.colab.kernel.invokeFunction('convertToInteractive',\n",
              "                                                     [key], {});\n",
              "          if (!dataTable) return;\n",
              "\n",
              "          const docLinkHtml = 'Like what you see? Visit the ' +\n",
              "            '<a target=\"_blank\" href=https://colab.research.google.com/notebooks/data_table.ipynb>data table notebook</a>'\n",
              "            + ' to learn more about interactive tables.';\n",
              "          element.innerHTML = '';\n",
              "          dataTable['output_type'] = 'display_data';\n",
              "          await google.colab.output.renderOutput(dataTable, element);\n",
              "          const docLink = document.createElement('div');\n",
              "          docLink.innerHTML = docLinkHtml;\n",
              "          element.appendChild(docLink);\n",
              "        }\n",
              "      </script>\n",
              "    </div>\n",
              "  </div>\n",
              "  "
            ]
          },
          "metadata": {},
          "execution_count": 3
        }
      ]
    },
    {
      "cell_type": "code",
      "source": [
        "from pyspark.sql import SparkSession"
      ],
      "metadata": {
        "id": "yPhRhTt1WLtm"
      },
      "execution_count": 4,
      "outputs": []
    },
    {
      "cell_type": "code",
      "source": [
        "spark=SparkSession.builder.appName(\"pratice\").getOrCreate()"
      ],
      "metadata": {
        "id": "GVcR97xhWaAK"
      },
      "execution_count": 5,
      "outputs": []
    },
    {
      "cell_type": "code",
      "source": [
        "spark"
      ],
      "metadata": {
        "colab": {
          "base_uri": "https://localhost:8080/",
          "height": 219
        },
        "id": "B8k1MpW6Wt5l",
        "outputId": "76bd4ac3-b48c-42d8-c28b-26abd96f3e16"
      },
      "execution_count": 6,
      "outputs": [
        {
          "output_type": "execute_result",
          "data": {
            "text/plain": [
              "<pyspark.sql.session.SparkSession at 0x7f2854f14160>"
            ],
            "text/html": [
              "\n",
              "            <div>\n",
              "                <p><b>SparkSession - in-memory</b></p>\n",
              "                \n",
              "        <div>\n",
              "            <p><b>SparkContext</b></p>\n",
              "\n",
              "            <p><a href=\"http://658198c8426e:4040\">Spark UI</a></p>\n",
              "\n",
              "            <dl>\n",
              "              <dt>Version</dt>\n",
              "                <dd><code>v3.3.2</code></dd>\n",
              "              <dt>Master</dt>\n",
              "                <dd><code>local[*]</code></dd>\n",
              "              <dt>AppName</dt>\n",
              "                <dd><code>pratice</code></dd>\n",
              "            </dl>\n",
              "        </div>\n",
              "        \n",
              "            </div>\n",
              "        "
            ]
          },
          "metadata": {},
          "execution_count": 6
        }
      ]
    },
    {
      "cell_type": "code",
      "source": [
        "#read a datset in spark\n",
        "df_pyspark=spark.read.csv(\"/content/drive/MyDrive/Unsupervised Machine Learning Book Recommendation System Project/Ratings.csv\")"
      ],
      "metadata": {
        "id": "oSjXIOuUXXLe"
      },
      "execution_count": 7,
      "outputs": []
    },
    {
      "cell_type": "code",
      "source": [
        "df_pyspark"
      ],
      "metadata": {
        "colab": {
          "base_uri": "https://localhost:8080/"
        },
        "id": "eQOozyGvYlZu",
        "outputId": "f3b344ec-dbc6-4ad7-80ed-e3d43339a10c"
      },
      "execution_count": 8,
      "outputs": [
        {
          "output_type": "execute_result",
          "data": {
            "text/plain": [
              "DataFrame[_c0: string, _c1: string, _c2: string]"
            ]
          },
          "metadata": {},
          "execution_count": 8
        }
      ]
    },
    {
      "cell_type": "code",
      "source": [
        "df_pyspark.show()"
      ],
      "metadata": {
        "colab": {
          "base_uri": "https://localhost:8080/"
        },
        "id": "Ccr5f41eZ42T",
        "outputId": "7c53841a-3c26-44b5-db98-2bb5d5675bc8"
      },
      "execution_count": 9,
      "outputs": [
        {
          "output_type": "stream",
          "name": "stdout",
          "text": [
            "+-------+----------+-----------+\n",
            "|    _c0|       _c1|        _c2|\n",
            "+-------+----------+-----------+\n",
            "|User-ID|      ISBN|Book-Rating|\n",
            "| 276725|034545104X|          0|\n",
            "| 276726|0155061224|          5|\n",
            "| 276727|0446520802|          0|\n",
            "| 276729|052165615X|          3|\n",
            "| 276729|0521795028|          6|\n",
            "| 276733|2080674722|          0|\n",
            "| 276736|3257224281|          8|\n",
            "| 276737|0600570967|          6|\n",
            "| 276744|038550120X|          7|\n",
            "| 276745| 342310538|         10|\n",
            "| 276746|0425115801|          0|\n",
            "| 276746|0449006522|          0|\n",
            "| 276746|0553561618|          0|\n",
            "| 276746|055356451X|          0|\n",
            "| 276746|0786013990|          0|\n",
            "| 276746|0786014512|          0|\n",
            "| 276747|0060517794|          9|\n",
            "| 276747|0451192001|          0|\n",
            "| 276747|0609801279|          0|\n",
            "+-------+----------+-----------+\n",
            "only showing top 20 rows\n",
            "\n"
          ]
        }
      ]
    },
    {
      "cell_type": "code",
      "source": [
        "sp=spark.read.option('header','true').csv(\"/content/drive/MyDrive/Unsupervised Machine Learning Book Recommendation System Project/Ratings.csv\")"
      ],
      "metadata": {
        "id": "lx8ITvOQaS-u"
      },
      "execution_count": 10,
      "outputs": []
    },
    {
      "cell_type": "code",
      "source": [
        "sp"
      ],
      "metadata": {
        "colab": {
          "base_uri": "https://localhost:8080/"
        },
        "id": "yADIYk-ianOo",
        "outputId": "2d5cef4c-8bdf-44aa-93d7-24beecaaf4aa"
      },
      "execution_count": 11,
      "outputs": [
        {
          "output_type": "execute_result",
          "data": {
            "text/plain": [
              "DataFrame[User-ID: string, ISBN: string, Book-Rating: string]"
            ]
          },
          "metadata": {},
          "execution_count": 11
        }
      ]
    },
    {
      "cell_type": "code",
      "source": [
        "sp.show()"
      ],
      "metadata": {
        "colab": {
          "base_uri": "https://localhost:8080/"
        },
        "id": "lacCd2jfao5v",
        "outputId": "9f9950dc-4076-4014-a2e5-71bab351f8cd"
      },
      "execution_count": 12,
      "outputs": [
        {
          "output_type": "stream",
          "name": "stdout",
          "text": [
            "+-------+----------+-----------+\n",
            "|User-ID|      ISBN|Book-Rating|\n",
            "+-------+----------+-----------+\n",
            "| 276725|034545104X|          0|\n",
            "| 276726|0155061224|          5|\n",
            "| 276727|0446520802|          0|\n",
            "| 276729|052165615X|          3|\n",
            "| 276729|0521795028|          6|\n",
            "| 276733|2080674722|          0|\n",
            "| 276736|3257224281|          8|\n",
            "| 276737|0600570967|          6|\n",
            "| 276744|038550120X|          7|\n",
            "| 276745| 342310538|         10|\n",
            "| 276746|0425115801|          0|\n",
            "| 276746|0449006522|          0|\n",
            "| 276746|0553561618|          0|\n",
            "| 276746|055356451X|          0|\n",
            "| 276746|0786013990|          0|\n",
            "| 276746|0786014512|          0|\n",
            "| 276747|0060517794|          9|\n",
            "| 276747|0451192001|          0|\n",
            "| 276747|0609801279|          0|\n",
            "| 276747|0671537458|          9|\n",
            "+-------+----------+-----------+\n",
            "only showing top 20 rows\n",
            "\n"
          ]
        }
      ]
    },
    {
      "cell_type": "code",
      "source": [
        "type(sp)"
      ],
      "metadata": {
        "colab": {
          "base_uri": "https://localhost:8080/"
        },
        "id": "XGh8yVFGazXY",
        "outputId": "eb30db76-f726-4aba-b344-02e2348cb96a"
      },
      "execution_count": 13,
      "outputs": [
        {
          "output_type": "execute_result",
          "data": {
            "text/plain": [
              "pyspark.sql.dataframe.DataFrame"
            ]
          },
          "metadata": {},
          "execution_count": 13
        }
      ]
    },
    {
      "cell_type": "code",
      "source": [
        "sp.head(3)"
      ],
      "metadata": {
        "colab": {
          "base_uri": "https://localhost:8080/"
        },
        "id": "QfUtC8tqbNnM",
        "outputId": "45d917cb-07f2-4f72-da01-ad019150a030"
      },
      "execution_count": 14,
      "outputs": [
        {
          "output_type": "execute_result",
          "data": {
            "text/plain": [
              "[Row(User-ID='276725', ISBN='034545104X', Book-Rating='0'),\n",
              " Row(User-ID='276726', ISBN='0155061224', Book-Rating='5'),\n",
              " Row(User-ID='276727', ISBN='0446520802', Book-Rating='0')]"
            ]
          },
          "metadata": {},
          "execution_count": 14
        }
      ]
    },
    {
      "cell_type": "code",
      "source": [
        "sp.printSchema()"
      ],
      "metadata": {
        "colab": {
          "base_uri": "https://localhost:8080/"
        },
        "id": "f367eDcgbaYz",
        "outputId": "91d24291-182c-4669-bf38-cc50c6649c7b"
      },
      "execution_count": 15,
      "outputs": [
        {
          "output_type": "stream",
          "name": "stdout",
          "text": [
            "root\n",
            " |-- User-ID: string (nullable = true)\n",
            " |-- ISBN: string (nullable = true)\n",
            " |-- Book-Rating: string (nullable = true)\n",
            "\n"
          ]
        }
      ]
    },
    {
      "cell_type": "code",
      "source": [
        "df=spark.read.option('header','true').csv(\"/content/drive/MyDrive/Unsupervised Machine Learning Book Recommendation System Project/Users.csv\")"
      ],
      "metadata": {
        "id": "9u4BIujzA0ui"
      },
      "execution_count": 16,
      "outputs": []
    },
    {
      "cell_type": "code",
      "source": [
        "df.show()"
      ],
      "metadata": {
        "colab": {
          "base_uri": "https://localhost:8080/"
        },
        "id": "pARiLQHaBD-e",
        "outputId": "7eccab42-034a-44d6-89db-77c0ede9fda6"
      },
      "execution_count": 17,
      "outputs": [
        {
          "output_type": "stream",
          "name": "stdout",
          "text": [
            "+-------+--------------------+----+\n",
            "|User-ID|            Location| Age|\n",
            "+-------+--------------------+----+\n",
            "|      1|  nyc, new york, usa|null|\n",
            "|      2|stockton, califor...|18.0|\n",
            "|      3|moscow, yukon ter...|null|\n",
            "|      4|porto, v.n.gaia, ...|17.0|\n",
            "|      5|farnborough, hant...|null|\n",
            "|      6|santa monica, cal...|61.0|\n",
            "|      7| washington, dc, usa|null|\n",
            "|      8|timmins, ontario,...|null|\n",
            "|      9|germantown, tenne...|null|\n",
            "|     10|albacete, wiscons...|26.0|\n",
            "|     11|melbourne, victor...|14.0|\n",
            "|     12|fort bragg, calif...|null|\n",
            "|     13|barcelona, barcel...|26.0|\n",
            "|     14|mediapolis, iowa,...|null|\n",
            "|     15|calgary, alberta,...|null|\n",
            "|     16|albuquerque, new ...|null|\n",
            "|     17|chesapeake, virgi...|null|\n",
            "|     18|rio de janeiro, r...|25.0|\n",
            "|     19|           weston, ,|14.0|\n",
            "|     20|langhorne, pennsy...|19.0|\n",
            "+-------+--------------------+----+\n",
            "only showing top 20 rows\n",
            "\n"
          ]
        }
      ]
    },
    {
      "cell_type": "code",
      "source": [
        "#drop the columns\n",
        "#df.drop('column name')\n",
        "df.na.drop().show()\n"
      ],
      "metadata": {
        "colab": {
          "base_uri": "https://localhost:8080/"
        },
        "id": "kQZqBTRbBrek",
        "outputId": "f35edb53-6e31-4bb5-9441-aa631e257a55"
      },
      "execution_count": 18,
      "outputs": [
        {
          "output_type": "stream",
          "name": "stdout",
          "text": [
            "+-------+--------------------+----+\n",
            "|User-ID|            Location| Age|\n",
            "+-------+--------------------+----+\n",
            "|      2|stockton, califor...|18.0|\n",
            "|      4|porto, v.n.gaia, ...|17.0|\n",
            "|      6|santa monica, cal...|61.0|\n",
            "|     10|albacete, wiscons...|26.0|\n",
            "|     11|melbourne, victor...|14.0|\n",
            "|     13|barcelona, barcel...|26.0|\n",
            "|     18|rio de janeiro, r...|25.0|\n",
            "|     19|           weston, ,|14.0|\n",
            "|     20|langhorne, pennsy...|19.0|\n",
            "|     21|ferrol / spain, a...|46.0|\n",
            "|     24|cologne, nrw, ger...|19.0|\n",
            "|     25|oakland, californ...|55.0|\n",
            "|     27|chicago, illinois...|32.0|\n",
            "|     28|freiburg, baden-w...|24.0|\n",
            "|     29|cuernavaca, alaba...|19.0|\n",
            "|     30|anchorage, alaska...|24.0|\n",
            "|     31|shanghai, n/a, china|20.0|\n",
            "|     33|costa mesa, calif...|34.0|\n",
            "|     35|grafton, wisconsi...|17.0|\n",
            "|     36|montreal, quebec,...|24.0|\n",
            "+-------+--------------------+----+\n",
            "only showing top 20 rows\n",
            "\n"
          ]
        }
      ]
    },
    {
      "cell_type": "code",
      "source": [
        "# how=any\n",
        "#it will delete the row having all the values as null\n",
        "df.na.drop(how='all').show()"
      ],
      "metadata": {
        "colab": {
          "base_uri": "https://localhost:8080/"
        },
        "id": "Cw1KEY8wCo_7",
        "outputId": "3354c4b0-40f7-4256-a8d5-b621b564e756"
      },
      "execution_count": 19,
      "outputs": [
        {
          "output_type": "stream",
          "name": "stdout",
          "text": [
            "+-------+--------------------+----+\n",
            "|User-ID|            Location| Age|\n",
            "+-------+--------------------+----+\n",
            "|      1|  nyc, new york, usa|null|\n",
            "|      2|stockton, califor...|18.0|\n",
            "|      3|moscow, yukon ter...|null|\n",
            "|      4|porto, v.n.gaia, ...|17.0|\n",
            "|      5|farnborough, hant...|null|\n",
            "|      6|santa monica, cal...|61.0|\n",
            "|      7| washington, dc, usa|null|\n",
            "|      8|timmins, ontario,...|null|\n",
            "|      9|germantown, tenne...|null|\n",
            "|     10|albacete, wiscons...|26.0|\n",
            "|     11|melbourne, victor...|14.0|\n",
            "|     12|fort bragg, calif...|null|\n",
            "|     13|barcelona, barcel...|26.0|\n",
            "|     14|mediapolis, iowa,...|null|\n",
            "|     15|calgary, alberta,...|null|\n",
            "|     16|albuquerque, new ...|null|\n",
            "|     17|chesapeake, virgi...|null|\n",
            "|     18|rio de janeiro, r...|25.0|\n",
            "|     19|           weston, ,|14.0|\n",
            "|     20|langhorne, pennsy...|19.0|\n",
            "+-------+--------------------+----+\n",
            "only showing top 20 rows\n",
            "\n"
          ]
        }
      ]
    },
    {
      "cell_type": "code",
      "source": [
        "# thershold=2\n",
        "#atleast 2 non null values should have present in the row then it will show otherwise code will delete that row\n",
        "df.na.drop(how='all',thresh=2).show()"
      ],
      "metadata": {
        "colab": {
          "base_uri": "https://localhost:8080/"
        },
        "id": "aCj_0AxHC_dZ",
        "outputId": "e900ef2d-24e6-4646-91bc-53c79bdcbe0c"
      },
      "execution_count": 20,
      "outputs": [
        {
          "output_type": "stream",
          "name": "stdout",
          "text": [
            "+-------+--------------------+----+\n",
            "|User-ID|            Location| Age|\n",
            "+-------+--------------------+----+\n",
            "|      1|  nyc, new york, usa|null|\n",
            "|      2|stockton, califor...|18.0|\n",
            "|      3|moscow, yukon ter...|null|\n",
            "|      4|porto, v.n.gaia, ...|17.0|\n",
            "|      5|farnborough, hant...|null|\n",
            "|      6|santa monica, cal...|61.0|\n",
            "|      7| washington, dc, usa|null|\n",
            "|      8|timmins, ontario,...|null|\n",
            "|      9|germantown, tenne...|null|\n",
            "|     10|albacete, wiscons...|26.0|\n",
            "|     11|melbourne, victor...|14.0|\n",
            "|     12|fort bragg, calif...|null|\n",
            "|     13|barcelona, barcel...|26.0|\n",
            "|     14|mediapolis, iowa,...|null|\n",
            "|     15|calgary, alberta,...|null|\n",
            "|     16|albuquerque, new ...|null|\n",
            "|     17|chesapeake, virgi...|null|\n",
            "|     18|rio de janeiro, r...|25.0|\n",
            "|     19|           weston, ,|14.0|\n",
            "|     20|langhorne, pennsy...|19.0|\n",
            "+-------+--------------------+----+\n",
            "only showing top 20 rows\n",
            "\n"
          ]
        }
      ]
    },
    {
      "cell_type": "code",
      "source": [
        "#subset\n",
        "#you can choose in which column you want to apply code means if you apply subset=age it will show only non null values of age and theie respective row\n",
        "df.na.drop(how='all',subset=['Age']).show()"
      ],
      "metadata": {
        "colab": {
          "base_uri": "https://localhost:8080/"
        },
        "id": "c7zx3fXVDvkk",
        "outputId": "64339f3f-4526-46b2-c2fb-c99452a47f07"
      },
      "execution_count": 21,
      "outputs": [
        {
          "output_type": "stream",
          "name": "stdout",
          "text": [
            "+-------+--------------------+----+\n",
            "|User-ID|            Location| Age|\n",
            "+-------+--------------------+----+\n",
            "|      2|stockton, califor...|18.0|\n",
            "|      4|porto, v.n.gaia, ...|17.0|\n",
            "|      6|santa monica, cal...|61.0|\n",
            "|     10|albacete, wiscons...|26.0|\n",
            "|     11|melbourne, victor...|14.0|\n",
            "|     13|barcelona, barcel...|26.0|\n",
            "|     18|rio de janeiro, r...|25.0|\n",
            "|     19|           weston, ,|14.0|\n",
            "|     20|langhorne, pennsy...|19.0|\n",
            "|     21|ferrol / spain, a...|46.0|\n",
            "|     24|cologne, nrw, ger...|19.0|\n",
            "|     25|oakland, californ...|55.0|\n",
            "|     27|chicago, illinois...|32.0|\n",
            "|     28|freiburg, baden-w...|24.0|\n",
            "|     29|cuernavaca, alaba...|19.0|\n",
            "|     30|anchorage, alaska...|24.0|\n",
            "|     31|shanghai, n/a, china|20.0|\n",
            "|     33|costa mesa, calif...|34.0|\n",
            "|     35|grafton, wisconsi...|17.0|\n",
            "|     36|montreal, quebec,...|24.0|\n",
            "+-------+--------------------+----+\n",
            "only showing top 20 rows\n",
            "\n"
          ]
        }
      ]
    },
    {
      "cell_type": "code",
      "source": [
        "# filling the missing value\n",
        "df.na.fill('missing value').show()"
      ],
      "metadata": {
        "colab": {
          "base_uri": "https://localhost:8080/"
        },
        "id": "a7-CheoCEtrD",
        "outputId": "898d79bc-b5c2-42d8-bf82-99ae5595c6ac"
      },
      "execution_count": 22,
      "outputs": [
        {
          "output_type": "stream",
          "name": "stdout",
          "text": [
            "+-------+--------------------+-------------+\n",
            "|User-ID|            Location|          Age|\n",
            "+-------+--------------------+-------------+\n",
            "|      1|  nyc, new york, usa|missing value|\n",
            "|      2|stockton, califor...|         18.0|\n",
            "|      3|moscow, yukon ter...|missing value|\n",
            "|      4|porto, v.n.gaia, ...|         17.0|\n",
            "|      5|farnborough, hant...|missing value|\n",
            "|      6|santa monica, cal...|         61.0|\n",
            "|      7| washington, dc, usa|missing value|\n",
            "|      8|timmins, ontario,...|missing value|\n",
            "|      9|germantown, tenne...|missing value|\n",
            "|     10|albacete, wiscons...|         26.0|\n",
            "|     11|melbourne, victor...|         14.0|\n",
            "|     12|fort bragg, calif...|missing value|\n",
            "|     13|barcelona, barcel...|         26.0|\n",
            "|     14|mediapolis, iowa,...|missing value|\n",
            "|     15|calgary, alberta,...|missing value|\n",
            "|     16|albuquerque, new ...|missing value|\n",
            "|     17|chesapeake, virgi...|missing value|\n",
            "|     18|rio de janeiro, r...|         25.0|\n",
            "|     19|           weston, ,|         14.0|\n",
            "|     20|langhorne, pennsy...|         19.0|\n",
            "+-------+--------------------+-------------+\n",
            "only showing top 20 rows\n",
            "\n"
          ]
        }
      ]
    },
    {
      "cell_type": "code",
      "source": [
        "#applying on specified column\n",
        "df.na.fill('missing values','Location').show()"
      ],
      "metadata": {
        "colab": {
          "base_uri": "https://localhost:8080/"
        },
        "id": "eUyWDU3tFAjj",
        "outputId": "7a6e899d-eb93-4444-fbb9-5716098eb12a"
      },
      "execution_count": 23,
      "outputs": [
        {
          "output_type": "stream",
          "name": "stdout",
          "text": [
            "+-------+--------------------+----+\n",
            "|User-ID|            Location| Age|\n",
            "+-------+--------------------+----+\n",
            "|      1|  nyc, new york, usa|null|\n",
            "|      2|stockton, califor...|18.0|\n",
            "|      3|moscow, yukon ter...|null|\n",
            "|      4|porto, v.n.gaia, ...|17.0|\n",
            "|      5|farnborough, hant...|null|\n",
            "|      6|santa monica, cal...|61.0|\n",
            "|      7| washington, dc, usa|null|\n",
            "|      8|timmins, ontario,...|null|\n",
            "|      9|germantown, tenne...|null|\n",
            "|     10|albacete, wiscons...|26.0|\n",
            "|     11|melbourne, victor...|14.0|\n",
            "|     12|fort bragg, calif...|null|\n",
            "|     13|barcelona, barcel...|26.0|\n",
            "|     14|mediapolis, iowa,...|null|\n",
            "|     15|calgary, alberta,...|null|\n",
            "|     16|albuquerque, new ...|null|\n",
            "|     17|chesapeake, virgi...|null|\n",
            "|     18|rio de janeiro, r...|25.0|\n",
            "|     19|           weston, ,|14.0|\n",
            "|     20|langhorne, pennsy...|19.0|\n",
            "+-------+--------------------+----+\n",
            "only showing top 20 rows\n",
            "\n"
          ]
        }
      ]
    },
    {
      "cell_type": "code",
      "source": [
        "#applying 2 and more columns"
      ],
      "metadata": {
        "id": "WVSEXNGQFlwN"
      },
      "execution_count": 24,
      "outputs": []
    },
    {
      "cell_type": "code",
      "source": [
        "df.na.fill('missing values',['Location','Age']).show()"
      ],
      "metadata": {
        "colab": {
          "base_uri": "https://localhost:8080/"
        },
        "id": "MrwmBUHyFYsz",
        "outputId": "d152faba-ee70-44ec-a257-4047102a3099"
      },
      "execution_count": 25,
      "outputs": [
        {
          "output_type": "stream",
          "name": "stdout",
          "text": [
            "+-------+--------------------+--------------+\n",
            "|User-ID|            Location|           Age|\n",
            "+-------+--------------------+--------------+\n",
            "|      1|  nyc, new york, usa|missing values|\n",
            "|      2|stockton, califor...|          18.0|\n",
            "|      3|moscow, yukon ter...|missing values|\n",
            "|      4|porto, v.n.gaia, ...|          17.0|\n",
            "|      5|farnborough, hant...|missing values|\n",
            "|      6|santa monica, cal...|          61.0|\n",
            "|      7| washington, dc, usa|missing values|\n",
            "|      8|timmins, ontario,...|missing values|\n",
            "|      9|germantown, tenne...|missing values|\n",
            "|     10|albacete, wiscons...|          26.0|\n",
            "|     11|melbourne, victor...|          14.0|\n",
            "|     12|fort bragg, calif...|missing values|\n",
            "|     13|barcelona, barcel...|          26.0|\n",
            "|     14|mediapolis, iowa,...|missing values|\n",
            "|     15|calgary, alberta,...|missing values|\n",
            "|     16|albuquerque, new ...|missing values|\n",
            "|     17|chesapeake, virgi...|missing values|\n",
            "|     18|rio de janeiro, r...|          25.0|\n",
            "|     19|           weston, ,|          14.0|\n",
            "|     20|langhorne, pennsy...|          19.0|\n",
            "+-------+--------------------+--------------+\n",
            "only showing top 20 rows\n",
            "\n"
          ]
        }
      ]
    },
    {
      "cell_type": "code",
      "source": [
        "#replacing the null value with mean or median\n",
        "df.show()"
      ],
      "metadata": {
        "colab": {
          "base_uri": "https://localhost:8080/"
        },
        "id": "v6q0_lsXFw-w",
        "outputId": "eb62c63e-bbde-4fce-fd5c-e9d4c9e361d4"
      },
      "execution_count": 26,
      "outputs": [
        {
          "output_type": "stream",
          "name": "stdout",
          "text": [
            "+-------+--------------------+----+\n",
            "|User-ID|            Location| Age|\n",
            "+-------+--------------------+----+\n",
            "|      1|  nyc, new york, usa|null|\n",
            "|      2|stockton, califor...|18.0|\n",
            "|      3|moscow, yukon ter...|null|\n",
            "|      4|porto, v.n.gaia, ...|17.0|\n",
            "|      5|farnborough, hant...|null|\n",
            "|      6|santa monica, cal...|61.0|\n",
            "|      7| washington, dc, usa|null|\n",
            "|      8|timmins, ontario,...|null|\n",
            "|      9|germantown, tenne...|null|\n",
            "|     10|albacete, wiscons...|26.0|\n",
            "|     11|melbourne, victor...|14.0|\n",
            "|     12|fort bragg, calif...|null|\n",
            "|     13|barcelona, barcel...|26.0|\n",
            "|     14|mediapolis, iowa,...|null|\n",
            "|     15|calgary, alberta,...|null|\n",
            "|     16|albuquerque, new ...|null|\n",
            "|     17|chesapeake, virgi...|null|\n",
            "|     18|rio de janeiro, r...|25.0|\n",
            "|     19|           weston, ,|14.0|\n",
            "|     20|langhorne, pennsy...|19.0|\n",
            "+-------+--------------------+----+\n",
            "only showing top 20 rows\n",
            "\n"
          ]
        }
      ]
    },
    {
      "cell_type": "code",
      "source": [
        "df"
      ],
      "metadata": {
        "colab": {
          "base_uri": "https://localhost:8080/"
        },
        "id": "_acZrFo7Jw1e",
        "outputId": "6c582237-cb7c-4e28-e761-4aa12a038783"
      },
      "execution_count": 27,
      "outputs": [
        {
          "output_type": "execute_result",
          "data": {
            "text/plain": [
              "DataFrame[User-ID: string, Location: string, Age: string]"
            ]
          },
          "metadata": {},
          "execution_count": 27
        }
      ]
    },
    {
      "cell_type": "code",
      "source": [
        "from pyspark.sql.functions import col\n"
      ],
      "metadata": {
        "id": "IfQl0xY-KJ9S"
      },
      "execution_count": 28,
      "outputs": []
    },
    {
      "cell_type": "code",
      "source": [
        "# assume your dataframe is called 'df'\n",
        "df = df.withColumn(\"Age\", col(\"Age\").cast(\"integer\"))"
      ],
      "metadata": {
        "id": "VEIpRLXeKN9c"
      },
      "execution_count": 29,
      "outputs": []
    },
    {
      "cell_type": "code",
      "source": [
        "df"
      ],
      "metadata": {
        "colab": {
          "base_uri": "https://localhost:8080/"
        },
        "id": "eYSbxJ80KRkz",
        "outputId": "ce434ec0-c387-42d8-8559-787ee899ae7c"
      },
      "execution_count": 30,
      "outputs": [
        {
          "output_type": "execute_result",
          "data": {
            "text/plain": [
              "DataFrame[User-ID: string, Location: string, Age: int]"
            ]
          },
          "metadata": {},
          "execution_count": 30
        }
      ]
    },
    {
      "cell_type": "code",
      "source": [
        "from pyspark.sql.functions import mean\n",
        "from pyspark.ml.feature import Imputer"
      ],
      "metadata": {
        "id": "y-44ZO_0KTpX"
      },
      "execution_count": 31,
      "outputs": []
    },
    {
      "cell_type": "code",
      "source": [
        "imputer = Imputer(\n",
        "    inputCols=['Age'],\n",
        "    outputCols=['{}_imputed'.format(c) for c in ['Age']]\n",
        ").setStrategy('mean')"
      ],
      "metadata": {
        "id": "FBIXi4EYKatW"
      },
      "execution_count": 32,
      "outputs": []
    },
    {
      "cell_type": "code",
      "source": [
        "imputer.fit(df).transform(df).show()\n"
      ],
      "metadata": {
        "colab": {
          "base_uri": "https://localhost:8080/"
        },
        "id": "MnkwSzL6Ki4V",
        "outputId": "2ffc98df-71fa-4e6b-b017-0a0eee883ad1"
      },
      "execution_count": 33,
      "outputs": [
        {
          "output_type": "stream",
          "name": "stdout",
          "text": [
            "+-------+--------------------+----+-----------+\n",
            "|User-ID|            Location| Age|Age_imputed|\n",
            "+-------+--------------------+----+-----------+\n",
            "|      1|  nyc, new york, usa|null|         34|\n",
            "|      2|stockton, califor...|  18|         18|\n",
            "|      3|moscow, yukon ter...|null|         34|\n",
            "|      4|porto, v.n.gaia, ...|  17|         17|\n",
            "|      5|farnborough, hant...|null|         34|\n",
            "|      6|santa monica, cal...|  61|         61|\n",
            "|      7| washington, dc, usa|null|         34|\n",
            "|      8|timmins, ontario,...|null|         34|\n",
            "|      9|germantown, tenne...|null|         34|\n",
            "|     10|albacete, wiscons...|  26|         26|\n",
            "|     11|melbourne, victor...|  14|         14|\n",
            "|     12|fort bragg, calif...|null|         34|\n",
            "|     13|barcelona, barcel...|  26|         26|\n",
            "|     14|mediapolis, iowa,...|null|         34|\n",
            "|     15|calgary, alberta,...|null|         34|\n",
            "|     16|albuquerque, new ...|null|         34|\n",
            "|     17|chesapeake, virgi...|null|         34|\n",
            "|     18|rio de janeiro, r...|  25|         25|\n",
            "|     19|           weston, ,|  14|         14|\n",
            "|     20|langhorne, pennsy...|  19|         19|\n",
            "+-------+--------------------+----+-----------+\n",
            "only showing top 20 rows\n",
            "\n"
          ]
        }
      ]
    },
    {
      "cell_type": "code",
      "source": [
        "#filter operation\n",
        "#age of the people less than 20\n",
        "df.filter('Age<20').show()"
      ],
      "metadata": {
        "colab": {
          "base_uri": "https://localhost:8080/"
        },
        "id": "oZ1Ey_OJMyFa",
        "outputId": "30abede7-318f-4641-f539-38595397cfbe"
      },
      "execution_count": 34,
      "outputs": [
        {
          "output_type": "stream",
          "name": "stdout",
          "text": [
            "+-------+--------------------+---+\n",
            "|User-ID|            Location|Age|\n",
            "+-------+--------------------+---+\n",
            "|      2|stockton, califor...| 18|\n",
            "|      4|porto, v.n.gaia, ...| 17|\n",
            "|     11|melbourne, victor...| 14|\n",
            "|     19|           weston, ,| 14|\n",
            "|     20|langhorne, pennsy...| 19|\n",
            "|     24|cologne, nrw, ger...| 19|\n",
            "|     29|cuernavaca, alaba...| 19|\n",
            "|     35|grafton, wisconsi...| 17|\n",
            "|     41|santee, californi...| 14|\n",
            "|     42|appleton, wiscons...| 17|\n",
            "|     50|london, england, ...| 17|\n",
            "|     78|oakland, californ...| 18|\n",
            "|     98|pukekohe, aucklan...| 19|\n",
            "|    120|villeneuve d`ascq...| 13|\n",
            "|    185|baton rouge, loui...| 17|\n",
            "|    188|portland, oregon,...| 17|\n",
            "|    204| turner, oregon, usa| 15|\n",
            "|    220|bogota, bogota, c...|  0|\n",
            "|    232|mumbai, maharasht...| 16|\n",
            "|    246|tananger, rogalan...| 16|\n",
            "+-------+--------------------+---+\n",
            "only showing top 20 rows\n",
            "\n"
          ]
        }
      ]
    },
    {
      "cell_type": "code",
      "source": [
        "df.filter('Age<20').select(['Location','User-ID']).show()"
      ],
      "metadata": {
        "colab": {
          "base_uri": "https://localhost:8080/"
        },
        "id": "m3uoBk_fNMVl",
        "outputId": "d6d08672-1917-4ff6-80ce-535413b6bbc6"
      },
      "execution_count": 35,
      "outputs": [
        {
          "output_type": "stream",
          "name": "stdout",
          "text": [
            "+--------------------+-------+\n",
            "|            Location|User-ID|\n",
            "+--------------------+-------+\n",
            "|stockton, califor...|      2|\n",
            "|porto, v.n.gaia, ...|      4|\n",
            "|melbourne, victor...|     11|\n",
            "|           weston, ,|     19|\n",
            "|langhorne, pennsy...|     20|\n",
            "|cologne, nrw, ger...|     24|\n",
            "|cuernavaca, alaba...|     29|\n",
            "|grafton, wisconsi...|     35|\n",
            "|santee, californi...|     41|\n",
            "|appleton, wiscons...|     42|\n",
            "|london, england, ...|     50|\n",
            "|oakland, californ...|     78|\n",
            "|pukekohe, aucklan...|     98|\n",
            "|villeneuve d`ascq...|    120|\n",
            "|baton rouge, loui...|    185|\n",
            "|portland, oregon,...|    188|\n",
            "| turner, oregon, usa|    204|\n",
            "|bogota, bogota, c...|    220|\n",
            "|mumbai, maharasht...|    232|\n",
            "|tananger, rogalan...|    246|\n",
            "+--------------------+-------+\n",
            "only showing top 20 rows\n",
            "\n"
          ]
        }
      ]
    },
    {
      "cell_type": "code",
      "source": [
        "df.filter(df['Age']<30).show()"
      ],
      "metadata": {
        "colab": {
          "base_uri": "https://localhost:8080/"
        },
        "id": "_iwm31r9N51g",
        "outputId": "af05e6e6-3f6e-4044-a751-ebbb0614c85f"
      },
      "execution_count": 36,
      "outputs": [
        {
          "output_type": "stream",
          "name": "stdout",
          "text": [
            "+-------+--------------------+---+\n",
            "|User-ID|            Location|Age|\n",
            "+-------+--------------------+---+\n",
            "|      2|stockton, califor...| 18|\n",
            "|      4|porto, v.n.gaia, ...| 17|\n",
            "|     10|albacete, wiscons...| 26|\n",
            "|     11|melbourne, victor...| 14|\n",
            "|     13|barcelona, barcel...| 26|\n",
            "|     18|rio de janeiro, r...| 25|\n",
            "|     19|           weston, ,| 14|\n",
            "|     20|langhorne, pennsy...| 19|\n",
            "|     24|cologne, nrw, ger...| 19|\n",
            "|     28|freiburg, baden-w...| 24|\n",
            "|     29|cuernavaca, alaba...| 19|\n",
            "|     30|anchorage, alaska...| 24|\n",
            "|     31|shanghai, n/a, china| 20|\n",
            "|     35|grafton, wisconsi...| 17|\n",
            "|     36|montreal, quebec,...| 24|\n",
            "|     37|san sebastian, n/...| 23|\n",
            "|     41|santee, californi...| 14|\n",
            "|     42|appleton, wiscons...| 17|\n",
            "|     47|vicenza, veneto, ...| 21|\n",
            "|     50|london, england, ...| 17|\n",
            "+-------+--------------------+---+\n",
            "only showing top 20 rows\n",
            "\n"
          ]
        }
      ]
    },
    {
      "cell_type": "code",
      "source": [
        "df.filter((df['Age']<13) & (df['Age']>10)).show()"
      ],
      "metadata": {
        "colab": {
          "base_uri": "https://localhost:8080/"
        },
        "id": "p-_bfoYcOQyZ",
        "outputId": "801cfaa7-6e24-4ee5-9ebf-fc16e5c92b30"
      },
      "execution_count": 37,
      "outputs": [
        {
          "output_type": "stream",
          "name": "stdout",
          "text": [
            "+-------+--------------------+---+\n",
            "|User-ID|            Location|Age|\n",
            "+-------+--------------------+---+\n",
            "|   1384| coburg, oregon, usa| 12|\n",
            "|   3554|hackettstown, new...| 11|\n",
            "|   3792|sacramento, calif...| 12|\n",
            "|   3813|lawrencetown, nov...| 12|\n",
            "|   4876|macamic, quebec, ...| 11|\n",
            "|   5427|leicestershire, f...| 11|\n",
            "|   5820|bismarck, north d...| 12|\n",
            "|   6019|forster, new sout...| 12|\n",
            "|   6205|dallas, georgia, usa| 12|\n",
            "|   7072|bismarck, north d...| 11|\n",
            "|   7130|carrboro, north d...| 11|\n",
            "|   7781|alpharetta, georg...| 12|\n",
            "|   8929|araras, brazil, b...| 11|\n",
            "|   9656| houston, texas, usa| 11|\n",
            "|   9889|moorcroft, wyomin...| 12|\n",
            "|  10696|hudson falls, new...| 11|\n",
            "|  10784|sackville, nova s...| 12|\n",
            "|  12162|chicago, illinois...| 12|\n",
            "|  12928|emonton, alberta,...| 11|\n",
            "|  15315|faro, algarve, po...| 11|\n",
            "+-------+--------------------+---+\n",
            "only showing top 20 rows\n",
            "\n"
          ]
        }
      ]
    },
    {
      "cell_type": "code",
      "source": [
        "df.filter((df['Age']<30) | (df['Age']> 40)).show()"
      ],
      "metadata": {
        "colab": {
          "base_uri": "https://localhost:8080/"
        },
        "id": "-K9FTvqbOuZX",
        "outputId": "d72ab57b-254c-4421-8910-2624919efe79"
      },
      "execution_count": 38,
      "outputs": [
        {
          "output_type": "stream",
          "name": "stdout",
          "text": [
            "+-------+--------------------+---+\n",
            "|User-ID|            Location|Age|\n",
            "+-------+--------------------+---+\n",
            "|      2|stockton, califor...| 18|\n",
            "|      4|porto, v.n.gaia, ...| 17|\n",
            "|      6|santa monica, cal...| 61|\n",
            "|     10|albacete, wiscons...| 26|\n",
            "|     11|melbourne, victor...| 14|\n",
            "|     13|barcelona, barcel...| 26|\n",
            "|     18|rio de janeiro, r...| 25|\n",
            "|     19|           weston, ,| 14|\n",
            "|     20|langhorne, pennsy...| 19|\n",
            "|     21|ferrol / spain, a...| 46|\n",
            "|     24|cologne, nrw, ger...| 19|\n",
            "|     25|oakland, californ...| 55|\n",
            "|     28|freiburg, baden-w...| 24|\n",
            "|     29|cuernavaca, alaba...| 19|\n",
            "|     30|anchorage, alaska...| 24|\n",
            "|     31|shanghai, n/a, china| 20|\n",
            "|     35|grafton, wisconsi...| 17|\n",
            "|     36|montreal, quebec,...| 24|\n",
            "|     37|san sebastian, n/...| 23|\n",
            "|     41|santee, californi...| 14|\n",
            "+-------+--------------------+---+\n",
            "only showing top 20 rows\n",
            "\n"
          ]
        }
      ]
    },
    {
      "cell_type": "code",
      "source": [
        "df1=spark.read.csv('/content/drive/MyDrive/Unsupervised Machine Learning Book Recommendation System Project/Ratings.csv',header=True,inferSchema=True)"
      ],
      "metadata": {
        "id": "E6BiK0hQQonk"
      },
      "execution_count": 39,
      "outputs": []
    },
    {
      "cell_type": "code",
      "source": [
        "df1.show()"
      ],
      "metadata": {
        "colab": {
          "base_uri": "https://localhost:8080/"
        },
        "id": "Ft_Isjb-RHWH",
        "outputId": "48a88a8d-bdfc-4edd-e5f7-878808d06ec3"
      },
      "execution_count": 40,
      "outputs": [
        {
          "output_type": "stream",
          "name": "stdout",
          "text": [
            "+-------+----------+-----------+\n",
            "|User-ID|      ISBN|Book-Rating|\n",
            "+-------+----------+-----------+\n",
            "| 276725|034545104X|          0|\n",
            "| 276726|0155061224|          5|\n",
            "| 276727|0446520802|          0|\n",
            "| 276729|052165615X|          3|\n",
            "| 276729|0521795028|          6|\n",
            "| 276733|2080674722|          0|\n",
            "| 276736|3257224281|          8|\n",
            "| 276737|0600570967|          6|\n",
            "| 276744|038550120X|          7|\n",
            "| 276745| 342310538|         10|\n",
            "| 276746|0425115801|          0|\n",
            "| 276746|0449006522|          0|\n",
            "| 276746|0553561618|          0|\n",
            "| 276746|055356451X|          0|\n",
            "| 276746|0786013990|          0|\n",
            "| 276746|0786014512|          0|\n",
            "| 276747|0060517794|          9|\n",
            "| 276747|0451192001|          0|\n",
            "| 276747|0609801279|          0|\n",
            "| 276747|0671537458|          9|\n",
            "+-------+----------+-----------+\n",
            "only showing top 20 rows\n",
            "\n"
          ]
        }
      ]
    },
    {
      "cell_type": "code",
      "source": [
        "df1"
      ],
      "metadata": {
        "colab": {
          "base_uri": "https://localhost:8080/"
        },
        "id": "le85DHI2RQK8",
        "outputId": "3bdf12df-ce54-4fb1-e56f-956814bae79f"
      },
      "execution_count": 41,
      "outputs": [
        {
          "output_type": "execute_result",
          "data": {
            "text/plain": [
              "DataFrame[User-ID: int, ISBN: string, Book-Rating: int]"
            ]
          },
          "metadata": {},
          "execution_count": 41
        }
      ]
    },
    {
      "cell_type": "code",
      "source": [
        "df1.printSchema()"
      ],
      "metadata": {
        "colab": {
          "base_uri": "https://localhost:8080/"
        },
        "id": "6CrSGLjNRWMs",
        "outputId": "a5c00761-be23-41f3-ef4d-f755c3fa5e18"
      },
      "execution_count": 42,
      "outputs": [
        {
          "output_type": "stream",
          "name": "stdout",
          "text": [
            "root\n",
            " |-- User-ID: integer (nullable = true)\n",
            " |-- ISBN: string (nullable = true)\n",
            " |-- Book-Rating: integer (nullable = true)\n",
            "\n"
          ]
        }
      ]
    },
    {
      "cell_type": "code",
      "source": [
        "# group by\n",
        "df1.groupBy('Book-Rating').sum().show()"
      ],
      "metadata": {
        "colab": {
          "base_uri": "https://localhost:8080/"
        },
        "id": "qrsqITc4Rc6M",
        "outputId": "0e345d86-4509-4294-ce5f-1176279a1bfe"
      },
      "execution_count": 43,
      "outputs": [
        {
          "output_type": "stream",
          "name": "stdout",
          "text": [
            "+-----------+------------+----------------+\n",
            "|Book-Rating|sum(User-ID)|sum(Book-Rating)|\n",
            "+-----------+------------+----------------+\n",
            "|          1|   224811345|            1770|\n",
            "|          6|  4987168891|          221544|\n",
            "|          3|   827871414|           17988|\n",
            "|          5|  7032037251|          254870|\n",
            "|          9|  9138718934|          607869|\n",
            "|          4|  1229684772|           35616|\n",
            "|          8| 14046562088|          829888|\n",
            "|          7| 10281355917|          535199|\n",
            "|         10| 10593919352|          786100|\n",
            "|          2|   382398767|            5518|\n",
            "|          0|102668940657|               0|\n",
            "+-----------+------------+----------------+\n",
            "\n"
          ]
        }
      ]
    },
    {
      "cell_type": "code",
      "source": [
        "df2=spark.read.csv('/content/drive/MyDrive/pyspark1.xlsx - Sheet1.csv',header=True,inferSchema=True)\n",
        "df2.show()"
      ],
      "metadata": {
        "colab": {
          "base_uri": "https://localhost:8080/"
        },
        "id": "K_UVKknUTzjS",
        "outputId": "507f5294-270d-4691-d829-f46a0514b8ee"
      },
      "execution_count": 44,
      "outputs": [
        {
          "output_type": "stream",
          "name": "stdout",
          "text": [
            "+-----+------------+------+\n",
            "| NAME|  DEPARTMENT|SALARY|\n",
            "+-----+------------+------+\n",
            "| jaya|data science|  5000|\n",
            "| abhi|        math|  6000|\n",
            "|lishu|     english|  4000|\n",
            "| linu|   data engg|  5000|\n",
            "|mummy|     science|  3000|\n",
            "| papa|     playing|  2000|\n",
            "|nicky|     drawing|  1000|\n",
            "| jemu|     drawing|  1000|\n",
            "| limo|        math|  6000|\n",
            "| anji|   data engg|  5000|\n",
            "| akki|     science|  3000|\n",
            "|lishu|     science|  3000|\n",
            "| linu|     science|  3000|\n",
            "| anji|        math|  6000|\n",
            "| akki|     playing|  2000|\n",
            "| anji|     drawing|  1000|\n",
            "| akki|        math|  6000|\n",
            "|lishu|data science|  5000|\n",
            "| linu|        null|  null|\n",
            "+-----+------------+------+\n",
            "\n"
          ]
        }
      ]
    },
    {
      "cell_type": "code",
      "source": [
        "# GROUP TO FIND MAXIMUM SALARY\n",
        "df2.groupBy('NAME').sum().show()"
      ],
      "metadata": {
        "colab": {
          "base_uri": "https://localhost:8080/"
        },
        "id": "-ZzvaojXUg4L",
        "outputId": "f48d4d02-fd77-4267-bc0d-1f8c2acb71a4"
      },
      "execution_count": 45,
      "outputs": [
        {
          "output_type": "stream",
          "name": "stdout",
          "text": [
            "+-----+-----------+\n",
            "| NAME|sum(SALARY)|\n",
            "+-----+-----------+\n",
            "| papa|       2000|\n",
            "| jemu|       1000|\n",
            "|mummy|       3000|\n",
            "| akki|      11000|\n",
            "| abhi|       6000|\n",
            "| jaya|       5000|\n",
            "| linu|       8000|\n",
            "|lishu|      12000|\n",
            "| limo|       6000|\n",
            "|nicky|       1000|\n",
            "| anji|      12000|\n",
            "+-----+-----------+\n",
            "\n"
          ]
        }
      ]
    },
    {
      "cell_type": "code",
      "source": [
        "df2.groupBy('DEPARTMENT').sum().show()"
      ],
      "metadata": {
        "colab": {
          "base_uri": "https://localhost:8080/"
        },
        "id": "IA8c9TGSVmE1",
        "outputId": "db2c0e96-e677-4f39-8074-7d0ac25b2fbb"
      },
      "execution_count": 46,
      "outputs": [
        {
          "output_type": "stream",
          "name": "stdout",
          "text": [
            "+------------+-----------+\n",
            "|  DEPARTMENT|sum(SALARY)|\n",
            "+------------+-----------+\n",
            "|     drawing|       3000|\n",
            "|        null|       null|\n",
            "|data science|      10000|\n",
            "|     playing|       4000|\n",
            "|   data engg|      10000|\n",
            "|     science|      12000|\n",
            "|     english|       4000|\n",
            "|        math|      24000|\n",
            "+------------+-----------+\n",
            "\n"
          ]
        }
      ]
    },
    {
      "cell_type": "code",
      "source": [
        "from pyspark.sql.functions import desc"
      ],
      "metadata": {
        "id": "req2ttyevWJI"
      },
      "execution_count": 49,
      "outputs": []
    },
    {
      "cell_type": "code",
      "source": [
        "df2.groupBy('DEPARTMENT').sum('SALARY').orderBy(desc('sum(SALARY)')).show()"
      ],
      "metadata": {
        "colab": {
          "base_uri": "https://localhost:8080/"
        },
        "id": "Qns2wz6nWZTI",
        "outputId": "763ffeab-4916-4788-d370-2fc19081f927"
      },
      "execution_count": 50,
      "outputs": [
        {
          "output_type": "stream",
          "name": "stdout",
          "text": [
            "+------------+-----------+\n",
            "|  DEPARTMENT|sum(SALARY)|\n",
            "+------------+-----------+\n",
            "|        math|      24000|\n",
            "|     science|      12000|\n",
            "|data science|      10000|\n",
            "|   data engg|      10000|\n",
            "|     playing|       4000|\n",
            "|     english|       4000|\n",
            "|     drawing|       3000|\n",
            "|        null|       null|\n",
            "+------------+-----------+\n",
            "\n"
          ]
        }
      ]
    },
    {
      "cell_type": "code",
      "source": [
        "df2.groupBy('DEPARTMENT').sum('SALARY') \\\n",
        "   .orderBy(desc('sum(SALARY)')) \\\n",
        "   .show()"
      ],
      "metadata": {
        "colab": {
          "base_uri": "https://localhost:8080/"
        },
        "id": "ks0PJMDaWnf5",
        "outputId": "3be62b74-1b98-4334-8900-da0708102f18"
      },
      "execution_count": 51,
      "outputs": [
        {
          "output_type": "stream",
          "name": "stdout",
          "text": [
            "+------------+-----------+\n",
            "|  DEPARTMENT|sum(SALARY)|\n",
            "+------------+-----------+\n",
            "|        math|      24000|\n",
            "|     science|      12000|\n",
            "|data science|      10000|\n",
            "|   data engg|      10000|\n",
            "|     playing|       4000|\n",
            "|     english|       4000|\n",
            "|     drawing|       3000|\n",
            "|        null|       null|\n",
            "+------------+-----------+\n",
            "\n"
          ]
        }
      ]
    },
    {
      "cell_type": "code",
      "source": [
        "df2.groupBy('DEPARTMENT').mean('SALARY').orderBy(desc('avg(SALARY)')).show()"
      ],
      "metadata": {
        "colab": {
          "base_uri": "https://localhost:8080/"
        },
        "id": "3yhS1Bw8YCr-",
        "outputId": "331fc89b-94f3-4e91-f7aa-72d9ef5f9bc0"
      },
      "execution_count": 52,
      "outputs": [
        {
          "output_type": "stream",
          "name": "stdout",
          "text": [
            "+------------+-----------+\n",
            "|  DEPARTMENT|avg(SALARY)|\n",
            "+------------+-----------+\n",
            "|        math|     6000.0|\n",
            "|data science|     5000.0|\n",
            "|   data engg|     5000.0|\n",
            "|     english|     4000.0|\n",
            "|     science|     3000.0|\n",
            "|     playing|     2000.0|\n",
            "|     drawing|     1000.0|\n",
            "|        null|       null|\n",
            "+------------+-----------+\n",
            "\n"
          ]
        }
      ]
    },
    {
      "cell_type": "code",
      "source": [
        "df2.groupBy('DEPARTMENT').count().show()"
      ],
      "metadata": {
        "colab": {
          "base_uri": "https://localhost:8080/"
        },
        "id": "xkoFZPldYLIT",
        "outputId": "e75b88ef-dde5-45eb-d368-162df4faa22e"
      },
      "execution_count": 53,
      "outputs": [
        {
          "output_type": "stream",
          "name": "stdout",
          "text": [
            "+------------+-----+\n",
            "|  DEPARTMENT|count|\n",
            "+------------+-----+\n",
            "|     drawing|    3|\n",
            "|        null|    1|\n",
            "|data science|    2|\n",
            "|     playing|    2|\n",
            "|   data engg|    2|\n",
            "|     science|    4|\n",
            "|     english|    1|\n",
            "|        math|    4|\n",
            "+------------+-----+\n",
            "\n"
          ]
        }
      ]
    },
    {
      "cell_type": "code",
      "source": [
        "df2.groupBy('DEPARTMENT').count().orderBy(desc('count')).show()"
      ],
      "metadata": {
        "colab": {
          "base_uri": "https://localhost:8080/"
        },
        "id": "01caChBMZLpG",
        "outputId": "32216109-b62c-42b2-bf6c-6fea189f7a31"
      },
      "execution_count": 54,
      "outputs": [
        {
          "output_type": "stream",
          "name": "stdout",
          "text": [
            "+------------+-----+\n",
            "|  DEPARTMENT|count|\n",
            "+------------+-----+\n",
            "|     science|    4|\n",
            "|        math|    4|\n",
            "|     drawing|    3|\n",
            "|data science|    2|\n",
            "|     playing|    2|\n",
            "|   data engg|    2|\n",
            "|        null|    1|\n",
            "|     english|    1|\n",
            "+------------+-----+\n",
            "\n"
          ]
        }
      ]
    },
    {
      "cell_type": "code",
      "source": [
        "df2.agg({'SALARY':'sum'}).show()"
      ],
      "metadata": {
        "colab": {
          "base_uri": "https://localhost:8080/"
        },
        "id": "hGVfrgTUZacb",
        "outputId": "cef18514-96b0-4e07-863e-f555f2b92887"
      },
      "execution_count": 55,
      "outputs": [
        {
          "output_type": "stream",
          "name": "stdout",
          "text": [
            "+-----------+\n",
            "|sum(SALARY)|\n",
            "+-----------+\n",
            "|      67000|\n",
            "+-----------+\n",
            "\n"
          ]
        }
      ]
    },
    {
      "cell_type": "code",
      "source": [
        "df2.groupBy('NAME').max().show()"
      ],
      "metadata": {
        "colab": {
          "base_uri": "https://localhost:8080/"
        },
        "id": "RS01QF0nZwhC",
        "outputId": "82504d57-d015-4a10-cd35-8c89efefb6e2"
      },
      "execution_count": 56,
      "outputs": [
        {
          "output_type": "stream",
          "name": "stdout",
          "text": [
            "+-----+-----------+\n",
            "| NAME|max(SALARY)|\n",
            "+-----+-----------+\n",
            "| papa|       2000|\n",
            "| jemu|       1000|\n",
            "|mummy|       3000|\n",
            "| akki|       6000|\n",
            "| abhi|       6000|\n",
            "| jaya|       5000|\n",
            "| linu|       5000|\n",
            "|lishu|       5000|\n",
            "| limo|       6000|\n",
            "|nicky|       1000|\n",
            "| anji|       6000|\n",
            "+-----+-----------+\n",
            "\n"
          ]
        }
      ]
    },
    {
      "cell_type": "code",
      "source": [
        "training=spark.read.csv('/content/drive/MyDrive/Book1.xlsx - Sheet1.csv',header=True,inferSchema=True)"
      ],
      "metadata": {
        "id": "15z3QaUJb1Ed"
      },
      "execution_count": 57,
      "outputs": []
    },
    {
      "cell_type": "code",
      "source": [
        "training.printSchema()"
      ],
      "metadata": {
        "colab": {
          "base_uri": "https://localhost:8080/"
        },
        "id": "Lo_wLhmLcHLL",
        "outputId": "cab5dc4f-d9a6-493a-c66c-30501635eeae"
      },
      "execution_count": 58,
      "outputs": [
        {
          "output_type": "stream",
          "name": "stdout",
          "text": [
            "root\n",
            " |-- NAME: string (nullable = true)\n",
            " |-- AGE: integer (nullable = true)\n",
            " |-- EXPERIENCE: integer (nullable = true)\n",
            " |-- SALARY: integer (nullable = true)\n",
            "\n"
          ]
        }
      ]
    },
    {
      "cell_type": "code",
      "source": [
        "training.columns"
      ],
      "metadata": {
        "colab": {
          "base_uri": "https://localhost:8080/"
        },
        "id": "sU3RNVNqctM7",
        "outputId": "40bc8ce1-8a2c-4c09-b3ba-6695a4daf9cb"
      },
      "execution_count": 59,
      "outputs": [
        {
          "output_type": "execute_result",
          "data": {
            "text/plain": [
              "['NAME', 'AGE', 'EXPERIENCE', 'SALARY']"
            ]
          },
          "metadata": {},
          "execution_count": 59
        }
      ]
    },
    {
      "cell_type": "code",
      "source": [
        "training.show()"
      ],
      "metadata": {
        "colab": {
          "base_uri": "https://localhost:8080/"
        },
        "id": "bL_oap1TcJsG",
        "outputId": "bab33522-9c2f-4dc5-bcb7-bd73c019b51c"
      },
      "execution_count": 60,
      "outputs": [
        {
          "output_type": "stream",
          "name": "stdout",
          "text": [
            "+------+---+----------+------+\n",
            "|  NAME|AGE|EXPERIENCE|SALARY|\n",
            "+------+---+----------+------+\n",
            "| Krish| 31|        10| 30000|\n",
            "| Sudha| 30|         8| 25000|\n",
            "| Sunny| 29|         4| 20000|\n",
            "|  Paul| 24|         3| 20000|\n",
            "| Harsh| 21|         1| 15000|\n",
            "|Subham| 23|         2| 18000|\n",
            "+------+---+----------+------+\n",
            "\n"
          ]
        }
      ]
    },
    {
      "cell_type": "code",
      "source": [
        "from pyspark.ml.feature import VectorAssembler"
      ],
      "metadata": {
        "id": "-2ryKbsQdTlA"
      },
      "execution_count": 61,
      "outputs": []
    },
    {
      "cell_type": "code",
      "source": [
        "featureassembler = VectorAssembler(inputCols=['AGE', 'EXPERIENCE'], outputCol='Independent Features')"
      ],
      "metadata": {
        "id": "1fknkpoPeeMo"
      },
      "execution_count": 62,
      "outputs": []
    },
    {
      "cell_type": "code",
      "source": [
        "output=featureassembler.transform(training)"
      ],
      "metadata": {
        "id": "0s2aTdqrekcd"
      },
      "execution_count": 63,
      "outputs": []
    },
    {
      "cell_type": "code",
      "source": [
        "output.show()"
      ],
      "metadata": {
        "colab": {
          "base_uri": "https://localhost:8080/"
        },
        "id": "Ph61Q0FTerr1",
        "outputId": "3325f963-ce90-4bf1-c987-f21d05aacded"
      },
      "execution_count": 64,
      "outputs": [
        {
          "output_type": "stream",
          "name": "stdout",
          "text": [
            "+------+---+----------+------+--------------------+\n",
            "|  NAME|AGE|EXPERIENCE|SALARY|Independent Features|\n",
            "+------+---+----------+------+--------------------+\n",
            "| Krish| 31|        10| 30000|         [31.0,10.0]|\n",
            "| Sudha| 30|         8| 25000|          [30.0,8.0]|\n",
            "| Sunny| 29|         4| 20000|          [29.0,4.0]|\n",
            "|  Paul| 24|         3| 20000|          [24.0,3.0]|\n",
            "| Harsh| 21|         1| 15000|          [21.0,1.0]|\n",
            "|Subham| 23|         2| 18000|          [23.0,2.0]|\n",
            "+------+---+----------+------+--------------------+\n",
            "\n"
          ]
        }
      ]
    },
    {
      "cell_type": "code",
      "source": [
        "output.columns"
      ],
      "metadata": {
        "colab": {
          "base_uri": "https://localhost:8080/"
        },
        "id": "Dcr40XDKezAG",
        "outputId": "68bee74b-8157-4058-c488-8951e96f80d9"
      },
      "execution_count": 65,
      "outputs": [
        {
          "output_type": "execute_result",
          "data": {
            "text/plain": [
              "['NAME', 'AGE', 'EXPERIENCE', 'SALARY', 'Independent Features']"
            ]
          },
          "metadata": {},
          "execution_count": 65
        }
      ]
    },
    {
      "cell_type": "code",
      "source": [
        "final_data=output.select('Independent Features','SALARY')"
      ],
      "metadata": {
        "id": "mN9xnZrAe7c2"
      },
      "execution_count": 66,
      "outputs": []
    },
    {
      "cell_type": "code",
      "source": [
        "final_data.show()"
      ],
      "metadata": {
        "colab": {
          "base_uri": "https://localhost:8080/"
        },
        "id": "o3EtUg6LfK2w",
        "outputId": "45c7ab4a-fa45-4ec3-d9ca-847ae1241d82"
      },
      "execution_count": 67,
      "outputs": [
        {
          "output_type": "stream",
          "name": "stdout",
          "text": [
            "+--------------------+------+\n",
            "|Independent Features|SALARY|\n",
            "+--------------------+------+\n",
            "|         [31.0,10.0]| 30000|\n",
            "|          [30.0,8.0]| 25000|\n",
            "|          [29.0,4.0]| 20000|\n",
            "|          [24.0,3.0]| 20000|\n",
            "|          [21.0,1.0]| 15000|\n",
            "|          [23.0,2.0]| 18000|\n",
            "+--------------------+------+\n",
            "\n"
          ]
        }
      ]
    },
    {
      "cell_type": "code",
      "source": [
        "from pyspark.ml.regression import LinearRegression"
      ],
      "metadata": {
        "id": "9ChlC7Hhfj-U"
      },
      "execution_count": 68,
      "outputs": []
    },
    {
      "cell_type": "code",
      "source": [
        "train_data,test_data=final_data.randomSplit([0.70,0.30])"
      ],
      "metadata": {
        "id": "aca2pdvEgKJl"
      },
      "execution_count": 85,
      "outputs": []
    },
    {
      "cell_type": "code",
      "source": [
        "train_data.show()"
      ],
      "metadata": {
        "colab": {
          "base_uri": "https://localhost:8080/"
        },
        "id": "BjdSmr7ui7vI",
        "outputId": "d129abdb-15b1-4b0f-b0bd-3e9ea67e54b5"
      },
      "execution_count": 86,
      "outputs": [
        {
          "output_type": "stream",
          "name": "stdout",
          "text": [
            "+--------------------+------+\n",
            "|Independent Features|SALARY|\n",
            "+--------------------+------+\n",
            "|          [21.0,1.0]| 15000|\n",
            "|          [23.0,2.0]| 18000|\n",
            "|          [29.0,4.0]| 20000|\n",
            "|         [31.0,10.0]| 30000|\n",
            "+--------------------+------+\n",
            "\n"
          ]
        }
      ]
    },
    {
      "cell_type": "code",
      "source": [
        "test_data.show()"
      ],
      "metadata": {
        "colab": {
          "base_uri": "https://localhost:8080/"
        },
        "id": "XnfOi8lEjCT1",
        "outputId": "be6328f2-d9eb-4ad2-cb22-2b8a2f39bae1"
      },
      "execution_count": 87,
      "outputs": [
        {
          "output_type": "stream",
          "name": "stdout",
          "text": [
            "+--------------------+------+\n",
            "|Independent Features|SALARY|\n",
            "+--------------------+------+\n",
            "|          [24.0,3.0]| 20000|\n",
            "|          [30.0,8.0]| 25000|\n",
            "+--------------------+------+\n",
            "\n"
          ]
        }
      ]
    },
    {
      "cell_type": "code",
      "source": [
        "regressor= LinearRegression(featuresCol='Independent Features', labelCol='SALARY')"
      ],
      "metadata": {
        "id": "-TzL42sPgZKq"
      },
      "execution_count": 88,
      "outputs": []
    },
    {
      "cell_type": "code",
      "source": [
        "regressor=regressor.fit(train_data)"
      ],
      "metadata": {
        "id": "dFPjrO7Ng72A"
      },
      "execution_count": 89,
      "outputs": []
    },
    {
      "cell_type": "code",
      "source": [
        "regressor.coefficients"
      ],
      "metadata": {
        "colab": {
          "base_uri": "https://localhost:8080/"
        },
        "id": "3IVZ_0LMhCxK",
        "outputId": "a2430d2b-2d04-470e-9532-3a9bf9889901"
      },
      "execution_count": 90,
      "outputs": [
        {
          "output_type": "execute_result",
          "data": {
            "text/plain": [
              "DenseVector([-58.8235, 1666.6667])"
            ]
          },
          "metadata": {},
          "execution_count": 90
        }
      ]
    },
    {
      "cell_type": "code",
      "source": [
        "regressor.intercept"
      ],
      "metadata": {
        "colab": {
          "base_uri": "https://localhost:8080/"
        },
        "id": "dA3XSASUhQde",
        "outputId": "7b4b9432-8bb2-4283-857a-58c32bb76a33"
      },
      "execution_count": 91,
      "outputs": [
        {
          "output_type": "execute_result",
          "data": {
            "text/plain": [
              "15196.078431372438"
            ]
          },
          "metadata": {},
          "execution_count": 91
        }
      ]
    },
    {
      "cell_type": "code",
      "source": [
        "pred_res = regressor.evaluate(test_data)"
      ],
      "metadata": {
        "id": "hyENQm-7h83_"
      },
      "execution_count": 92,
      "outputs": []
    },
    {
      "cell_type": "code",
      "source": [
        "pred_res.predictions.show()"
      ],
      "metadata": {
        "colab": {
          "base_uri": "https://localhost:8080/"
        },
        "id": "ZScXtDdtjYJC",
        "outputId": "00ba264b-49b5-4105-e166-314f2892ef93"
      },
      "execution_count": 93,
      "outputs": [
        {
          "output_type": "stream",
          "name": "stdout",
          "text": [
            "+--------------------+------+------------------+\n",
            "|Independent Features|SALARY|        prediction|\n",
            "+--------------------+------+------------------+\n",
            "|          [24.0,3.0]| 20000|18784.313725490196|\n",
            "|          [30.0,8.0]| 25000|26764.705882352937|\n",
            "+--------------------+------+------------------+\n",
            "\n"
          ]
        }
      ]
    }
  ]
}