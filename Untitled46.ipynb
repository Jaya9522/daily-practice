{
  "nbformat": 4,
  "nbformat_minor": 0,
  "metadata": {
    "colab": {
      "provenance": [],
      "authorship_tag": "ABX9TyOnqKFBH0BvCgA7VmrYkaA6",
      "include_colab_link": true
    },
    "kernelspec": {
      "name": "python3",
      "display_name": "Python 3"
    },
    "language_info": {
      "name": "python"
    }
  },
  "cells": [
    {
      "cell_type": "markdown",
      "metadata": {
        "id": "view-in-github",
        "colab_type": "text"
      },
      "source": [
        "<a href=\"https://colab.research.google.com/github/Jaya9522/daily-practice/blob/main/Untitled46.ipynb\" target=\"_parent\"><img src=\"https://colab.research.google.com/assets/colab-badge.svg\" alt=\"Open In Colab\"/></a>"
      ]
    },
    {
      "cell_type": "code",
      "execution_count": null,
      "metadata": {
        "id": "HBcE6_H5fUkc"
      },
      "outputs": [],
      "source": [
        "string=\"almabetter\"\n",
        "dictt={}\n",
        "uni_set=set(string)\n",
        "for i in uni_set:\n",
        "    dictt[i]=string.count(i)"
      ]
    },
    {
      "cell_type": "code",
      "source": [
        "uni_set=set(string)"
      ],
      "metadata": {
        "id": "qTHLd3EmhALf"
      },
      "execution_count": null,
      "outputs": []
    },
    {
      "cell_type": "code",
      "source": [
        "uni_set"
      ],
      "metadata": {
        "colab": {
          "base_uri": "https://localhost:8080/"
        },
        "id": "fE6mQNfohLiF",
        "outputId": "53db2478-e4ca-4409-e1f4-3bb02c5a5418"
      },
      "execution_count": null,
      "outputs": [
        {
          "output_type": "execute_result",
          "data": {
            "text/plain": [
              "{'a', 'b', 'e', 'l', 'm', 'r', 't'}"
            ]
          },
          "metadata": {},
          "execution_count": 14
        }
      ]
    },
    {
      "cell_type": "code",
      "source": [
        "dictt"
      ],
      "metadata": {
        "colab": {
          "base_uri": "https://localhost:8080/"
        },
        "id": "vzHSKUH7gF5C",
        "outputId": "77c343c4-384e-4b7f-a2ed-9bf1fa6511a0"
      },
      "execution_count": null,
      "outputs": [
        {
          "output_type": "execute_result",
          "data": {
            "text/plain": [
              "{'b': 1, 'm': 1, 'l': 1, 'e': 2, 'r': 1, 'a': 2, 't': 2}"
            ]
          },
          "metadata": {},
          "execution_count": 17
        }
      ]
    },
    {
      "cell_type": "code",
      "source": [
        "import pandas as pd"
      ],
      "metadata": {
        "id": "tVW9Euzagg5H"
      },
      "execution_count": null,
      "outputs": []
    },
    {
      "cell_type": "code",
      "source": [
        "data = {'title': ['The Shawshank Redemption', 'The Godfather', 'The Dark Knight'], 'json_col': ['{\"year\": 1994, \"director\": \"Frank Darabont\"}', '{\"year\": 1972, \"director\": \"Francis Ford Coppola\"}', '{\"year\": 2008, \"director\": \"Christopher Nolan\"}']}"
      ],
      "metadata": {
        "id": "-y-meAjagjwb"
      },
      "execution_count": null,
      "outputs": []
    },
    {
      "cell_type": "code",
      "source": [
        "df = pd.DataFrame(data)"
      ],
      "metadata": {
        "id": "jj80fD_tgors"
      },
      "execution_count": null,
      "outputs": []
    },
    {
      "cell_type": "code",
      "source": [
        "df"
      ],
      "metadata": {
        "colab": {
          "base_uri": "https://localhost:8080/",
          "height": 143
        },
        "id": "xcAqpb1Mgvtp",
        "outputId": "ded9f3ed-1dc0-4140-cd37-7d85c3db9a75"
      },
      "execution_count": null,
      "outputs": [
        {
          "output_type": "execute_result",
          "data": {
            "text/plain": [
              "                      title                                           json_col\n",
              "0  The Shawshank Redemption       {\"year\": 1994, \"director\": \"Frank Darabont\"}\n",
              "1             The Godfather  {\"year\": 1972, \"director\": \"Francis Ford Coppo...\n",
              "2           The Dark Knight    {\"year\": 2008, \"director\": \"Christopher Nolan\"}"
            ],
            "text/html": [
              "\n",
              "  <div id=\"df-cce05e8f-deaf-4ef2-a330-5ba3273c7a03\">\n",
              "    <div class=\"colab-df-container\">\n",
              "      <div>\n",
              "<style scoped>\n",
              "    .dataframe tbody tr th:only-of-type {\n",
              "        vertical-align: middle;\n",
              "    }\n",
              "\n",
              "    .dataframe tbody tr th {\n",
              "        vertical-align: top;\n",
              "    }\n",
              "\n",
              "    .dataframe thead th {\n",
              "        text-align: right;\n",
              "    }\n",
              "</style>\n",
              "<table border=\"1\" class=\"dataframe\">\n",
              "  <thead>\n",
              "    <tr style=\"text-align: right;\">\n",
              "      <th></th>\n",
              "      <th>title</th>\n",
              "      <th>json_col</th>\n",
              "    </tr>\n",
              "  </thead>\n",
              "  <tbody>\n",
              "    <tr>\n",
              "      <th>0</th>\n",
              "      <td>The Shawshank Redemption</td>\n",
              "      <td>{\"year\": 1994, \"director\": \"Frank Darabont\"}</td>\n",
              "    </tr>\n",
              "    <tr>\n",
              "      <th>1</th>\n",
              "      <td>The Godfather</td>\n",
              "      <td>{\"year\": 1972, \"director\": \"Francis Ford Coppo...</td>\n",
              "    </tr>\n",
              "    <tr>\n",
              "      <th>2</th>\n",
              "      <td>The Dark Knight</td>\n",
              "      <td>{\"year\": 2008, \"director\": \"Christopher Nolan\"}</td>\n",
              "    </tr>\n",
              "  </tbody>\n",
              "</table>\n",
              "</div>\n",
              "      <button class=\"colab-df-convert\" onclick=\"convertToInteractive('df-cce05e8f-deaf-4ef2-a330-5ba3273c7a03')\"\n",
              "              title=\"Convert this dataframe to an interactive table.\"\n",
              "              style=\"display:none;\">\n",
              "        \n",
              "  <svg xmlns=\"http://www.w3.org/2000/svg\" height=\"24px\"viewBox=\"0 0 24 24\"\n",
              "       width=\"24px\">\n",
              "    <path d=\"M0 0h24v24H0V0z\" fill=\"none\"/>\n",
              "    <path d=\"M18.56 5.44l.94 2.06.94-2.06 2.06-.94-2.06-.94-.94-2.06-.94 2.06-2.06.94zm-11 1L8.5 8.5l.94-2.06 2.06-.94-2.06-.94L8.5 2.5l-.94 2.06-2.06.94zm10 10l.94 2.06.94-2.06 2.06-.94-2.06-.94-.94-2.06-.94 2.06-2.06.94z\"/><path d=\"M17.41 7.96l-1.37-1.37c-.4-.4-.92-.59-1.43-.59-.52 0-1.04.2-1.43.59L10.3 9.45l-7.72 7.72c-.78.78-.78 2.05 0 2.83L4 21.41c.39.39.9.59 1.41.59.51 0 1.02-.2 1.41-.59l7.78-7.78 2.81-2.81c.8-.78.8-2.07 0-2.86zM5.41 20L4 18.59l7.72-7.72 1.47 1.35L5.41 20z\"/>\n",
              "  </svg>\n",
              "      </button>\n",
              "      \n",
              "  <style>\n",
              "    .colab-df-container {\n",
              "      display:flex;\n",
              "      flex-wrap:wrap;\n",
              "      gap: 12px;\n",
              "    }\n",
              "\n",
              "    .colab-df-convert {\n",
              "      background-color: #E8F0FE;\n",
              "      border: none;\n",
              "      border-radius: 50%;\n",
              "      cursor: pointer;\n",
              "      display: none;\n",
              "      fill: #1967D2;\n",
              "      height: 32px;\n",
              "      padding: 0 0 0 0;\n",
              "      width: 32px;\n",
              "    }\n",
              "\n",
              "    .colab-df-convert:hover {\n",
              "      background-color: #E2EBFA;\n",
              "      box-shadow: 0px 1px 2px rgba(60, 64, 67, 0.3), 0px 1px 3px 1px rgba(60, 64, 67, 0.15);\n",
              "      fill: #174EA6;\n",
              "    }\n",
              "\n",
              "    [theme=dark] .colab-df-convert {\n",
              "      background-color: #3B4455;\n",
              "      fill: #D2E3FC;\n",
              "    }\n",
              "\n",
              "    [theme=dark] .colab-df-convert:hover {\n",
              "      background-color: #434B5C;\n",
              "      box-shadow: 0px 1px 3px 1px rgba(0, 0, 0, 0.15);\n",
              "      filter: drop-shadow(0px 1px 2px rgba(0, 0, 0, 0.3));\n",
              "      fill: #FFFFFF;\n",
              "    }\n",
              "  </style>\n",
              "\n",
              "      <script>\n",
              "        const buttonEl =\n",
              "          document.querySelector('#df-cce05e8f-deaf-4ef2-a330-5ba3273c7a03 button.colab-df-convert');\n",
              "        buttonEl.style.display =\n",
              "          google.colab.kernel.accessAllowed ? 'block' : 'none';\n",
              "\n",
              "        async function convertToInteractive(key) {\n",
              "          const element = document.querySelector('#df-cce05e8f-deaf-4ef2-a330-5ba3273c7a03');\n",
              "          const dataTable =\n",
              "            await google.colab.kernel.invokeFunction('convertToInteractive',\n",
              "                                                     [key], {});\n",
              "          if (!dataTable) return;\n",
              "\n",
              "          const docLinkHtml = 'Like what you see? Visit the ' +\n",
              "            '<a target=\"_blank\" href=https://colab.research.google.com/notebooks/data_table.ipynb>data table notebook</a>'\n",
              "            + ' to learn more about interactive tables.';\n",
              "          element.innerHTML = '';\n",
              "          dataTable['output_type'] = 'display_data';\n",
              "          await google.colab.output.renderOutput(dataTable, element);\n",
              "          const docLink = document.createElement('div');\n",
              "          docLink.innerHTML = docLinkHtml;\n",
              "          element.appendChild(docLink);\n",
              "        }\n",
              "      </script>\n",
              "    </div>\n",
              "  </div>\n",
              "  "
            ]
          },
          "metadata": {},
          "execution_count": 4
        }
      ]
    },
    {
      "cell_type": "code",
      "source": [
        "eval(df['json_col'][0])['year']"
      ],
      "metadata": {
        "colab": {
          "base_uri": "https://localhost:8080/"
        },
        "id": "su5d_vZHhbSh",
        "outputId": "68a6e4b3-3b83-4727-cb79-ba5b52bec7dc"
      },
      "execution_count": null,
      "outputs": [
        {
          "output_type": "execute_result",
          "data": {
            "text/plain": [
              "1994"
            ]
          },
          "metadata": {},
          "execution_count": 12
        }
      ]
    },
    {
      "cell_type": "code",
      "source": [
        "# Define a string representing a Python expression\n",
        "expr = '2 + 3 * 4'"
      ],
      "metadata": {
        "id": "R06etHdTiR5f"
      },
      "execution_count": null,
      "outputs": []
    },
    {
      "cell_type": "code",
      "source": [
        "result=eval(expr)"
      ],
      "metadata": {
        "id": "xaAuxPFbiTCE"
      },
      "execution_count": null,
      "outputs": []
    },
    {
      "cell_type": "code",
      "source": [
        "result"
      ],
      "metadata": {
        "id": "CokY3mwZiW3x",
        "outputId": "6e0be4da-c705-4231-b1f3-9f07f5ec74af",
        "colab": {
          "base_uri": "https://localhost:8080/",
          "height": 36
        }
      },
      "execution_count": null,
      "outputs": [
        {
          "output_type": "execute_result",
          "data": {
            "text/plain": [
              "'2 + 3 * 4'"
            ],
            "application/vnd.google.colaboratory.intrinsic+json": {
              "type": "string"
            }
          },
          "metadata": {},
          "execution_count": 15
        }
      ]
    },
    {
      "cell_type": "code",
      "source": [
        "ggg={'name': 'xyz', 'age': 27, 'salary': 50000}"
      ],
      "metadata": {
        "id": "IQZnmCRJhl3e"
      },
      "execution_count": 2,
      "outputs": []
    },
    {
      "cell_type": "code",
      "source": [
        "ggg['manager']='abc'"
      ],
      "metadata": {
        "id": "tv3v9vKUiGcf"
      },
      "execution_count": 3,
      "outputs": []
    },
    {
      "cell_type": "code",
      "source": [
        "ggg"
      ],
      "metadata": {
        "colab": {
          "base_uri": "https://localhost:8080/"
        },
        "id": "Oc9FQdk1iR2u",
        "outputId": "0b7ec6ba-9958-4c50-931c-4ce49bf1cd10"
      },
      "execution_count": 4,
      "outputs": [
        {
          "output_type": "execute_result",
          "data": {
            "text/plain": [
              "{'name': 'xyz', 'age': 27, 'salary': 50000, 'manager': 'abc'}"
            ]
          },
          "metadata": {},
          "execution_count": 4
        }
      ]
    },
    {
      "cell_type": "code",
      "source": [
        "human_age = int(input())\n",
        "if human_age <= 2:\n",
        "    dog_age = human_age * 10.5\n",
        "else:\n",
        "    dog_age = 21 + (human_age - 2) * 4\n",
        "print(\"The dog's age in dog's years is,\", dog_age)"
      ],
      "metadata": {
        "colab": {
          "base_uri": "https://localhost:8080/"
        },
        "id": "6tvLdgxQq8yZ",
        "outputId": "a1ab30a7-aca5-460c-9092-47378d15977f"
      },
      "execution_count": 6,
      "outputs": [
        {
          "output_type": "stream",
          "name": "stdout",
          "text": [
            "15\n",
            "The dog's age in dog's years is, 73\n"
          ]
        }
      ]
    },
    {
      "cell_type": "code",
      "source": [
        "4.5**7"
      ],
      "metadata": {
        "colab": {
          "base_uri": "https://localhost:8080/"
        },
        "id": "52zSalaTq-e8",
        "outputId": "60906ed8-4e5b-4a80-be1b-900006ad9d13"
      },
      "execution_count": 7,
      "outputs": [
        {
          "output_type": "execute_result",
          "data": {
            "text/plain": [
              "37366.9453125"
            ]
          },
          "metadata": {},
          "execution_count": 7
        }
      ]
    },
    {
      "cell_type": "code",
      "source": [
        "(1.035**7)*10000"
      ],
      "metadata": {
        "colab": {
          "base_uri": "https://localhost:8080/"
        },
        "id": "dNIQp2pgvPww",
        "outputId": "4b305e02-1c88-4ddd-8fa7-c01c918220b0"
      },
      "execution_count": 11,
      "outputs": [
        {
          "output_type": "execute_result",
          "data": {
            "text/plain": [
              "12722.792627665729"
            ]
          },
          "metadata": {},
          "execution_count": 11
        }
      ]
    },
    {
      "cell_type": "code",
      "source": [
        "lst= eval(input())\n",
        "rounded_list = [round(num) for num in num_list]"
      ],
      "metadata": {
        "colab": {
          "base_uri": "https://localhost:8080/",
          "height": 200
        },
        "id": "gZTlAdt6x7O-",
        "outputId": "169ec8c6-272c-4887-ab8e-1e3d6dbffa3f"
      },
      "execution_count": 18,
      "outputs": [
        {
          "name": "stdout",
          "output_type": "stream",
          "text": [
            "[22.4, 4.0, -16.22, -9.10, 11.00, -12.22, 14.20, -5.20, 17.50]\n"
          ]
        },
        {
          "output_type": "error",
          "ename": "TypeError",
          "evalue": "ignored",
          "traceback": [
            "\u001b[0;31m---------------------------------------------------------------------------\u001b[0m",
            "\u001b[0;31mTypeError\u001b[0m                                 Traceback (most recent call last)",
            "\u001b[0;32m<ipython-input-18-d3d347b0a077>\u001b[0m in \u001b[0;36m<module>\u001b[0;34m\u001b[0m\n\u001b[1;32m      1\u001b[0m \u001b[0mlst\u001b[0m\u001b[0;34m=\u001b[0m \u001b[0meval\u001b[0m\u001b[0;34m(\u001b[0m\u001b[0minput\u001b[0m\u001b[0;34m(\u001b[0m\u001b[0;34m)\u001b[0m\u001b[0;34m)\u001b[0m\u001b[0;34m\u001b[0m\u001b[0;34m\u001b[0m\u001b[0m\n\u001b[0;32m----> 2\u001b[0;31m \u001b[0mlst2\u001b[0m\u001b[0;34m=\u001b[0m\u001b[0mround\u001b[0m\u001b[0;34m(\u001b[0m\u001b[0mlst\u001b[0m\u001b[0;34m)\u001b[0m\u001b[0;34m\u001b[0m\u001b[0;34m\u001b[0m\u001b[0m\n\u001b[0m",
            "\u001b[0;31mTypeError\u001b[0m: type list doesn't define __round__ method"
          ]
        }
      ]
    },
    {
      "cell_type": "code",
      "source": [
        "lenn=len(lst)"
      ],
      "metadata": {
        "id": "do_-kjfOx-fH"
      },
      "execution_count": 13,
      "outputs": []
    },
    {
      "cell_type": "code",
      "source": [
        "lenn"
      ],
      "metadata": {
        "colab": {
          "base_uri": "https://localhost:8080/"
        },
        "id": "hQj74Cy1yDCk",
        "outputId": "4a00f6cf-9e65-4c88-b4bc-39c7b80b73e5"
      },
      "execution_count": 14,
      "outputs": [
        {
          "output_type": "execute_result",
          "data": {
            "text/plain": [
              "9"
            ]
          },
          "metadata": {},
          "execution_count": 14
        }
      ]
    },
    {
      "cell_type": "code",
      "source": [
        "p=sum(lst)"
      ],
      "metadata": {
        "id": "pbSFbXrtyEAG"
      },
      "execution_count": 15,
      "outputs": []
    },
    {
      "cell_type": "code",
      "source": [
        "p"
      ],
      "metadata": {
        "colab": {
          "base_uri": "https://localhost:8080/"
        },
        "id": "jJWYI68AyIjl",
        "outputId": "f7ca8394-9b7d-40a9-a3bc-dfeb295e19e6"
      },
      "execution_count": 16,
      "outputs": [
        {
          "output_type": "execute_result",
          "data": {
            "text/plain": [
              "26.36"
            ]
          },
          "metadata": {},
          "execution_count": 16
        }
      ]
    },
    {
      "cell_type": "code",
      "source": [
        "p*9"
      ],
      "metadata": {
        "colab": {
          "base_uri": "https://localhost:8080/"
        },
        "id": "8XdfIRC5yJJA",
        "outputId": "78c42f19-5078-459f-b08a-9fd948984650"
      },
      "execution_count": 17,
      "outputs": [
        {
          "output_type": "execute_result",
          "data": {
            "text/plain": [
              "237.24"
            ]
          },
          "metadata": {},
          "execution_count": 17
        }
      ]
    },
    {
      "cell_type": "code",
      "source": [
        "lst= eval(input())\n",
        "rounded_list = [round(num) for num in lst]\n",
        "lenn=len(lst)\n",
        "p=sum(rounded_list)\n",
        "q=p*lenn\n",
        "print(q)"
      ],
      "metadata": {
        "colab": {
          "base_uri": "https://localhost:8080/"
        },
        "id": "FqgXcOezzHKG",
        "outputId": "79a9ac7e-13eb-4055-cc84-690e486f702e"
      },
      "execution_count": 19,
      "outputs": [
        {
          "output_type": "stream",
          "name": "stdout",
          "text": [
            "[22.4, 4.0, -16.22, -9.10, 11.00, -12.22, 14.20, -5.20, 17.50]\n",
            "243\n"
          ]
        }
      ]
    },
    {
      "cell_type": "code",
      "source": [
        "string=str(input())\n",
        "first_char=string[0]\n",
        "output_str=first_char + string[1:].replace(first_char, $)\n",
        "print(output_str)"
      ],
      "metadata": {
        "id": "RiR-o-SCzKih"
      },
      "execution_count": null,
      "outputs": []
    },
    {
      "cell_type": "code",
      "source": [
        "a=int(input())\n",
        "for i in range (a):\n",
        "    for j in range (i)"
      ],
      "metadata": {
        "id": "RYWbmLoC1nS5"
      },
      "execution_count": null,
      "outputs": []
    },
    {
      "cell_type": "code",
      "source": [
        "def perfect_number(n):\n",
        "    sm = 0\n",
        "    for i in range(1, n):\n",
        "        if n % i == 0:\n",
        "            sm += i\n",
        "    return sm == n\n",
        "n = int(input())\n",
        "print(perfect_number(n))"
      ],
      "metadata": {
        "colab": {
          "base_uri": "https://localhost:8080/"
        },
        "id": "ulMHUo-92w0J",
        "outputId": "c101ef09-d4f0-4271-9684-17fea40930ea"
      },
      "execution_count": 20,
      "outputs": [
        {
          "output_type": "stream",
          "name": "stdout",
          "text": [
            "6\n",
            "True\n"
          ]
        }
      ]
    },
    {
      "cell_type": "code",
      "source": [
        "def is_key_present(dct, val):\n",
        "  if val in dct:\n",
        "      print('Key is present in the dictionary')\n",
        "  else:\n",
        "      print('Key is not present in the dictionary')\n",
        "        \n",
        "d = dict(eval(input()))\n",
        "val = int(input())\n",
        "is_key_present(d, val)"
      ],
      "metadata": {
        "colab": {
          "base_uri": "https://localhost:8080/"
        },
        "id": "l_ochiXh20dr",
        "outputId": "60567d92-27c4-44be-ebbe-50284fd37d44"
      },
      "execution_count": 21,
      "outputs": [
        {
          "output_type": "stream",
          "name": "stdout",
          "text": [
            "{1: 10, 2: 20, 3: 30, 4: 40, 5: 50, 6: 60}\n",
            "9\n",
            "Key is not present in the dictionary\n"
          ]
        }
      ]
    },
    {
      "cell_type": "code",
      "source": [
        "a=str(input())\n",
        "b=set(a)\n",
        "if a==b:\n",
        "    print(True)\n",
        "else:\n",
        "    print(False)    "
      ],
      "metadata": {
        "colab": {
          "base_uri": "https://localhost:8080/"
        },
        "id": "IfsMaYd83_SH",
        "outputId": "5ec1a3f8-683c-4a2d-a473-a82c4b429867"
      },
      "execution_count": 24,
      "outputs": [
        {
          "output_type": "stream",
          "name": "stdout",
          "text": [
            "rock mountain hill peak\n",
            "False\n"
          ]
        }
      ]
    },
    {
      "cell_type": "code",
      "source": [
        "def value_check(set1, value):\n",
        "    return (value in set1)\n",
        "    \n",
        "sn = set(input().split(' '))\n",
        "val = input()\n",
        "print(value_check(sn, val))"
      ],
      "metadata": {
        "colab": {
          "base_uri": "https://localhost:8080/"
        },
        "id": "rbVUFOVZ4hqM",
        "outputId": "8642e68c-2351-4bda-db43-ca47ee2263c5"
      },
      "execution_count": 25,
      "outputs": [
        {
          "output_type": "stream",
          "name": "stdout",
          "text": [
            "rock mountain hill peak\n",
            "hill\n",
            "True\n"
          ]
        }
      ]
    },
    {
      "cell_type": "code",
      "source": [
        "a=int(input())\n",
        "for i in range(1,a+4):\n",
        "    print\n"
      ],
      "metadata": {
        "id": "Dry7clQN5GA0"
      },
      "execution_count": 25,
      "outputs": []
    },
    {
      "cell_type": "code",
      "source": [
        "def pattern(n):\n",
        "    for i in range(1,n+1):\n",
        "        print(str(i)*i)\n",
        "        \n",
        "n = int(input())\n",
        "pattern(n)\n"
      ],
      "metadata": {
        "colab": {
          "base_uri": "https://localhost:8080/"
        },
        "id": "NiAGlIDa6Bsh",
        "outputId": "504aaf71-4879-4982-d24f-8ff133c49274"
      },
      "execution_count": 28,
      "outputs": [
        {
          "output_type": "stream",
          "name": "stdout",
          "text": [
            "4\n",
            "1\n",
            "22\n",
            "333\n",
            "4444\n"
          ]
        }
      ]
    },
    {
      "cell_type": "code",
      "source": [
        "# your code goes here\n",
        "h_ft = int(input())\n",
        "h_inch = int(input())\n",
        "h_inch += h_ft * 12\n",
        "h_cm = round(h_inch * 2.54, 1)\n",
        "print(h_cm)"
      ],
      "metadata": {
        "id": "sEgWZNTh7Yio"
      },
      "execution_count": null,
      "outputs": []
    },
    {
      "cell_type": "code",
      "source": [
        "a=int(input())\n",
        "d=int(input())\n",
        "b=a*30.48\n",
        "c=d*2.54\n",
        "print(round(b+c), 1)"
      ],
      "metadata": {
        "colab": {
          "base_uri": "https://localhost:8080/"
        },
        "id": "1xDk_8NG6FSs",
        "outputId": "4e669880-ffd9-41c0-8ebf-5dd38b5042ea"
      },
      "execution_count": 32,
      "outputs": [
        {
          "output_type": "stream",
          "name": "stdout",
          "text": [
            "5\n",
            "3\n",
            "160 1\n"
          ]
        }
      ]
    },
    {
      "cell_type": "code",
      "source": [
        "a=tuple(input().split(\",\"))\n",
        "sting=\"\".join(a)\n",
        "print(sting)"
      ],
      "metadata": {
        "colab": {
          "base_uri": "https://localhost:8080/"
        },
        "id": "e8KJLQDK7JUA",
        "outputId": "ac6ae284-7e79-414d-dcc8-5408ef19ee00"
      },
      "execution_count": 37,
      "outputs": [
        {
          "output_type": "stream",
          "name": "stdout",
          "text": [
            "e,x,e,r,c,i,s,e\n",
            "exercise\n"
          ]
        }
      ]
    },
    {
      "cell_type": "code",
      "source": [
        "def tuple_string(tup):\n",
        "    string = ''.join(tup)\n",
        "    return string\n",
        "\n",
        "tup = tuple(input().split(','))\n",
        "print(tuple_string(tup))"
      ],
      "metadata": {
        "colab": {
          "base_uri": "https://localhost:8080/"
        },
        "id": "d8lCBaHJ-Eiy",
        "outputId": "57fb6f54-ac93-4cda-a064-9ffe0ef7a85f"
      },
      "execution_count": 34,
      "outputs": [
        {
          "output_type": "stream",
          "name": "stdout",
          "text": [
            "e,x,e,r,c,i,s,e\n",
            "exercise\n"
          ]
        }
      ]
    },
    {
      "cell_type": "code",
      "source": [
        "a=input().split('@')\n",
        "b=len(a[0])\n",
        "c=len(a[1])\n",
        "print(\"Letters\" ,b ,'Digits' ,c)"
      ],
      "metadata": {
        "colab": {
          "base_uri": "https://localhost:8080/"
        },
        "id": "_qfTm5VS-UTr",
        "outputId": "c2d61077-1d0a-4e57-b480-4187e5dcb94a"
      },
      "execution_count": 43,
      "outputs": [
        {
          "output_type": "stream",
          "name": "stdout",
          "text": [
            "program@2022\n",
            "Letters 7 Digits 4\n"
          ]
        }
      ]
    },
    {
      "cell_type": "code",
      "source": [
        "def calcu(a):\n",
        "    b=a.split('@')\n",
        "    c=len(b[0])\n",
        "    d=len(b[1])\n",
        "    return (\"letters\" ,c, \"digits\", d)\n",
        "\n",
        "a=input()\n",
        "print(*calcu(a))"
      ],
      "metadata": {
        "colab": {
          "base_uri": "https://localhost:8080/"
        },
        "id": "wArkAFIFARnA",
        "outputId": "bb3beef9-085e-40a5-a146-413e643866fd"
      },
      "execution_count": 51,
      "outputs": [
        {
          "output_type": "stream",
          "name": "stdout",
          "text": [
            "program@2022\n",
            "letters 7 digits 4\n"
          ]
        }
      ]
    },
    {
      "cell_type": "code",
      "source": [
        "y=(1,2,3,4)\n",
        "print(*y)"
      ],
      "metadata": {
        "colab": {
          "base_uri": "https://localhost:8080/"
        },
        "id": "mVUYwpVPCamB",
        "outputId": "b1ca8c85-0606-4817-bafd-38fd65d4a42a"
      },
      "execution_count": 53,
      "outputs": [
        {
          "output_type": "stream",
          "name": "stdout",
          "text": [
            "1 2 3 4\n"
          ]
        }
      ]
    },
    {
      "cell_type": "code",
      "source": [
        "listt = eval(input())\n",
        "even_lis = []\n",
        "odd_lis = []\n",
        "\n",
        "for i in listt:\n",
        "    if i % 2 == 0:\n",
        "        even_lis.append(i)\n",
        "    else:\n",
        "        odd_lis.append(i)\n",
        "\n",
        "print('Number of even numbers:', len(even_lis), 'Number of odd numbers:', len(odd_lis))\n"
      ],
      "metadata": {
        "colab": {
          "base_uri": "https://localhost:8080/"
        },
        "id": "lY8gTzp6FqLM",
        "outputId": "062d8a9a-01ae-4f6e-8f66-4ad7c044e244"
      },
      "execution_count": 55,
      "outputs": [
        {
          "output_type": "stream",
          "name": "stdout",
          "text": [
            "[1, 2, 3, 4, 5, 6, 7, 8, 9]\n",
            "Number of even numbers: 4 Number of odd numbers: 5\n"
          ]
        }
      ]
    },
    {
      "cell_type": "code",
      "source": [
        "\n",
        "listt=eval(input())\n",
        "even_lis=[]\n",
        "odd_lis=[]\n",
        "for i in listt:\n",
        "    if i%2==0:\n",
        "        even_lis.append(i)\n",
        "    else:\n",
        "        odd_lis.append(i)\n",
        "print('Number of even numbers :' ,len(even_lis), 'Number of odd numbers :' ,len(odd_lis))            \n",
        "\n",
        "\n"
      ],
      "metadata": {
        "colab": {
          "base_uri": "https://localhost:8080/"
        },
        "id": "ZcF1S3W6ELx6",
        "outputId": "42f6a4a7-e1e3-49e9-f9b3-9017135bd25a"
      },
      "execution_count": 57,
      "outputs": [
        {
          "output_type": "stream",
          "name": "stdout",
          "text": [
            "[1, 2, 3, 4, 5, 6, 7, 8, 9]\n",
            "Number of even numbers : 4 Number of odd numbers : 5\n"
          ]
        }
      ]
    },
    {
      "cell_type": "code",
      "source": [
        "string=input()\n",
        "uni_str=set(string)\n",
        "dictt={}\n",
        "for i in uni_str:\n",
        "    dictt[i]=string.count(i)\n",
        "print(dictt)    \n",
        "\n",
        "\n"
      ],
      "metadata": {
        "colab": {
          "base_uri": "https://localhost:8080/"
        },
        "id": "qhUiPGzbF0gU",
        "outputId": "c566b84d-7ca4-44ec-a577-52cdb63c5f66"
      },
      "execution_count": 59,
      "outputs": [
        {
          "output_type": "stream",
          "name": "stdout",
          "text": [
            "AlmaBetter\n",
            "{'e': 2, 'B': 1, 't': 2, 'a': 1, 'A': 1, 'm': 1, 'l': 1, 'r': 1}\n"
          ]
        }
      ]
    },
    {
      "cell_type": "code",
      "source": [
        "string = input(\"Enter a string: \")\n",
        "\n",
        "freq = {}\n",
        "for char in string:\n",
        "    if char in freq:\n",
        "        freq[char] += 1\n",
        "    else:\n",
        "        freq[char] = 1\n",
        "\n",
        "print(freq)\n"
      ],
      "metadata": {
        "colab": {
          "base_uri": "https://localhost:8080/"
        },
        "id": "NVzddpijG0mL",
        "outputId": "0db4838d-47ed-4a72-f6a0-370e0bca85d8"
      },
      "execution_count": 60,
      "outputs": [
        {
          "output_type": "stream",
          "name": "stdout",
          "text": [
            "Enter a string: AlmaBetter\n",
            "{'A': 1, 'l': 1, 'm': 1, 'a': 1, 'B': 1, 'e': 2, 't': 2, 'r': 1}\n"
          ]
        }
      ]
    },
    {
      "cell_type": "code",
      "source": [
        "lst=eval(input())\n",
        "lstt=[]\n",
        "for i in lst:\n",
        "    if len(i) >= 2 and i[0]==i[-1]:\n",
        "        lstt.append(i)\n",
        "print(len(lstt))        "
      ],
      "metadata": {
        "colab": {
          "base_uri": "https://localhost:8080/"
        },
        "id": "qSQH9Qh_HeYh",
        "outputId": "42a12661-f632-4edf-a4ad-b99d0d38cea4"
      },
      "execution_count": 62,
      "outputs": [
        {
          "output_type": "stream",
          "name": "stdout",
          "text": [
            "['abc', 'xyz', 'aba', '1221']\n",
            "2\n"
          ]
        }
      ]
    },
    {
      "cell_type": "code",
      "source": [
        "string=input()\n",
        "words=string.split()\n",
        "dictt={}\n",
        "for i in words:\n",
        "    if i in dictt:\n",
        "     dictt[i] += 1\n",
        "    else:\n",
        "        dictt[i]=1\n",
        "print(dictt)    "
      ],
      "metadata": {
        "colab": {
          "base_uri": "https://localhost:8080/"
        },
        "id": "lZoivMWTJlFo",
        "outputId": "1b0d145b-94f0-434e-d99d-b8b7cf8acbc3"
      },
      "execution_count": 77,
      "outputs": [
        {
          "output_type": "stream",
          "name": "stdout",
          "text": [
            " the quick brown fox jumps over the lazy dog\n",
            "{'the': 2, 'quick': 1, 'brown': 1, 'fox': 1, 'jumps': 1, 'over': 1, 'lazy': 1, 'dog': 1}\n"
          ]
        }
      ]
    },
    {
      "cell_type": "code",
      "source": [
        "string = input()\n",
        "\n",
        "words = string.split()\n",
        "freq = {}\n",
        "\n",
        "for word in words:\n",
        "    if word in freq:\n",
        "        freq[word] += 1\n",
        "    else:\n",
        "        freq[word] = 1\n",
        "\n",
        "print(freq)\n"
      ],
      "metadata": {
        "colab": {
          "base_uri": "https://localhost:8080/"
        },
        "id": "asFKXsdILNZF",
        "outputId": "1030c7f4-1fc0-4b9c-9a7b-31eb9ec7622c"
      },
      "execution_count": 75,
      "outputs": [
        {
          "output_type": "stream",
          "name": "stdout",
          "text": [
            " the quick brown fox jumps over the lazy dog\n",
            "{'the': 2, 'quick': 1, 'brown': 1, 'fox': 1, 'jumps': 1, 'over': 1, 'lazy': 1, 'dog': 1}\n"
          ]
        }
      ]
    },
    {
      "cell_type": "code",
      "source": [
        "listt=input().split(',')\n",
        "new_list=[]\n",
        "for i in listt:\n",
        "    if i not in new_list:\n",
        "        new_list.append(i)\n",
        "    else:\n",
        "        pass\n",
        "print(*new_list)            \n"
      ],
      "metadata": {
        "colab": {
          "base_uri": "https://localhost:8080/"
        },
        "id": "VpLuBDN5NMw3",
        "outputId": "a7436f94-6090-469f-e398-60d0ef4412ff"
      },
      "execution_count": 85,
      "outputs": [
        {
          "output_type": "stream",
          "name": "stdout",
          "text": [
            "[1,2,3,3,3,3,4,5]\n",
            "[1 2 3 4 5]\n"
          ]
        }
      ]
    },
    {
      "cell_type": "code",
      "source": [
        "num=int(input())\n",
        "listtt={}\n",
        "for i in range(1,num+1):\n",
        "     listtt[i]=i**2\n",
        "\n",
        "print(listtt)    \n"
      ],
      "metadata": {
        "colab": {
          "base_uri": "https://localhost:8080/"
        },
        "id": "90ZkykvNQ4xR",
        "outputId": "9626e844-aa37-4a12-c7dd-65b18ef3a356"
      },
      "execution_count": 92,
      "outputs": [
        {
          "output_type": "stream",
          "name": "stdout",
          "text": [
            "4\n",
            "{1: 1, 2: 4, 3: 9, 4: 16}\n"
          ]
        }
      ]
    },
    {
      "cell_type": "code",
      "source": [
        "def zodiac(year):\n",
        "    if (year - 2000) % 12 == 0:\n",
        "        sign = 'Dragon'\n",
        "    elif (year - 2000) % 12 == 1:\n",
        "        sign = 'Snake'\n",
        "    elif (year - 2000) % 12 == 2:\n",
        "        sign = 'Horse'\n",
        "    elif (year - 2000) % 12 == 3:\n",
        "        sign = 'sheep'\n",
        "    elif (year - 2000) % 12 == 4:\n",
        "        sign = 'Monkey'\n",
        "    elif (year - 2000) % 12 == 5:\n",
        "        sign = 'Rooster'\n",
        "    elif (year - 2000) % 12 == 6:\n",
        "        sign = 'Dog'\n",
        "    elif (year - 2000) % 12 == 7:\n",
        "        sign = 'Pig'\n",
        "    elif (year - 2000) % 12 == 8:\n",
        "        sign = 'Rat'\n",
        "    elif (year - 2000) % 12 == 9:\n",
        "        sign = 'Ox'\n",
        "    elif (year - 2000) % 12 == 10:\n",
        "        sign = 'Tiger'\n",
        "    else:\n",
        "        sign = 'Hare'\n",
        "\n",
        "    return (\"Your Zodiac sign :\",sign)\n",
        "\n",
        "year = int(input())\n",
        "print(zodiac(year))"
      ],
      "metadata": {
        "colab": {
          "base_uri": "https://localhost:8080/"
        },
        "id": "uSTCzbXFUWy6",
        "outputId": "c7b002c2-1b9d-4fc7-9224-af33d0d63e9b"
      },
      "execution_count": 93,
      "outputs": [
        {
          "output_type": "stream",
          "name": "stdout",
          "text": [
            "2022\n",
            "('Your Zodiac sign :', 'Tiger')\n"
          ]
        }
      ]
    },
    {
      "cell_type": "code",
      "source": [],
      "metadata": {
        "id": "80JR-RpjWeoH"
      },
      "execution_count": null,
      "outputs": []
    }
  ]
}