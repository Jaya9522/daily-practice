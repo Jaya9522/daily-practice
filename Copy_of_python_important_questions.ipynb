{
  "nbformat": 4,
  "nbformat_minor": 0,
  "metadata": {
    "colab": {
      "provenance": [],
      "authorship_tag": "ABX9TyNBhVu6skWEo36iVncyMjYQ",
      "include_colab_link": true
    },
    "kernelspec": {
      "name": "python3",
      "display_name": "Python 3"
    },
    "language_info": {
      "name": "python"
    }
  },
  "cells": [
    {
      "cell_type": "markdown",
      "metadata": {
        "id": "view-in-github",
        "colab_type": "text"
      },
      "source": [
        "<a href=\"https://colab.research.google.com/github/Jaya9522/daily-practice/blob/main/Copy_of_python_important_questions.ipynb\" target=\"_parent\"><img src=\"https://colab.research.google.com/assets/colab-badge.svg\" alt=\"Open In Colab\"/></a>"
      ]
    },
    {
      "cell_type": "markdown",
      "source": [
        "Question-1\n",
        "\n",
        "Write a python code to find the prome numbers between 40 t0 80 ?"
      ],
      "metadata": {
        "id": "-EGb0uA2fjkt"
      }
    },
    {
      "cell_type": "code",
      "execution_count": null,
      "metadata": {
        "colab": {
          "base_uri": "https://localhost:8080/"
        },
        "id": "tYSUhDhMfXww",
        "outputId": "f537d245-9458-427c-ef6d-29c01b2897c2"
      },
      "outputs": [
        {
          "output_type": "stream",
          "name": "stdout",
          "text": [
            "41,43,47,53,59,61,67,71,73,79,"
          ]
        }
      ],
      "source": [
        "start=40\n",
        "end=80\n",
        "for i in range(start,end+1):\n",
        "    for j in range(2,i):\n",
        "        if(i%j)==0:\n",
        "            break\n",
        "    else:\n",
        "        print(i,end=\",\")     "
      ]
    },
    {
      "cell_type": "markdown",
      "source": [
        "Question-2\n",
        "\n",
        "Python program to check if year is a leap year or not ?"
      ],
      "metadata": {
        "id": "L3-gd5puhBbj"
      }
    },
    {
      "cell_type": "code",
      "source": [
        "year=2013\n",
        "if (year % 400 == 0) and (year % 100 == 0):\n",
        "    print(\"{0} is a leap year\".format(year))\n",
        "elif (year % 4 ==0) and (year % 100 != 0):\n",
        "    print(\"{0} is a leap year\".format(year))\n",
        "else:\n",
        "    print(\"{0} is not a leap year\".format(year))"
      ],
      "metadata": {
        "colab": {
          "base_uri": "https://localhost:8080/"
        },
        "id": "5hK4u_XvhI1P",
        "outputId": "d6b3973e-70c9-46bf-c2c4-533f92968a61"
      },
      "execution_count": null,
      "outputs": [
        {
          "output_type": "stream",
          "name": "stdout",
          "text": [
            "2013 is not a leap year\n"
          ]
        }
      ]
    },
    {
      "cell_type": "markdown",
      "source": [
        "Question-3\n",
        "\n",
        "Python Program to check if a number is prime or not"
      ],
      "metadata": {
        "id": "EiH0z1CliTd2"
      }
    },
    {
      "cell_type": "code",
      "source": [
        "num=int(input())\n",
        "if num>1:\n",
        "    for i in range(2,num):\n",
        "        if(num%i)==0:\n",
        "            print(num,\"is not a prime number.\")\n",
        "            break\n",
        "    else:\n",
        "        print(num,\"is a prime number\")\n",
        "else:\n",
        "    print(\"please enter a valid number which is any number greater than 1.\")                \n",
        "\n"
      ],
      "metadata": {
        "colab": {
          "base_uri": "https://localhost:8080/"
        },
        "id": "YIR_caQ8iZdl",
        "outputId": "bf83ad4a-4a7d-4506-a822-6bd58867e071"
      },
      "execution_count": null,
      "outputs": [
        {
          "output_type": "stream",
          "name": "stdout",
          "text": [
            "1\n",
            "please enter a valid number which is any number greater than 1.\n"
          ]
        }
      ]
    },
    {
      "cell_type": "markdown",
      "source": [
        "Question-4\n",
        "\n",
        "Python program to find the factorial of a number provided by the user ?\n"
      ],
      "metadata": {
        "id": "t--uTO6Bk710"
      }
    },
    {
      "cell_type": "code",
      "source": [
        "num=int(input())\n",
        "factorial=1\n",
        "if num < 0:\n",
        "    print(\"Sorry, factorial does not exist for negative numbers\")\n",
        "elif num == 0:\n",
        "   print(\"The factorial of 0 is 1\")   \n",
        "else:\n",
        "    for i in range(1,num+1):\n",
        "       factorial=factorial*i\n",
        "    print(\"The factorial of\",num,\"is\",factorial)"
      ],
      "metadata": {
        "colab": {
          "base_uri": "https://localhost:8080/"
        },
        "id": "XlJnGAX5jd2t",
        "outputId": "4a16db86-919f-4fc6-d96d-f37921b36bf1"
      },
      "execution_count": null,
      "outputs": [
        {
          "output_type": "stream",
          "name": "stdout",
          "text": [
            "5\n",
            "The factorial of 5 is 120\n"
          ]
        }
      ]
    },
    {
      "cell_type": "markdown",
      "source": [
        "Question-5\n",
        "\n",
        "Program to display the Fibonacci sequence up to n-th term ?"
      ],
      "metadata": {
        "id": "1wHBJmDCqUEI"
      }
    },
    {
      "cell_type": "code",
      "source": [
        "nterm=int(input())\n",
        "n1,n2=0,1\n",
        "count=0\n",
        "if nterm <= 0:\n",
        "   print(\"Please enter a positive integer\")\n",
        "elif nterm == 1:\n",
        "   print(\"Fibonacci sequence upto\",nterm,\":\")\n",
        "   print(n1)\n",
        "else:\n",
        "   print(\"Fibonacci sequence:\")\n",
        "   while count < nterm:\n",
        "       print(n1,end=' ')\n",
        "       nth = n1 + n2\n",
        "       n1 = n2\n",
        "       n2 = nth\n",
        "       count += 1   "
      ],
      "metadata": {
        "colab": {
          "base_uri": "https://localhost:8080/"
        },
        "id": "2lgezhGMl-QV",
        "outputId": "472babd2-e1b5-427f-fd9e-40300e3649d2"
      },
      "execution_count": 3,
      "outputs": [
        {
          "output_type": "stream",
          "name": "stdout",
          "text": [
            "6\n",
            "Fibonacci sequence:\n",
            "0 1 1 2 3 5 "
          ]
        }
      ]
    },
    {
      "cell_type": "markdown",
      "source": [
        "Question-6\n",
        "\n",
        "Program to check Armstrong numbers in a certain interval"
      ],
      "metadata": {
        "id": "xKKLaOKLXhY8"
      }
    },
    {
      "cell_type": "code",
      "source": [
        "lower = 100\n",
        "upper = 2000\n",
        "\n",
        "for num in range(lower, upper + 1):\n",
        "\n",
        "   # order of number\n",
        "   order = len(str(num))\n",
        "    \n",
        "   # initialize sum\n",
        "   sum = 0\n",
        "\n",
        "   temp = num\n",
        "   while temp > 0:\n",
        "       digit = temp % 10\n",
        "       sum += digit ** order\n",
        "       temp //= 10\n",
        "\n",
        "   if num == sum:\n",
        "       print(num,end=\",\")"
      ],
      "metadata": {
        "id": "QviX5u9Hs3nW",
        "colab": {
          "base_uri": "https://localhost:8080/"
        },
        "outputId": "2643c628-cdca-443e-9761-aafd76756467"
      },
      "execution_count": null,
      "outputs": [
        {
          "output_type": "stream",
          "name": "stdout",
          "text": [
            "153,370,371,407,1634,"
          ]
        }
      ]
    },
    {
      "cell_type": "markdown",
      "source": [
        "Question-7\n",
        "\n",
        "Python code to separate positive and negative number in a list"
      ],
      "metadata": {
        "id": "e5pXu2isZsxB"
      }
    },
    {
      "cell_type": "code",
      "source": [
        "list1 = [-3, 8, -1, 6, 9, 3, -1, -7, -5, -42, 73, 65]\n",
        "positive_list = []\n",
        "negative_list = []\n",
        "\n",
        "# Separate positive and negative numbers into two separate lists\n",
        "for num in list1:\n",
        "    if num >= 0:\n",
        "        positive_list.append(num)\n",
        "    else:\n",
        "        negative_list.append(num)\n",
        "\n",
        "# Combine positive and negative lists into a single list\n",
        "result_list = negative_list + positive_list\n",
        "print(\"Combined list:\", result_list)"
      ],
      "metadata": {
        "colab": {
          "base_uri": "https://localhost:8080/"
        },
        "id": "7WTQSPTSZ5vv",
        "outputId": "68a2ef78-3024-491b-ded0-d33a1df41524"
      },
      "execution_count": null,
      "outputs": [
        {
          "output_type": "stream",
          "name": "stdout",
          "text": [
            "Combined list: [-3, -1, -1, -7, -5, -42, 8, 6, 9, 3, 73, 65]\n"
          ]
        }
      ]
    },
    {
      "cell_type": "markdown",
      "source": [
        "Question-8\n",
        "\n",
        "Python code to replace nth(8th) character in a string without using replace method"
      ],
      "metadata": {
        "id": "BP_87gYxaRsx"
      }
    },
    {
      "cell_type": "code",
      "source": [
        "string=\"Almabetter\"\n",
        "index=7\n",
        "new_char=\"T\"\n",
        "string=string[:index]+new_char+string[index+1:]\n",
        "print(string)\n"
      ],
      "metadata": {
        "colab": {
          "base_uri": "https://localhost:8080/"
        },
        "id": "qdz-lFzPaejv",
        "outputId": "8241807d-7088-4ee5-d846-48a1947cb348"
      },
      "execution_count": null,
      "outputs": [
        {
          "output_type": "stream",
          "name": "stdout",
          "text": [
            "AlmabetTer\n"
          ]
        }
      ]
    },
    {
      "cell_type": "markdown",
      "source": [
        "Question-9\n",
        "\n",
        "Python code to find the pair value that will give num when adding together"
      ],
      "metadata": {
        "id": "3u3lZP8LaeNY"
      }
    },
    {
      "cell_type": "code",
      "source": [
        "num = 12\n",
        "listt = [10, 3, 4, 7, 6, 6, 2]\n",
        "\n",
        "# Create an empty set to store pairs of elements that sum to 'num'\n",
        "pairs = set()\n",
        "\n",
        "# Loop through each element in the list\n",
        "for i in range(len(listt)):\n",
        "    # Check if 'num' minus the current element is already in the set\n",
        "    if num - listt[i] in pairs:\n",
        "        # If it is, print the pair of elements that sum to 'num'\n",
        "        print(\"Pair found:\", num - listt[i], listt[i])\n",
        "    else:\n",
        "        # Otherwise, add the current element to the set\n",
        "        pairs.add(listt[i])\n"
      ],
      "metadata": {
        "colab": {
          "base_uri": "https://localhost:8080/"
        },
        "id": "AKY6i-xlebiX",
        "outputId": "314764e7-8fa9-445a-d65b-d6a50a56b450"
      },
      "execution_count": null,
      "outputs": [
        {
          "output_type": "stream",
          "name": "stdout",
          "text": [
            "Pair found: 6 6\n",
            "Pair found: 10 2\n"
          ]
        }
      ]
    },
    {
      "cell_type": "markdown",
      "source": [
        "Question-10\n",
        "\n",
        "Python program to find H.C.F of two numbers"
      ],
      "metadata": {
        "id": "tA5J4y2YhOH-"
      }
    },
    {
      "cell_type": "code",
      "source": [
        "def compute_hcf(x, y):\n",
        "\n",
        "# choose the smaller number\n",
        "    if x > y:\n",
        "        smaller = y\n",
        "    else:\n",
        "        smaller = x\n",
        "    for i in range(1, smaller+1):\n",
        "        if((x % i == 0) and (y % i == 0)):\n",
        "            hcf = i \n",
        "    return hcf\n",
        "\n",
        "num1 = 54 \n",
        "num2 = 24\n",
        "\n",
        "print(\"The H.C.F. is\", compute_hcf(num1, num2))"
      ],
      "metadata": {
        "colab": {
          "base_uri": "https://localhost:8080/"
        },
        "id": "srqJQAGAhVo3",
        "outputId": "db2bb327-c0b4-4a09-c724-4429c8702e45"
      },
      "execution_count": null,
      "outputs": [
        {
          "output_type": "stream",
          "name": "stdout",
          "text": [
            "The H.C.F. is 6\n"
          ]
        }
      ]
    },
    {
      "cell_type": "code",
      "source": [
        "lcm=(num1*num2)//compute_hcf(num1,num2)\n",
        "print(lcm)"
      ],
      "metadata": {
        "colab": {
          "base_uri": "https://localhost:8080/"
        },
        "id": "mjo6A5syhtxb",
        "outputId": "d86e20ee-8320-4ef4-fb04-7795518c5ef3"
      },
      "execution_count": null,
      "outputs": [
        {
          "output_type": "stream",
          "name": "stdout",
          "text": [
            "216\n"
          ]
        }
      ]
    },
    {
      "cell_type": "markdown",
      "source": [
        "Question-11\n",
        "\n",
        "Python Program to count the number of each vowels\n"
      ],
      "metadata": {
        "id": "lLYpneq0jKWY"
      }
    },
    {
      "cell_type": "code",
      "source": [
        "vowels = 'aeiou'\n",
        "\n",
        "ip_str = 'Hello, have you tried our tutorial section yet?'\n",
        "\n",
        "# make it suitable for caseless comparisions\n",
        "ip_str = ip_str.casefold()\n",
        "\n",
        "\n",
        "# make a dictionary with each vowel a key and value 0\n",
        "count = {}.fromkeys(vowels,0)\n",
        "\n",
        "# count the vowels\n",
        "for char in ip_str:\n",
        "   if char in count:\n",
        "       count[char] += 1\n",
        "\n",
        "print(count)"
      ],
      "metadata": {
        "colab": {
          "base_uri": "https://localhost:8080/"
        },
        "id": "XSM8-B3qjSdd",
        "outputId": "88b29617-7487-41eb-88d8-8abcf926fe96"
      },
      "execution_count": null,
      "outputs": [
        {
          "output_type": "stream",
          "name": "stdout",
          "text": [
            "{'a': 2, 'e': 5, 'i': 3, 'o': 5, 'u': 3}\n"
          ]
        }
      ]
    },
    {
      "cell_type": "markdown",
      "source": [
        "Question-12\n",
        "\n",
        "Write a Python program to add a key to a dictionary."
      ],
      "metadata": {
        "id": "qaVHh9FUmLMw"
      }
    },
    {
      "cell_type": "code",
      "source": [
        "dict1={'name': 'xyz', 'age': 27, 'salary': 50000}\n",
        "dict2={'manager': 'abc'}\n",
        "dict1['manager']='abc'\n",
        "print(dict1)"
      ],
      "metadata": {
        "colab": {
          "base_uri": "https://localhost:8080/"
        },
        "id": "SEAq-9nHlxMd",
        "outputId": "689670fa-8d19-43f2-ae3b-bed978f572ef"
      },
      "execution_count": null,
      "outputs": [
        {
          "output_type": "stream",
          "name": "stdout",
          "text": [
            "{'name': 'xyz', 'age': 27, 'salary': 50000, 'manager': 'abc'}\n"
          ]
        }
      ]
    },
    {
      "cell_type": "markdown",
      "source": [
        "Question-13\n",
        "\n",
        "Write a Python program to add an item in a tuple."
      ],
      "metadata": {
        "id": "cP-nSkJOmSP5"
      }
    },
    {
      "cell_type": "code",
      "source": [
        "Input=('a','b','c','d') \n",
        "add=7\n",
        "Input=Input+(add,)\n",
        "print(Input)"
      ],
      "metadata": {
        "colab": {
          "base_uri": "https://localhost:8080/"
        },
        "id": "SzCc1XFemXqZ",
        "outputId": "5366eecf-1b32-4d6c-b370-358b6fe77f14"
      },
      "execution_count": null,
      "outputs": [
        {
          "output_type": "stream",
          "name": "stdout",
          "text": [
            "('a', 'b', 'c', 'd', 7)\n"
          ]
        }
      ]
    },
    {
      "cell_type": "markdown",
      "source": [
        "Question-14\n",
        "\n",
        "Write a Python program to round every number of a given list of numbers and print the total sum multiplied by the length of the list."
      ],
      "metadata": {
        "id": "QO0ftDO3qKsc"
      }
    },
    {
      "cell_type": "code",
      "source": [
        "listt=[22.4, 4.0, -16.22, -9.10, 11.00, -12.22, 14.20, -5.20, 17.50]\n",
        "round_list=[round(num) for num in listt]\n",
        "length=len(round_list)\n",
        "sum=0\n",
        "for i in round_list:\n",
        "    sum=sum+i\n",
        "print(sum*length)    \n",
        "\n"
      ],
      "metadata": {
        "colab": {
          "base_uri": "https://localhost:8080/"
        },
        "id": "N6q2q69Mnjas",
        "outputId": "f7d9c68f-3e6b-4620-c5a4-c98886425905"
      },
      "execution_count": null,
      "outputs": [
        {
          "output_type": "stream",
          "name": "stdout",
          "text": [
            "243\n"
          ]
        }
      ]
    },
    {
      "cell_type": "markdown",
      "source": [
        "Question-15\n",
        "\n",
        "Write a Python program to get a string from a given string where all occurrences of its first char have been changed to '$', except the first char itself."
      ],
      "metadata": {
        "id": "i-f2aW8YtoeI"
      }
    },
    {
      "cell_type": "code",
      "source": [
        "s=\"python programming\"\n",
        "fir_s=s[0]\n",
        "re_c=\"@\"\n",
        "new_s=fir_s+s[1:].replace(fir_s,re_c)\n",
        "print(new_s)"
      ],
      "metadata": {
        "colab": {
          "base_uri": "https://localhost:8080/"
        },
        "id": "b_sgFOwDtrvL",
        "outputId": "3d6bf468-680d-4b4b-b7fe-30151bdcf4bc"
      },
      "execution_count": null,
      "outputs": [
        {
          "output_type": "stream",
          "name": "stdout",
          "text": [
            "python @rogramming\n"
          ]
        }
      ]
    },
    {
      "cell_type": "markdown",
      "source": [
        "Question-16\n",
        "\n",
        "Write a Python function to check whether a number is perfect or not."
      ],
      "metadata": {
        "id": "kybqB2LeuRFP"
      }
    },
    {
      "cell_type": "code",
      "source": [
        "num=6\n",
        "sum=0\n",
        "for i in range(1,num):\n",
        "    if num % i ==0:\n",
        "        sum=sum+i\n",
        "if sum == num:\n",
        "    print(num,'is a perfect number')\n",
        "else:\n",
        "    print(\"false\")    \n",
        "\n"
      ],
      "metadata": {
        "colab": {
          "base_uri": "https://localhost:8080/"
        },
        "id": "tIZbdTuiuks4",
        "outputId": "1e1d9852-0c4e-480a-c46c-93abebd42577"
      },
      "execution_count": null,
      "outputs": [
        {
          "output_type": "stream",
          "name": "stdout",
          "text": [
            "6 is a perfect number\n"
          ]
        }
      ]
    },
    {
      "cell_type": "markdown",
      "source": [
        "Question-17\n",
        "\n",
        "Write a Python program that accepts a string and calculate the number of digits and letters."
      ],
      "metadata": {
        "id": "P0rKT9wwy5Om"
      }
    },
    {
      "cell_type": "code",
      "source": [
        "sti=input()\n",
        "digit=alphabet=0\n",
        "for i in sti:\n",
        "    if i.isdigit():\n",
        "      digit=digit+1\n",
        "    elif i.isalpha():\n",
        "      alphabet=alphabet+1\n",
        "    else:\n",
        "      pass\n",
        "print(\"Letters\",alphabet,'Digits',digit) \n",
        "           "
      ],
      "metadata": {
        "colab": {
          "base_uri": "https://localhost:8080/"
        },
        "id": "EFXVYqMhywuV",
        "outputId": "8dbedb07-f22f-4e4d-c430-d7595a99ada6"
      },
      "execution_count": null,
      "outputs": [
        {
          "output_type": "stream",
          "name": "stdout",
          "text": [
            "program@2022\n",
            "Letters 7 Digits 4\n"
          ]
        }
      ]
    },
    {
      "cell_type": "markdown",
      "source": [
        "Question-18\n",
        "\n",
        "Write a Python program to move spaces to the front of a given string."
      ],
      "metadata": {
        "id": "ZV1u_VhbIR-g"
      }
    },
    {
      "cell_type": "code",
      "source": [
        "j= \"w3resource . com \"\n",
        "o=[i for i in j if i !=' ']\n",
        "l=len(j)-len(o)\n",
        "r=' '*l\n",
        "re='\"'+r+''.join(o)+'\"'\n",
        "print(re)"
      ],
      "metadata": {
        "colab": {
          "base_uri": "https://localhost:8080/"
        },
        "id": "Jth3rKZKGTz0",
        "outputId": "63c10709-3d1d-4232-a218-85c1ad050d7a"
      },
      "execution_count": null,
      "outputs": [
        {
          "output_type": "stream",
          "name": "stdout",
          "text": [
            "\"   w3resource.com\"\n"
          ]
        }
      ]
    },
    {
      "cell_type": "markdown",
      "source": [
        "Question-19\n",
        "\n",
        "Write a Python program which iterates the integers from 1 to 50. For multiples of three print \"Fizz\" instead of the number and for the multiples of five print \"Buzz\". For numbers which are multiples of both three and five print \"FizzBuzz\"."
      ],
      "metadata": {
        "id": "51-l671tNKJ1"
      }
    },
    {
      "cell_type": "code",
      "source": [
        "for i in range(5):\n",
        "    if i % 3 ==0 and i % 5 ==0:\n",
        "        print('fizzbuzz',end=' ')\n",
        "        continue\n",
        "    elif i % 3 ==0:\n",
        "        print('fizz',end=' ')\n",
        "        continue\n",
        "    elif i % 5 ==0:\n",
        "        print('buzz',end=' ')\n",
        "        continue \n",
        "    print(i,end=' ')       \n"
      ],
      "metadata": {
        "colab": {
          "base_uri": "https://localhost:8080/"
        },
        "id": "oHWxBy_aLmBu",
        "outputId": "5cbf86e8-f158-41aa-b780-2d8adc7565bd"
      },
      "execution_count": null,
      "outputs": [
        {
          "output_type": "stream",
          "name": "stdout",
          "text": [
            "fizzbuzz 1 2 fizz 4 "
          ]
        }
      ]
    },
    {
      "cell_type": "markdown",
      "source": [
        "Question-20\n",
        "\n",
        "python code to fond the median of a list"
      ],
      "metadata": {
        "id": "ZbVnNoCdRaqS"
      }
    },
    {
      "cell_type": "code",
      "source": [
        "l=[24,44,57,69,78,90,23,45,67,65]\n",
        "l.sort()\n",
        "n=len(l)\n",
        "if n % 2 == 0:\n",
        "     median = (l[n//2] + l[n//2-1])/2\n",
        "else:\n",
        "     median = l[n//2]\n",
        "print(median)          \n"
      ],
      "metadata": {
        "colab": {
          "base_uri": "https://localhost:8080/"
        },
        "id": "NQmI80UDPFch",
        "outputId": "d2779cbf-e342-43ba-f352-ecab0f2fff88"
      },
      "execution_count": null,
      "outputs": [
        {
          "output_type": "stream",
          "name": "stdout",
          "text": [
            "61.0\n"
          ]
        }
      ]
    },
    {
      "cell_type": "markdown",
      "source": [
        "Question-21\n",
        "\n",
        "python programm to find the longest word in a string"
      ],
      "metadata": {
        "id": "yK0DvcOcS82Z"
      }
    },
    {
      "cell_type": "code",
      "source": [
        "f=\"king queen knight\"\n",
        "d=f.split(' ')\n",
        "l=0\n",
        "w=\"\"\n",
        "for i in d:\n",
        "    if len(i) > l:\n",
        "        l=len(i)\n",
        "        w=i\n",
        "r=(l,i)\n",
        "print(r)       \n"
      ],
      "metadata": {
        "colab": {
          "base_uri": "https://localhost:8080/"
        },
        "id": "9rSnHpqyRlUB",
        "outputId": "5d375bfb-0bc1-46ae-aa1d-161fe16ad97d"
      },
      "execution_count": null,
      "outputs": [
        {
          "output_type": "stream",
          "name": "stdout",
          "text": [
            "(6, 'knight')\n"
          ]
        }
      ]
    },
    {
      "cell_type": "markdown",
      "source": [
        "Question-22\n",
        "\n",
        "Write a Python program to find the first non-repeating character in given string."
      ],
      "metadata": {
        "id": "ekHWmiZLkRIf"
      }
    },
    {
      "cell_type": "code",
      "source": [
        "string = \"abcdaef\"\n",
        "\n",
        "# create a dictionary to store character counts\n",
        "char_counts = {}\n",
        "\n",
        "# loop through each character in the string and count its occurrences\n",
        "for char in string:\n",
        "    if char in char_counts:\n",
        "        char_counts[char] += 1\n",
        "    else:\n",
        "        char_counts[char] = 1\n",
        "\n",
        "# loop through the string again to find the first non-repeating character\n",
        "for char in string:\n",
        "    if char_counts[char] == 1:\n",
        "        print(char)\n",
        "        break\n",
        "else:\n",
        "    print(\"None\")"
      ],
      "metadata": {
        "colab": {
          "base_uri": "https://localhost:8080/"
        },
        "id": "Jz7B67IFkNbn",
        "outputId": "31bec58f-3855-45ed-b529-2af00c887d0b"
      },
      "execution_count": 28,
      "outputs": [
        {
          "output_type": "stream",
          "name": "stdout",
          "text": [
            "b\n"
          ]
        }
      ]
    },
    {
      "cell_type": "markdown",
      "source": [
        "Question-23\n",
        "\n",
        "Write a Python program to construct the following pattern, using a nested for loop."
      ],
      "metadata": {
        "id": "i3P4W6lymMfI"
      }
    },
    {
      "cell_type": "code",
      "source": [
        "n=5\n",
        "# print upper half of the pattern\n",
        "for i in range(1, n+1):\n",
        "    for j in range(1, i+1):\n",
        "        if j == i:\n",
        "            print(\"*.\", end=\"\")\n",
        "        else:\n",
        "            print(\"*.\", end=\"\")\n",
        "    print()\n",
        "# print lower half of the pattern\n",
        "for i in range(n-1, 0, -1):\n",
        "    for j in range(1, i+1):\n",
        "        if j == i:\n",
        "            print(\"*.\", end=\"\")\n",
        "        else:\n",
        "            print(\"*.\", end=\"\")\n",
        "    print()\n"
      ],
      "metadata": {
        "colab": {
          "base_uri": "https://localhost:8080/"
        },
        "id": "p0iteNpnmMHe",
        "outputId": "7dfe6f64-cd53-46f3-bde8-eb2b9cd9a7ea"
      },
      "execution_count": 35,
      "outputs": [
        {
          "output_type": "stream",
          "name": "stdout",
          "text": [
            "*.\n",
            "*.*.\n",
            "*.*.*.\n",
            "*.*.*.*.\n",
            "*.*.*.*.*.\n",
            "*.*.*.*.\n",
            "*.*.*.\n",
            "*.*.\n",
            "*.\n"
          ]
        }
      ]
    },
    {
      "cell_type": "markdown",
      "source": [
        "Question-24\n",
        "\n",
        "Write a Python program to find the second most repeated word in a given string.\n",
        "\n",
        "Input:\n",
        "string= Both of these issues are fixed by postponing the evaluation of annotations. Instead of compiling code which executes expressions in annotations at their definition time, the compiler stores the annotation in a string form equivalent to the AST of the expression in question. If needed, annotations can be resolved at runtime using typing.get_type_hints(). In the common case where this is not required, the annotations are cheaper to store (since short strings are interned by the interpreter) and make startup time faster."
      ],
      "metadata": {
        "id": "O7wS8KojrN_y"
      }
    },
    {
      "cell_type": "code",
      "source": [
        "string= 'Both of these issues are fixed by postponing the evaluation of annotations. Instead of compiling code which executes expressions in annotations at their definition time, the compiler stores the annotation in a string form equivalent to the AST of the expression in question. If needed, annotations can be resolved at runtime using typing.get_type_hints(). In the common case where this is not required, the annotations are cheaper to store (since short strings are interned by the interpreter) and make startup time faster.'"
      ],
      "metadata": {
        "id": "p4oObrgsqDVF"
      },
      "execution_count": 43,
      "outputs": []
    },
    {
      "cell_type": "code",
      "source": [
        "from collections import Counter\n",
        "words = string.split()\n",
        "word_count = Counter(words)\n",
        "most_common = word_count.most_common(2)\n",
        "if len(most_common) == 1:\n",
        "    print(\"There is only one word in the string.\")\n",
        "else:\n",
        "    if most_common[0][1] == most_common[1][1]:\n",
        "        print(\"There is no second most repeated word.\")\n",
        "    else:\n",
        "        second_most_common = most_common[1]\n",
        "        print(\"('{}', {})\".format(second_most_common[0], second_most_common[1]))"
      ],
      "metadata": {
        "colab": {
          "base_uri": "https://localhost:8080/"
        },
        "id": "PgHEb-RpqNYs",
        "outputId": "7a7e4b78-740d-4dc9-f378-2c6e994a01ab"
      },
      "execution_count": 50,
      "outputs": [
        {
          "output_type": "stream",
          "name": "stdout",
          "text": [
            "('of', 4)\n"
          ]
        }
      ]
    },
    {
      "cell_type": "code",
      "source": [
        "lst= ['red', 'black', 'pink', 'green', 'black', 'green']\n",
        "l=set(lst)\n",
        "l=list(sorted(l))\n",
        "l"
      ],
      "metadata": {
        "colab": {
          "base_uri": "https://localhost:8080/"
        },
        "id": "gggGQLdDrckh",
        "outputId": "ddd848cf-6d01-4777-c80a-b450c1b34325"
      },
      "execution_count": 54,
      "outputs": [
        {
          "output_type": "execute_result",
          "data": {
            "text/plain": [
              "['black', 'green', 'pink', 'red']"
            ]
          },
          "metadata": {},
          "execution_count": 54
        }
      ]
    },
    {
      "cell_type": "code",
      "source": [
        "b=[(2, 5), (1, 2), (4, 4), (2, 3), (2, 1)]\n",
        "bb=sorted(b,key=lambda x: x[-1])\n",
        "bb"
      ],
      "metadata": {
        "colab": {
          "base_uri": "https://localhost:8080/"
        },
        "id": "FbaIefUExuWk",
        "outputId": "ff8f6d5b-324d-4a06-f315-c524fa026a05"
      },
      "execution_count": 70,
      "outputs": [
        {
          "output_type": "execute_result",
          "data": {
            "text/plain": [
              "[(2, 1), (1, 2), (2, 3), (4, 4), (2, 5)]"
            ]
          },
          "metadata": {},
          "execution_count": 70
        }
      ]
    },
    {
      "cell_type": "code",
      "source": [
        "inp = \"AI is going to rule the world aeiou\"\n",
        "cha= \"aeiou\"\n",
        "h=''\n",
        "for i in inp:\n",
        "    if i not in cha:\n",
        "        h=h+i\n",
        "print(h)        "
      ],
      "metadata": {
        "colab": {
          "base_uri": "https://localhost:8080/"
        },
        "id": "L6PaP9UJzL-1",
        "outputId": "c2bc3d6f-839f-436b-af07-c28dfeec43f5"
      },
      "execution_count": 71,
      "outputs": [
        {
          "output_type": "stream",
          "name": "stdout",
          "text": [
            "AI s gng t rl th wrld \n"
          ]
        }
      ]
    },
    {
      "cell_type": "code",
      "source": [
        "j={'john': 170, 'kem':172, 'sam': 168, 'milli': 158}\n",
        "jj=sum(j.values())\n",
        "print(jj)    "
      ],
      "metadata": {
        "colab": {
          "base_uri": "https://localhost:8080/"
        },
        "id": "E-Likilhzu6q",
        "outputId": "7fbc5328-17c2-4769-ead9-544017a52240"
      },
      "execution_count": 77,
      "outputs": [
        {
          "output_type": "stream",
          "name": "stdout",
          "text": [
            "668\n"
          ]
        }
      ]
    },
    {
      "cell_type": "code",
      "source": [
        "s1= 'abc'\n",
        "s2='xyz'\n",
        "st3=s2[:-1]+s1[-1]+\" \"+s1[:-1]+s2[-1]\n",
        "st3"
      ],
      "metadata": {
        "colab": {
          "base_uri": "https://localhost:8080/",
          "height": 36
        },
        "id": "7Wm4reqp0-jo",
        "outputId": "98d194fb-c666-46d9-90f8-8eb7fa53b8ec"
      },
      "execution_count": 79,
      "outputs": [
        {
          "output_type": "execute_result",
          "data": {
            "text/plain": [
              "'xyc abz'"
            ],
            "application/vnd.google.colaboratory.intrinsic+json": {
              "type": "string"
            }
          },
          "metadata": {},
          "execution_count": 79
        }
      ]
    },
    {
      "cell_type": "code",
      "source": [],
      "metadata": {
        "colab": {
          "base_uri": "https://localhost:8080/",
          "height": 36
        },
        "id": "9AqjhvNA1WlC",
        "outputId": "91e17de6-3f8c-4ed1-f080-204f27756af2"
      },
      "execution_count": 78,
      "outputs": [
        {
          "output_type": "execute_result",
          "data": {
            "text/plain": [
              "'ab'"
            ],
            "application/vnd.google.colaboratory.intrinsic+json": {
              "type": "string"
            }
          },
          "metadata": {},
          "execution_count": 78
        }
      ]
    }
  ]
}