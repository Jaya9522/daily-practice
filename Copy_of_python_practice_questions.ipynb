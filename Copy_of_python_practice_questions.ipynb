{
  "nbformat": 4,
  "nbformat_minor": 0,
  "metadata": {
    "colab": {
      "provenance": [],
      "authorship_tag": "ABX9TyN2qfijtrTjWvdBSlmQRk8w",
      "include_colab_link": true
    },
    "kernelspec": {
      "name": "python3",
      "display_name": "Python 3"
    },
    "language_info": {
      "name": "python"
    }
  },
  "cells": [
    {
      "cell_type": "markdown",
      "metadata": {
        "id": "view-in-github",
        "colab_type": "text"
      },
      "source": [
        "<a href=\"https://colab.research.google.com/github/Jaya9522/daily-practice/blob/main/Copy_of_python_practice_questions.ipynb\" target=\"_parent\"><img src=\"https://colab.research.google.com/assets/colab-badge.svg\" alt=\"Open In Colab\"/></a>"
      ]
    },
    {
      "cell_type": "markdown",
      "source": [
        "**Problem 1**\n",
        "\n",
        "In a cricket tournament, based on the outcome of a particular match a team gets following points:\n",
        "\n",
        "wins gets 3 points\n",
        "\n",
        "draws gets 1 points\n",
        "\n",
        "losses gets 0 points\n",
        "\n",
        "Team Aravali plays 8 matches in this tournament. It wins 4 matches, loses 3 matches and draws 1. What is the total number of points gained by the Team Aravali?"
      ],
      "metadata": {
        "id": "awt3YZiyx2tD"
      }
    },
    {
      "cell_type": "code",
      "execution_count": null,
      "metadata": {
        "colab": {
          "base_uri": "https://localhost:8080/"
        },
        "id": "KPL6Gsgbx0Lp",
        "outputId": "17e84a4f-0570-430f-f5c0-f621a85a1c03"
      },
      "outputs": [
        {
          "output_type": "execute_result",
          "data": {
            "text/plain": [
              "13"
            ]
          },
          "metadata": {},
          "execution_count": 1
        }
      ],
      "source": [
        "# The outcome variables are defined below\n",
        "wins = 4\n",
        "losses = 3\n",
        "draws = 1\n",
        "# Calculate the total points gained by Team Aravali\n",
        "aravali_points = 3*wins + 0*losses + 1*draws\n",
        "# Print the variable aravali_points\n",
        "aravali_points"
      ]
    },
    {
      "cell_type": "markdown",
      "source": [
        "**Problem 2**\n",
        "\n",
        "Root of a function  $f(x)$  is defined as the value  $x$  where  $f(x)=0$ \n",
        "\n",
        "Consider a quadratic function  $f(x)=x2+3x−4$ \n",
        "\n",
        "Find the value of the function  $f(x)$  at points  $x=2,x=−1,x=1$ ."
      ],
      "metadata": {
        "id": "vpjYSLfoyLa9"
      }
    },
    {
      "cell_type": "code",
      "source": [
        "# Calculate the value of the function f(x) at x = 2\n",
        "func_evaluated_at_2 = 2**2 + 3*2 - 4\n",
        "# Print the value below\n",
        "print(func_evaluated_at_2)"
      ],
      "metadata": {
        "colab": {
          "base_uri": "https://localhost:8080/"
        },
        "id": "4bk3taSoypnf",
        "outputId": "876ae7a1-ff5a-401a-9bd8-dde1ad2a27eb"
      },
      "execution_count": null,
      "outputs": [
        {
          "output_type": "stream",
          "name": "stdout",
          "text": [
            "6\n"
          ]
        }
      ]
    },
    {
      "cell_type": "code",
      "source": [
        "# Calculate the value of the function f(x) at x = -1\n",
        "func_evaluated_at_minus1 = (-1)**2 + 3*(-1) - 4\n",
        "# Print the value below\n",
        "print(func_evaluated_at_minus1)"
      ],
      "metadata": {
        "colab": {
          "base_uri": "https://localhost:8080/"
        },
        "id": "qvahlLw0yzzB",
        "outputId": "b330365d-233d-45b9-92b6-407e1437e1bc"
      },
      "execution_count": null,
      "outputs": [
        {
          "output_type": "stream",
          "name": "stdout",
          "text": [
            "-6\n"
          ]
        }
      ]
    },
    {
      "cell_type": "code",
      "source": [
        "# Calculate the value of the function f(x) at x = 1\n",
        "func_evaluated_at_1 = 1**2 + 3*1 - 4\n",
        "# Print the type of the variable below\n",
        "print(func_evaluated_at_1)\n",
        "type(func_evaluated_at_1)"
      ],
      "metadata": {
        "colab": {
          "base_uri": "https://localhost:8080/"
        },
        "id": "GJYf2UORy563",
        "outputId": "4e49b3f3-65ac-41a6-e4e5-c5aeaa1fed6a"
      },
      "execution_count": null,
      "outputs": [
        {
          "output_type": "stream",
          "name": "stdout",
          "text": [
            "0\n"
          ]
        },
        {
          "output_type": "execute_result",
          "data": {
            "text/plain": [
              "int"
            ]
          },
          "metadata": {},
          "execution_count": 4
        }
      ]
    },
    {
      "cell_type": "markdown",
      "source": [
        "Return the boolean for each value of  $x$  to find out whether that value is a root of  $f(x)$"
      ],
      "metadata": {
        "id": "ZZt0mBX9y_zL"
      }
    },
    {
      "cell_type": "code",
      "source": [
        "# Check whether 2 is a root of f(x)\n",
        "func_evaluated_at_2 == 0"
      ],
      "metadata": {
        "colab": {
          "base_uri": "https://localhost:8080/"
        },
        "id": "ev185VKlzGVq",
        "outputId": "e0f42601-e672-46b3-80f2-248af151bcfa"
      },
      "execution_count": null,
      "outputs": [
        {
          "output_type": "execute_result",
          "data": {
            "text/plain": [
              "False"
            ]
          },
          "metadata": {},
          "execution_count": 5
        }
      ]
    },
    {
      "cell_type": "code",
      "source": [
        "# Check whether -1 is a root of f(x)\n",
        "func_evaluated_at_minus1 == 0"
      ],
      "metadata": {
        "colab": {
          "base_uri": "https://localhost:8080/"
        },
        "id": "A1h98Gt8zKW3",
        "outputId": "5210bd22-a115-4b87-fa92-9ee0bdb48db8"
      },
      "execution_count": null,
      "outputs": [
        {
          "output_type": "execute_result",
          "data": {
            "text/plain": [
              "False"
            ]
          },
          "metadata": {},
          "execution_count": 6
        }
      ]
    },
    {
      "cell_type": "code",
      "source": [
        "# Check whether 1 is a root of f(x)\n",
        "func_evaluated_at_1 == 0"
      ],
      "metadata": {
        "colab": {
          "base_uri": "https://localhost:8080/"
        },
        "id": "p7OWyhQezM-Y",
        "outputId": "ebdad80e-e7a1-46a6-f1bc-606d574e1e52"
      },
      "execution_count": null,
      "outputs": [
        {
          "output_type": "execute_result",
          "data": {
            "text/plain": [
              "True"
            ]
          },
          "metadata": {},
          "execution_count": 7
        }
      ]
    },
    {
      "cell_type": "markdown",
      "source": [
        "**Problem 3**\n",
        "\n",
        "A bag contains 45 apples, 65 oranges and 30 bananas. Find the percentage of each type of food items in the bag."
      ],
      "metadata": {
        "id": "4TAI-JKszWHP"
      }
    },
    {
      "cell_type": "code",
      "source": [
        "# Calculate the percentage of apples and print the variable\n",
        "apples = 45\n",
        "oranges = 65\n",
        "bananas = 30\n",
        "\n",
        "percentage_apples = apples*100/(apples+ oranges + bananas)\n",
        "print(percentage_apples)"
      ],
      "metadata": {
        "colab": {
          "base_uri": "https://localhost:8080/"
        },
        "id": "kPekEWvgzdFg",
        "outputId": "2a197b44-f284-4cb8-e1b1-784d9c1825aa"
      },
      "execution_count": null,
      "outputs": [
        {
          "output_type": "stream",
          "name": "stdout",
          "text": [
            "32.142857142857146\n"
          ]
        }
      ]
    },
    {
      "cell_type": "code",
      "source": [
        "# Calculate the percentage of oranges and print the variable\n",
        "percentage_oranges = oranges*100/(apples+ oranges + bananas)\n",
        "print(percentage_oranges)"
      ],
      "metadata": {
        "colab": {
          "base_uri": "https://localhost:8080/"
        },
        "id": "UyRYU95VzhjJ",
        "outputId": "4bf41a44-fd84-47d2-f04e-b5a43e08b829"
      },
      "execution_count": null,
      "outputs": [
        {
          "output_type": "stream",
          "name": "stdout",
          "text": [
            "46.42857142857143\n"
          ]
        }
      ]
    },
    {
      "cell_type": "code",
      "source": [
        "# Calculate the percentage of bananas and print the variable\n",
        "\n",
        "percentage_bananas = bananas*100/(apples + oranges + bananas)\n",
        "print(percentage_bananas)"
      ],
      "metadata": {
        "colab": {
          "base_uri": "https://localhost:8080/"
        },
        "id": "a6lX7S8tzkQL",
        "outputId": "7de9d325-1cd1-40ec-be4c-798bcefa59f2"
      },
      "execution_count": null,
      "outputs": [
        {
          "output_type": "stream",
          "name": "stdout",
          "text": [
            "21.428571428571427\n"
          ]
        }
      ]
    },
    {
      "cell_type": "markdown",
      "source": [
        "**Problem 4**\n",
        "\n",
        "You were playing a fun guessing game during your school break. There were a total of 100 participants excluding you. Out of these 100 people, 30 were Maths Majors, 45 were Economics Majors and 25 were Physics Majors.\n",
        "\n",
        "The game was divided into three rounds.\n",
        "\n",
        "* In the first round, you had to guess the number of Maths Majors and you correctly guessed 20 of them.\n",
        "* In the second round, you had to guess the number of Economics Majors and you correctly guessed 30 of them.\n",
        "* In the final third round, you had to guess the number of Physics Majors and you correctly guessed 20 of them.\n",
        "\n",
        "Accuracy is defined as the number of correct guesses upon total number of people in the group (expressed in percentage)\n"
      ],
      "metadata": {
        "id": "Fj3IlyCAzo_W"
      }
    },
    {
      "cell_type": "code",
      "source": [
        "# Store the number of Maths majors\n",
        "maths_majors = 30\n",
        "\n",
        "# Store the number of Economics majors\n",
        "economics_majors = 45\n",
        "\n",
        "# Store the number of Physics majors\n",
        "physics_majors = 25\n",
        "\n",
        "# Store the number of your correct guesses of Maths majors\n",
        "correctly_guessed_maths_majors = 20\n",
        "\n",
        "# Store the number of your correct guesses of Economics majors\n",
        "correctly_guessed_economics_majors = 30\n",
        "\n",
        "# Store the number of your correct guesses of Physics majors\n",
        "correctly_guessed_physics_majors = 20"
      ],
      "metadata": {
        "id": "12c3Chc_zofP"
      },
      "execution_count": null,
      "outputs": []
    },
    {
      "cell_type": "markdown",
      "source": [
        "Calculate your accuracy in each of the three rounds"
      ],
      "metadata": {
        "id": "TXGmibo1z5bO"
      }
    },
    {
      "cell_type": "code",
      "source": [
        "# Print the Maths accuracy\n",
        "\n",
        "maths_accuracy = correctly_guessed_maths_majors*100/maths_majors\n",
        "print(maths_accuracy)"
      ],
      "metadata": {
        "colab": {
          "base_uri": "https://localhost:8080/"
        },
        "id": "-UmkFVDCz7IL",
        "outputId": "e7773205-f04d-4177-eee5-44ea14351888"
      },
      "execution_count": null,
      "outputs": [
        {
          "output_type": "stream",
          "name": "stdout",
          "text": [
            "66.66666666666667\n"
          ]
        }
      ]
    },
    {
      "cell_type": "code",
      "source": [
        "# Print the Economics accuracy\n",
        "\n",
        "economics_accuracy = correctly_guessed_economics_majors*100/economics_majors\n",
        "print(economics_accuracy)"
      ],
      "metadata": {
        "colab": {
          "base_uri": "https://localhost:8080/"
        },
        "id": "socR-w0Ez_jJ",
        "outputId": "2512312b-adf9-4f8a-8802-92baa43579a5"
      },
      "execution_count": null,
      "outputs": [
        {
          "output_type": "stream",
          "name": "stdout",
          "text": [
            "66.66666666666667\n"
          ]
        }
      ]
    },
    {
      "cell_type": "code",
      "source": [
        "# Print the Physics accuracy\n",
        "physics_accuracy = correctly_guessed_physics_majors*100/physics_majors\n",
        "print(physics_accuracy)"
      ],
      "metadata": {
        "colab": {
          "base_uri": "https://localhost:8080/"
        },
        "id": "gLonKkwy0CMn",
        "outputId": "abb6080a-690d-496f-de08-bf34f807de6e"
      },
      "execution_count": null,
      "outputs": [
        {
          "output_type": "stream",
          "name": "stdout",
          "text": [
            "80.0\n"
          ]
        }
      ]
    },
    {
      "cell_type": "markdown",
      "source": [
        "Calculate your overall accuracy in the entire game"
      ],
      "metadata": {
        "id": "_FzSYNL_0Fng"
      }
    },
    {
      "cell_type": "code",
      "source": [
        "# Print the overall accuracy\n",
        "total_correct_guesses = correctly_guessed_maths_majors + correctly_guessed_physics_majors + correctly_guessed_economics_majors\n",
        "total_majors = maths_majors + economics_majors + physics_majors\n",
        "overall_accuracy = (total_correct_guesses)*100/(total_majors)\n",
        "print(overall_accuracy)"
      ],
      "metadata": {
        "id": "SNA87i6a0I1U",
        "outputId": "6a7289ce-03ea-4761-d5d6-47390b72d5b4",
        "colab": {
          "base_uri": "https://localhost:8080/"
        }
      },
      "execution_count": null,
      "outputs": [
        {
          "output_type": "stream",
          "name": "stdout",
          "text": [
            "70.0\n"
          ]
        }
      ]
    },
    {
      "cell_type": "markdown",
      "source": [
        "**Problem 5**\n",
        "\n",
        "You are given a sentence which reads \"Wikipedia is a free online encyclopedia, created and edited by volunteers around the world and hosted by the Wikimedia Foundation.\"\n",
        "\n",
        "Find the number of words in the given sentence."
      ],
      "metadata": {
        "id": "VEeUgi9zH7FX"
      }
    },
    {
      "cell_type": "code",
      "source": [
        "# Store the given sentence in a variable\n",
        "sentence = \"Wikipedia is a free online encyclopedia, created and edited by volunteers around the world and hosted by the Wikimedia Foundation.\"\n",
        "# Calculate the total number of words in the sentence.  Hint : Use the count() method\n",
        "num_of_words = sentence.count(' ') + 1\n",
        "# Print the variable num_of_words\n",
        "num_of_words"
      ],
      "metadata": {
        "colab": {
          "base_uri": "https://localhost:8080/"
        },
        "id": "2TQyysmgICF2",
        "outputId": "d4a4f468-3519-4585-9255-f3f04a118b4e"
      },
      "execution_count": 1,
      "outputs": [
        {
          "output_type": "execute_result",
          "data": {
            "text/plain": [
              "20"
            ]
          },
          "metadata": {},
          "execution_count": 1
        }
      ]
    },
    {
      "cell_type": "markdown",
      "source": [
        "**Problem 6**\n",
        "\n",
        "Write a Python code which takes a number and returns a corresponding string of hyphens. For example if the number is 3, it will return '---' , if the number is 5 it will return '-----'"
      ],
      "metadata": {
        "id": "6ge7P8wjIN1I"
      }
    },
    {
      "cell_type": "code",
      "source": [
        "# Store the user input in a variable\n",
        "inputted_number = int(input())\n",
        "# Create a string of equivalent number of hyphens. Hint : remember what happens when we multiply string by a number?\n",
        "string_of_hyphens = '-'*inputted_number\n",
        "# Print the string of hyphens\n",
        "print(string_of_hyphens)"
      ],
      "metadata": {
        "colab": {
          "base_uri": "https://localhost:8080/"
        },
        "id": "0uapI6VqIUGX",
        "outputId": "7c9029f0-3310-45e3-ca11-69864230e557"
      },
      "execution_count": 2,
      "outputs": [
        {
          "output_type": "stream",
          "name": "stdout",
          "text": [
            "8\n",
            "--------\n"
          ]
        }
      ]
    },
    {
      "cell_type": "markdown",
      "source": [
        "**Problem 7**\n",
        "\n",
        "A string can be called a safe bridge if it has no gaps in it i.e, no spaces. You are supposed to take an input from the user and print whether the string is a safe bridge or not."
      ],
      "metadata": {
        "id": "a3F-BcE5IjJy"
      }
    },
    {
      "cell_type": "code",
      "source": [
        "# Store the user input in a variable\n",
        "bridge = input()\n",
        "# Return True if the bridge is safe and False if the bridge is not safe. Hint : Use the find() method\n",
        "is_safe_bridge = bridge.find(' ') == -1\n",
        "# Fill in the blanks\n",
        "print(f\"It is {is_safe_bridge} that the bridge is a safe bridge\" )"
      ],
      "metadata": {
        "colab": {
          "base_uri": "https://localhost:8080/"
        },
        "id": "orkW33xsIh9V",
        "outputId": "36c9131a-9120-4aec-d838-05644c41191c"
      },
      "execution_count": 3,
      "outputs": [
        {
          "output_type": "stream",
          "name": "stdout",
          "text": [
            "IronMan\n",
            "It is True that the bridge is a safe bridge\n"
          ]
        }
      ]
    },
    {
      "cell_type": "markdown",
      "source": [
        "**Problem 8**\n",
        "\n",
        "Count the number of D's in a string inputted by the user. This will be case insensitive."
      ],
      "metadata": {
        "id": "GvioqSzTI1XR"
      }
    },
    {
      "cell_type": "code",
      "source": [
        "# Store the user input in a variable\n",
        "user_string = 'Debris was scattered all over the place in the densest region of Denmark'\n",
        "# Store the count of letter D in the inputted string. Note this will be a case insensitive search\n",
        "D_counts = user_string.upper().count('D')\n",
        "# Fill in the blanks\n",
        "print(f\"The total occurrence of D in the user_string is {D_counts}\")"
      ],
      "metadata": {
        "colab": {
          "base_uri": "https://localhost:8080/"
        },
        "id": "FxanIywgIxxC",
        "outputId": "208d31f5-26fe-4f27-81b7-7d362b98dc9e"
      },
      "execution_count": 4,
      "outputs": [
        {
          "output_type": "stream",
          "name": "stdout",
          "text": [
            "The total occurrence of D in the user_string is 4\n"
          ]
        }
      ]
    },
    {
      "cell_type": "markdown",
      "source": [
        "**Problem 9**\n",
        "\n",
        "Check whether a given string is a palindrome. A palindrome is a word, number, phrase, or other sequence of characters which reads the same backward as forward, such as madam, racecar."
      ],
      "metadata": {
        "id": "-yc07KPqJIch"
      }
    },
    {
      "cell_type": "code",
      "source": [
        "# Store the user input in a variable\n",
        "user_string = input()\n",
        "# Return True if a string is a Palindrome else return false\n",
        "user_string == user_string[::-1]"
      ],
      "metadata": {
        "colab": {
          "base_uri": "https://localhost:8080/"
        },
        "id": "h_5AC760JOMx",
        "outputId": "741a774a-74dd-461e-cdf3-3bb2140e107c"
      },
      "execution_count": 5,
      "outputs": [
        {
          "name": "stdout",
          "output_type": "stream",
          "text": [
            "Variable\n"
          ]
        },
        {
          "output_type": "execute_result",
          "data": {
            "text/plain": [
              "False"
            ]
          },
          "metadata": {},
          "execution_count": 5
        }
      ]
    },
    {
      "cell_type": "markdown",
      "source": [
        "**Problem 10**\n",
        "\n",
        "A list contains the average daily temperature(in degree Celsius) of a city over a particular week. Write a Python code to swap the highest and the lowest temperatures"
      ],
      "metadata": {
        "id": "f93699mXJsR1"
      }
    },
    {
      "cell_type": "code",
      "source": [
        "# A list containing average daily temperature over a week \n",
        "temperatures = [34, 40, 29, 33, 42, 37, 39 ]\n",
        "\n",
        "# The expected output \n",
        "# output_temperatures = [34, 40, 42, 33, 29, 37, 39]\n",
        "\n",
        "# Store the highest temperature\n",
        "max_temp = max(temperatures)\n",
        "\n",
        "# Index of the element with the highest temperature\n",
        "max_temp_index = temperatures.index(max_temp)\n",
        "\n",
        "# Store the lowest temperature \n",
        "min_temp = min(temperatures)\n",
        "\n",
        "# Index of the element with the lowest temperature\n",
        "min_temp_index = temperatures.index(min_temp)\n",
        "\n",
        "# Swap the highest and the lowest temperatures\n",
        "temperatures[max_temp_index] = min_temp\n",
        "temperatures[min_temp_index] = max_temp\n",
        "\n",
        "# Print the output list\n",
        "print(temperatures)"
      ],
      "metadata": {
        "colab": {
          "base_uri": "https://localhost:8080/"
        },
        "id": "RWJrhE0eJUjQ",
        "outputId": "d7c19484-93f3-4424-cf18-3526f94b5960"
      },
      "execution_count": 6,
      "outputs": [
        {
          "output_type": "stream",
          "name": "stdout",
          "text": [
            "[34, 40, 42, 33, 29, 37, 39]\n"
          ]
        }
      ]
    },
    {
      "cell_type": "markdown",
      "source": [
        "**Problem 11**\n",
        "\n",
        "Measures of Averages\n",
        "\n",
        "* Mean of a group is defined as the sum of the elements in the group divided by the number of elements in the group.\n",
        "* Median is the middle number in a <b>sorted</b>, ascending or descending, list of numbers. If the list has $N$ numbers where $N$ is odd, then median is the element in the middle i.e, $(\\frac{N+1}{2})^{th}$ element. If $N$ is even, then median is the mean of $(\\frac{N}{2})^{th}$ and $(\\frac{N}{2}+1)^{th}$ element"
      ],
      "metadata": {
        "id": "TD2ArmJkKJbW"
      }
    },
    {
      "cell_type": "code",
      "source": [
        "# List of product prices\n",
        "\n",
        "prod_price_list = [400, 250, 800, 550, 600, 820, 720, 15000, 360,250]\n",
        "\n",
        "# Calculate the mean of the product prices \n",
        "mean_price = sum(prod_price_list)/len(prod_price_list)\n",
        "print(mean_price)"
      ],
      "metadata": {
        "colab": {
          "base_uri": "https://localhost:8080/"
        },
        "id": "OGT2CgbeLHAp",
        "outputId": "e9d91688-29e0-4e2d-9ccb-096e9c058e82"
      },
      "execution_count": 7,
      "outputs": [
        {
          "output_type": "stream",
          "name": "stdout",
          "text": [
            "1975.0\n"
          ]
        }
      ]
    },
    {
      "cell_type": "code",
      "source": [
        "#Calculate the median price\n",
        "# Step 1 - Obtain the sorted list\n",
        "sorted_prices = sorted(prod_price_list)\n",
        "print(sorted_prices)"
      ],
      "metadata": {
        "colab": {
          "base_uri": "https://localhost:8080/"
        },
        "id": "uHwQyOBeLMm2",
        "outputId": "4758b4a8-cb36-4762-d2c9-46826da87385"
      },
      "execution_count": 8,
      "outputs": [
        {
          "output_type": "stream",
          "name": "stdout",
          "text": [
            "[250, 250, 360, 400, 550, 600, 720, 800, 820, 15000]\n"
          ]
        }
      ]
    },
    {
      "cell_type": "code",
      "source": [
        "# Check if the number of elements in the list is even or odd\n",
        "len(sorted_prices)"
      ],
      "metadata": {
        "colab": {
          "base_uri": "https://localhost:8080/"
        },
        "id": "ocPnjlCWLVhr",
        "outputId": "a1509930-3232-4931-9ad3-7c7f549459d1"
      },
      "execution_count": 9,
      "outputs": [
        {
          "output_type": "execute_result",
          "data": {
            "text/plain": [
              "10"
            ]
          },
          "metadata": {},
          "execution_count": 9
        }
      ]
    },
    {
      "cell_type": "code",
      "source": [
        "# Use the corresponding formula to calculate the median and print the median\n",
        "list_length = len(sorted_prices)\n",
        "median_price = (sorted_prices[int(list_length/2)-1] + sorted_prices[int(list_length/2)])/2\n",
        "print(median_price)"
      ],
      "metadata": {
        "colab": {
          "base_uri": "https://localhost:8080/"
        },
        "id": "F6nq4wncLYxc",
        "outputId": "8becfe13-4fe8-4a93-ea2c-4b451fef93e3"
      },
      "execution_count": 10,
      "outputs": [
        {
          "output_type": "stream",
          "name": "stdout",
          "text": [
            "575.0\n"
          ]
        }
      ]
    },
    {
      "cell_type": "code",
      "source": [
        "# Check which is greater, mean or median\n",
        "mean_price > median_price"
      ],
      "metadata": {
        "colab": {
          "base_uri": "https://localhost:8080/"
        },
        "id": "i9zDde5eLcB2",
        "outputId": "5220ca81-b076-4683-855e-781166d9573c"
      },
      "execution_count": 11,
      "outputs": [
        {
          "output_type": "execute_result",
          "data": {
            "text/plain": [
              "True"
            ]
          },
          "metadata": {},
          "execution_count": 11
        }
      ]
    },
    {
      "cell_type": "markdown",
      "source": [
        "**Problem 12**\n",
        "\n",
        "Having a nested list sometimes might be a bit problematic. An individual was asked to collect the names of companies in the technology sector. While creating the list, by mistake the last three companies were subsumed in a list as shown below. You are required to get rid of the nesting"
      ],
      "metadata": {
        "id": "1JPJCOe0LhnP"
      }
    },
    {
      "cell_type": "code",
      "source": [
        "# The list of tech companies curated by the individual\n",
        "tech_companies = ['Qualcomm','Google','Apple',['Nvidia','Cisco','Samsung']]\n",
        "\n",
        "# The final list that we want\n",
        "# correct_tech_companies = ['Qualcomm','Google','Apple','Nvidia','Cisco','Samsung']\n",
        "\n",
        "# Write your code below\n",
        "last_element = tech_companies[-1]\n",
        "correct_tech_companies = tech_companies[:-1] + last_element\n",
        "print(correct_tech_companies)"
      ],
      "metadata": {
        "colab": {
          "base_uri": "https://localhost:8080/"
        },
        "id": "x4CCaeKrLoit",
        "outputId": "9ec8a492-ac32-462d-dca8-5d51f45415a5"
      },
      "execution_count": 12,
      "outputs": [
        {
          "output_type": "stream",
          "name": "stdout",
          "text": [
            "['Qualcomm', 'Google', 'Apple', 'Nvidia', 'Cisco', 'Samsung']\n"
          ]
        }
      ]
    },
    {
      "cell_type": "code",
      "source": [
        "# Do the same task another way\n",
        "tech_companies.remove(last_element)\n",
        "tech_companies.extend(last_element)\n",
        "print(tech_companies)"
      ],
      "metadata": {
        "colab": {
          "base_uri": "https://localhost:8080/"
        },
        "id": "2ejxnN0ELyu2",
        "outputId": "66a074b4-f0d8-4dff-ad0e-050a85125b1f"
      },
      "execution_count": 13,
      "outputs": [
        {
          "output_type": "stream",
          "name": "stdout",
          "text": [
            "['Qualcomm', 'Google', 'Apple', 'Nvidia', 'Cisco', 'Samsung']\n"
          ]
        }
      ]
    }
  ]
}