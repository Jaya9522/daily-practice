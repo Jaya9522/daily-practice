{
  "nbformat": 4,
  "nbformat_minor": 0,
  "metadata": {
    "colab": {
      "provenance": [],
      "authorship_tag": "ABX9TyMZOcIRSdw9a65RhJ5usPbn",
      "include_colab_link": true
    },
    "kernelspec": {
      "name": "python3",
      "display_name": "Python 3"
    },
    "language_info": {
      "name": "python"
    }
  },
  "cells": [
    {
      "cell_type": "markdown",
      "metadata": {
        "id": "view-in-github",
        "colab_type": "text"
      },
      "source": [
        "<a href=\"https://colab.research.google.com/github/Jaya9522/daily-practice/blob/main/Untitled47.ipynb\" target=\"_parent\"><img src=\"https://colab.research.google.com/assets/colab-badge.svg\" alt=\"Open In Colab\"/></a>"
      ]
    },
    {
      "cell_type": "code",
      "execution_count": 9,
      "metadata": {
        "colab": {
          "base_uri": "https://localhost:8080/"
        },
        "id": "WErI8I7fsNHA",
        "outputId": "041a8e54-80ce-42cd-eb98-15ce7c6795a6"
      },
      "outputs": [
        {
          "output_type": "stream",
          "name": "stdout",
          "text": [
            "['a', 'c', 'b']\n"
          ]
        }
      ],
      "source": [
        "string='aaabbbcccccd'\n",
        "listt=[]\n",
        "for i in range(0,len(string)-1):\n",
        "    if string[i]==string[i+1]:\n",
        "        listt.append(string[i])\n",
        "    else:\n",
        "        pass\n",
        "print(list(set(listt)))           "
      ]
    },
    {
      "cell_type": "code",
      "source": [
        "x=25\n",
        "y=45\n",
        "def hcf(x,y):\n",
        "    listt=[]\n",
        "    if x > y:\n",
        "        smaller=y\n",
        "    else:\n",
        "        smaller=x    \n",
        "    for i in range(2,smaller+1):\n",
        "        if x%i==0 and y%i==0:\n",
        "            listt.append(i) \n",
        "    if len(listt) !=0:\n",
        "        result=max(listt)\n",
        "    else:\n",
        "        result=1\n",
        "    return result       \n",
        "\n",
        "def lcm(x,y):\n",
        "    return (x*y)//hcf(x,y)\n",
        "          "
      ],
      "metadata": {
        "id": "KCrMlgSqulWq"
      },
      "execution_count": 24,
      "outputs": []
    },
    {
      "cell_type": "code",
      "source": [
        "print(lcm(10,45))"
      ],
      "metadata": {
        "colab": {
          "base_uri": "https://localhost:8080/"
        },
        "id": "RuQ5J5e6zfLV",
        "outputId": "0f4b3bbe-f96f-4b83-8b23-6f007f05e716"
      },
      "execution_count": 25,
      "outputs": [
        {
          "output_type": "stream",
          "name": "stdout",
          "text": [
            "90\n"
          ]
        }
      ]
    },
    {
      "cell_type": "code",
      "source": [
        "print(lcm(100,lcm(25,lcm(45,50))))"
      ],
      "metadata": {
        "colab": {
          "base_uri": "https://localhost:8080/"
        },
        "id": "n9Mw-Vwn1kNc",
        "outputId": "b6844b91-54d3-4f4e-cf47-6be740906d8f"
      },
      "execution_count": 27,
      "outputs": [
        {
          "output_type": "stream",
          "name": "stdout",
          "text": [
            "900\n"
          ]
        }
      ]
    }
  ]
}