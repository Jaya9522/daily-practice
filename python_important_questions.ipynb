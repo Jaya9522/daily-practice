{
  "nbformat": 4,
  "nbformat_minor": 0,
  "metadata": {
    "colab": {
      "provenance": [],
      "authorship_tag": "ABX9TyO7ia1615HrhqkqTl4JcwKm",
      "include_colab_link": true
    },
    "kernelspec": {
      "name": "python3",
      "display_name": "Python 3"
    },
    "language_info": {
      "name": "python"
    }
  },
  "cells": [
    {
      "cell_type": "markdown",
      "metadata": {
        "id": "view-in-github",
        "colab_type": "text"
      },
      "source": [
        "<a href=\"https://colab.research.google.com/github/Jaya9522/daily-practice/blob/main/python_important_questions.ipynb\" target=\"_parent\"><img src=\"https://colab.research.google.com/assets/colab-badge.svg\" alt=\"Open In Colab\"/></a>"
      ]
    },
    {
      "cell_type": "markdown",
      "source": [
        "Question-1\n",
        "\n",
        "Write a python code to find the prome numbers between 40 t0 80 ?"
      ],
      "metadata": {
        "id": "-EGb0uA2fjkt"
      }
    },
    {
      "cell_type": "code",
      "execution_count": 2,
      "metadata": {
        "colab": {
          "base_uri": "https://localhost:8080/"
        },
        "id": "tYSUhDhMfXww",
        "outputId": "f537d245-9458-427c-ef6d-29c01b2897c2"
      },
      "outputs": [
        {
          "output_type": "stream",
          "name": "stdout",
          "text": [
            "41,43,47,53,59,61,67,71,73,79,"
          ]
        }
      ],
      "source": [
        "start=40\n",
        "end=80\n",
        "for i in range(start,end+1):\n",
        "    for j in range(2,i):\n",
        "        if(i%j)==0:\n",
        "            break\n",
        "    else:\n",
        "        print(i,end=\",\")     "
      ]
    },
    {
      "cell_type": "markdown",
      "source": [
        "Question-2\n",
        "\n",
        "Python program to check if year is a leap year or not ?"
      ],
      "metadata": {
        "id": "L3-gd5puhBbj"
      }
    },
    {
      "cell_type": "code",
      "source": [
        "year=2013\n",
        "if (year % 400 == 0) and (year % 100 == 0):\n",
        "    print(\"{0} is a leap year\".format(year))\n",
        "elif (year % 4 ==0) and (year % 100 != 0):\n",
        "    print(\"{0} is a leap year\".format(year))\n",
        "else:\n",
        "    print(\"{0} is not a leap year\".format(year))"
      ],
      "metadata": {
        "colab": {
          "base_uri": "https://localhost:8080/"
        },
        "id": "5hK4u_XvhI1P",
        "outputId": "d6b3973e-70c9-46bf-c2c4-533f92968a61"
      },
      "execution_count": 3,
      "outputs": [
        {
          "output_type": "stream",
          "name": "stdout",
          "text": [
            "2013 is not a leap year\n"
          ]
        }
      ]
    },
    {
      "cell_type": "markdown",
      "source": [
        "Question-3\n",
        "\n",
        "Python Program to check if a number is prime or not"
      ],
      "metadata": {
        "id": "EiH0z1CliTd2"
      }
    },
    {
      "cell_type": "code",
      "source": [
        "num=int(input())\n",
        "if num>1:\n",
        "    for i in range(2,num):\n",
        "        if(num%i)==0:\n",
        "            print(num,\"is not a prime number.\")\n",
        "            break\n",
        "    else:\n",
        "        print(num,\"is a prime number\")\n",
        "else:\n",
        "    print(\"please enter a valid number which is any number greater than 1.\")                \n",
        "\n"
      ],
      "metadata": {
        "colab": {
          "base_uri": "https://localhost:8080/"
        },
        "id": "YIR_caQ8iZdl",
        "outputId": "bf83ad4a-4a7d-4506-a822-6bd58867e071"
      },
      "execution_count": 10,
      "outputs": [
        {
          "output_type": "stream",
          "name": "stdout",
          "text": [
            "1\n",
            "please enter a valid number which is any number greater than 1.\n"
          ]
        }
      ]
    },
    {
      "cell_type": "markdown",
      "source": [
        "Question-4\n",
        "\n",
        "Python program to find the factorial of a number provided by the user ?\n"
      ],
      "metadata": {
        "id": "t--uTO6Bk710"
      }
    },
    {
      "cell_type": "code",
      "source": [
        "num=int(input())\n",
        "factorial=1\n",
        "if num < 0:\n",
        "    print(\"Sorry, factorial does not exist for negative numbers\")\n",
        "elif num == 0:\n",
        "   print(\"The factorial of 0 is 1\")   \n",
        "else:\n",
        "    for i in range(1,num+1):\n",
        "       factorial=factorial*i\n",
        "    print(\"The factorial of\",num,\"is\",factorial)"
      ],
      "metadata": {
        "colab": {
          "base_uri": "https://localhost:8080/"
        },
        "id": "XlJnGAX5jd2t",
        "outputId": "4a16db86-919f-4fc6-d96d-f37921b36bf1"
      },
      "execution_count": 12,
      "outputs": [
        {
          "output_type": "stream",
          "name": "stdout",
          "text": [
            "5\n",
            "The factorial of 5 is 120\n"
          ]
        }
      ]
    },
    {
      "cell_type": "markdown",
      "source": [
        "Question-5\n",
        "\n",
        "Program to display the Fibonacci sequence up to n-th term ?"
      ],
      "metadata": {
        "id": "1wHBJmDCqUEI"
      }
    },
    {
      "cell_type": "code",
      "source": [
        "nterm=int(input())\n",
        "n1,n2=0,1\n",
        "count=0\n",
        "if nterm <= 0:\n",
        "   print(\"Please enter a positive integer\")\n",
        "elif nterm == 1:\n",
        "   print(\"Fibonacci sequence upto\",nterm,\":\")\n",
        "   print(n1)\n",
        "else:\n",
        "   print(\"Fibonacci sequence:\")\n",
        "   while count < nterm:\n",
        "       print(n1)\n",
        "       nth = n1 + n2\n",
        "       n1 = n2\n",
        "       n2 = nth\n",
        "       count += 1   "
      ],
      "metadata": {
        "colab": {
          "base_uri": "https://localhost:8080/"
        },
        "id": "2lgezhGMl-QV",
        "outputId": "f873e63c-015c-4ab8-efae-c98da7fc0378"
      },
      "execution_count": 13,
      "outputs": [
        {
          "output_type": "stream",
          "name": "stdout",
          "text": [
            "6\n",
            "Fibonacci sequence:\n",
            "0\n",
            "1\n",
            "1\n",
            "2\n",
            "3\n",
            "5\n"
          ]
        }
      ]
    },
    {
      "cell_type": "code",
      "source": [],
      "metadata": {
        "id": "QviX5u9Hs3nW"
      },
      "execution_count": null,
      "outputs": []
    }
  ]
}