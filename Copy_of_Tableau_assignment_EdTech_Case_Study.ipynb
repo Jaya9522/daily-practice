{
  "nbformat": 4,
  "nbformat_minor": 0,
  "metadata": {
    "colab": {
      "provenance": [],
      "mount_file_id": "1k8fcNDoAJZpfoInqIXPSyq2lI46jjk9z",
      "authorship_tag": "ABX9TyO985bSY8OJIX9dfn/Z8rZg",
      "include_colab_link": true
    },
    "kernelspec": {
      "name": "python3",
      "display_name": "Python 3"
    },
    "language_info": {
      "name": "python"
    }
  },
  "cells": [
    {
      "cell_type": "markdown",
      "metadata": {
        "id": "view-in-github",
        "colab_type": "text"
      },
      "source": [
        "<a href=\"https://colab.research.google.com/github/Jaya9522/daily-practice/blob/main/Copy_of_Tableau_assignment_EdTech_Case_Study.ipynb\" target=\"_parent\"><img src=\"https://colab.research.google.com/assets/colab-badge.svg\" alt=\"Open In Colab\"/></a>"
      ]
    },
    {
      "cell_type": "markdown",
      "source": [
        "Tableau Assignment 2 EdTech case study Jayalaxmi mekap\n",
        "https://public.tableau.com/app/profile/jayalaxmi.mekap/viz/EdTechCasestudy/Dashboard1?publish=yes\n"
      ],
      "metadata": {
        "id": "N95WqA3ZhEVR"
      }
    },
    {
      "cell_type": "markdown",
      "source": [
        "https://public.tableau.com/app/profile/jayalaxmi.mekap/viz/EdTechCasestudyJaya/Dashboard1?publish=yes"
      ],
      "metadata": {
        "id": "l3QE8BawhEST"
      }
    }
  ]
}