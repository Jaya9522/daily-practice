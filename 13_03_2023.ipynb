{
  "nbformat": 4,
  "nbformat_minor": 0,
  "metadata": {
    "colab": {
      "provenance": [],
      "authorship_tag": "ABX9TyNUiRrn0k0UxJ3hgrWX5pQS",
      "include_colab_link": true
    },
    "kernelspec": {
      "name": "python3",
      "display_name": "Python 3"
    },
    "language_info": {
      "name": "python"
    }
  },
  "cells": [
    {
      "cell_type": "markdown",
      "metadata": {
        "id": "view-in-github",
        "colab_type": "text"
      },
      "source": [
        "<a href=\"https://colab.research.google.com/github/Jaya9522/daily-practice/blob/main/13_03_2023.ipynb\" target=\"_parent\"><img src=\"https://colab.research.google.com/assets/colab-badge.svg\" alt=\"Open In Colab\"/></a>"
      ]
    },
    {
      "cell_type": "code",
      "execution_count": null,
      "metadata": {
        "colab": {
          "base_uri": "https://localhost:8080/"
        },
        "id": "u5rUdCKNc_c5",
        "outputId": "29663301-deb4-4e87-ec29-0f6b5f5a78b6"
      },
      "outputs": [
        {
          "output_type": "stream",
          "name": "stdout",
          "text": [
            "2 3 5 7 "
          ]
        }
      ],
      "source": [
        "start=1\n",
        "end=10\n",
        "for i in range(start, end+1):\n",
        "  if i >1:\n",
        "    for j in range(2, i):\n",
        "      if(i%j)==0:\n",
        "        break\n",
        "    else:\n",
        "      print(i,end=\" \")    \n"
      ]
    },
    {
      "cell_type": "code",
      "source": [
        "num=8\n",
        "square_root=num ** 0.5\n",
        "print('The square root of %0.3f is %0.3f'%(num ,square_root))"
      ],
      "metadata": {
        "colab": {
          "base_uri": "https://localhost:8080/"
        },
        "id": "uRFTKLGV5sGL",
        "outputId": "25577a46-8b93-4feb-b5ce-1b7a1ec24fe8"
      },
      "execution_count": null,
      "outputs": [
        {
          "output_type": "stream",
          "name": "stdout",
          "text": [
            "The square root of 8.000 is 2.828\n"
          ]
        }
      ]
    },
    {
      "cell_type": "code",
      "source": [
        "# Find square root of real or complex numbers\n",
        "# Importing the complex math module\n",
        "import cmath\n",
        "\n",
        "num = 1+2j\n",
        "\n",
        "# To take input from the user\n",
        "#num = eval(input('Enter a number: '))\n",
        "\n",
        "num_sqrt = cmath.sqrt(num)\n",
        "print('The square root of {0} is {1:0.3f}+{2:0.3f}j'.format(num ,num_sqrt.real,num_sqrt.imag))"
      ],
      "metadata": {
        "colab": {
          "base_uri": "https://localhost:8080/"
        },
        "id": "Yvor4CYY62BI",
        "outputId": "f55a8a57-d4b6-43b2-97b0-0186c96a6b38"
      },
      "execution_count": null,
      "outputs": [
        {
          "output_type": "stream",
          "name": "stdout",
          "text": [
            "The square root of (1+2j) is 1.272+0.786j\n"
          ]
        }
      ]
    },
    {
      "cell_type": "code",
      "source": [
        "# Python Program to find the area of triangle\n",
        "# s = (a+b+c)/2\n",
        "# area = √(s(s-a)*(s-b)*(s-c))\n",
        "\n",
        "a = 5\n",
        "b = 6\n",
        "c = 7\n",
        "\n",
        "# Uncomment below to take inputs from the user\n",
        "# a = float(input('Enter first side: '))\n",
        "# b = float(input('Enter second side: '))\n",
        "# c = float(input('Enter third side: '))\n",
        "\n",
        "# calculate the semi-perimeter\n",
        "s = (a + b + c) / 2\n",
        "\n",
        "# calculate the area\n",
        "area = (s*(s-a)*(s-b)*(s-c)) ** 0.5\n",
        "print('The area of the triangle is %0.2f' %area)"
      ],
      "metadata": {
        "colab": {
          "base_uri": "https://localhost:8080/"
        },
        "id": "tjvWP_eT7OVu",
        "outputId": "3c687532-2c09-4c96-8639-0f359e262262"
      },
      "execution_count": null,
      "outputs": [
        {
          "output_type": "stream",
          "name": "stdout",
          "text": [
            "The area of the triangle is 14.70\n"
          ]
        }
      ]
    },
    {
      "cell_type": "code",
      "source": [
        "# Solve the quadratic equation ax**2 + bx + c = 0\n",
        "# ax2 + bx + c = 0, where\n",
        "# a, b and c are real numbers and\n",
        "# a ≠ 0\n",
        "# The solutions of this quadratic equation is given by:\n",
        "\n",
        "# (-b ± (b ** 2 - 4 * a * c) ** 0.5) / (2 * a)\n",
        "# import complex math module\n",
        "import cmath\n",
        "\n",
        "a = 1\n",
        "b = 5\n",
        "c = 6\n",
        "\n",
        "# calculate the discriminant\n",
        "d = (b**2) - (4*a*c)\n",
        "\n",
        "# find two solutions\n",
        "sol1 = (-b-cmath.sqrt(d))/(2*a)\n",
        "sol2 = (-b+cmath.sqrt(d))/(2*a)\n",
        "\n",
        "print('The solution are {0} and {1}'.format(sol1,sol2))"
      ],
      "metadata": {
        "colab": {
          "base_uri": "https://localhost:8080/"
        },
        "id": "x1YSIow_8WUy",
        "outputId": "2de42c5a-31ef-43bf-a073-26bf611f022c"
      },
      "execution_count": null,
      "outputs": [
        {
          "output_type": "stream",
          "name": "stdout",
          "text": [
            "The solution are (-3+0j) and (-2+0j)\n"
          ]
        }
      ]
    },
    {
      "cell_type": "code",
      "source": [
        "# Python program to swap two variables\n",
        "\n",
        "x = 5\n",
        "y = 10\n",
        "\n",
        "# To take inputs from the user\n",
        "#x = input('Enter value of x: ')\n",
        "#y = input('Enter value of y: ')\n",
        "\n",
        "# create a temporary variable and swap the values\n",
        "temp = x\n",
        "x = y\n",
        "y = temp\n",
        "\n",
        "print('The value of x after swapping: {}'.format(x))\n",
        "print('The value of y after swapping: {}'.format(y))"
      ],
      "metadata": {
        "colab": {
          "base_uri": "https://localhost:8080/"
        },
        "id": "-64qxU1W-C29",
        "outputId": "bd13daaa-8d5c-4407-9702-069344c42522"
      },
      "execution_count": null,
      "outputs": [
        {
          "output_type": "stream",
          "name": "stdout",
          "text": [
            "The value of x after swapping: 10\n",
            "The value of y after swapping: 5\n"
          ]
        }
      ]
    },
    {
      "cell_type": "code",
      "source": [
        "# Program to generate a random number between 0 and 9\n",
        "\n",
        "# importing the random module\n",
        "import random\n",
        "\n",
        "print(random.randint(0,9))"
      ],
      "metadata": {
        "colab": {
          "base_uri": "https://localhost:8080/"
        },
        "id": "2lT08i6--nja",
        "outputId": "a31c015f-fb23-440c-a7bb-937aa77467d1"
      },
      "execution_count": null,
      "outputs": [
        {
          "output_type": "stream",
          "name": "stdout",
          "text": [
            "5\n"
          ]
        }
      ]
    },
    {
      "cell_type": "code",
      "source": [
        "# Taking kilometers input from the user\n",
        "kilometers = float(input(\"Enter value in kilometers: \"))\n",
        "\n",
        "# conversion factor\n",
        "conv_fac = 0.621371\n",
        "\n",
        "# calculate miles\n",
        "miles = kilometers * conv_fac\n",
        "print('%0.2f kilometers is equal to %0.2f miles' %(kilometers,miles))"
      ],
      "metadata": {
        "colab": {
          "base_uri": "https://localhost:8080/"
        },
        "id": "AL-Nerkb-7Z1",
        "outputId": "61472f3f-7a82-46f1-f1e6-8b1e00bbf150"
      },
      "execution_count": null,
      "outputs": [
        {
          "output_type": "stream",
          "name": "stdout",
          "text": [
            "Enter value in kilometers: 5\n",
            "5.00 kilometers is equal to 3.11 miles\n"
          ]
        }
      ]
    },
    {
      "cell_type": "code",
      "source": [
        "# Python Program to convert temperature in celsius to fahrenheit\n",
        "\n",
        "# change this value for a different result\n",
        "celsius = 37.5\n",
        "\n",
        "# calculate fahrenheit\n",
        "fahrenheit = (celsius * 1.8) + 32\n",
        "print('%0.1f degree Celsius is equal to %0.1f degree Fahrenheit' %(celsius,fahrenheit))"
      ],
      "metadata": {
        "colab": {
          "base_uri": "https://localhost:8080/"
        },
        "id": "1ucyxQLP-_l9",
        "outputId": "f469a4e5-8d94-4d2f-8728-a1a23d9c11e4"
      },
      "execution_count": null,
      "outputs": [
        {
          "output_type": "stream",
          "name": "stdout",
          "text": [
            "37.5 degree Celsius is equal to 99.5 degree Fahrenheit\n"
          ]
        }
      ]
    },
    {
      "cell_type": "code",
      "source": [
        "num = float(input(\"Enter a number: \"))\n",
        "if num > 0:\n",
        "   print(\"Positive number\")\n",
        "elif num == 0:\n",
        "   print(\"Zero\")\n",
        "else:\n",
        "   print(\"Negative number\")\n"
      ],
      "metadata": {
        "colab": {
          "base_uri": "https://localhost:8080/"
        },
        "id": "pefX_WAcBfAI",
        "outputId": "28df1339-30a4-4b75-ac24-1ac00a708ef0"
      },
      "execution_count": null,
      "outputs": [
        {
          "output_type": "stream",
          "name": "stdout",
          "text": [
            "Enter a number: 6\n",
            "Positive number\n"
          ]
        }
      ]
    },
    {
      "cell_type": "code",
      "source": [
        "# Python program to check if the input number is odd or even.\n",
        "# A number is even if division by 2 gives a remainder of 0.\n",
        "# If the remainder is 1, it is an odd number.\n",
        "\n",
        "num = int(input(\"Enter a number: \"))\n",
        "if (num % 2) == 0:\n",
        "   print(\"{0} is Even\".format(num))\n",
        "else:\n",
        "   print(\"{0} is Odd\".format(num))"
      ],
      "metadata": {
        "colab": {
          "base_uri": "https://localhost:8080/"
        },
        "id": "dqT10H2uBgl3",
        "outputId": "7f2cedbd-b330-442e-ea6b-74d911e883ef"
      },
      "execution_count": null,
      "outputs": [
        {
          "output_type": "stream",
          "name": "stdout",
          "text": [
            "Enter a number: 5\n",
            "5 is Odd\n"
          ]
        }
      ]
    },
    {
      "cell_type": "code",
      "source": [
        "# Python program to check if year is a leap year or not\n",
        "\n",
        "year = 2000\n",
        "\n",
        "# To get year (integer input) from the user\n",
        "# year = int(input(\"Enter a year: \"))\n",
        "\n",
        "# divided by 100 means century year (ending with 00)\n",
        "# century year divided by 400 is leap year\n",
        "if (year % 400 == 0) and (year % 100 == 0):\n",
        "    print(\"{0} is a leap year\".format(year))\n",
        "\n",
        "# not divided by 100 means not a century year\n",
        "# year divided by 4 is a leap year\n",
        "elif (year % 4 ==0) and (year % 100 != 0):\n",
        "    print(\"{0} is a leap year\".format(year))\n",
        "\n",
        "# if not divided by both 400 (century year) and 4 (not century year)\n",
        "# year is not leap year\n",
        "else:\n",
        "    print(\"{0} is not a leap year\".format(year))"
      ],
      "metadata": {
        "colab": {
          "base_uri": "https://localhost:8080/"
        },
        "id": "r6ttwIj-BxP_",
        "outputId": "3186a0bc-1872-4ff9-c5ba-031bb0c36c97"
      },
      "execution_count": null,
      "outputs": [
        {
          "output_type": "stream",
          "name": "stdout",
          "text": [
            "2000 is a leap year\n"
          ]
        }
      ]
    },
    {
      "cell_type": "code",
      "source": [
        "# Python program to find the largest number among the three input numbers\n",
        "\n",
        "# change the values of num1, num2 and num3\n",
        "# for a different result\n",
        "num1 = 10\n",
        "num2 = 14\n",
        "num3 = 12\n",
        "\n",
        "# uncomment following lines to take three numbers from user\n",
        "#num1 = float(input(\"Enter first number: \"))\n",
        "#num2 = float(input(\"Enter second number: \"))\n",
        "#num3 = float(input(\"Enter third number: \"))\n",
        "\n",
        "if (num1 >= num2) and (num1 >= num3):\n",
        "   largest = num1\n",
        "elif (num2 >= num1) and (num2 >= num3):\n",
        "   largest = num2\n",
        "else:\n",
        "   largest = num3\n",
        "\n",
        "print(\"The largest number is\", largest)"
      ],
      "metadata": {
        "colab": {
          "base_uri": "https://localhost:8080/"
        },
        "id": "WAAdBfM7EBEj",
        "outputId": "6f222aee-0332-40bf-e35f-9f568d5e7377"
      },
      "execution_count": null,
      "outputs": [
        {
          "output_type": "stream",
          "name": "stdout",
          "text": [
            "The largest number is 14\n"
          ]
        }
      ]
    },
    {
      "cell_type": "code",
      "source": [
        "# Program to check if a number is prime or not\n",
        "# Input from the user\n",
        "num = int(input(\"Enter a number: \"))\n",
        "\n",
        "# If number is greater than 1\n",
        "if num > 1:\n",
        "   # Check if factor exist  \n",
        "   for i in range(2,num):\n",
        "       if (num % i) == 0:\n",
        "           print(num,\"is not a prime number\")\n",
        "           break\n",
        "   else:\n",
        "       print(num,\"is a prime number\")\n",
        "       \n",
        "# Else if the input number is less than or equal to 1\n",
        "else:\n",
        "   print(num,\"is not a prime number\")"
      ],
      "metadata": {
        "colab": {
          "base_uri": "https://localhost:8080/"
        },
        "id": "vxbQDvNkFpCq",
        "outputId": "9bf2dc5c-2dba-4f8b-d406-c2daef63388e"
      },
      "execution_count": null,
      "outputs": [
        {
          "output_type": "stream",
          "name": "stdout",
          "text": [
            "Enter a number: 7\n",
            "7 is a prime number\n"
          ]
        }
      ]
    },
    {
      "cell_type": "code",
      "source": [
        "# Python program to display all the prime numbers within an interval\n",
        "\n",
        "lower = 900\n",
        "upper = 1000\n",
        "\n",
        "print(\"Prime numbers between\", lower, \"and\", upper, \"are:\")\n",
        "\n",
        "for num in range(lower, upper + 1):\n",
        "   # all prime numbers are greater than 1\n",
        "   if num > 1:\n",
        "       for i in range(2, num):\n",
        "           if (num % i) == 0:\n",
        "               break\n",
        "       else:\n",
        "           print(num,end=',')"
      ],
      "metadata": {
        "colab": {
          "base_uri": "https://localhost:8080/"
        },
        "id": "XiAhp98cFrfY",
        "outputId": "253bbe4a-e5a1-4605-d0cf-b6adcb2616e9"
      },
      "execution_count": null,
      "outputs": [
        {
          "output_type": "stream",
          "name": "stdout",
          "text": [
            "Prime numbers between 900 and 1000 are:\n",
            "907,911,919,929,937,941,947,953,967,971,977,983,991,997,"
          ]
        }
      ]
    },
    {
      "cell_type": "code",
      "source": [
        "# Python program to find the factorial of a number provided by the user.\n",
        "\n",
        "# change the value for a different result\n",
        "num = 7\n",
        "\n",
        "# To take input from the user\n",
        "#num = int(input(\"Enter a number: \"))\n",
        "\n",
        "factorial = 1\n",
        "\n",
        "# check if the number is negative, positive or zero\n",
        "if num < 0:\n",
        "   print(\"Sorry, factorial does not exist for negative numbers\")\n",
        "elif num == 0:\n",
        "   print(\"The factorial of 0 is 1\")\n",
        "else:\n",
        "   for i in range(1,num + 1):\n",
        "       factorial = factorial*i\n",
        "   print(\"The factorial of\",num,\"is\",factorial)"
      ],
      "metadata": {
        "colab": {
          "base_uri": "https://localhost:8080/"
        },
        "id": "HbQOMWYuHwBB",
        "outputId": "b573a9e3-b2d6-4555-8123-a9d907454f34"
      },
      "execution_count": null,
      "outputs": [
        {
          "output_type": "stream",
          "name": "stdout",
          "text": [
            "The factorial of 7 is 5040\n"
          ]
        }
      ]
    },
    {
      "cell_type": "code",
      "source": [
        "# Python program to find the factorial of a number provided by the user\n",
        "# using recursion\n",
        "\n",
        "def factorial(x):\n",
        "    \"\"\"This is a recursive function\n",
        "    to find the factorial of an integer\"\"\"\n",
        "\n",
        "    if x == 1:\n",
        "        return 1\n",
        "    else:\n",
        "        # recursive call to the function\n",
        "        return (x * factorial(x-1))\n",
        "\n",
        "\n",
        "# change the value for a different result\n",
        "num = 7\n",
        "\n",
        "# to take input from the user\n",
        "# num = int(input(\"Enter a number: \"))\n",
        "\n",
        "# call the factorial function\n",
        "result = factorial(num)\n",
        "print(\"The factorial of\", num, \"is\", result)\n"
      ],
      "metadata": {
        "colab": {
          "base_uri": "https://localhost:8080/"
        },
        "id": "OMbgaur8JExC",
        "outputId": "07dc5b6d-02bb-4372-8bf3-e230c0926cb8"
      },
      "execution_count": null,
      "outputs": [
        {
          "output_type": "stream",
          "name": "stdout",
          "text": [
            "The factorial of 7 is 5040\n"
          ]
        }
      ]
    },
    {
      "cell_type": "code",
      "source": [
        "# Multiplication table (from 1 to 10) in Python\n",
        "\n",
        "num = 12\n",
        "\n",
        "# To take input from the user\n",
        "# num = int(input(\"Display multiplication table of? \"))\n",
        "\n",
        "# Iterate 10 times from i = 1 to 10\n",
        "for i in range(1, 11):\n",
        "   print(num, 'x', i, '=', num*i)"
      ],
      "metadata": {
        "colab": {
          "base_uri": "https://localhost:8080/"
        },
        "id": "07-4j3EzK545",
        "outputId": "cd1cc22b-50a5-40e5-d7e6-6ab3b9bfe8ae"
      },
      "execution_count": null,
      "outputs": [
        {
          "output_type": "stream",
          "name": "stdout",
          "text": [
            "12 x 1 = 12\n",
            "12 x 2 = 24\n",
            "12 x 3 = 36\n",
            "12 x 4 = 48\n",
            "12 x 5 = 60\n",
            "12 x 6 = 72\n",
            "12 x 7 = 84\n",
            "12 x 8 = 96\n",
            "12 x 9 = 108\n",
            "12 x 10 = 120\n"
          ]
        }
      ]
    },
    {
      "cell_type": "code",
      "source": [
        "# Program to display the Fibonacci sequence up to n-th term\n",
        "\n",
        "nterms = int(input(\"How many terms? \"))\n",
        "\n",
        "# first two terms\n",
        "n1, n2 = 0, 1\n",
        "count = 0\n",
        "\n",
        "# check if the number of terms is valid\n",
        "if nterms <= 0:\n",
        "   print(\"Please enter a positive integer\")\n",
        "# if there is only one term, return n1\n",
        "elif nterms == 1:\n",
        "   print(\"Fibonacci sequence upto\",nterms,\":\")\n",
        "   print(n1)\n",
        "# generate fibonacci sequence\n",
        "else:\n",
        "   print(\"Fibonacci sequence:\")\n",
        "   while count < nterms:\n",
        "       print(n1)\n",
        "       nth = n1 + n2\n",
        "       # update values\n",
        "       n1 = n2\n",
        "       n2 = nth\n",
        "       count += 1"
      ],
      "metadata": {
        "colab": {
          "base_uri": "https://localhost:8080/"
        },
        "id": "bhohOuaTMXHg",
        "outputId": "cc715dd1-3497-4fce-e9e3-681437efc581"
      },
      "execution_count": null,
      "outputs": [
        {
          "output_type": "stream",
          "name": "stdout",
          "text": [
            "How many terms? 6\n",
            "Fibonacci sequence:\n",
            "0\n",
            "1\n",
            "1\n",
            "2\n",
            "3\n",
            "5\n"
          ]
        }
      ]
    },
    {
      "cell_type": "code",
      "source": [
        "# Python program to print Fibonacci Series\n",
        "def fibonacciSeries(i):\n",
        " if i <= 1:\n",
        "  return i\n",
        " else:\n",
        "  return (fibonacciSeries(i - 1) + fibonacciSeries(i - 2))\n",
        "\n",
        "num=6 \n",
        "if num <=0:\n",
        " print(\"Please enter a Positive Number\")\n",
        "else:\n",
        " print(\"Fibonacci Series:\", end=\" \")\n",
        "for i in range(num):\n",
        " print(fibonacciSeries(i), end=\" \")"
      ],
      "metadata": {
        "colab": {
          "base_uri": "https://localhost:8080/"
        },
        "id": "1_fC_ctXO3QH",
        "outputId": "70618968-652d-4981-aad0-69c246640c1d"
      },
      "execution_count": null,
      "outputs": [
        {
          "output_type": "stream",
          "name": "stdout",
          "text": [
            "Fibonacci Series: 0 1 1 2 3 5 "
          ]
        }
      ]
    },
    {
      "cell_type": "code",
      "source": [
        "count = 0\n",
        "while count < 10:\n",
        "    count += 1\n",
        "    print(count)"
      ],
      "metadata": {
        "colab": {
          "base_uri": "https://localhost:8080/"
        },
        "id": "VuJgprACQ9gK",
        "outputId": "f4d19981-30a2-4edf-d58c-6ad65d86e58b"
      },
      "execution_count": null,
      "outputs": [
        {
          "output_type": "stream",
          "name": "stdout",
          "text": [
            "1\n",
            "2\n",
            "3\n",
            "4\n",
            "5\n",
            "6\n",
            "7\n",
            "8\n",
            "9\n",
            "10\n"
          ]
        }
      ]
    },
    {
      "cell_type": "code",
      "source": [
        "num = int(input(\"Enter a number: \"))\n",
        "sum = 0\n",
        "order = len(str(num))\n",
        "print(order)"
      ],
      "metadata": {
        "colab": {
          "base_uri": "https://localhost:8080/"
        },
        "id": "JjctBt6hR3hP",
        "outputId": "da2059d2-568b-4a64-9947-314b7dd9adbd"
      },
      "execution_count": null,
      "outputs": [
        {
          "output_type": "stream",
          "name": "stdout",
          "text": [
            "Enter a number: 153\n",
            "3\n"
          ]
        }
      ]
    },
    {
      "cell_type": "code",
      "source": [
        "#Armstrong number check\n",
        "num = int(input(\"Enter a number: \"))\n",
        "sum = 0\n",
        "order = len(str(num))\n",
        "\n",
        "temp = num\n",
        "while temp > 0:\n",
        "    digit = temp % 10\n",
        "    sum += digit ** order\n",
        "    temp //= 10\n",
        "\n",
        "if num == sum:\n",
        "    print(num, \"is an Armstrong number\")\n",
        "else:\n",
        "    print(num, \"is not an Armstrong number\")"
      ],
      "metadata": {
        "colab": {
          "base_uri": "https://localhost:8080/"
        },
        "id": "93R3ZxPOTArV",
        "outputId": "712fc50a-8408-4923-c28d-1ac53006225d"
      },
      "execution_count": null,
      "outputs": [
        {
          "output_type": "stream",
          "name": "stdout",
          "text": [
            "Enter a number: 153\n",
            "153 is an Armstrong number\n"
          ]
        }
      ]
    },
    {
      "cell_type": "code",
      "source": [
        "def is_armstrong(num):\n",
        "    order = len(str(num))\n",
        "    temp = num\n",
        "    sum = 0\n",
        "    \n",
        "    while temp > 0:\n",
        "        digit = temp % 10\n",
        "        sum += digit ** order\n",
        "        temp //= 10\n",
        "    \n",
        "    if num == sum:\n",
        "        return True\n",
        "    else:\n",
        "        return False\n"
      ],
      "metadata": {
        "id": "2QfSHT97Uoe1"
      },
      "execution_count": null,
      "outputs": []
    },
    {
      "cell_type": "code",
      "source": [
        "print(is_armstrong(153))"
      ],
      "metadata": {
        "colab": {
          "base_uri": "https://localhost:8080/"
        },
        "id": "6iIS1YaGVklr",
        "outputId": "d82ce066-dc52-4cf2-9845-efc015128c0d"
      },
      "execution_count": null,
      "outputs": [
        {
          "output_type": "stream",
          "name": "stdout",
          "text": [
            "True\n"
          ]
        }
      ]
    },
    {
      "cell_type": "code",
      "source": [
        "num = 153\n",
        "if is_armstrong(num):\n",
        "    print(num, \"is an Armstrong number\")\n",
        "else:\n",
        "    print(num, \"is not an Armstrong number\")"
      ],
      "metadata": {
        "colab": {
          "base_uri": "https://localhost:8080/"
        },
        "id": "ta0uTRvUWyHm",
        "outputId": "5a4eaac3-72e0-44e1-c8d9-ce4424b44a02"
      },
      "execution_count": null,
      "outputs": [
        {
          "output_type": "stream",
          "name": "stdout",
          "text": [
            "153 is an Armstrong number\n"
          ]
        }
      ]
    },
    {
      "cell_type": "code",
      "source": [
        "# Program to check Armstrong numbers in a certain interval\n",
        "\n",
        "lower = 100\n",
        "upper = 2000\n",
        "\n",
        "for num in range(lower, upper + 1):\n",
        "\n",
        "   # order of number\n",
        "   order = len(str(num))\n",
        "    \n",
        "   # initialize sum\n",
        "   sum = 0\n",
        "\n",
        "   temp = num\n",
        "   while temp > 0:\n",
        "       digit = temp % 10\n",
        "       sum += digit ** order\n",
        "       temp //= 10\n",
        "\n",
        "   if num == sum:\n",
        "       print(num,end=\" \")"
      ],
      "metadata": {
        "colab": {
          "base_uri": "https://localhost:8080/"
        },
        "id": "wO06VAZ_W7fK",
        "outputId": "5b373544-fd84-4f35-f4bd-669a82c12762"
      },
      "execution_count": null,
      "outputs": [
        {
          "output_type": "stream",
          "name": "stdout",
          "text": [
            "153 370 371 407 1634 "
          ]
        }
      ]
    },
    {
      "cell_type": "code",
      "source": [
        "# Sum of natural numbers up to num\n",
        "\n",
        "num = 16\n",
        "\n",
        "if num < 0:\n",
        "   print(\"Enter a positive number\")\n",
        "else:\n",
        "   sum = 0\n",
        "   # use while loop to iterate until zero\n",
        "   while(num > 0):\n",
        "       sum += num\n",
        "       num -= 1\n",
        "   print(\"The sum is\", sum)"
      ],
      "metadata": {
        "colab": {
          "base_uri": "https://localhost:8080/"
        },
        "id": "T-Y7BQXvapUB",
        "outputId": "f1909805-a5a1-46cf-fcdf-e4e54c5b172d"
      },
      "execution_count": null,
      "outputs": [
        {
          "output_type": "stream",
          "name": "stdout",
          "text": [
            "The sum is 136\n"
          ]
        }
      ]
    },
    {
      "cell_type": "code",
      "source": [
        "start = 30\n",
        "end = 45\n",
        "sum = 0\n",
        "\n",
        "for i in range(start, end+1):\n",
        "    sum += i\n",
        "\n",
        "print(\"The sum of natural numbers between\", start, \"and\", end, \"is:\", sum)"
      ],
      "metadata": {
        "id": "LqmSqPPNa7eJ",
        "outputId": "507b68b0-7539-4218-95fe-fbb3b26ba205",
        "colab": {
          "base_uri": "https://localhost:8080/"
        }
      },
      "execution_count": null,
      "outputs": [
        {
          "output_type": "stream",
          "name": "stdout",
          "text": [
            "The sum of natural numbers between 30 and 45 is: 600\n"
          ]
        }
      ]
    },
    {
      "cell_type": "code",
      "source": [
        "# Display the powers of 2 using anonymous function\n",
        "\n",
        "terms = 10\n",
        "\n",
        "# Uncomment code below to take input from the user\n",
        "# terms = int(input(\"How many terms? \"))\n",
        "\n",
        "# use anonymous function\n",
        "result = list(map(lambda x: 2 ** x, range(terms)))\n",
        "\n",
        "print(\"The total terms are:\",terms)\n",
        "for i in range(terms):\n",
        "   print(\"2 raised to power\",i,\"is\",result[i])"
      ],
      "metadata": {
        "colab": {
          "base_uri": "https://localhost:8080/"
        },
        "id": "EJ1_igEOSCOq",
        "outputId": "e383a7af-188c-429c-a7a3-7ec3440f946a"
      },
      "execution_count": null,
      "outputs": [
        {
          "output_type": "stream",
          "name": "stdout",
          "text": [
            "The total terms are: 10\n",
            "2 raised to power 0 is 1\n",
            "2 raised to power 1 is 2\n",
            "2 raised to power 2 is 4\n",
            "2 raised to power 3 is 8\n",
            "2 raised to power 4 is 16\n",
            "2 raised to power 5 is 32\n",
            "2 raised to power 6 is 64\n",
            "2 raised to power 7 is 128\n",
            "2 raised to power 8 is 256\n",
            "2 raised to power 9 is 512\n"
          ]
        }
      ]
    },
    {
      "cell_type": "code",
      "source": [
        "list1 = [-3, 8, -1, 6, 9, 3, -1, -7, -5, -42, 73, 65]\n",
        "positive_list = []\n",
        "negative_list = []\n",
        "\n",
        "# Separate positive and negative numbers into two separate lists\n",
        "for num in list1:\n",
        "    if num >= 0:\n",
        "        positive_list.append(num)\n",
        "    else:\n",
        "        negative_list.append(num)\n",
        "\n",
        "# Combine positive and negative lists into a single list\n",
        "result_list = negative_list + positive_list\n",
        "\n",
        "print(\"Original list:\", list1)\n",
        "print(\"Separated negative list:\", negative_list)\n",
        "print(\"Separated positive list:\", positive_list)\n",
        "print(\"Combined list:\", result_list)\n"
      ],
      "metadata": {
        "colab": {
          "base_uri": "https://localhost:8080/"
        },
        "id": "mfGjb2lATnZp",
        "outputId": "d8236a5a-278d-44e5-e7dd-e4c8e5314c09"
      },
      "execution_count": null,
      "outputs": [
        {
          "output_type": "stream",
          "name": "stdout",
          "text": [
            "Original list: [-3, 8, -1, 6, 9, 3, -1, -7, -5, -42, 73, 65]\n",
            "Separated negative list: [-3, -1, -1, -7, -5, -42]\n",
            "Separated positive list: [8, 6, 9, 3, 73, 65]\n",
            "Combined list: [-3, -1, -1, -7, -5, -42, 8, 6, 9, 3, 73, 65]\n"
          ]
        }
      ]
    },
    {
      "cell_type": "code",
      "source": [
        "my_list= [-15, -26, 15, 1, 23, -64, 23, 76]\n",
        "sort_list=[]\n",
        "while my_list:\n",
        "  min=my_list[0]\n",
        "  for i in my_list:\n",
        "    if i < min:\n",
        "      min=i\n",
        "  sort_list.append(min)\n",
        "  my_list.remove(min)\n",
        "print(sort_list)     "
      ],
      "metadata": {
        "colab": {
          "base_uri": "https://localhost:8080/"
        },
        "id": "4-cU6vZ_Tv0x",
        "outputId": "d537f218-a7d5-489b-bff7-d68d84bbc8a3"
      },
      "execution_count": null,
      "outputs": [
        {
          "output_type": "stream",
          "name": "stdout",
          "text": [
            "[-64, -26, -15, 1, 15, 23, 23, 76]\n"
          ]
        }
      ]
    },
    {
      "cell_type": "code",
      "source": [
        "my_list= [-15, -26, 15, 1, 23, -64, 23, 76]\n",
        "sort_list=[]\n",
        "while my_list:\n",
        "  maxx=my_list[0]\n",
        "  for i in my_list:\n",
        "    if i > maxx:\n",
        "      maxx=i\n",
        "  sort_list.append(maxx)\n",
        "  my_list.remove(maxx)\n",
        "print(sort_list)     "
      ],
      "metadata": {
        "colab": {
          "base_uri": "https://localhost:8080/"
        },
        "id": "WwbvfFuiUp3v",
        "outputId": "7af3cc27-d115-4dbb-ac9c-fd5d9586a6b0"
      },
      "execution_count": null,
      "outputs": [
        {
          "output_type": "stream",
          "name": "stdout",
          "text": [
            "[76, 23, 23, 15, 1, -15, -26, -64]\n"
          ]
        }
      ]
    },
    {
      "cell_type": "code",
      "source": [
        "filename='jayalaxmimekap'\n",
        "file=filename.replace('a','A')\n",
        "print(file)"
      ],
      "metadata": {
        "colab": {
          "base_uri": "https://localhost:8080/"
        },
        "id": "coblWwBdUuYs",
        "outputId": "e701e3f9-b719-4a57-f6ab-0f5b17d21db1"
      },
      "execution_count": null,
      "outputs": [
        {
          "output_type": "stream",
          "name": "stdout",
          "text": [
            "jAyAlAxmimekAp\n"
          ]
        }
      ]
    },
    {
      "cell_type": "code",
      "source": [
        "filename='jayalaxmimekap'\n",
        "index= 0\n",
        "newc='J'\n",
        "filename=filename[:index]+newc+filename[index+1:]\n",
        "print(filename)"
      ],
      "metadata": {
        "colab": {
          "base_uri": "https://localhost:8080/"
        },
        "id": "qJIZJuokUx7t",
        "outputId": "8eba71cd-ffae-4b0d-f8fb-7edcb54ea219"
      },
      "execution_count": null,
      "outputs": [
        {
          "output_type": "stream",
          "name": "stdout",
          "text": [
            "Jayalaxmimekap\n"
          ]
        }
      ]
    },
    {
      "cell_type": "code",
      "source": [
        "num = 12\n",
        "listt = [10, 3, 4, 7, 6, 6, 2]\n",
        "\n",
        "# Create an empty set to store pairs of elements that sum to 'num'\n",
        "pairs = set()\n",
        "\n",
        "# Loop through each element in the list\n",
        "for i in range(len(listt)):\n",
        "    # Check if 'num' minus the current element is already in the set\n",
        "    if num - listt[i] in pairs:\n",
        "        # If it is, print the pair of elements that sum to 'num'\n",
        "        print(\"Pair found:\", num - listt[i], listt[i])\n",
        "    else:\n",
        "        # Otherwise, add the current element to the set\n",
        "        pairs.add(listt[i])\n"
      ],
      "metadata": {
        "colab": {
          "base_uri": "https://localhost:8080/"
        },
        "id": "H6jDDNM4VUzS",
        "outputId": "f93199c3-dc4f-46e7-b2c2-fa0db1a7bfab"
      },
      "execution_count": null,
      "outputs": [
        {
          "output_type": "stream",
          "name": "stdout",
          "text": [
            "Pair found: 6 6\n",
            "Pair found: 10 2\n"
          ]
        }
      ]
    },
    {
      "cell_type": "code",
      "source": [
        "num = 12\n",
        "listt = [10, 3, 4, 7, 6, 6, 2]\n",
        "\n",
        "# Create an empty dictionary to store the indices of each element\n",
        "index_dict = {}\n",
        "\n",
        "# Loop through each element in the list and store its index in the dictionary\n",
        "for i in range(len(listt)):\n",
        "    index_dict[listt[i]] = i\n",
        "\n",
        "# Loop through each element in the list again\n",
        "for i in range(len(listt)):\n",
        "    # Check if 'num' minus the current element is in the dictionary\n",
        "    if num - listt[i] in index_dict:\n",
        "        # If it is, print the indices of the two elements that sum to 'num'\n",
        "        print(\"Pair found at indices:\", index_dict[num - listt[i]], i)\n"
      ],
      "metadata": {
        "colab": {
          "base_uri": "https://localhost:8080/"
        },
        "id": "3cDWnIWqWUh6",
        "outputId": "e9b6a22a-b379-4864-b4a8-70358dc4c7d2"
      },
      "execution_count": null,
      "outputs": [
        {
          "output_type": "stream",
          "name": "stdout",
          "text": [
            "Pair found at indices: 6 0\n",
            "Pair found at indices: 5 4\n",
            "Pair found at indices: 5 5\n",
            "Pair found at indices: 0 6\n"
          ]
        }
      ]
    },
    {
      "cell_type": "code",
      "source": [
        "num = 12\n",
        "listt = [10, 3, 4, 7, 6, 6, 2]\n",
        "\n",
        "# Create an empty dictionary to store the indices of each element\n",
        "index_dict = {}\n",
        "\n",
        "# Loop through each element in the list and store its index in the dictionary\n",
        "for i in range(len(listt)):\n",
        "    index_dict[listt[i]] = i\n",
        "\n",
        "# Create an empty set to store the pairs of indices that have already been printed\n",
        "printed_pairs = set()\n",
        "\n",
        "# Loop through each element in the list again\n",
        "for i in range(len(listt)):\n",
        "    # Check if 'num' minus the current element is in the dictionary\n",
        "    if num - listt[i] in index_dict:\n",
        "        # If it is, get the indices of the two elements that sum to 'num'\n",
        "        index1 = index_dict[num - listt[i]]\n",
        "        index2 = i\n",
        "        # Check if this pair of indices has already been printed\n",
        "        if (index1, index2) not in printed_pairs and (index2, index1) not in printed_pairs:\n",
        "            # If it hasn't, print the pair of elements that sum to 'num' and add the pair of indices to the set\n",
        "            print(\"Pair found at indices:\", index1, index2)\n",
        "            printed_pairs.add((index1, index2))\n",
        "\n"
      ],
      "metadata": {
        "colab": {
          "base_uri": "https://localhost:8080/"
        },
        "id": "n0nrK6mgXV5t",
        "outputId": "0301c1ec-2850-4f43-fdca-7367928350e3"
      },
      "execution_count": null,
      "outputs": [
        {
          "output_type": "stream",
          "name": "stdout",
          "text": [
            "Pair found at indices: 6 0\n",
            "Pair found at indices: 5 4\n",
            "Pair found at indices: 5 5\n"
          ]
        }
      ]
    },
    {
      "cell_type": "code",
      "source": [
        "# Take a list of numbers\n",
        "my_list = [12, 65, 54, 39, 102, 339, 221,]\n",
        "\n",
        "# use anonymous function to filter\n",
        "result = list(filter(lambda x: (x % 13 == 0), my_list))\n",
        "\n",
        "# display the result\n",
        "print(\"Numbers divisible by 13 are\",result)\n"
      ],
      "metadata": {
        "colab": {
          "base_uri": "https://localhost:8080/"
        },
        "id": "U-BMMltAX2pp",
        "outputId": "5f5b8df4-2d3c-4398-eecb-899f1ee9844a"
      },
      "execution_count": null,
      "outputs": [
        {
          "output_type": "stream",
          "name": "stdout",
          "text": [
            "Numbers divisible by 13 are [65, 39, 221]\n"
          ]
        }
      ]
    },
    {
      "cell_type": "code",
      "source": [
        "# Python program to convert decimal into other number systems\n",
        "dec = 344\n",
        "\n",
        "print(\"The decimal value of\", dec, \"is:\")\n",
        "print(bin(dec), \"in binary.\")\n",
        "print(oct(dec), \"in octal.\")\n",
        "print(hex(dec), \"in hexadecimal.\")"
      ],
      "metadata": {
        "colab": {
          "base_uri": "https://localhost:8080/"
        },
        "id": "I6aHgkK6YIzw",
        "outputId": "1a447a33-e9ca-4784-e19d-9d27b7a5ae5e"
      },
      "execution_count": null,
      "outputs": [
        {
          "output_type": "stream",
          "name": "stdout",
          "text": [
            "The decimal value of 344 is:\n",
            "0b101011000 in binary.\n",
            "0o530 in octal.\n",
            "0x158 in hexadecimal.\n"
          ]
        }
      ]
    },
    {
      "cell_type": "code",
      "source": [
        "# Program to find the ASCII value of the given character\n",
        "\n",
        "c = 'p'\n",
        "print(\"The ASCII value of '\" + c + \"' is\", ord(c))"
      ],
      "metadata": {
        "colab": {
          "base_uri": "https://localhost:8080/"
        },
        "id": "Qoub7pTdYgD7",
        "outputId": "0820ff90-62d7-4025-b963-ecd826254383"
      },
      "execution_count": null,
      "outputs": [
        {
          "output_type": "stream",
          "name": "stdout",
          "text": [
            "The ASCII value of 'p' is 112\n"
          ]
        }
      ]
    },
    {
      "cell_type": "code",
      "source": [
        "#Modify the code above to get characters from their corresponding ASCII values using the chr() function as shown below.\n",
        "print(chr(65))\n"
      ],
      "metadata": {
        "colab": {
          "base_uri": "https://localhost:8080/"
        },
        "id": "thKkctwsYnu0",
        "outputId": "4bb3e10e-1c69-41f3-bc43-b93d2f3d75f1"
      },
      "execution_count": null,
      "outputs": [
        {
          "output_type": "stream",
          "name": "stdout",
          "text": [
            "A\n"
          ]
        }
      ]
    },
    {
      "cell_type": "code",
      "source": [
        "print(chr(112))"
      ],
      "metadata": {
        "colab": {
          "base_uri": "https://localhost:8080/"
        },
        "id": "lTCRmUOlYxjR",
        "outputId": "0f9ce0e2-b7fc-4c48-d00a-61e2c0aa84a2"
      },
      "execution_count": null,
      "outputs": [
        {
          "output_type": "stream",
          "name": "stdout",
          "text": [
            "p\n"
          ]
        }
      ]
    },
    {
      "cell_type": "code",
      "source": [
        "# Python program to find H.C.F of two numbers\n",
        "\n",
        "# define a function\n",
        "def compute_hcf(x, y):\n",
        "\n",
        "# choose the smaller number\n",
        "    if x > y:\n",
        "        smaller = y\n",
        "    else:\n",
        "        smaller = x\n",
        "    for i in range(1, smaller+1):\n",
        "        if((x % i == 0) and (y % i == 0)):\n",
        "            hcf = i \n",
        "    return hcf\n",
        "\n",
        "num1 = 54 \n",
        "num2 = 24\n",
        "\n",
        "print(\"The H.C.F. is\", compute_hcf(num1, num2))"
      ],
      "metadata": {
        "colab": {
          "base_uri": "https://localhost:8080/"
        },
        "id": "zAp7ULAgZ1ap",
        "outputId": "ad09544e-e115-4c1e-bd4e-59dcf571c59b"
      },
      "execution_count": null,
      "outputs": [
        {
          "output_type": "stream",
          "name": "stdout",
          "text": [
            "The H.C.F. is 6\n"
          ]
        }
      ]
    },
    {
      "cell_type": "code",
      "source": [
        "# Define a function to find the LCM of two numbers\n",
        "def lcm(a, b):\n",
        "    # Find the GCD of the two numbers using the Euclidean algorithm\n",
        "    def gcd(x, y):\n",
        "        if y == 0:\n",
        "            return x\n",
        "        else:\n",
        "            return gcd(y, x % y)\n",
        "    # Calculate the LCM using the formula\n",
        "    lcm = (a * b) // gcd(a, b)\n",
        "    # Return the LCM\n",
        "    return lcm\n",
        "\n",
        "# Call the lcm() function with the two numbers\n",
        "a = 54\n",
        "b = 24\n",
        "result = lcm(a, b)\n",
        "\n",
        "# Print the result\n",
        "print(\"The LCM of\", a, \"and\", b, \"is\", result)"
      ],
      "metadata": {
        "colab": {
          "base_uri": "https://localhost:8080/"
        },
        "id": "3VIteSjnbXBk",
        "outputId": "0d36d1e4-fae0-4f16-f04a-f9e4acbe235a"
      },
      "execution_count": null,
      "outputs": [
        {
          "output_type": "stream",
          "name": "stdout",
          "text": [
            "The LCM of 54 and 24 is 216\n"
          ]
        }
      ]
    },
    {
      "cell_type": "code",
      "source": [
        "# Python Program to find the factors of a number\n",
        "\n",
        "# This function computes the factor of the argument passed\n",
        "def print_factors(x):\n",
        "   print(\"The factors of\",x,\"are:\")\n",
        "   for i in range(1, x + 1):\n",
        "       if x % i == 0:\n",
        "           print(i)\n",
        "\n",
        "num = 320\n",
        "\n",
        "print_factors(num)"
      ],
      "metadata": {
        "colab": {
          "base_uri": "https://localhost:8080/"
        },
        "id": "IITgAfyDbsBs",
        "outputId": "f7bb344f-a06e-491d-f9a0-2b9f3686bfcf"
      },
      "execution_count": null,
      "outputs": [
        {
          "output_type": "stream",
          "name": "stdout",
          "text": [
            "The factors of 320 are:\n",
            "1\n",
            "2\n",
            "4\n",
            "5\n",
            "8\n",
            "10\n",
            "16\n",
            "20\n",
            "32\n",
            "40\n",
            "64\n",
            "80\n",
            "160\n",
            "320\n"
          ]
        }
      ]
    },
    {
      "cell_type": "code",
      "source": [
        "# This function adds two numbers\n",
        "def add(x, y):\n",
        "    return x + y\n",
        "\n",
        "# This function subtracts two numbers\n",
        "def subtract(x, y):\n",
        "    return x - y\n",
        "\n",
        "# This function multiplies two numbers\n",
        "def multiply(x, y):\n",
        "    return x * y\n",
        "\n",
        "# This function divides two numbers\n",
        "def divide(x, y):\n",
        "    return x / y\n",
        "\n",
        "\n",
        "print(\"Select operation.\")\n",
        "print(\"1.Add\")\n",
        "print(\"2.Subtract\")\n",
        "print(\"3.Multiply\")\n",
        "print(\"4.Divide\")\n",
        "\n",
        "while True:\n",
        "    # take input from the user\n",
        "    choice = input(\"Enter choice(1/2/3/4): \")\n",
        "\n",
        "    # check if choice is one of the four options\n",
        "    if choice in ('1', '2', '3', '4'):\n",
        "        try:\n",
        "            num1 = float(input(\"Enter first number: \"))\n",
        "            num2 = float(input(\"Enter second number: \"))\n",
        "        except ValueError:\n",
        "            print(\"Invalid input. Please enter a number.\")\n",
        "            continue\n",
        "\n",
        "        if choice == '1':\n",
        "            print(num1, \"+\", num2, \"=\", add(num1, num2))\n",
        "\n",
        "        elif choice == '2':\n",
        "            print(num1, \"-\", num2, \"=\", subtract(num1, num2))\n",
        "\n",
        "        elif choice == '3':\n",
        "            print(num1, \"*\", num2, \"=\", multiply(num1, num2))\n",
        "\n",
        "        elif choice == '4':\n",
        "            print(num1, \"/\", num2, \"=\", divide(num1, num2))\n",
        "        \n",
        "        # check if user wants another calculation\n",
        "        # break the while loop if answer is no\n",
        "        next_calculation = input(\"Let's do next calculation? (yes/no): \")\n",
        "        if next_calculation == \"no\":\n",
        "          break\n",
        "    else:\n",
        "        print(\"Invalid Input\")"
      ],
      "metadata": {
        "colab": {
          "base_uri": "https://localhost:8080/"
        },
        "id": "QbeKMJMGcSdC",
        "outputId": "169a070a-8df2-4f88-8ee4-cad9bcc2f4d3"
      },
      "execution_count": null,
      "outputs": [
        {
          "name": "stdout",
          "output_type": "stream",
          "text": [
            "Select operation.\n",
            "1.Add\n",
            "2.Subtract\n",
            "3.Multiply\n",
            "4.Divide\n",
            "Enter choice(1/2/3/4): 2\n",
            "Enter first number: 4\n",
            "Enter second number: 5\n",
            "4.0 - 5.0 = -1.0\n",
            "Let's do next calculation? (yes/no): yes\n",
            "Enter choice(1/2/3/4): 6\n",
            "Invalid Input\n",
            "Enter choice(1/2/3/4): 4\n",
            "Enter first number: 1\n",
            "Enter second number: 2\n",
            "1.0 / 2.0 = 0.5\n",
            "Let's do next calculation? (yes/no): no\n"
          ]
        }
      ]
    },
    {
      "cell_type": "code",
      "source": [
        "# Program to display calendar of the given month and year\n",
        "\n",
        "# importing calendar module\n",
        "import calendar\n",
        "\n",
        "yy = 2023  # year\n",
        "mm = 3   # month\n",
        "\n",
        "# To take month and year input from the user\n",
        "# yy = int(input(\"Enter year: \"))\n",
        "# mm = int(input(\"Enter month: \"))\n",
        "\n",
        "# display the calendar\n",
        "print(calendar.month(yy, mm))"
      ],
      "metadata": {
        "colab": {
          "base_uri": "https://localhost:8080/"
        },
        "id": "ou5nXgGbcU7m",
        "outputId": "ba924f44-920c-4209-f678-c7b7ad8f3162"
      },
      "execution_count": null,
      "outputs": [
        {
          "output_type": "stream",
          "name": "stdout",
          "text": [
            "     March 2023\n",
            "Mo Tu We Th Fr Sa Su\n",
            "       1  2  3  4  5\n",
            " 6  7  8  9 10 11 12\n",
            "13 14 15 16 17 18 19\n",
            "20 21 22 23 24 25 26\n",
            "27 28 29 30 31\n",
            "\n"
          ]
        }
      ]
    },
    {
      "cell_type": "code",
      "source": [
        "# Python program to find the sum of natural using recursive function\n",
        "\n",
        "def recur_sum(n):\n",
        "   if n <= 1:\n",
        "       return n\n",
        "   else:\n",
        "       return n + recur_sum(n-1)\n",
        "\n",
        "# change this value for a different result\n",
        "num = 9\n",
        "\n",
        "if num < 0:\n",
        "   print(\"Enter a positive number\")\n",
        "else:\n",
        "   print(\"The sum is\",recur_sum(num))"
      ],
      "metadata": {
        "colab": {
          "base_uri": "https://localhost:8080/"
        },
        "id": "r6b7LPWheCGY",
        "outputId": "9ba7afca-a90f-4034-cb5a-6eadafa1fecc"
      },
      "execution_count": null,
      "outputs": [
        {
          "output_type": "stream",
          "name": "stdout",
          "text": [
            "The sum is 45\n"
          ]
        }
      ]
    },
    {
      "cell_type": "code",
      "source": [
        "# Factorial of a number using recursion\n",
        "\n",
        "def recur_factorial(n):\n",
        "   if n == 1:\n",
        "       return n\n",
        "   else:\n",
        "       return n*recur_factorial(n-1)\n",
        "\n",
        "num = 7\n",
        "\n",
        "# check if the number is negative\n",
        "if num < 0:\n",
        "   print(\"Sorry, factorial does not exist for negative numbers\")\n",
        "elif num == 0:\n",
        "   print(\"The factorial of 0 is 1\")\n",
        "else:\n",
        "   print(\"The factorial of\", num, \"is\", recur_factorial(num))\n"
      ],
      "metadata": {
        "colab": {
          "base_uri": "https://localhost:8080/"
        },
        "id": "1JVuvmxAednX",
        "outputId": "f1e10c0d-2e42-49a3-ae9f-f3f816f286a5"
      },
      "execution_count": null,
      "outputs": [
        {
          "output_type": "stream",
          "name": "stdout",
          "text": [
            "The factorial of 7 is 5040\n"
          ]
        }
      ]
    },
    {
      "cell_type": "code",
      "source": [
        "# Function to print binary number using recursion\n",
        "def convertToBinary(n):\n",
        "   if n > 1:\n",
        "       convertToBinary(n//2)\n",
        "   print(n % 2,end = '')\n",
        "\n",
        "# decimal number\n",
        "dec = 34\n",
        "\n",
        "convertToBinary(dec)\n",
        "print()"
      ],
      "metadata": {
        "colab": {
          "base_uri": "https://localhost:8080/"
        },
        "id": "jr5ih-gvfLp-",
        "outputId": "d515ec1c-1c1c-4200-ce33-99ca69321973"
      },
      "execution_count": null,
      "outputs": [
        {
          "output_type": "stream",
          "name": "stdout",
          "text": [
            "100010\n"
          ]
        }
      ]
    },
    {
      "cell_type": "code",
      "source": [
        "# Program to add two matrices using nested loop\n",
        "\n",
        "X = [[12,7,3],\n",
        "    [4 ,5,6],\n",
        "    [7 ,8,9]]\n",
        "\n",
        "Y = [[5,8,1],\n",
        "    [6,7,3],\n",
        "    [4,5,9]]\n",
        "\n",
        "result = [[0,0,0],\n",
        "         [0,0,0],\n",
        "         [0,0,0]]\n",
        "\n",
        "# iterate through rows\n",
        "for i in range(len(X)):\n",
        "   # iterate through columns\n",
        "   for j in range(len(X[0])):\n",
        "       result[i][j] = X[i][j] + Y[i][j]\n",
        "\n",
        "for r in result:\n",
        "   print(r)"
      ],
      "metadata": {
        "colab": {
          "base_uri": "https://localhost:8080/"
        },
        "id": "s0W4SFNBfm_q",
        "outputId": "1fab6890-7a40-43bf-8122-24d6a8cacf7f"
      },
      "execution_count": null,
      "outputs": [
        {
          "output_type": "stream",
          "name": "stdout",
          "text": [
            "[17, 15, 4]\n",
            "[10, 12, 9]\n",
            "[11, 13, 18]\n"
          ]
        }
      ]
    },
    {
      "cell_type": "code",
      "source": [
        "#''' Program to transpose a matrix using list comprehension'''\n",
        "\n",
        "X = [[12,7],\n",
        "    [4 ,5],\n",
        "    [3 ,8]]\n",
        "\n",
        "result = [[X[j][i] for j in range(len(X))] for i in range(len(X[0]))]\n",
        "\n",
        "for r in result:\n",
        "   print(r)"
      ],
      "metadata": {
        "colab": {
          "base_uri": "https://localhost:8080/"
        },
        "id": "FcQKb_OPf-A5",
        "outputId": "d8e40673-95b8-4c72-faa7-e8631f4502b5"
      },
      "execution_count": null,
      "outputs": [
        {
          "output_type": "stream",
          "name": "stdout",
          "text": [
            "[12, 4, 3]\n",
            "[7, 5, 8]\n"
          ]
        }
      ]
    },
    {
      "cell_type": "code",
      "source": [
        "# Program to multiply two matrices using list comprehension\n",
        "\n",
        "# 3x3 matrix\n",
        "X = [[12,7,3],\n",
        "    [4 ,5,6],\n",
        "    [7 ,8,9]]\n",
        "\n",
        "# 3x4 matrix\n",
        "Y = [[5,8,1,2],\n",
        "    [6,7,3,0],\n",
        "    [4,5,9,1]]\n",
        "\n",
        "# result is 3x4\n",
        "result = [[sum(a*b for a,b in zip(X_row,Y_col)) for Y_col in zip(*Y)] for X_row in X]\n",
        "\n",
        "for r in result:\n",
        "   print(r)"
      ],
      "metadata": {
        "colab": {
          "base_uri": "https://localhost:8080/"
        },
        "id": "qXK7gBQ-gMSH",
        "outputId": "6d572a11-7166-4787-aa27-d3f099926aee"
      },
      "execution_count": null,
      "outputs": [
        {
          "output_type": "stream",
          "name": "stdout",
          "text": [
            "[114, 160, 60, 27]\n",
            "[74, 97, 73, 14]\n",
            "[119, 157, 112, 23]\n"
          ]
        }
      ]
    },
    {
      "cell_type": "code",
      "source": [
        "a=~4\n",
        "b=a+4\n",
        "print(a)\n",
        "print(b)"
      ],
      "metadata": {
        "colab": {
          "base_uri": "https://localhost:8080/"
        },
        "id": "N5ECBoHel3PW",
        "outputId": "100074ca-4fc1-4275-a6b2-9c4e6db1464d"
      },
      "execution_count": null,
      "outputs": [
        {
          "output_type": "stream",
          "name": "stdout",
          "text": [
            "-5\n",
            "-1\n"
          ]
        }
      ]
    },
    {
      "cell_type": "code",
      "source": [
        "# Program to check if a string is palindrome or not\n",
        "\n",
        "my_str = 'aIbohPhoBiA'\n",
        "\n",
        "# make it suitable for caseless comparison\n",
        "my_str = my_str.casefold()\n",
        "\n",
        "# reverse the string\n",
        "rev_str = reversed(my_str)\n",
        "\n",
        "# check if the string is equal to its reverse\n",
        "if list(my_str) == list(rev_str):\n",
        "   print(\"The string is a palindrome.\")\n",
        "else:\n",
        "   print(\"The string is not a palindrome.\")"
      ],
      "metadata": {
        "colab": {
          "base_uri": "https://localhost:8080/"
        },
        "id": "6MM9vIbumohU",
        "outputId": "0b80b46f-bbdc-42eb-82ce-8e8c3410468f"
      },
      "execution_count": null,
      "outputs": [
        {
          "output_type": "stream",
          "name": "stdout",
          "text": [
            "The string is a palindrome.\n"
          ]
        }
      ]
    },
    {
      "cell_type": "code",
      "source": [
        "# define punctuation\n",
        "punctuations = '''!()-[]{};:'\"\\,<>./?@#$%^&*_~'''\n",
        "\n",
        "my_str = \"Hello!!!, he said ---and went.\"\n",
        "\n",
        "# To take input from the user\n",
        "# my_str = input(\"Enter a string: \")\n",
        "\n",
        "# remove punctuation from the string\n",
        "no_punct = \"\"\n",
        "for char in my_str:\n",
        "   if char not in punctuations:\n",
        "       no_punct = no_punct + char\n",
        "\n",
        "# display the unpunctuated string\n",
        "print(no_punct)"
      ],
      "metadata": {
        "colab": {
          "base_uri": "https://localhost:8080/"
        },
        "id": "Sj8bkHwnm22u",
        "outputId": "947c9b26-e3cd-42bd-c8c8-65977a7975f0"
      },
      "execution_count": null,
      "outputs": [
        {
          "output_type": "stream",
          "name": "stdout",
          "text": [
            "Hello he said and went\n"
          ]
        }
      ]
    },
    {
      "cell_type": "code",
      "source": [
        "# Program to sort alphabetically the words form a string provided by the user\n",
        "\n",
        "my_str = \"Hello this Is an Example With cased letters\"\n",
        "\n",
        "# To take input from the user\n",
        "#my_str = input(\"Enter a string: \")\n",
        "\n",
        "# breakdown the string into a list of words\n",
        "words = [word.lower() for word in my_str.split()]\n",
        "\n",
        "# sort the list\n",
        "words.sort()\n",
        "\n",
        "# display the sorted words\n",
        "\n",
        "print(\"The sorted words are:\")\n",
        "for word in words:\n",
        "   print(word)"
      ],
      "metadata": {
        "colab": {
          "base_uri": "https://localhost:8080/"
        },
        "id": "WUm6aFBpnBQJ",
        "outputId": "0133edfc-4379-403a-f829-de9552d45ad3"
      },
      "execution_count": null,
      "outputs": [
        {
          "output_type": "stream",
          "name": "stdout",
          "text": [
            "The sorted words are:\n",
            "an\n",
            "cased\n",
            "example\n",
            "hello\n",
            "is\n",
            "letters\n",
            "this\n",
            "with\n"
          ]
        }
      ]
    },
    {
      "cell_type": "code",
      "source": [
        "# Program to perform different set operations like in mathematics\n",
        "\n",
        "# define three sets\n",
        "E = {0, 2, 4, 6, 8};\n",
        "N = {1, 2, 3, 4, 5};\n",
        "\n",
        "# set union\n",
        "print(\"Union of E and N is\",E | N)\n",
        "\n",
        "# set intersection\n",
        "print(\"Intersection of E and N is\",E & N)\n",
        "\n",
        "# set difference\n",
        "print(\"Difference of E and N is\",E - N)\n",
        "\n",
        "# set symmetric difference\n",
        "print(\"Symmetric difference of E and N is\",E ^ N)"
      ],
      "metadata": {
        "colab": {
          "base_uri": "https://localhost:8080/"
        },
        "id": "gyr0GtIYniua",
        "outputId": "e38314d8-e480-4dd8-c347-67adf824b25f"
      },
      "execution_count": null,
      "outputs": [
        {
          "output_type": "stream",
          "name": "stdout",
          "text": [
            "Union of E and N is {0, 1, 2, 3, 4, 5, 6, 8}\n",
            "Intersection of E and N is {2, 4}\n",
            "Difference of E and N is {0, 8, 6}\n",
            "Symmetric difference of E and N is {0, 1, 3, 5, 6, 8}\n"
          ]
        }
      ]
    },
    {
      "cell_type": "code",
      "source": [
        "# Program to count the number of each vowels\n",
        "\n",
        "# string of vowels\n",
        "vowels = 'aeiou'\n",
        "\n",
        "ip_str = 'Hello, have you tried our tutorial section yet?'\n",
        "\n",
        "# make it suitable for caseless comparisions\n",
        "ip_str = ip_str.casefold()\n",
        "\n",
        "# make a dictionary with each vowel a key and value 0\n",
        "count = {}.fromkeys(vowels,0)\n",
        "\n",
        "# count the vowels\n",
        "for char in ip_str:\n",
        "   if char in count:\n",
        "       count[char] += 1\n",
        "\n",
        "print(count)"
      ],
      "metadata": {
        "colab": {
          "base_uri": "https://localhost:8080/"
        },
        "id": "RnVUfZQXnxjl",
        "outputId": "99f5ff74-dda4-4127-8cfb-279390260a5d"
      },
      "execution_count": null,
      "outputs": [
        {
          "output_type": "stream",
          "name": "stdout",
          "text": [
            "{'a': 2, 'e': 5, 'i': 3, 'o': 5, 'u': 3}\n"
          ]
        }
      ]
    },
    {
      "cell_type": "code",
      "source": [
        "# Define the string\n",
        "strr = 'hnsdgcskuegcbobgtrdfwghscsuhuChuciygdyvvsd'\n",
        "\n",
        "# Create an empty dictionary to store the counts\n",
        "char_counts = {}\n",
        "\n",
        "# Loop through each character in the string\n",
        "for char in strr:\n",
        "    # If the character is not already in the dictionary, add it with a count of 1\n",
        "    if char not in char_counts:\n",
        "        char_counts[char] = 1\n",
        "    # If the character is already in the dictionary, increment its count by 1\n",
        "    else:\n",
        "        char_counts[char] += 1\n",
        "\n",
        "# Print the counts for each character\n",
        "for char in char_counts:\n",
        "    print(char, \":\", char_counts[char])\n"
      ],
      "metadata": {
        "colab": {
          "base_uri": "https://localhost:8080/"
        },
        "id": "2g6fYcs8oo9C",
        "outputId": "97ac5cd6-b44e-44f6-e506-eb23e6a02e35"
      },
      "execution_count": null,
      "outputs": [
        {
          "output_type": "stream",
          "name": "stdout",
          "text": [
            "h : 4\n",
            "n : 1\n",
            "s : 5\n",
            "d : 4\n",
            "g : 5\n",
            "c : 4\n",
            "k : 1\n",
            "u : 4\n",
            "e : 1\n",
            "b : 2\n",
            "o : 1\n",
            "t : 1\n",
            "r : 1\n",
            "f : 1\n",
            "w : 1\n",
            "C : 1\n",
            "i : 1\n",
            "y : 2\n",
            "v : 2\n"
          ]
        }
      ]
    },
    {
      "cell_type": "code",
      "source": [
        "# Define the string\n",
        "strr = 'hnsdgcskuegcbobgtrdfwghscsuhuChuciygdyvvsd'\n",
        "\n",
        "# Create an empty dictionary to store the counts\n",
        "char_counts = {}\n",
        "\n",
        "# Loop through each character in the string\n",
        "for char in strr:\n",
        "    # If the character is not already in the dictionary, add it with a count of 1\n",
        "    if char not in char_counts:\n",
        "        char_counts[char] = 1\n",
        "    # If the character is already in the dictionary, increment its count by 1\n",
        "    else:\n",
        "        char_counts[char] += 1\n",
        "\n",
        "# Print the dictionary of counts\n",
        "print(char_counts)\n"
      ],
      "metadata": {
        "colab": {
          "base_uri": "https://localhost:8080/"
        },
        "id": "h9Pm8r51o7Gp",
        "outputId": "fd4a3357-3ef3-43f3-9d41-16a6acfba7e3"
      },
      "execution_count": null,
      "outputs": [
        {
          "output_type": "stream",
          "name": "stdout",
          "text": [
            "{'h': 4, 'n': 1, 's': 5, 'd': 4, 'g': 5, 'c': 4, 'k': 1, 'u': 4, 'e': 1, 'b': 2, 'o': 1, 't': 1, 'r': 1, 'f': 1, 'w': 1, 'C': 1, 'i': 1, 'y': 2, 'v': 2}\n"
          ]
        }
      ]
    },
    {
      "cell_type": "code",
      "source": [
        "rows = int(input(\"Enter number of rows: \"))\n",
        "\n",
        "for i in range(rows):\n",
        "    for j in range(i+1):\n",
        "        print(\"* \", end=\"\")\n",
        "    print(\"\\n\")"
      ],
      "metadata": {
        "colab": {
          "base_uri": "https://localhost:8080/"
        },
        "id": "i4e4ZQ4QqFHH",
        "outputId": "31369cfa-0c5f-4455-f741-7085c98609d4"
      },
      "execution_count": null,
      "outputs": [
        {
          "output_type": "stream",
          "name": "stdout",
          "text": [
            "Enter number of rows: 5\n",
            "* \n",
            "\n",
            "* * \n",
            "\n",
            "* * * \n",
            "\n",
            "* * * * \n",
            "\n",
            "* * * * * \n",
            "\n"
          ]
        }
      ]
    },
    {
      "cell_type": "code",
      "source": [
        "dict_1 = {1: 'a', 2: 'b'}\n",
        "dict_2 = {2: 'c', 4: 'd'}\n",
        "\n",
        "print(dict_1 | dict_2)\n"
      ],
      "metadata": {
        "colab": {
          "base_uri": "https://localhost:8080/"
        },
        "id": "QN-HV1T2qGum",
        "outputId": "987a5d58-d5dc-4473-e4b8-af50e896bc94"
      },
      "execution_count": null,
      "outputs": [
        {
          "output_type": "stream",
          "name": "stdout",
          "text": [
            "{1: 'a', 2: 'c', 4: 'd'}\n"
          ]
        }
      ]
    },
    {
      "cell_type": "code",
      "source": [
        "my_list = [21, 44, 35, 11]\n",
        "\n",
        "for index, val in enumerate(my_list):\n",
        "    print(index, val)"
      ],
      "metadata": {
        "colab": {
          "base_uri": "https://localhost:8080/"
        },
        "id": "hs5SabgXqr7_",
        "outputId": "85be6cff-1928-4c3c-d66a-1f0786fc4295"
      },
      "execution_count": null,
      "outputs": [
        {
          "output_type": "stream",
          "name": "stdout",
          "text": [
            "0 21\n",
            "1 44\n",
            "2 35\n",
            "3 11\n"
          ]
        }
      ]
    },
    {
      "cell_type": "code",
      "source": [
        "my_list = [21, 44, 35, 11]\n",
        "\n",
        "for index, val in enumerate(my_list, start=1):\n",
        "    print(index, val)"
      ],
      "metadata": {
        "colab": {
          "base_uri": "https://localhost:8080/"
        },
        "id": "KxU6EZJzqxej",
        "outputId": "641e3379-d80f-4b17-996f-c6f55ec9c1ad"
      },
      "execution_count": null,
      "outputs": [
        {
          "output_type": "stream",
          "name": "stdout",
          "text": [
            "1 21\n",
            "2 44\n",
            "3 35\n",
            "4 11\n"
          ]
        }
      ]
    },
    {
      "cell_type": "code",
      "source": [
        "my_list = [[1], [2, 3], [4, 5, 6, 7]]\n",
        "\n",
        "flat_list = [num for sublist in my_list for num in sublist]\n",
        "print(flat_list)\n"
      ],
      "metadata": {
        "colab": {
          "base_uri": "https://localhost:8080/"
        },
        "id": "A1X7BMLWq9sX",
        "outputId": "bfd29f71-6498-436b-d160-c019e682d5bc"
      },
      "execution_count": null,
      "outputs": [
        {
          "output_type": "stream",
          "name": "stdout",
          "text": [
            "[1, 2, 3, 4, 5, 6, 7]\n"
          ]
        }
      ]
    },
    {
      "cell_type": "code",
      "source": [
        "my_list = [[1], [2, 3], [4, 5, 6, 7]]\n",
        "\n",
        "flat_list = []\n",
        "for sublist in my_list:\n",
        "    for num in sublist:\n",
        "        flat_list.append(num)\n",
        "\n",
        "print(flat_list)"
      ],
      "metadata": {
        "colab": {
          "base_uri": "https://localhost:8080/"
        },
        "id": "4RwCn66VrF5L",
        "outputId": "012354dd-8dcc-4127-a5ae-f94e236ed8e5"
      },
      "execution_count": null,
      "outputs": [
        {
          "output_type": "stream",
          "name": "stdout",
          "text": [
            "[1, 2, 3, 4, 5, 6, 7]\n"
          ]
        }
      ]
    },
    {
      "cell_type": "code",
      "source": [
        "my_list = [1, 2, 3, 4, 5]\n",
        "\n",
        "print(my_list[:])"
      ],
      "metadata": {
        "colab": {
          "base_uri": "https://localhost:8080/"
        },
        "id": "vmb3tMLtrPLQ",
        "outputId": "763f365b-9b2b-4dba-ef2f-1bb3475cc219"
      },
      "execution_count": null,
      "outputs": [
        {
          "output_type": "stream",
          "name": "stdout",
          "text": [
            "[1, 2, 3, 4, 5]\n"
          ]
        }
      ]
    },
    {
      "cell_type": "code",
      "source": [
        "my_list = [1, 2, 3, 4, 5]\n",
        "\n",
        "print(my_list[2:])\n"
      ],
      "metadata": {
        "colab": {
          "base_uri": "https://localhost:8080/"
        },
        "id": "ryY1bkdbrTKp",
        "outputId": "e1c20642-de26-4bdb-e4bd-5343ed16376d"
      },
      "execution_count": null,
      "outputs": [
        {
          "output_type": "stream",
          "name": "stdout",
          "text": [
            "[3, 4, 5]\n"
          ]
        }
      ]
    },
    {
      "cell_type": "code",
      "source": [
        "my_list = [1, 2, 3, 4, 5]\n",
        "\n",
        "print(my_list[:2])"
      ],
      "metadata": {
        "colab": {
          "base_uri": "https://localhost:8080/"
        },
        "id": "dJDkSmjMrWnx",
        "outputId": "4c74cb05-78e1-4c9e-9426-6313b380a2b6"
      },
      "execution_count": null,
      "outputs": [
        {
          "output_type": "stream",
          "name": "stdout",
          "text": [
            "[1, 2]\n"
          ]
        }
      ]
    },
    {
      "cell_type": "code",
      "source": [
        "my_list = [1, 2, 3, 4, 5]\n",
        "\n",
        "print(my_list[::-2])\n"
      ],
      "metadata": {
        "colab": {
          "base_uri": "https://localhost:8080/"
        },
        "id": "8clrDQMercDe",
        "outputId": "08b1f0ee-5706-4570-fcf4-708aa9a3ef14"
      },
      "execution_count": null,
      "outputs": [
        {
          "output_type": "stream",
          "name": "stdout",
          "text": [
            "[5, 3, 1]\n"
          ]
        }
      ]
    },
    {
      "cell_type": "code",
      "source": [
        "my_list = [1, 2, 3, 4, 5]\n",
        "\n",
        "print(my_list[1:4:2])"
      ],
      "metadata": {
        "colab": {
          "base_uri": "https://localhost:8080/"
        },
        "id": "pny801GbrgVF",
        "outputId": "e1176ea8-d105-4ba2-b580-12b9b9a5d0d5"
      },
      "execution_count": null,
      "outputs": [
        {
          "output_type": "stream",
          "name": "stdout",
          "text": [
            "[2, 4]\n"
          ]
        }
      ]
    },
    {
      "cell_type": "code",
      "source": [
        "dt = {'a': 'juice', 'b': 'grill', 'c': 'corn'}\n",
        "\n",
        "for key, value in dt.items():\n",
        "    print(key, value)"
      ],
      "metadata": {
        "colab": {
          "base_uri": "https://localhost:8080/"
        },
        "id": "XqBkpSD-4gh_",
        "outputId": "91935133-9f28-4438-8cd4-d8cddb65014e"
      },
      "execution_count": null,
      "outputs": [
        {
          "output_type": "stream",
          "name": "stdout",
          "text": [
            "a juice\n",
            "b grill\n",
            "c corn\n"
          ]
        }
      ]
    },
    {
      "cell_type": "code",
      "source": [
        "dt = {5:4, 1:6, 6:3}\n",
        "\n",
        "sorted_dt = {key: value for key, value in sorted(dt.items(), key=lambda item: item[1])}\n",
        "\n",
        "print(sorted_dt)\n"
      ],
      "metadata": {
        "colab": {
          "base_uri": "https://localhost:8080/"
        },
        "id": "ZPAl47YW4xGU",
        "outputId": "f2c4a7aa-6290-418c-8695-afad87d13f42"
      },
      "execution_count": null,
      "outputs": [
        {
          "output_type": "stream",
          "name": "stdout",
          "text": [
            "{6: 3, 5: 4, 1: 6}\n"
          ]
        }
      ]
    },
    {
      "cell_type": "code",
      "source": [
        "my_list = []\n",
        "if not my_list:\n",
        "    print(\"the list is empty\")"
      ],
      "metadata": {
        "colab": {
          "base_uri": "https://localhost:8080/"
        },
        "id": "2mLJecDf5FDf",
        "outputId": "f6716fe4-6da2-4e92-a8fb-bbced8951309"
      },
      "execution_count": null,
      "outputs": [
        {
          "output_type": "stream",
          "name": "stdout",
          "text": [
            "the list is empty\n"
          ]
        }
      ]
    },
    {
      "cell_type": "code",
      "source": [
        "list_1 = [1, 'a']\n",
        "list_2 = [3, 4, 5]\n",
        "\n",
        "list_joined = list_1 + list_2\n",
        "print(list_joined)"
      ],
      "metadata": {
        "colab": {
          "base_uri": "https://localhost:8080/"
        },
        "id": "sbQ3Sxeo5fFX",
        "outputId": "f4026a1f-6ca7-44f3-f32e-23826cecc0c5"
      },
      "execution_count": null,
      "outputs": [
        {
          "output_type": "stream",
          "name": "stdout",
          "text": [
            "[1, 'a', 3, 4, 5]\n"
          ]
        }
      ]
    },
    {
      "cell_type": "code",
      "source": [
        "my_dict = {1: 'a', 2: 'b', 3: 'c'}\n",
        "\n",
        "if 2 in my_dict.keys():\n",
        "    print(\"present\")"
      ],
      "metadata": {
        "colab": {
          "base_uri": "https://localhost:8080/"
        },
        "id": "BbIA79zx5o0F",
        "outputId": "6b43e138-f90c-4866-9b46-1e17fefbe967"
      },
      "execution_count": null,
      "outputs": [
        {
          "output_type": "stream",
          "name": "stdout",
          "text": [
            "present\n"
          ]
        }
      ]
    },
    {
      "cell_type": "code",
      "source": [
        "def split(list_a, chunk_size):\n",
        "\n",
        "  for i in range(0, len(list_a), chunk_size):\n",
        "    yield list_a[i:i + chunk_size]\n",
        "\n",
        "chunk_size = 2\n",
        "my_list = [1,2,3,4,5,6,7,8,9]\n",
        "print(list(split(my_list, chunk_size)))"
      ],
      "metadata": {
        "colab": {
          "base_uri": "https://localhost:8080/"
        },
        "id": "Rmfwdn0Y53-X",
        "outputId": "e51eb7c0-f057-411a-d3cd-e76573f04d50"
      },
      "execution_count": null,
      "outputs": [
        {
          "output_type": "stream",
          "name": "stdout",
          "text": [
            "[[1, 2], [3, 4], [5, 6], [7, 8], [9]]\n"
          ]
        }
      ]
    },
    {
      "cell_type": "code",
      "source": [
        "from datetime import datetime\n",
        "\n",
        "my_date_string = \"Mar 11 2011 11:31AM\"\n",
        "\n",
        "datetime_object = datetime.strptime(my_date_string, '%b %d %Y %I:%M%p')\n",
        "\n",
        "print(type(datetime_object))\n",
        "print(datetime_object)"
      ],
      "metadata": {
        "colab": {
          "base_uri": "https://localhost:8080/"
        },
        "id": "8jHVczrP6hMW",
        "outputId": "49bb47e1-d049-42f3-8ce2-7fa4edcc1c27"
      },
      "execution_count": null,
      "outputs": [
        {
          "output_type": "stream",
          "name": "stdout",
          "text": [
            "<class 'datetime.datetime'>\n",
            "2011-03-11 11:31:00\n"
          ]
        }
      ]
    },
    {
      "cell_type": "code",
      "source": [
        "my_string = \"I love python.\"\n",
        "\n",
        "# prints \"love\"\n",
        "print(my_string[2:6])\n",
        "\n",
        "# prints \"love python.\"\n",
        "print(my_string[2:])\n",
        "\n",
        "# prints \"I love python\"\n",
        "print(my_string[:-1])"
      ],
      "metadata": {
        "colab": {
          "base_uri": "https://localhost:8080/"
        },
        "id": "AxDSdn5X6qcz",
        "outputId": "4b7670bf-e69e-4698-8a91-891269133cd5"
      },
      "execution_count": null,
      "outputs": [
        {
          "output_type": "stream",
          "name": "stdout",
          "text": [
            "love\n",
            "love python.\n",
            "I love python\n"
          ]
        }
      ]
    },
    {
      "cell_type": "code",
      "source": [
        "# print each statement on a new line\n",
        "print(\"Python\")\n",
        "print(\"is easy to learn.\")\n",
        "\n",
        "# new line\n",
        "print()\n",
        "\n",
        "# print both the statements on a single line\n",
        "print(\"Python\", end=\" \")\n",
        "print(\"is easy to learn.\")"
      ],
      "metadata": {
        "colab": {
          "base_uri": "https://localhost:8080/"
        },
        "id": "y_zrAos763-7",
        "outputId": "47c1c417-952d-4db5-a86a-d343de03be2f"
      },
      "execution_count": null,
      "outputs": [
        {
          "output_type": "stream",
          "name": "stdout",
          "text": [
            "Python\n",
            "is easy to learn.\n",
            "\n",
            "Python is easy to learn.\n"
          ]
        }
      ]
    },
    {
      "cell_type": "code",
      "source": [
        "import random\n",
        "\n",
        "my_list = [1, 'a', 32, 'c', 'd', 31]\n",
        "print(random.choice(my_list))\n"
      ],
      "metadata": {
        "colab": {
          "base_uri": "https://localhost:8080/"
        },
        "id": "e_8tCTol7L39",
        "outputId": "3e9c555f-ed2c-4a72-d702-9bdef0e905a5"
      },
      "execution_count": null,
      "outputs": [
        {
          "output_type": "stream",
          "name": "stdout",
          "text": [
            "31\n"
          ]
        }
      ]
    },
    {
      "cell_type": "code",
      "source": [
        "def isfloat(num):\n",
        "    try:\n",
        "        float(num)\n",
        "        return True\n",
        "    except ValueError:\n",
        "        return False\n",
        "\n",
        "print(isfloat('s12'))\n",
        "print(isfloat('1.123'))"
      ],
      "metadata": {
        "colab": {
          "base_uri": "https://localhost:8080/"
        },
        "id": "iHltv94m7V-X",
        "outputId": "fb42ef0f-3115-4376-d460-e4bb6f68375b"
      },
      "execution_count": null,
      "outputs": [
        {
          "output_type": "stream",
          "name": "stdout",
          "text": [
            "False\n",
            "True\n"
          ]
        }
      ]
    },
    {
      "cell_type": "code",
      "source": [
        "my_dict = {31: 'a', 21: 'b', 14: 'c'}\n",
        "\n",
        "print(my_dict.pop(31))\n",
        "\n",
        "print(my_dict)\n"
      ],
      "metadata": {
        "colab": {
          "base_uri": "https://localhost:8080/"
        },
        "id": "pQubcKe_A6rb",
        "outputId": "bf8a6112-ddc3-4850-83e1-5dfc421ad22e"
      },
      "execution_count": null,
      "outputs": [
        {
          "output_type": "stream",
          "name": "stdout",
          "text": [
            "a\n",
            "{21: 'b', 14: 'c'}\n"
          ]
        }
      ]
    },
    {
      "cell_type": "code",
      "source": [
        "my_string = '''The only way to\n",
        "learn to program is\n",
        "by writing code.'''\n",
        "\n",
        "print(my_string)\n"
      ],
      "metadata": {
        "colab": {
          "base_uri": "https://localhost:8080/"
        },
        "id": "6FPn8H1_BCP6",
        "outputId": "384041b3-1bd2-4b2c-a431-e4d645b75317"
      },
      "execution_count": null,
      "outputs": [
        {
          "output_type": "stream",
          "name": "stdout",
          "text": [
            "The only way to\n",
            "learn to program is\n",
            "by writing code.\n"
          ]
        }
      ]
    },
    {
      "cell_type": "code",
      "source": [
        "my_string = (\"The only way to \\n\"\n",
        "        \t\"learn to program is \\n\"\n",
        "        \t\"by writing code.\")\n",
        "\n",
        "print(my_string)"
      ],
      "metadata": {
        "colab": {
          "base_uri": "https://localhost:8080/"
        },
        "id": "oWqCTa2uBJmD",
        "outputId": "3d722170-806d-43f4-cae6-3fb8f4d6eb1a"
      },
      "execution_count": null,
      "outputs": [
        {
          "output_type": "stream",
          "name": "stdout",
          "text": [
            "The only way to \n",
            "learn to program is \n",
            "by writing code.\n"
          ]
        }
      ]
    },
    {
      "cell_type": "code",
      "source": [
        "my_string = \"The only way to \\n\" \\\n",
        "        \t\"learn to program is \\n\" \\\n",
        "        \t\"by writing code.\"\n",
        "\n",
        "print(my_string)"
      ],
      "metadata": {
        "colab": {
          "base_uri": "https://localhost:8080/"
        },
        "id": "niEdCPuZBMTs",
        "outputId": "9d7d1e51-867d-4445-ef50-5a76a0b79ecc"
      },
      "execution_count": null,
      "outputs": [
        {
          "output_type": "stream",
          "name": "stdout",
          "text": [
            "The only way to \n",
            "learn to program is \n",
            "by writing code.\n"
          ]
        }
      ]
    },
    {
      "cell_type": "code",
      "source": [
        "import time\n",
        "\n",
        "start = time.time()\n",
        "\n",
        "print(23*2.3)\n",
        "\n",
        "\n"
      ],
      "metadata": {
        "colab": {
          "base_uri": "https://localhost:8080/"
        },
        "id": "K8SHwbo6BaIK",
        "outputId": "fca4df04-21a9-4014-fe06-9d8bbcec9c29"
      },
      "execution_count": null,
      "outputs": [
        {
          "output_type": "stream",
          "name": "stdout",
          "text": [
            "52.9\n"
          ]
        }
      ]
    },
    {
      "cell_type": "code",
      "source": [
        "end = time.time()\n",
        "print(end - start)"
      ],
      "metadata": {
        "colab": {
          "base_uri": "https://localhost:8080/"
        },
        "id": "urFNPeyoBht1",
        "outputId": "65dee54f-03bc-41e4-d888-887917db8405"
      },
      "execution_count": null,
      "outputs": [
        {
          "output_type": "stream",
          "name": "stdout",
          "text": [
            "9.387203693389893\n"
          ]
        }
      ]
    },
    {
      "cell_type": "code",
      "source": [
        "class Vehicle:\n",
        "    def name(self, name):\n",
        "        return name\n",
        "\n",
        "v = Vehicle()\n",
        "print(v.__class__.__name__)"
      ],
      "metadata": {
        "colab": {
          "base_uri": "https://localhost:8080/"
        },
        "id": "F_xgkJQdBt8I",
        "outputId": "153e7ad1-7b60-4615-fe86-ea01a6fd390f"
      },
      "execution_count": null,
      "outputs": [
        {
          "output_type": "stream",
          "name": "stdout",
          "text": [
            "Vehicle\n"
          ]
        }
      ]
    },
    {
      "cell_type": "code",
      "source": [
        "index = [1, 2, 3]\n",
        "languages = ['python', 'c', 'c++']\n",
        "\n",
        "dictionary = dict(zip(index, languages))\n",
        "print(dictionary)"
      ],
      "metadata": {
        "colab": {
          "base_uri": "https://localhost:8080/"
        },
        "id": "5Im99vPWBv5m",
        "outputId": "4e2ff9d8-8b13-48fc-991e-6a4c8a3b48af"
      },
      "execution_count": null,
      "outputs": [
        {
          "output_type": "stream",
          "name": "stdout",
          "text": [
            "{1: 'python', 2: 'c', 3: 'c++'}\n"
          ]
        }
      ]
    },
    {
      "cell_type": "code",
      "source": [
        "my_string = \" Python \"\n",
        "\n",
        "print(my_string.strip())"
      ],
      "metadata": {
        "colab": {
          "base_uri": "https://localhost:8080/"
        },
        "id": "gXFl9-MsCUis",
        "outputId": "8ea97954-4d91-4bff-b822-258cfb1c6d3d"
      },
      "execution_count": null,
      "outputs": [
        {
          "output_type": "stream",
          "name": "stdout",
          "text": [
            "Python\n"
          ]
        }
      ]
    },
    {
      "cell_type": "code",
      "source": [
        "import re\n",
        "\n",
        "my_string  = \" Hello Python \"\n",
        "output = re.sub(r'^\\s+|\\s+$', '', my_string)\n",
        "\n",
        "print(output)"
      ],
      "metadata": {
        "colab": {
          "base_uri": "https://localhost:8080/"
        },
        "id": "dyD5BTHSCarA",
        "outputId": "d34a98ad-5fe4-4480-dce8-715a9bdcd516"
      },
      "execution_count": null,
      "outputs": [
        {
          "output_type": "stream",
          "name": "stdout",
          "text": [
            "Hello Python\n"
          ]
        }
      ]
    },
    {
      "cell_type": "code",
      "source": [
        "list_1 = [1, 2, 3, 4]\n",
        "list_2 = ['a', 'b', 'c']\n",
        "\n",
        "for i, j in zip(list_1, list_2):\n",
        "    print(i, j)"
      ],
      "metadata": {
        "colab": {
          "base_uri": "https://localhost:8080/"
        },
        "id": "7tO4RAgxDSjB",
        "outputId": "a308a827-3fb8-4e8c-c5d7-30d92e938f21"
      },
      "execution_count": null,
      "outputs": [
        {
          "output_type": "stream",
          "name": "stdout",
          "text": [
            "1 a\n",
            "2 b\n",
            "3 c\n"
          ]
        }
      ]
    },
    {
      "cell_type": "code",
      "source": [
        "import os\n",
        "\n",
        "#file_stat = os.stat('my_file.txt')\n",
        "#print(file_stat.st_size)"
      ],
      "metadata": {
        "id": "XA3PMBI2De7p"
      },
      "execution_count": null,
      "outputs": []
    },
    {
      "cell_type": "code",
      "source": [
        "num = 123456\n",
        "print(str(num)[::-1])\n"
      ],
      "metadata": {
        "colab": {
          "base_uri": "https://localhost:8080/"
        },
        "id": "OXql88PxDrK_",
        "outputId": "59f23ae5-d2db-4a20-cf16-a3e363ee3c2a"
      },
      "execution_count": null,
      "outputs": [
        {
          "output_type": "stream",
          "name": "stdout",
          "text": [
            "654321\n"
          ]
        }
      ]
    },
    {
      "cell_type": "code",
      "source": [
        "num = 1234\n",
        "reversed_num = 0\n",
        "\n",
        "while num != 0:\n",
        "    digit = num % 10\n",
        "    reversed_num = reversed_num * 10 + digit\n",
        "    num //= 10\n",
        "\n",
        "print(\"Reversed Number: \" + str(reversed_num))\n"
      ],
      "metadata": {
        "colab": {
          "base_uri": "https://localhost:8080/"
        },
        "id": "oWWGPd-OD-2N",
        "outputId": "b8bb9b4e-fe0d-487b-d1b0-d5d3064aeeca"
      },
      "execution_count": null,
      "outputs": [
        {
          "output_type": "stream",
          "name": "stdout",
          "text": [
            "Reversed Number: 4321\n"
          ]
        }
      ]
    },
    {
      "cell_type": "code",
      "source": [
        "base = 3\n",
        "exponent = 4\n",
        "\n",
        "result = 1\n",
        "\n",
        "for exponent in range(exponent, 0, -1):\n",
        "    result *= base\n",
        "\n",
        "print(\"Answer = \" + str(result))"
      ],
      "metadata": {
        "colab": {
          "base_uri": "https://localhost:8080/"
        },
        "id": "1AcHbv_oELEQ",
        "outputId": "f3068352-52e3-499f-f568-ae44e5429e55"
      },
      "execution_count": null,
      "outputs": [
        {
          "output_type": "stream",
          "name": "stdout",
          "text": [
            "Answer = 81\n"
          ]
        }
      ]
    },
    {
      "cell_type": "code",
      "source": [
        "3**4"
      ],
      "metadata": {
        "colab": {
          "base_uri": "https://localhost:8080/"
        },
        "id": "3zvTA9sPEMrF",
        "outputId": "f1763747-07d7-4e7e-dc90-df9fbaa0e439"
      },
      "execution_count": null,
      "outputs": [
        {
          "output_type": "execute_result",
          "data": {
            "text/plain": [
              "81"
            ]
          },
          "metadata": {},
          "execution_count": 86
        }
      ]
    },
    {
      "cell_type": "code",
      "source": [
        "num = 123456\n",
        "print(len(str(num)))"
      ],
      "metadata": {
        "colab": {
          "base_uri": "https://localhost:8080/"
        },
        "id": "o99GVX3HEV8p",
        "outputId": "f931501f-0cad-4bc3-fb0b-0ae414408fcc"
      },
      "execution_count": null,
      "outputs": [
        {
          "output_type": "stream",
          "name": "stdout",
          "text": [
            "6\n"
          ]
        }
      ]
    },
    {
      "cell_type": "code",
      "source": [
        "str1 = \"Race\"\n",
        "str2 = \"Care\"\n",
        "\n",
        "# convert both the strings into lowercase\n",
        "str1 = str1.lower()\n",
        "str2 = str2.lower()\n",
        "\n",
        "# check if length is same\n",
        "if(len(str1) == len(str2)):\n",
        "\n",
        "    # sort the strings\n",
        "    sorted_str1 = sorted(str1)\n",
        "    sorted_str2 = sorted(str2)\n",
        "\n",
        "    # if sorted char arrays are same\n",
        "    if(sorted_str1 == sorted_str2):\n",
        "        print(str1 + \" and \" + str2 + \" are anagram.\")\n",
        "    else:\n",
        "        print(str1 + \" and \" + str2 + \" are not anagram.\")\n",
        "\n",
        "else:\n",
        "    print(str1 + \" and \" + str2 + \" are not anagram.\")"
      ],
      "metadata": {
        "colab": {
          "base_uri": "https://localhost:8080/"
        },
        "id": "C7HXzyDSEk9S",
        "outputId": "e7b28cb7-ea45-470c-cbb1-52344f80a48f"
      },
      "execution_count": null,
      "outputs": [
        {
          "output_type": "stream",
          "name": "stdout",
          "text": [
            "race and care are anagram.\n"
          ]
        }
      ]
    },
    {
      "cell_type": "code",
      "source": [
        "my_string = \"programiz is Lit\"\n",
        "\n",
        "print(my_string[0].upper() + my_string[1:])"
      ],
      "metadata": {
        "colab": {
          "base_uri": "https://localhost:8080/"
        },
        "id": "6LyajyhdEsqT",
        "outputId": "32c8f080-40cc-461f-e199-adc5b6eb3c93"
      },
      "execution_count": null,
      "outputs": [
        {
          "output_type": "stream",
          "name": "stdout",
          "text": [
            "Programiz is Lit\n"
          ]
        }
      ]
    },
    {
      "cell_type": "code",
      "source": [
        "my_string = \"programiz is Lit\"\n",
        "\n",
        "cap_string = my_string.capitalize()\n",
        "\n",
        "print(cap_string)\n"
      ],
      "metadata": {
        "colab": {
          "base_uri": "https://localhost:8080/"
        },
        "id": "bsLbejmiEwo9",
        "outputId": "58a9c223-1a95-4c8d-c80d-c683ef57906e"
      },
      "execution_count": null,
      "outputs": [
        {
          "output_type": "stream",
          "name": "stdout",
          "text": [
            "Programiz is lit\n"
          ]
        }
      ]
    },
    {
      "cell_type": "code",
      "source": [
        "count = 0\n",
        "\n",
        "my_string = \"Programiz\"\n",
        "my_char = \"r\"\n",
        "\n",
        "for i in my_string:\n",
        "    if i == my_char:\n",
        "        count += 1\n",
        "\n",
        "print(count)"
      ],
      "metadata": {
        "colab": {
          "base_uri": "https://localhost:8080/"
        },
        "id": "HNe1ySEEE954",
        "outputId": "8fd2443c-6c35-40c3-ebc1-07fe01b745b8"
      },
      "execution_count": null,
      "outputs": [
        {
          "output_type": "stream",
          "name": "stdout",
          "text": [
            "2\n"
          ]
        }
      ]
    },
    {
      "cell_type": "code",
      "source": [
        "list_1 = [1, 2, 1, 4, 6]\n",
        "\n",
        "print(list(set(list_1)))"
      ],
      "metadata": {
        "colab": {
          "base_uri": "https://localhost:8080/"
        },
        "id": "_y26Il1UFHsA",
        "outputId": "61118cdb-240c-440c-abd1-d4d99f0345f0"
      },
      "execution_count": null,
      "outputs": [
        {
          "output_type": "stream",
          "name": "stdout",
          "text": [
            "[1, 2, 4, 6]\n"
          ]
        }
      ]
    },
    {
      "cell_type": "code",
      "source": [
        "list_1 = [1, 2, 1, 4, 6]\n",
        "list_2 = [7, 8, 2, 1]\n",
        "\n",
        "print(list(set(list_1) ^ set(list_2)))"
      ],
      "metadata": {
        "id": "oumnxUWZFLnt",
        "outputId": "1fb1fc74-fc41-43b0-bb65-4966ddecd505",
        "colab": {
          "base_uri": "https://localhost:8080/"
        }
      },
      "execution_count": null,
      "outputs": [
        {
          "output_type": "stream",
          "name": "stdout",
          "text": [
            "[4, 6, 7, 8]\n"
          ]
        }
      ]
    },
    {
      "cell_type": "code",
      "source": [
        "n = int(input().strip())\n",
        "if (n%2!=0)or (n>=6 and n<=20):\n",
        "    print(\"Weird\")\n",
        "else:\n",
        "    print('Not Weird')   \n",
        "    "
      ],
      "metadata": {
        "colab": {
          "base_uri": "https://localhost:8080/"
        },
        "id": "IuLUYXJO_Lnd",
        "outputId": "5523d76d-93c5-4665-b82a-da9d524370fd"
      },
      "execution_count": null,
      "outputs": [
        {
          "output_type": "stream",
          "name": "stdout",
          "text": [
            "10\n",
            "Weird\n"
          ]
        }
      ]
    },
    {
      "cell_type": "code",
      "source": [
        "x = int(input())\n",
        "y = int(input())\n",
        "z = int(input())\n",
        "n = int(input())\n",
        "l=list()\n",
        "for i in range(x+1):\n",
        "  for j in range(y+1):\n",
        "    for k in range(z+1):\n",
        "      if(i+j+k!=n):\n",
        "        l.append([i,j,k])\n",
        "print(l)        "
      ],
      "metadata": {
        "colab": {
          "base_uri": "https://localhost:8080/"
        },
        "id": "mAsb1WLR_YEZ",
        "outputId": "90436526-7a12-473f-ec7a-dcb99315bde6"
      },
      "execution_count": null,
      "outputs": [
        {
          "output_type": "stream",
          "name": "stdout",
          "text": [
            "1\n",
            "1\n",
            "2\n",
            "3\n",
            "[[0, 0, 0], [0, 0, 1], [0, 0, 2], [0, 1, 0], [0, 1, 1], [1, 0, 0], [1, 0, 1], [1, 1, 0], [1, 1, 2]]\n"
          ]
        }
      ]
    },
    {
      "cell_type": "code",
      "source": [
        "n= int(input())\n",
        "arr = list(map(int, input().split()))    \n",
        "\n",
        "a=max(arr)\n",
        "b=arr.count(a)\n",
        "for i in range(b):\n",
        "   arr.remove(a)\n",
        "print(max(arr))    \n"
      ],
      "metadata": {
        "colab": {
          "base_uri": "https://localhost:8080/"
        },
        "id": "5K6DFwv3BHn7",
        "outputId": "815489b3-db8f-4ea1-c65a-8da1d84a6fe0"
      },
      "execution_count": null,
      "outputs": [
        {
          "output_type": "stream",
          "name": "stdout",
          "text": [
            "5\n",
            "6 7 10 12 11\n",
            "11\n"
          ]
        }
      ]
    },
    {
      "cell_type": "code",
      "source": [
        "dic={}\n",
        "s=list()\n",
        "for _ in range(int(input())):\n",
        "    name = input()\n",
        "    score = float(input())\n",
        "    if score in dic:\n",
        "        dic[score].append(name)\n",
        "    else:\n",
        "        dic[score]=[name]\n",
        "    if score not in s:\n",
        "            s.append(score) \n",
        "m=min(s)\n",
        "s.remove(m)\n",
        "m1=min(s)\n",
        "dic[m1].sort()\n",
        "for i in dic[m1]:\n",
        "     print(i)                \n"
      ],
      "metadata": {
        "colab": {
          "base_uri": "https://localhost:8080/"
        },
        "id": "QQJBx0gTBm-k",
        "outputId": "73e5bcd3-ed42-4cdf-efdd-43031d864623"
      },
      "execution_count": null,
      "outputs": [
        {
          "output_type": "stream",
          "name": "stdout",
          "text": [
            "5\n",
            "Harry\n",
            "37.21\n",
            "Berry\n",
            "37.21\n",
            "Tina\n",
            "37.2\n",
            "Akriti\n",
            "41\n",
            "Harsh\n",
            "39\n",
            "Berry\n",
            "Harry\n"
          ]
        }
      ]
    },
    {
      "cell_type": "code",
      "source": [
        "n = int(input())\n",
        "student_marks = {}\n",
        "for _ in range(n):\n",
        "    name, *line = input().split()\n",
        "    scores = list(map(float, line))\n",
        "    student_marks[name] = scores\n",
        "    \n",
        "query_name = input()\n",
        "s=0\n",
        "for i in student_marks[query_name]:\n",
        "    s=s+i\n",
        "print(\"{0:.2f}\".format(s/3))  \n"
      ],
      "metadata": {
        "colab": {
          "base_uri": "https://localhost:8080/"
        },
        "id": "fUVDeJl8DU6i",
        "outputId": "acfb8e8f-69b1-4ad0-8e83-c91af4659007"
      },
      "execution_count": null,
      "outputs": [
        {
          "output_type": "stream",
          "name": "stdout",
          "text": [
            "3\n",
            "Krishna 67 68 69\n",
            "Arjun 70 98 63\n",
            "Malika 52 56 60\n",
            "Malika\n",
            "56.00\n"
          ]
        }
      ]
    },
    {
      "cell_type": "code",
      "source": [
        "listt=[]\n",
        "N = int(input())\n",
        "for i in range (N):\n",
        "    command=input().split()\n",
        "    if command[0]=='insert':\n",
        "         listt.insert(int(command[1]),int(command[2]))\n",
        "    elif command[0]=='print':\n",
        "        print(listt)\n",
        "    elif command[0]=='remove':\n",
        "        listt.remove(int(command[1]))\n",
        "    elif command[0]=='append':\n",
        "         listt.append(int(command[1]))\n",
        "    elif command[0]=='sort':\n",
        "        listt.sort()\n",
        "    elif command[0]=='pop':\n",
        "        listt.pop()\n",
        "    else:\n",
        "        listt.reverse()        \n",
        "                "
      ],
      "metadata": {
        "colab": {
          "base_uri": "https://localhost:8080/"
        },
        "id": "S33MvtFAFgMM",
        "outputId": "36db1ab2-8906-45a1-dc3e-f736f27356cd"
      },
      "execution_count": null,
      "outputs": [
        {
          "name": "stdout",
          "output_type": "stream",
          "text": [
            "7\n",
            "insert 0 5\n",
            "print\n",
            "[5]\n",
            "remove 5\n",
            "append 9\n",
            "sort\n",
            "pop\n",
            "reverse\n"
          ]
        }
      ]
    },
    {
      "cell_type": "code",
      "source": [
        "n = int(input().strip()) \n",
        "t = tuple(int(i) for i in input().strip().split())\n",
        "\n",
        "print(hash(t))"
      ],
      "metadata": {
        "colab": {
          "base_uri": "https://localhost:8080/"
        },
        "id": "w9zdnNkYIDey",
        "outputId": "43afdec6-aea6-4edc-da55-9af00839c7d8"
      },
      "execution_count": null,
      "outputs": [
        {
          "output_type": "stream",
          "name": "stdout",
          "text": [
            "2\n",
            "1 2\n",
            "-3550055125485641917\n"
          ]
        }
      ]
    },
    {
      "cell_type": "code",
      "source": [
        "string = 'HackerRank.com presents \"Pythonist 2\"'\n",
        "swapped_string = ''\n",
        "\n",
        "for char in string:\n",
        "    if char.islower():\n",
        "        swapped_string += char.upper()\n",
        "    elif char.isupper():\n",
        "        swapped_string += char.lower()\n",
        "    else:\n",
        "        swapped_string += char\n",
        "\n",
        "print(swapped_string)"
      ],
      "metadata": {
        "colab": {
          "base_uri": "https://localhost:8080/"
        },
        "id": "QXEAE9o8I6t0",
        "outputId": "9a8bbd5c-ff52-4acc-896e-a4582813450a"
      },
      "execution_count": null,
      "outputs": [
        {
          "output_type": "stream",
          "name": "stdout",
          "text": [
            "hACKERrANK.COM PRESENTS \"pYTHONIST 2\"\n"
          ]
        }
      ]
    },
    {
      "cell_type": "code",
      "source": [
        "def swap_case(s):\n",
        "    x=\"\"\n",
        "    for c in s:\n",
        "      if c.isupper():\n",
        "        c=c.lower()\n",
        "      else:\n",
        "        c=c.upper()\n",
        "      x+=\"\".join(c)\n",
        "    return x"
      ],
      "metadata": {
        "id": "x0ntzY3fKFHB"
      },
      "execution_count": null,
      "outputs": []
    },
    {
      "cell_type": "code",
      "source": [
        "print(swap_case('HackerRank.com presents \"Pythonist 2\"'))"
      ],
      "metadata": {
        "colab": {
          "base_uri": "https://localhost:8080/"
        },
        "id": "pithCfUMKI2P",
        "outputId": "c7ca097a-6659-4178-95a9-4a209870ad47"
      },
      "execution_count": null,
      "outputs": [
        {
          "output_type": "stream",
          "name": "stdout",
          "text": [
            "hACKERrANK.COM PRESENTS \"pYTHONIST 2\"\n"
          ]
        }
      ]
    },
    {
      "cell_type": "code",
      "source": [
        "def split_and_join(line):\n",
        "    # write your code here\n",
        "   a= line.split()\n",
        "   b=\"-\".join(a)\n",
        "   return b"
      ],
      "metadata": {
        "id": "BA8STfXjKqZW"
      },
      "execution_count": null,
      "outputs": []
    },
    {
      "cell_type": "code",
      "source": [
        "print(split_and_join('this is a string'))"
      ],
      "metadata": {
        "colab": {
          "base_uri": "https://localhost:8080/"
        },
        "id": "vYF_U9Z9KvTl",
        "outputId": "bbe28203-d4d6-47c9-e9c0-bf31f3b964fd"
      },
      "execution_count": null,
      "outputs": [
        {
          "output_type": "stream",
          "name": "stdout",
          "text": [
            "this-is-a-string\n"
          ]
        }
      ]
    },
    {
      "cell_type": "code",
      "source": [
        "def print_full_name(first, last):\n",
        "    # Write your code here\n",
        "  print('Hello '+first+' '+last+'!'+' You just delved into python.')"
      ],
      "metadata": {
        "id": "KV5ERu3MLDyD"
      },
      "execution_count": null,
      "outputs": []
    },
    {
      "cell_type": "code",
      "source": [
        "print(print_full_name('jayalaxmi', 'Mekap'))"
      ],
      "metadata": {
        "colab": {
          "base_uri": "https://localhost:8080/"
        },
        "id": "yBE04SWmLFlK",
        "outputId": "737ff207-fb69-4926-98bd-b8298310209e"
      },
      "execution_count": null,
      "outputs": [
        {
          "output_type": "stream",
          "name": "stdout",
          "text": [
            "Hello jayalaxmi Mekap! You just delved into python.\n",
            "None\n"
          ]
        }
      ]
    },
    {
      "cell_type": "code",
      "source": [
        "def count_substring(string, sub_string):\n",
        "    ml=len(string)\n",
        "    sl=len(sub_string)\n",
        "    c=0\n",
        "    for i in range(ml-sl+1):\n",
        "        if(string[i:(i+sl)]==sub_string):\n",
        "            c=c+1\n",
        "    return c"
      ],
      "metadata": {
        "id": "wTiOS8EJMZt5"
      },
      "execution_count": null,
      "outputs": []
    },
    {
      "cell_type": "code",
      "source": [
        "print(count_substring('ABCDCDC', 'CDC'))"
      ],
      "metadata": {
        "colab": {
          "base_uri": "https://localhost:8080/"
        },
        "id": "DRD1fuosMruy",
        "outputId": "1b48d307-b3ab-45de-8be3-4d37e833cde7"
      },
      "execution_count": null,
      "outputs": [
        {
          "output_type": "stream",
          "name": "stdout",
          "text": [
            "2\n"
          ]
        }
      ]
    },
    {
      "cell_type": "code",
      "source": [
        "sting='ABCDCDC'\n",
        "sting.count('CDC')"
      ],
      "metadata": {
        "colab": {
          "base_uri": "https://localhost:8080/"
        },
        "id": "FtrUVDK0Mgxt",
        "outputId": "6b44bed2-d0de-4fb7-cc0a-c4d52de3cbfa"
      },
      "execution_count": null,
      "outputs": [
        {
          "output_type": "execute_result",
          "data": {
            "text/plain": [
              "1"
            ]
          },
          "metadata": {},
          "execution_count": 19
        }
      ]
    },
    {
      "cell_type": "code",
      "source": [
        "s = input()\n",
        "print(any([i.isalnum() for i in s]))\n",
        "print(any([i.isalpha() for i in s]))\n",
        "print(any([i.isdigit() for i in s]))\n",
        "print(any([i.islower() for i in s]))\n",
        "print(any([i.isupper() for i in s]))\n"
      ],
      "metadata": {
        "colab": {
          "base_uri": "https://localhost:8080/"
        },
        "id": "Sen4GeS4RCoa",
        "outputId": "fe42758a-0ad7-434a-87c4-4c33e852bef5"
      },
      "execution_count": null,
      "outputs": [
        {
          "output_type": "stream",
          "name": "stdout",
          "text": [
            "Jaya1995\n",
            "True\n",
            "True\n",
            "True\n",
            "True\n",
            "True\n"
          ]
        }
      ]
    },
    {
      "cell_type": "code",
      "source": [
        "thickness = int(input()) #This must be an odd number\n",
        "c = 'H'\n",
        "\n",
        "#Top Cone\n",
        "for i in range(thickness):\n",
        "    print((c*i).rjust(thickness-1)+c+(c*i).ljust(thickness-1))\n",
        "\n",
        "#Top Pillars\n",
        "for i in range(thickness+1):\n",
        "    print((c*thickness).center(thickness*2)+(c*thickness).center(thickness*6))\n",
        "\n",
        "#Middle Belt\n",
        "for i in range((thickness+1)//2):\n",
        "    print((c*thickness*5).center(thickness*6))    \n",
        "\n",
        "#Bottom Pillars\n",
        "for i in range(thickness+1):\n",
        "    print((c*thickness).center(thickness*2)+(c*thickness).center(thickness*6))    \n",
        "\n",
        "#Bottom Cone\n",
        "for i in range(thickness):\n",
        "    print(((c*(thickness-i-1)).rjust(thickness)+c+(c*(thickness-i-1)).ljust(thickness)).rjust(thickness*6))"
      ],
      "metadata": {
        "colab": {
          "base_uri": "https://localhost:8080/"
        },
        "id": "sa_-J18RRSzD",
        "outputId": "159ad0bf-bb78-4588-f3af-9bf3f2720e00"
      },
      "execution_count": null,
      "outputs": [
        {
          "output_type": "stream",
          "name": "stdout",
          "text": [
            "5\n",
            "    H    \n",
            "   HHH   \n",
            "  HHHHH  \n",
            " HHHHHHH \n",
            "HHHHHHHHH\n",
            "  HHHHH               HHHHH             \n",
            "  HHHHH               HHHHH             \n",
            "  HHHHH               HHHHH             \n",
            "  HHHHH               HHHHH             \n",
            "  HHHHH               HHHHH             \n",
            "  HHHHH               HHHHH             \n",
            "  HHHHHHHHHHHHHHHHHHHHHHHHH   \n",
            "  HHHHHHHHHHHHHHHHHHHHHHHHH   \n",
            "  HHHHHHHHHHHHHHHHHHHHHHHHH   \n",
            "  HHHHH               HHHHH             \n",
            "  HHHHH               HHHHH             \n",
            "  HHHHH               HHHHH             \n",
            "  HHHHH               HHHHH             \n",
            "  HHHHH               HHHHH             \n",
            "  HHHHH               HHHHH             \n",
            "                    HHHHHHHHH \n",
            "                     HHHHHHH  \n",
            "                      HHHHH   \n",
            "                       HHH    \n",
            "                        H     \n"
          ]
        }
      ]
    },
    {
      "cell_type": "code",
      "source": [
        "import textwrap\n",
        "\n",
        "def wrap(string, max_width):\n",
        "    return textwrap.fill(string,max_width)"
      ],
      "metadata": {
        "id": "N67h8iZDTbCN"
      },
      "execution_count": null,
      "outputs": []
    },
    {
      "cell_type": "code",
      "source": [
        "print(wrap('ABCDEFGHIJKLIMNOQRSTUVWXYZ',4))"
      ],
      "metadata": {
        "colab": {
          "base_uri": "https://localhost:8080/"
        },
        "id": "wb7kPTCQVK-c",
        "outputId": "55d1ac98-b6f5-49cc-a8e2-6dc1ecbaea39"
      },
      "execution_count": null,
      "outputs": [
        {
          "output_type": "stream",
          "name": "stdout",
          "text": [
            "ABCD\n",
            "EFGH\n",
            "IJKL\n",
            "IMNO\n",
            "QRST\n",
            "UVWX\n",
            "YZ\n"
          ]
        }
      ]
    },
    {
      "cell_type": "code",
      "source": [
        "R,C=map(int,input().split(' '))\n",
        "for i in range(1,R,2):\n",
        "    print(('.|.'*i).center(C,'-'))\n",
        "print('WELCOME'.center(C,\"-\"))\n",
        "for i in range(R-2,-1,-2):\n",
        "    print(('.|.'*i).center(C,'-'))    \n"
      ],
      "metadata": {
        "colab": {
          "base_uri": "https://localhost:8080/"
        },
        "id": "mzqcHPTgXsqM",
        "outputId": "33617d2a-c11c-48b4-c35b-b7eb7fe39730"
      },
      "execution_count": 1,
      "outputs": [
        {
          "output_type": "stream",
          "name": "stdout",
          "text": [
            "11 33\n",
            "---------------.|.---------------\n",
            "------------.|..|..|.------------\n",
            "---------.|..|..|..|..|.---------\n",
            "------.|..|..|..|..|..|..|.------\n",
            "---.|..|..|..|..|..|..|..|..|.---\n",
            "-------------WELCOME-------------\n",
            "---.|..|..|..|..|..|..|..|..|.---\n",
            "------.|..|..|..|..|..|..|.------\n",
            "---------.|..|..|..|..|.---------\n",
            "------------.|..|..|.------------\n",
            "---------------.|.---------------\n"
          ]
        }
      ]
    },
    {
      "cell_type": "code",
      "source": [
        "def print_formatted(number):\n",
        "    # your code goes here\n",
        "   l=len(\"{0:b}\".format(number))\n",
        "   for i in range(1,number+1):\n",
        "    print( \"{0:{w}d} {0:{w}o} {0:{w}X} {0:{w}b}\".format(i,w=l))"
      ],
      "metadata": {
        "id": "efCMC4e2X0_J"
      },
      "execution_count": 2,
      "outputs": []
    },
    {
      "cell_type": "code",
      "source": [
        "print(print_formatted(10))"
      ],
      "metadata": {
        "colab": {
          "base_uri": "https://localhost:8080/"
        },
        "id": "FjaonwNzYYp_",
        "outputId": "9537ff9b-327c-44af-e7b7-f9e3630b843b"
      },
      "execution_count": 3,
      "outputs": [
        {
          "output_type": "stream",
          "name": "stdout",
          "text": [
            "   1    1    1    1\n",
            "   2    2    2   10\n",
            "   3    3    3   11\n",
            "   4    4    4  100\n",
            "   5    5    5  101\n",
            "   6    6    6  110\n",
            "   7    7    7  111\n",
            "   8   10    8 1000\n",
            "   9   11    9 1001\n",
            "  10   12    A 1010\n",
            "None\n"
          ]
        }
      ]
    },
    {
      "cell_type": "code",
      "source": [
        "def print_rangoli(size):\n",
        "    # your code goes here\n",
        "     \n",
        "       alphabet = ' abcdefghijklmnopqrstuvwxyz'\n",
        "\n",
        "       for i in range(size,0,-1):\n",
        "          c = alphabet[size:i:-1] + alphabet[i:size+1]\n",
        "          c = '-'.join(c)\n",
        "          print(c.center((size*4)-3,'-'))\n",
        "\n",
        "       for i in range(0,size-1):\n",
        "        c = alphabet[size:i+2:-1] + alphabet[i+2:size+1]\n",
        "        c ='-'.join(c)\n",
        "        print(c.center((size*4)-3,'-'))"
      ],
      "metadata": {
        "id": "kygb4hejYq1F"
      },
      "execution_count": 4,
      "outputs": []
    },
    {
      "cell_type": "code",
      "source": [
        "print(print_rangoli(5))"
      ],
      "metadata": {
        "colab": {
          "base_uri": "https://localhost:8080/"
        },
        "id": "6FaCDfx2Yt_4",
        "outputId": "b5c9525f-32c7-465a-bbce-1aa3f4e37252"
      },
      "execution_count": 5,
      "outputs": [
        {
          "output_type": "stream",
          "name": "stdout",
          "text": [
            "--------e--------\n",
            "------e-d-e------\n",
            "----e-d-c-d-e----\n",
            "--e-d-c-b-c-d-e--\n",
            "e-d-c-b-a-b-c-d-e\n",
            "--e-d-c-b-c-d-e--\n",
            "----e-d-c-d-e----\n",
            "------e-d-e------\n",
            "--------e--------\n",
            "None\n"
          ]
        }
      ]
    },
    {
      "cell_type": "code",
      "source": [
        "import string\n",
        "\n",
        "# Complete the solve function below.\n",
        "def solve(s):\n",
        "    l=s.split(\" \")\n",
        "    s=''\n",
        "    for i in l:\n",
        "        s=s+i.capitalize()+' '\n",
        "    return s    "
      ],
      "metadata": {
        "id": "kZCu84AkYxaE"
      },
      "execution_count": 6,
      "outputs": []
    },
    {
      "cell_type": "code",
      "source": [
        "print(solve('chris alan'))"
      ],
      "metadata": {
        "colab": {
          "base_uri": "https://localhost:8080/"
        },
        "id": "TBFfbCBEY8ts",
        "outputId": "7b755ac2-e2a6-411e-fdf5-0b0d094fdc13"
      },
      "execution_count": 8,
      "outputs": [
        {
          "output_type": "stream",
          "name": "stdout",
          "text": [
            "Chris Alan \n"
          ]
        }
      ]
    },
    {
      "cell_type": "code",
      "source": [
        "def minion_game(string):\n",
        "    # your code goes here\n",
        "    vowels = 'AEIOU'\n",
        "    stuart = 0\n",
        "    kevin = 0\n",
        "    len_string = len(string)\n",
        "        \n",
        "    for i, l in enumerate(string):\n",
        "        if l in vowels:\n",
        "            kevin += len_string - i\n",
        "        else:\n",
        "            stuart += len_string - i\n",
        "            \n",
        "    if stuart > kevin:\n",
        "        print('Stuart', stuart)\n",
        "    elif kevin > stuart:\n",
        "        print('Kevin', kevin)\n",
        "    else:\n",
        "        print('Draw')    \n",
        "                        "
      ],
      "metadata": {
        "id": "3qVRIcPZZbdH"
      },
      "execution_count": 9,
      "outputs": []
    },
    {
      "cell_type": "code",
      "source": [
        "print(minion_game(\"BANANA\"))"
      ],
      "metadata": {
        "colab": {
          "base_uri": "https://localhost:8080/"
        },
        "id": "x8kvLV41ZbNh",
        "outputId": "6bfab020-2307-429e-8dcf-5d740595caa3"
      },
      "execution_count": 10,
      "outputs": [
        {
          "output_type": "stream",
          "name": "stdout",
          "text": [
            "Stuart 12\n",
            "None\n"
          ]
        }
      ]
    },
    {
      "cell_type": "code",
      "source": [
        "from itertools import product\n",
        "A=list(map(int,input().split()))\n",
        "B=list(map(int,input().split()))\n",
        "for i in list(product(A,B)):\n",
        "  print(i, end=' ')"
      ],
      "metadata": {
        "colab": {
          "base_uri": "https://localhost:8080/"
        },
        "id": "9B9V882DaYKf",
        "outputId": "056f5cfb-9202-49f8-e342-7dcede98ade8"
      },
      "execution_count": 12,
      "outputs": [
        {
          "output_type": "stream",
          "name": "stdout",
          "text": [
            "1 2\n",
            "3 4\n",
            "(1, 3) (1, 4) (2, 3) (2, 4) "
          ]
        }
      ]
    },
    {
      "cell_type": "code",
      "source": [
        "from collections import Counter\n",
        "no_of_shoes=int(input())\n",
        "size_list=map(int, input().split())\n",
        "no_of_customer=int(input())\n",
        "shoes=Counter(size_list)\n",
        "income=0\n",
        "for i in range(no_of_customer):\n",
        "  size, price=map(int, input().split())\n",
        "  if shoes[size]:\n",
        "    income+=price\n",
        "    shoes[size]-=1\n",
        "print(income)  "
      ],
      "metadata": {
        "colab": {
          "base_uri": "https://localhost:8080/"
        },
        "id": "KdJ5crqKaajz",
        "outputId": "446ae63f-524c-4567-c2c3-8b48a02e77bf"
      },
      "execution_count": 13,
      "outputs": [
        {
          "output_type": "stream",
          "name": "stdout",
          "text": [
            "10\n",
            "2 3 4 5 6 8 7 6 5 18\n",
            "6\n",
            "6 55\n",
            "6 45\n",
            "6 55\n",
            "4 40\n",
            "18 60\n",
            "10 50\n",
            "200\n"
          ]
        }
      ]
    },
    {
      "cell_type": "code",
      "source": [
        "from itertools import permutations\n",
        "s=input().split()\n",
        "string=sorted(s[0])\n",
        "number=int(s[1])\n",
        "print(*list(map(''.join,permutations(string,number))),sep='\\n')\n"
      ],
      "metadata": {
        "colab": {
          "base_uri": "https://localhost:8080/"
        },
        "id": "5KnSeWL_bREP",
        "outputId": "fc898d91-d2d4-4694-e81d-269964542ac1"
      },
      "execution_count": 14,
      "outputs": [
        {
          "output_type": "stream",
          "name": "stdout",
          "text": [
            "HACK 2\n",
            "AC\n",
            "AH\n",
            "AK\n",
            "CA\n",
            "CH\n",
            "CK\n",
            "HA\n",
            "HC\n",
            "HK\n",
            "KA\n",
            "KC\n",
            "KH\n"
          ]
        }
      ]
    },
    {
      "cell_type": "code",
      "source": [
        "import cmath\n",
        "c=complex(input().strip())\n",
        "res=cmath.polar(c)\n",
        "print(res[0])\n",
        "print(res[1])\n"
      ],
      "metadata": {
        "colab": {
          "base_uri": "https://localhost:8080/"
        },
        "id": "1_I5aafLc1bz",
        "outputId": "8a3431b3-756e-429d-d7c7-486560a2fa6c"
      },
      "execution_count": 15,
      "outputs": [
        {
          "output_type": "stream",
          "name": "stdout",
          "text": [
            " 1+2j\n",
            "2.23606797749979\n",
            "1.1071487177940904\n"
          ]
        }
      ]
    },
    {
      "cell_type": "code",
      "source": [
        "def average(array):\n",
        "    # your code goes here\n",
        "    return round(sum(set(array))/len(set(array)),3)"
      ],
      "metadata": {
        "id": "jruvOjc4dFbp"
      },
      "execution_count": 16,
      "outputs": []
    },
    {
      "cell_type": "code",
      "source": [
        "# Enter your code here. Read input from STDIN. Print output to STDOUT\n",
        "from calendar import weekday, day_name\n",
        "m, d, y = map(int, input().split())\n",
        "day = day_name[weekday(y, m, d)]\n",
        "print(day.upper())"
      ],
      "metadata": {
        "colab": {
          "base_uri": "https://localhost:8080/"
        },
        "id": "4WnoE-8Xetcb",
        "outputId": "86342a40-d604-4918-ff58-7a64ef5e20c7"
      },
      "execution_count": 20,
      "outputs": [
        {
          "output_type": "stream",
          "name": "stdout",
          "text": [
            "08 05 2015\n",
            "WEDNESDAY\n"
          ]
        }
      ]
    },
    {
      "cell_type": "code",
      "source": [],
      "metadata": {
        "id": "gujhobHzfhq_"
      },
      "execution_count": null,
      "outputs": []
    }
  ]
}