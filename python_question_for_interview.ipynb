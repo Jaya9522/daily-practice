{
  "nbformat": 4,
  "nbformat_minor": 0,
  "metadata": {
    "colab": {
      "provenance": [],
      "authorship_tag": "ABX9TyMQKmsZyBWq1Q7nYVqKduPc",
      "include_colab_link": true
    },
    "kernelspec": {
      "name": "python3",
      "display_name": "Python 3"
    },
    "language_info": {
      "name": "python"
    }
  },
  "cells": [
    {
      "cell_type": "markdown",
      "metadata": {
        "id": "view-in-github",
        "colab_type": "text"
      },
      "source": [
        "<a href=\"https://colab.research.google.com/github/Jaya9522/daily-practice/blob/main/python_question_for_interview.ipynb\" target=\"_parent\"><img src=\"https://colab.research.google.com/assets/colab-badge.svg\" alt=\"Open In Colab\"/></a>"
      ]
    },
    {
      "cell_type": "markdown",
      "source": [
        "Python Program for Find minimum sum of factors of number"
      ],
      "metadata": {
        "id": "DUl8W2OQWv_K"
      }
    },
    {
      "cell_type": "code",
      "source": [
        "def findMinSum(num): \n",
        "    sum = 0\n",
        "      \n",
        "    # Find factors of number \n",
        "    # and add to the sum \n",
        "    i = 2\n",
        "    while(i * i <= num): \n",
        "        while(num % i == 0): \n",
        "            sum += i \n",
        "            num /= i \n",
        "        i += 1\n",
        "    sum += num \n",
        "      \n",
        "    # Return sum of numbers \n",
        "    # having minimum product \n",
        "    return sum\n",
        "  \n",
        "# Driver Code \n",
        "num = 15\n",
        "print(int(findMinSum(num))) "
      ],
      "metadata": {
        "colab": {
          "base_uri": "https://localhost:8080/"
        },
        "id": "8eACwwKc85kC",
        "outputId": "9c75d00d-48eb-4f5b-fa3d-c2e5b87fa55d"
      },
      "execution_count": 1,
      "outputs": [
        {
          "output_type": "stream",
          "name": "stdout",
          "text": [
            "8\n"
          ]
        }
      ]
    },
    {
      "cell_type": "markdown",
      "source": [
        "Write a python program to check a given number is perfect or not.\n",
        "\n",
        "Note: A perfect number is a positive integer that is equal to the sum of its positive divisors, excluding the number itself.\n",
        "Lets understand it with example\n",
        "\n",
        "6 is a positive number and its divisor is 1,2,3 and 6 itself.\n",
        "\n",
        "But we should not include 6 as by the definition of perfect number.\n",
        "\n",
        "Lets add its divisor excluding itself\n",
        "\n",
        "1+2+3 = 6 which is equal to number itself.\n",
        "\n",
        "It means 6 is a Perfect Number."
      ],
      "metadata": {
        "id": "IxCuf79wXGNf"
      }
    },
    {
      "cell_type": "code",
      "source": [
        "n = int(input(\"Enter any number: \"))\n",
        "sum1 = 0\n",
        "for i in range(1, n):\n",
        "    if(n % i == 0):\n",
        "        sum1 = sum1 + i\n",
        "if (sum1 == n):\n",
        "    print(\"The number is a Perfect number!\")\n",
        "else:\n",
        "    print(\"The number is not a Perfect number!\")"
      ],
      "metadata": {
        "colab": {
          "base_uri": "https://localhost:8080/"
        },
        "id": "K0Bs6AGvXgB9",
        "outputId": "65c395e4-14d3-47ce-aa02-422b6649d399"
      },
      "execution_count": 2,
      "outputs": [
        {
          "output_type": "stream",
          "name": "stdout",
          "text": [
            "Enter any number: 6\n",
            "The number is a Perfect number!\n"
          ]
        }
      ]
    },
    {
      "cell_type": "markdown",
      "source": [
        "Write a Python program to check whether a String is Palindrome or not?"
      ],
      "metadata": {
        "id": "jxlsewQ_Xkgc"
      }
    },
    {
      "cell_type": "code",
      "source": [
        "def isPalindrome(s):\n",
        "    return s == s[::-1]\n",
        " \n",
        " \n",
        "# Driver code\n",
        "s = \"malayalam\"\n",
        "ans = isPalindrome(s)\n",
        " \n",
        "if ans:\n",
        "    print(\"Yes\")\n",
        "else:\n",
        "    print(\"No\")"
      ],
      "metadata": {
        "colab": {
          "base_uri": "https://localhost:8080/"
        },
        "id": "J2yp9wPKXi4l",
        "outputId": "7fedf822-1b93-4610-ce4a-d8b55503e15b"
      },
      "execution_count": 3,
      "outputs": [
        {
          "output_type": "stream",
          "name": "stdout",
          "text": [
            "Yes\n"
          ]
        }
      ]
    },
    {
      "cell_type": "markdown",
      "source": [
        "Remove char. from string\n",
        "Easy\n",
        "Write a python program to remove a given character from string.\n",
        "\n",
        "For Example:\n",
        "\n",
        "Input String: Quescol\n",
        "\n",
        "Input Character : e\n",
        "\n",
        "Output: Quscol (After removing ‘e’)"
      ],
      "metadata": {
        "id": "AOaX9SVfX9o8"
      }
    },
    {
      "cell_type": "code",
      "source": [
        "def remove_char(s1,s2):\n",
        "    print(s1.replace(s2, ''))\n",
        "\n",
        "s1 = input(\"please give a String : \")\n",
        "s2 = input(\"please give a Character to remove : \")\n",
        "remove_char(s1,s2)"
      ],
      "metadata": {
        "colab": {
          "base_uri": "https://localhost:8080/"
        },
        "id": "uXUxVzOPYNOv",
        "outputId": "f40d6038-806a-4779-b83e-b8757af0043c"
      },
      "execution_count": 4,
      "outputs": [
        {
          "output_type": "stream",
          "name": "stdout",
          "text": [
            "please give a String : almabetter\n",
            "please give a Character to remove : t\n",
            "almabeer\n"
          ]
        }
      ]
    },
    {
      "cell_type": "markdown",
      "source": [
        "Swap two numbers\n",
        "Easy\n",
        "Write a Python program to swap two number without using third variable."
      ],
      "metadata": {
        "id": "Usv2MZzCYYjw"
      }
    },
    {
      "cell_type": "code",
      "source": [
        "x = 5\n",
        "y = 7\n",
        " \n",
        "print (\"Before swapping: \")\n",
        "print(\"Value of x : \", x, \" and y : \", y)\n",
        " \n",
        "# code to swap 'x' and 'y'\n",
        "x, y = y, x\n",
        " \n",
        "print (\"After swapping: \")\n",
        "print(\"Value of x : \", x, \" and y : \", y)"
      ],
      "metadata": {
        "colab": {
          "base_uri": "https://localhost:8080/"
        },
        "id": "IURY4d8dYTQz",
        "outputId": "9af03050-8808-4644-bce7-3bf78bda3610"
      },
      "execution_count": 5,
      "outputs": [
        {
          "output_type": "stream",
          "name": "stdout",
          "text": [
            "Before swapping: \n",
            "Value of x :  5  and y :  7\n",
            "After swapping: \n",
            "Value of x :  7  and y :  5\n"
          ]
        }
      ]
    },
    {
      "cell_type": "markdown",
      "source": [
        "Find last position of substring\n",
        "\n",
        "Write a python program to find the last position of a given substring."
      ],
      "metadata": {
        "id": "sLzm8A2lYraT"
      }
    },
    {
      "cell_type": "code",
      "source": [
        "# initializing string\n",
        "test_string = \"GfG is best for CS and also best for Learning\"\n",
        " \n",
        "# initializing target word\n",
        "tar_word = \"best\"\n",
        " \n",
        "# printing original string\n",
        "print(\"The original string : \" + str(test_string))\n",
        " \n",
        "# using rindex()\n",
        "# Find last occurrence of substring\n",
        "res = test_string.rindex(tar_word)\n",
        " \n",
        "# print result\n",
        "print(\"Index of last occurrence of substring is : \" + str(res))"
      ],
      "metadata": {
        "colab": {
          "base_uri": "https://localhost:8080/"
        },
        "id": "sPnNRm7DY97S",
        "outputId": "974f9799-be38-4c51-f264-44c2469d7a6f"
      },
      "execution_count": 6,
      "outputs": [
        {
          "output_type": "stream",
          "name": "stdout",
          "text": [
            "The original string : GfG is best for CS and also best for Learning\n",
            "Index of last occurrence of substring is : 28\n"
          ]
        }
      ]
    },
    {
      "cell_type": "markdown",
      "source": [
        "Change position\n",
        "Easy\n",
        "Write a Python program to change the position of every nth value with the (n+1)th in a list."
      ],
      "metadata": {
        "id": "vkBjYFAZY9jt"
      }
    },
    {
      "cell_type": "code",
      "source": [
        "from itertools import zip_longest, chain, tee\n",
        "def replace2copy(lst):\n",
        "    lst1, lst2 = tee(iter(lst), 2)\n",
        "    return list(chain.from_iterable(zip_longest(lst[1::2], lst[::2])))\n",
        "n = [0,1,2,3,4,5]\n",
        "print(replace2copy(n))"
      ],
      "metadata": {
        "colab": {
          "base_uri": "https://localhost:8080/"
        },
        "id": "b-NyRwOcZZLB",
        "outputId": "1905b69f-817e-4ac7-afe7-c2f0b79f5e7c"
      },
      "execution_count": 7,
      "outputs": [
        {
          "output_type": "stream",
          "name": "stdout",
          "text": [
            "[1, 0, 3, 2, 5, 4]\n"
          ]
        }
      ]
    },
    {
      "cell_type": "markdown",
      "source": [
        "Common ones out\n",
        "\n",
        "Write a Python program to find common items from two lists."
      ],
      "metadata": {
        "id": "wfS9iICMZevy"
      }
    },
    {
      "cell_type": "code",
      "source": [
        "color1 = \"Red\", \"Green\", \"Orange\", \"White\"\n",
        "color2 = \"Black\", \"Green\", \"White\", \"Pink\"\n",
        "print(set(color1) & set(color2))"
      ],
      "metadata": {
        "colab": {
          "base_uri": "https://localhost:8080/"
        },
        "id": "Nrj0QmgDZp3e",
        "outputId": "2fe0278f-2c1a-4c10-82cc-c2c55beae51f"
      },
      "execution_count": 8,
      "outputs": [
        {
          "output_type": "stream",
          "name": "stdout",
          "text": [
            "{'Green', 'White'}\n"
          ]
        }
      ]
    },
    {
      "cell_type": "markdown",
      "source": [
        "Difference between two lists\n",
        "\n",
        "Write a Python program to compute the difference between two lists."
      ],
      "metadata": {
        "id": "63UoHsrTZuiJ"
      }
    },
    {
      "cell_type": "code",
      "source": [
        "from collections import Counter\n",
        "color1 = [\"red\", \"orange\", \"green\", \"blue\", \"white\"]\n",
        "color2 = [\"black\", \"yellow\", \"green\", \"blue\"]\n",
        "counter1 = Counter(color1)\n",
        "counter2 = Counter(color2)\n",
        "print(\"Color1-Color2: \",list(counter1 - counter2))\n",
        "print(\"Color2-Color1: \",list(counter2 - counter1))"
      ],
      "metadata": {
        "colab": {
          "base_uri": "https://localhost:8080/"
        },
        "id": "cTbM9KRbZ8qW",
        "outputId": "f2c61e23-200f-432c-e3b7-6c7a469bfcc8"
      },
      "execution_count": 9,
      "outputs": [
        {
          "output_type": "stream",
          "name": "stdout",
          "text": [
            "Color1-Color2:  ['red', 'orange', 'white']\n",
            "Color2-Color1:  ['black', 'yellow']\n"
          ]
        }
      ]
    },
    {
      "cell_type": "markdown",
      "source": [
        "Create lambda function\n",
        "\n",
        "Write a Python program to create a lambda function that adds 15 to a given number passed in as an argument, also create a lambda function that multiplies argument x with argument y and print the result."
      ],
      "metadata": {
        "id": "o29-cG0VaA-0"
      }
    },
    {
      "cell_type": "code",
      "source": [
        "r = lambda a : a + 15\n",
        "print(r(10))\n",
        "r = lambda x, y : x * y\n",
        "print(r(12, 4))"
      ],
      "metadata": {
        "colab": {
          "base_uri": "https://localhost:8080/"
        },
        "id": "7x81Ax7paQ5R",
        "outputId": "17d7fbc4-f6f5-4645-d9d7-11ba41b15314"
      },
      "execution_count": 10,
      "outputs": [
        {
          "output_type": "stream",
          "name": "stdout",
          "text": [
            "25\n",
            "48\n"
          ]
        }
      ]
    },
    {
      "cell_type": "markdown",
      "source": [
        "Find Tuple with smallest index\n",
        "\n",
        "Write a Python program to find a tuple, the smallest second index value from a list of tuples."
      ],
      "metadata": {
        "id": "czrzb1zyaZpN"
      }
    },
    {
      "cell_type": "code",
      "source": [
        "x = [(4, 1), (1, 2), (6, 0)]\n",
        "print(min(x, key=lambda n: (n[1], -n[0])))"
      ],
      "metadata": {
        "colab": {
          "base_uri": "https://localhost:8080/"
        },
        "id": "powio77GahI4",
        "outputId": "a7a9b446-a22f-451b-ccda-7b231529add3"
      },
      "execution_count": 11,
      "outputs": [
        {
          "output_type": "stream",
          "name": "stdout",
          "text": [
            "(6, 0)\n"
          ]
        }
      ]
    },
    {
      "cell_type": "markdown",
      "source": [
        "Find items starts with char.\n",
        "\n",
        "Write a Python program to find the items starts with specific character from a given list."
      ],
      "metadata": {
        "id": "YHaXj8I9ap-M"
      }
    },
    {
      "cell_type": "code",
      "source": [
        "def test(lst, char):\n",
        "    result = [i for i in lst if i.startswith(char)]\n",
        "    return result\n",
        "text = [\"abcd\", \"abc\", \"bcd\", \"bkie\", \"cder\", \"cdsw\", \"sdfsd\", \"dagfa\", \"acjd\"]\n",
        "print(\"\\nOriginal list:\")\n",
        "print(text)\n",
        "char = \"a\"\n",
        "print(\"\\nItems start with\",char,\"from the said list:\")\n",
        "print(test(text, char))"
      ],
      "metadata": {
        "colab": {
          "base_uri": "https://localhost:8080/"
        },
        "id": "upDF5MBea3G8",
        "outputId": "df5cad6f-f880-4e19-850b-839feb01c31e"
      },
      "execution_count": 12,
      "outputs": [
        {
          "output_type": "stream",
          "name": "stdout",
          "text": [
            "\n",
            "Original list:\n",
            "['abcd', 'abc', 'bcd', 'bkie', 'cder', 'cdsw', 'sdfsd', 'dagfa', 'acjd']\n",
            "\n",
            "Items start with a from the said list:\n",
            "['abcd', 'abc', 'acjd']\n"
          ]
        }
      ]
    },
    {
      "cell_type": "markdown",
      "source": [
        "Using lambda find items begin with char.\n",
        "\n",
        "Write a Python program to find whether a given string starts with a given character using Lambda."
      ],
      "metadata": {
        "id": "qiXxDchLa8vl"
      }
    },
    {
      "cell_type": "code",
      "source": [
        "starts_with = lambda x: True if x.startswith('P') else False\n",
        "print(starts_with('Python'))\n",
        "starts_with = lambda x: True if x.startswith('P') else False\n",
        "print(starts_with('Java'))"
      ],
      "metadata": {
        "colab": {
          "base_uri": "https://localhost:8080/"
        },
        "id": "iRA8gST6bJu3",
        "outputId": "c4c83ebf-553a-4383-ead9-eb89b2fc6449"
      },
      "execution_count": 13,
      "outputs": [
        {
          "output_type": "stream",
          "name": "stdout",
          "text": [
            "True\n",
            "False\n"
          ]
        }
      ]
    },
    {
      "cell_type": "markdown",
      "source": [
        "Find next prime number\n",
        "\n",
        "Write a Python Program to Find Next Prime Number."
      ],
      "metadata": {
        "id": "xZizX1G3bO2X"
      }
    },
    {
      "cell_type": "code",
      "source": [
        "def nextprime(n):\n",
        "    p=n+1\n",
        "    for i in range(2,p):\n",
        "        if(p%i==0):\n",
        "            p=p+1\n",
        "    else:\n",
        "        print(p,end=\" \")\n",
        "n=int(input())\n",
        "nextprime(n)\n"
      ],
      "metadata": {
        "colab": {
          "base_uri": "https://localhost:8080/"
        },
        "id": "Ka5x_1k-bw-e",
        "outputId": "2e26e39e-f1d1-414d-d427-1323245d1a58"
      },
      "execution_count": 15,
      "outputs": [
        {
          "output_type": "stream",
          "name": "stdout",
          "text": [
            "9\n",
            "11 "
          ]
        }
      ]
    },
    {
      "cell_type": "markdown",
      "source": [
        "Calculate Euclidean distance\n",
        "\n",
        "Write a Python program to calculate Euclidean Distance."
      ],
      "metadata": {
        "id": "a0fVk6v1b4M5"
      }
    },
    {
      "cell_type": "code",
      "source": [
        "import math\n",
        "print(\"Enter the first point A\")\n",
        "x1, y1 = map(int, input().split())\n",
        "print(\"Enter the second point B\")\n",
        "x2, y2 = map(int, input().split())\n",
        "dist = math.sqrt((x2-x1)**2 + (y2-y1)**2)\n",
        "print(\"The Euclidean Distance is \" + str(dist))"
      ],
      "metadata": {
        "colab": {
          "base_uri": "https://localhost:8080/"
        },
        "id": "h9UeW5L4bz88",
        "outputId": "dcfd701a-f5e7-4fef-ae7b-f8ec2f4d8ee9"
      },
      "execution_count": 16,
      "outputs": [
        {
          "output_type": "stream",
          "name": "stdout",
          "text": [
            "Enter the first point A\n",
            "5 6\n",
            "Enter the second point B\n",
            "6 7\n",
            "The Euclidean Distance is 1.4142135623730951\n"
          ]
        }
      ]
    },
    {
      "cell_type": "markdown",
      "source": [
        "Filter sublist using lambda\n",
        "\n",
        "Write a Python program to filter a list of integers using Lambda."
      ],
      "metadata": {
        "id": "K_X0DGGkcbBX"
      }
    },
    {
      "cell_type": "code",
      "source": [
        "nums = [1, 2, 3, 4, 5, 6, 7, 8, 9, 10]\n",
        "print(\"Original list of integers:\")\n",
        "print(nums)\n",
        "print(\"\\nEven numbers from the said list:\")\n",
        "even_nums = list(filter(lambda x: x%2 == 0, nums))\n",
        "print(even_nums)\n",
        "print(\"\\nOdd numbers from the said list:\")\n",
        "odd_nums = list(filter(lambda x: x%2 != 0, nums))\n",
        "print(odd_nums)"
      ],
      "metadata": {
        "colab": {
          "base_uri": "https://localhost:8080/"
        },
        "id": "-WAad8NZcITA",
        "outputId": "a268f8ec-5ebf-4550-ffff-81569bbf02ec"
      },
      "execution_count": 17,
      "outputs": [
        {
          "output_type": "stream",
          "name": "stdout",
          "text": [
            "Original list of integers:\n",
            "[1, 2, 3, 4, 5, 6, 7, 8, 9, 10]\n",
            "\n",
            "Even numbers from the said list:\n",
            "[2, 4, 6, 8, 10]\n",
            "\n",
            "Odd numbers from the said list:\n",
            "[1, 3, 5, 7, 9]\n"
          ]
        }
      ]
    },
    {
      "cell_type": "markdown",
      "source": [
        "Armstrong number\n",
        "Easy\n",
        "Write a program in Python to check whether an integer is Armstrong number or not.\n",
        "\n",
        "What is Armstrong Number?\n",
        "\n",
        "It is a number which is equal to the sum of cube of its digits. For eg: 153, 370 etc.\n",
        "\n",
        "Lets see it practically by calculating it,\n",
        "\n",
        "Suppose I am taking 153 for an example\n",
        "\n",
        "First calculate the cube of its each digits\n",
        "\n",
        "1^3 = (1 * 1 * 1) = 1\n",
        "\n",
        "5^3 = (5 * 5 * 5) = 125\n",
        "\n",
        "3^3= (3 * 3 * 3) = 27\n",
        "\n",
        "Now add the cube\n",
        "\n",
        "1+125+27 = 153\n",
        "\n",
        "It means 153 is an Armstrong Number."
      ],
      "metadata": {
        "id": "4ZV2odk_c8eu"
      }
    },
    {
      "cell_type": "code",
      "source": [
        "num = int(input(\"Enter a number: \"))\n",
        "\n",
        "# initialize sum\n",
        "sum = 0\n",
        "\n",
        "# find the sum of the cube of each digit\n",
        "temp = num\n",
        "while temp > 0:\n",
        "   digit = temp % 10\n",
        "   sum += digit ** 3\n",
        "   temp //= 10\n",
        "\n",
        "# display the result\n",
        "if num == sum:\n",
        "   print(num,\"is an Armstrong number\")\n",
        "else:\n",
        "   print(num,\"is not an Armstrong number\")"
      ],
      "metadata": {
        "colab": {
          "base_uri": "https://localhost:8080/"
        },
        "id": "rEOGQ7qudCf4",
        "outputId": "6a78e0d9-e2cd-4fb7-c206-00671ca6a535"
      },
      "execution_count": 18,
      "outputs": [
        {
          "output_type": "stream",
          "name": "stdout",
          "text": [
            "Enter a number: 153\n",
            "153 is an Armstrong number\n"
          ]
        }
      ]
    },
    {
      "cell_type": "markdown",
      "source": [
        "Largest negative and smallest positive\n",
        "Easy\n",
        "Write a Python program to find the largest negative and smallest positive numbers (or 0 if none)."
      ],
      "metadata": {
        "id": "B8riuClPdkYY"
      }
    },
    {
      "cell_type": "code",
      "source": [
        "def test(nums):\n",
        "    pos = [n for n in nums if n > 0]\n",
        "    neg = [n for n in nums if n < 0]\n",
        "    return [max(neg) if neg else 0, min(pos) if pos else 0]   \n",
        "nums=[-12, -6, 300, -40, 2, 2, 3, 57, -50, -22, 12, 40, 9, 11, 18]\n",
        "print(\"List of numbers:\",nums)\n",
        "print(\"Largest negative and smallest positive numbers (or 0 if none) of the said list:\")\n",
        "print(test(nums))"
      ],
      "metadata": {
        "colab": {
          "base_uri": "https://localhost:8080/"
        },
        "id": "_tXmSxkqdeFr",
        "outputId": "ff1df233-9811-4c6f-e5a9-64985e0a1651"
      },
      "execution_count": 19,
      "outputs": [
        {
          "output_type": "stream",
          "name": "stdout",
          "text": [
            "List of numbers: [-12, -6, 300, -40, 2, 2, 3, 57, -50, -22, 12, 40, 9, 11, 18]\n",
            "Largest negative and smallest positive numbers (or 0 if none) of the said list:\n",
            "[-6, 2]\n"
          ]
        }
      ]
    },
    {
      "cell_type": "markdown",
      "source": [
        "Harmonic sum\n",
        "\n",
        "Write a Python program to calculate the harmonic sum of n-1.\n",
        "\n",
        "Note: The harmonic sum is the sum of reciprocals of the positive integers."
      ],
      "metadata": {
        "id": "bys2sDsrdyPT"
      }
    },
    {
      "cell_type": "code",
      "source": [
        "def harmonic_sum(n):\n",
        "  if n < 2:\n",
        "    return 1\n",
        "  else:\n",
        "    return 1 / n + (harmonic_sum(n - 1))\n",
        "    \n",
        "print(harmonic_sum(7))\n",
        "print(harmonic_sum(4))"
      ],
      "metadata": {
        "colab": {
          "base_uri": "https://localhost:8080/"
        },
        "id": "kZl9hS69d7nw",
        "outputId": "5af87a4e-485a-4810-affd-dcec622e3e71"
      },
      "execution_count": 20,
      "outputs": [
        {
          "output_type": "stream",
          "name": "stdout",
          "text": [
            "2.5928571428571425\n",
            "2.083333333333333\n"
          ]
        }
      ]
    },
    {
      "cell_type": "markdown",
      "source": [
        "Largest prime factor\n",
        "Easy\n",
        "Write a Python program to find the largest prime factor of a given number.\n",
        "\n",
        "The prime factors of 330 are 2, 3, 5 and 11.\n",
        "\n",
        "Therefore 11 is the largest prime factor of 330.\n",
        "\n",
        "Sample Example: 330 = 2 × 3 × 5 × 11"
      ],
      "metadata": {
        "id": "joEAuBvbeCC6"
      }
    },
    {
      "cell_type": "code",
      "source": [
        "def Largest_Prime_Factor(n):\n",
        "    return next(n // i for i in range(1, n) if n % i == 0 and is_prime(n // i))\n",
        "def is_prime(m):\n",
        "    return all(m % i for i in range(2, m - 1))\n",
        "print(Largest_Prime_Factor(200))\n",
        "print(Largest_Prime_Factor(330))\n",
        "print(Largest_Prime_Factor(243423423330))"
      ],
      "metadata": {
        "colab": {
          "base_uri": "https://localhost:8080/"
        },
        "id": "OFH1p_mveKhm",
        "outputId": "c409c1d9-013f-4e7d-c916-497b446d52a7"
      },
      "execution_count": 21,
      "outputs": [
        {
          "output_type": "stream",
          "name": "stdout",
          "text": [
            "5\n",
            "11\n",
            "1114117\n"
          ]
        }
      ]
    },
    {
      "cell_type": "markdown",
      "source": [
        "Add digits\n",
        "\n",
        "Write a Python program to add the digits of a positive integer repeatedly until the result has a single digit."
      ],
      "metadata": {
        "id": "DRySH2xieOMr"
      }
    },
    {
      "cell_type": "code",
      "source": [
        "def add_digits(num):\n",
        "        return (num - 1) % 9 + 1 if num > 0 else 0\n",
        "\n",
        "print(add_digits(48))\n",
        "print(add_digits(59))"
      ],
      "metadata": {
        "colab": {
          "base_uri": "https://localhost:8080/"
        },
        "id": "p33sY3vDeYt-",
        "outputId": "4542c0eb-3304-46ef-9069-e547a24ba78d"
      },
      "execution_count": 22,
      "outputs": [
        {
          "output_type": "stream",
          "name": "stdout",
          "text": [
            "3\n",
            "5\n"
          ]
        }
      ]
    },
    {
      "cell_type": "markdown",
      "source": [
        "Find GCD\n",
        "\n",
        "Write a Python program to find the greatest common divisor (GCD) of two integers,\n",
        "\n"
      ],
      "metadata": {
        "id": "l9H10p25enH_"
      }
    },
    {
      "cell_type": "code",
      "source": [
        "def hcf(a, b):\n",
        "    if(b == 0):\n",
        "        return a\n",
        "    else:\n",
        "        return hcf(b, a % b)\n",
        "  \n",
        "a = 60\n",
        "b = 48\n",
        "  \n",
        "# prints 12\n",
        "print(\"The gcd of 60 and 48 is : \", end=\"\")\n",
        "print(hcf(60, 48))"
      ],
      "metadata": {
        "colab": {
          "base_uri": "https://localhost:8080/"
        },
        "id": "a6BIB2_GewZT",
        "outputId": "01494681-ca25-4c1f-d28c-08dccf188bc7"
      },
      "execution_count": 23,
      "outputs": [
        {
          "output_type": "stream",
          "name": "stdout",
          "text": [
            "The gcd of 60 and 48 is : 12\n"
          ]
        }
      ]
    },
    {
      "cell_type": "markdown",
      "source": [
        "Biggest even number\n",
        "Easy\n",
        "Write a Python program to find the biggest even number between two numbers inclusive."
      ],
      "metadata": {
        "id": "hhKZgvdHe0pi"
      }
    },
    {
      "cell_type": "code",
      "source": [
        "def test(m, n):\n",
        "    if m > n or (m == n and m % 2 == 1):\n",
        "        return -1\n",
        "    return n if n % 2 == 0 else n - 1\n",
        "\n",
        "m = 12\n",
        "n = 51\n",
        "print(\"\\nBiggest even number between\",m,\"and\",n)\n",
        "print(test(m, n))"
      ],
      "metadata": {
        "colab": {
          "base_uri": "https://localhost:8080/"
        },
        "id": "__fenBTWe8zZ",
        "outputId": "e071c9c5-8a0b-4603-9062-a46d3ee15859"
      },
      "execution_count": 24,
      "outputs": [
        {
          "output_type": "stream",
          "name": "stdout",
          "text": [
            "\n",
            "Biggest even number between 12 and 51\n",
            "50\n"
          ]
        }
      ]
    },
    {
      "cell_type": "markdown",
      "source": [
        "Find x\n",
        "\n",
        "Write a Python program to find an integer exponent x such that a^x = n.\n",
        "\n",
        "Input:\n",
        "\n",
        "n = 81\n",
        "\n",
        "a = 3\n",
        "\n",
        "Output: 4"
      ],
      "metadata": {
        "id": "jbGETIy7fBN1"
      }
    },
    {
      "cell_type": "code",
      "source": [
        "def test(n,a):\n",
        "    m = 1\n",
        "    x = 0\n",
        "    while m != n:\n",
        "        x += 1\n",
        "        m *= a\n",
        "    return x\n",
        "\n",
        "a = 3\n",
        "n = 81\n",
        "print(\"a = \",a,\": n = \",n)\n",
        "print(\"Find an integer exponent x such that a^x = n:\")    \n",
        "print(test(n,a))"
      ],
      "metadata": {
        "colab": {
          "base_uri": "https://localhost:8080/"
        },
        "id": "CGAJSMaMfLEp",
        "outputId": "02ddb5c4-86f2-4545-8042-bdfec2981dbd"
      },
      "execution_count": 26,
      "outputs": [
        {
          "output_type": "stream",
          "name": "stdout",
          "text": [
            "a =  3 : n =  81\n",
            "Find an integer exponent x such that a^x = n:\n",
            "4\n"
          ]
        }
      ]
    },
    {
      "cell_type": "markdown",
      "source": [
        "Words with prime length\n",
        "\n",
        "Write a Python program to find the string consisting of all the words whose lengths are prime numbers."
      ],
      "metadata": {
        "id": "lYsOgiyNfaMx"
      }
    },
    {
      "cell_type": "code",
      "source": [
        "def test(strs):\n",
        "    return \" \".join(strs for strs in strs.split() if is_prime(len(strs))) \n",
        "def is_prime(n):\n",
        "    return n > 1 and all(n % j for j in range(2, int(n ** 0.5) + 1))\n",
        "strs = \"The quick brown fox jumps over the lazy dog.\"\n",
        "print(\"Original list of numbers:\")\n",
        "print(strs)\n",
        "print(\"Words whose lengths are prime numbers in the said string:\")\n",
        "print(test(strs))"
      ],
      "metadata": {
        "colab": {
          "base_uri": "https://localhost:8080/"
        },
        "id": "EqI8IRvwflA_",
        "outputId": "05f8ee33-5356-42ae-bb30-785912649e32"
      },
      "execution_count": 27,
      "outputs": [
        {
          "output_type": "stream",
          "name": "stdout",
          "text": [
            "Original list of numbers:\n",
            "The quick brown fox jumps over the lazy dog.\n",
            "Words whose lengths are prime numbers in the said string:\n",
            "The quick brown fox jumps the\n"
          ]
        }
      ]
    },
    {
      "cell_type": "markdown",
      "source": [
        "Make sub-list of only odd numbers\n",
        "\n",
        "Write a Python program to find the sublist of numbers from a given list of numbers with only odd digits in increasing order."
      ],
      "metadata": {
        "id": "HnmccEH5fob5"
      }
    },
    {
      "cell_type": "code",
      "source": [
        "def test(nums):\n",
        "    return sorted(n for n in nums if all(int(c) % 2 for c in str(abs(n))))\n",
        "  \n",
        "nums = [1, 3, 79, 10, 4, 2, 39]\n",
        "print(\"Original list of numbers:\")\n",
        "print(nums)\n",
        "print(\"Sublist of numbers of the said list with only odd digits in increasing order:\")\n",
        "print(test(nums))"
      ],
      "metadata": {
        "colab": {
          "base_uri": "https://localhost:8080/"
        },
        "id": "uiY2K6_sfxsx",
        "outputId": "458da7d2-685e-4843-e6dd-6da1994a16a1"
      },
      "execution_count": 28,
      "outputs": [
        {
          "output_type": "stream",
          "name": "stdout",
          "text": [
            "Original list of numbers:\n",
            "[1, 3, 79, 10, 4, 2, 39]\n",
            "Sublist of numbers of the said list with only odd digits in increasing order:\n",
            "[1, 3, 39, 79]\n"
          ]
        }
      ]
    },
    {
      "cell_type": "markdown",
      "source": [
        "Factorial by iterative method\n",
        "\n",
        "Write a Python program to calculate the factorial using iterative approach."
      ],
      "metadata": {
        "id": "wcAZuuNrf8_n"
      }
    },
    {
      "cell_type": "code",
      "source": [
        "num=5\n",
        "factorial = 1\n",
        "\n",
        "# check if the number is negative, positive or zero\n",
        "if num < 0:\n",
        "   print(\"Sorry, factorial does not exist for negative numbers\")\n",
        "elif num == 0:\n",
        "   print(\"The factorial of 0 is 1\")\n",
        "else:\n",
        "   for i in range(1,num + 1):\n",
        "       factorial = factorial*i\n",
        "   print(\"The factorial of\",num,\"is\",factorial)"
      ],
      "metadata": {
        "colab": {
          "base_uri": "https://localhost:8080/"
        },
        "id": "6Nu3ATXdgJS7",
        "outputId": "27596d9c-3ec2-42b1-a3e2-192f1ef8a06b"
      },
      "execution_count": 31,
      "outputs": [
        {
          "output_type": "stream",
          "name": "stdout",
          "text": [
            "The factorial of 5 is 120\n"
          ]
        }
      ]
    },
    {
      "cell_type": "markdown",
      "source": [
        "Fibonacci by Iterative method\n",
        "\n",
        "Write a Fibonacci series program in python using iterative method."
      ],
      "metadata": {
        "id": "pkbQVP3AgUSd"
      }
    },
    {
      "cell_type": "code",
      "source": [
        "def fibonacci(n):\n",
        "    assert n>0\n",
        "    secondLast = 0\n",
        "    Last = 1\n",
        "    if n == 1:\n",
        "        print(secondLast)\n",
        "    elif n == 2:\n",
        "        print(Last)\n",
        "    else:\n",
        "        for i in range(3, n+1):\n",
        "            result = secondLast + Last\n",
        "            secondLast = Last\n",
        "            Last = result\n",
        "        print(result)"
      ],
      "metadata": {
        "id": "ZF-7j-LigT-J"
      },
      "execution_count": 32,
      "outputs": []
    },
    {
      "cell_type": "code",
      "source": [
        "fibonacci(5)\n",
        "fibonacci(10)\n"
      ],
      "metadata": {
        "colab": {
          "base_uri": "https://localhost:8080/"
        },
        "id": "7m-FQJxYgiaW",
        "outputId": "7425ca1a-8b5e-4ea9-9cc2-86695d72bacc"
      },
      "execution_count": 33,
      "outputs": [
        {
          "output_type": "stream",
          "name": "stdout",
          "text": [
            "3\n",
            "34\n"
          ]
        }
      ]
    },
    {
      "cell_type": "code",
      "source": [
        "first,second=0,1\n",
        "n = int(input(\"please give a number for fibonacci series : \"))\n",
        "print(\"fibonacci series are : \")\n",
        "for i in range(0,n):\n",
        "    if i<=1:\n",
        "        result=i\n",
        "    else:\n",
        "      result = first + second;\n",
        "      first = second;\n",
        "      second = result;\n",
        "    print(result,end=',')\n",
        " "
      ],
      "metadata": {
        "colab": {
          "base_uri": "https://localhost:8080/"
        },
        "id": "sVT2pw49g9gH",
        "outputId": "76b6f97b-bdf4-47f1-8864-ca54219409f0"
      },
      "execution_count": 35,
      "outputs": [
        {
          "output_type": "stream",
          "name": "stdout",
          "text": [
            "please give a number for fibonacci series : 10\n",
            "fibonacci series are : \n",
            "0,1,1,2,3,5,8,13,21,34,"
          ]
        }
      ]
    },
    {
      "cell_type": "markdown",
      "source": [
        "Palindrome by iterative method\n",
        "\n",
        "Write a Python program for palindrome using an iterative method.\n",
        "\n"
      ],
      "metadata": {
        "id": "C8pZWr71hNhh"
      }
    },
    {
      "cell_type": "code",
      "source": [
        "n = int(input(\"please give a number : \"))\n",
        "reverse,temp = 0,n\n",
        "while temp!=0:\n",
        "    reverse = reverse*10 + temp%10;        \n",
        "    temp=temp//10;\n",
        "if reverse==n:\n",
        "    print(\"number is palindrom\")\n",
        "else:\n",
        "    print(\"number is not palindrom\")\n",
        " "
      ],
      "metadata": {
        "colab": {
          "base_uri": "https://localhost:8080/"
        },
        "id": "KgC9unmRg_m7",
        "outputId": "e63eaaa1-648e-4455-9789-449f9bd62954"
      },
      "execution_count": 36,
      "outputs": [
        {
          "output_type": "stream",
          "name": "stdout",
          "text": [
            "please give a number : 5885\n",
            "number is palindrom\n"
          ]
        }
      ]
    },
    {
      "cell_type": "markdown",
      "source": [
        "Remove duplicates from string\n",
        "\n",
        "Write a Python program to remove duplicate characters of a given string."
      ],
      "metadata": {
        "id": "HD3_Oiaahdqq"
      }
    },
    {
      "cell_type": "code",
      "source": [
        "from collections import OrderedDict\n",
        "def remove_duplicate(str1):\n",
        "  return \"\".join(OrderedDict.fromkeys(str1))\n",
        "     \n",
        "print(remove_duplicate(\"python exercises practice solution\"))\n",
        "print(remove_duplicate(\"w3resource\"))"
      ],
      "metadata": {
        "colab": {
          "base_uri": "https://localhost:8080/"
        },
        "id": "ukVzR1FShZlp",
        "outputId": "7d003949-1be0-45e2-9017-7de78768ddcf"
      },
      "execution_count": 37,
      "outputs": [
        {
          "output_type": "stream",
          "name": "stdout",
          "text": [
            "python exrcisalu\n",
            "w3resouc\n"
          ]
        }
      ]
    },
    {
      "cell_type": "markdown",
      "source": [
        "Count freq of chars\n",
        "\n",
        "Write a Python program to count the number of characters (character frequency) in a string."
      ],
      "metadata": {
        "id": "nRFzJtJXhrnx"
      }
    },
    {
      "cell_type": "code",
      "source": [
        "def char_frequency(str1):\n",
        "    dict = {}\n",
        "    for n in str1:\n",
        "        keys = dict.keys()\n",
        "        if n in keys:\n",
        "            dict[n] += 1\n",
        "        else:\n",
        "            dict[n] = 1\n",
        "    return dict\n",
        "print(char_frequency('google.com'))"
      ],
      "metadata": {
        "colab": {
          "base_uri": "https://localhost:8080/"
        },
        "id": "KGrLbu62h1Sw",
        "outputId": "74dbb322-34b7-4f19-a79c-ef90699bdeda"
      },
      "execution_count": 38,
      "outputs": [
        {
          "output_type": "stream",
          "name": "stdout",
          "text": [
            "{'g': 2, 'o': 3, 'l': 1, 'e': 1, '.': 1, 'c': 1, 'm': 1}\n"
          ]
        }
      ]
    },
    {
      "cell_type": "markdown",
      "source": [
        "Swap first two char from given string\n",
        "\n",
        "Write a Python program to get a single string from two given strings, separated by a space and swap the first two characters of each string."
      ],
      "metadata": {
        "id": "1DHQ4320iKZC"
      }
    },
    {
      "cell_type": "code",
      "source": [
        "def chars_mix_up(a, b):\n",
        "  new_a = b[:2] + a[2:]\n",
        "  new_b = a[:2] + b[2:]\n",
        "\n",
        "  return new_a + ' ' + new_b\n",
        "print(chars_mix_up('abc', 'xyz'))"
      ],
      "metadata": {
        "colab": {
          "base_uri": "https://localhost:8080/"
        },
        "id": "CbhpaeBpiTLc",
        "outputId": "c3db0439-e7d7-4924-ae80-b4e2076a39eb"
      },
      "execution_count": 39,
      "outputs": [
        {
          "output_type": "stream",
          "name": "stdout",
          "text": [
            "xyc abz\n"
          ]
        }
      ]
    },
    {
      "cell_type": "markdown",
      "source": [
        "Change to $\n",
        "\n",
        "Write a Python program to get a string from a given string where all occurrences of its first char have been changed to '$', except the first char itself."
      ],
      "metadata": {
        "id": "TgSQMtTiiXkc"
      }
    },
    {
      "cell_type": "code",
      "source": [
        "def change_char(str1):  \n",
        "  char = str1[0]  \n",
        "  length = len(str1)  \n",
        "  str1 = str1.replace(char, '$')  \n",
        "  str1 = char + str1[1:]  \n",
        "  \n",
        "  return str1  \n",
        "  \n",
        "print(change_char('restart'))  "
      ],
      "metadata": {
        "colab": {
          "base_uri": "https://localhost:8080/"
        },
        "id": "-4oZou-oigbi",
        "outputId": "eca3d235-6844-4339-d46d-465fe08a0437"
      },
      "execution_count": 40,
      "outputs": [
        {
          "output_type": "stream",
          "name": "stdout",
          "text": [
            "resta$t\n"
          ]
        }
      ]
    },
    {
      "cell_type": "markdown",
      "source": [
        "Count words in sentence\n",
        "\n",
        "Write a Python program to count the occurrences of each word in a given sentence."
      ],
      "metadata": {
        "id": "Imz3PFXpikow"
      }
    },
    {
      "cell_type": "code",
      "source": [
        "def word_count(str):\n",
        "    counts = dict()\n",
        "    words = str.split()\n",
        "\n",
        "    for word in words:\n",
        "        if word in counts:\n",
        "            counts[word] += 1\n",
        "        else:\n",
        "            counts[word] = 1\n",
        "\n",
        "    return counts\n",
        "\n",
        "print( word_count('the quick brown fox jumps over the lazy dog.'))"
      ],
      "metadata": {
        "colab": {
          "base_uri": "https://localhost:8080/"
        },
        "id": "eRF9QwVCissl",
        "outputId": "1ac07104-95a6-4b78-f95c-53fd17920b9e"
      },
      "execution_count": 41,
      "outputs": [
        {
          "output_type": "stream",
          "name": "stdout",
          "text": [
            "{'the': 2, 'quick': 1, 'brown': 1, 'fox': 1, 'jumps': 1, 'over': 1, 'lazy': 1, 'dog.': 1}\n"
          ]
        }
      ]
    },
    {
      "cell_type": "markdown",
      "source": [
        "Print unique words\n",
        "\n",
        "Write a Python program that accepts a comma separated sequence of words as input and prints the unique words in sorted form (alphanumerically)."
      ],
      "metadata": {
        "id": "duJa8luUi29s"
      }
    },
    {
      "cell_type": "code",
      "source": [
        "items = input(\"Input comma separated sequence of words\")\n",
        "words = [word for word in items.split(\",\")]\n",
        "print(\",\".join(sorted(list(set(words)))))"
      ],
      "metadata": {
        "colab": {
          "base_uri": "https://localhost:8080/"
        },
        "id": "95y9LFvKjAcn",
        "outputId": "27e3a712-c289-4903-bffa-4244a9cc5120"
      },
      "execution_count": 42,
      "outputs": [
        {
          "output_type": "stream",
          "name": "stdout",
          "text": [
            "Input comma separated sequence of words red, black, pink, green, black, green\n",
            " black, green, pink, red\n"
          ]
        }
      ]
    },
    {
      "cell_type": "markdown",
      "source": [
        "Insert string\n",
        "\n",
        "Write a Python function to insert a string in the middle of a string."
      ],
      "metadata": {
        "id": "3M5vx6VojMEn"
      }
    },
    {
      "cell_type": "code",
      "source": [
        "def insert_sting_middle(str, word):\n",
        "\treturn str[:2] + word + str[2:]\n",
        "\n",
        "print(insert_sting_middle('[[]]', 'Python'))\n",
        "print(insert_sting_middle('{{}}', 'PHP'))\n",
        "print(insert_sting_middle('<<>>', 'HTML'))"
      ],
      "metadata": {
        "colab": {
          "base_uri": "https://localhost:8080/"
        },
        "id": "7tK13SnZjHcP",
        "outputId": "9a0e926a-40a1-424f-f2bb-c7f9cf9e408a"
      },
      "execution_count": 43,
      "outputs": [
        {
          "output_type": "stream",
          "name": "stdout",
          "text": [
            "[[Python]]\n",
            "{{PHP}}\n",
            "<<HTML>>\n"
          ]
        }
      ]
    },
    {
      "cell_type": "markdown",
      "source": [
        "Reverse a string\n",
        "\n",
        "Write a recursive Python function to reverse a string if it's length is a multiple of 4."
      ],
      "metadata": {
        "id": "fL5Pg_ytjeP8"
      }
    },
    {
      "cell_type": "code",
      "source": [
        "def reverse_string(str1):\n",
        "    if len(str1) % 4 == 0:\n",
        "       return ''.join(reversed(str1))\n",
        "    return str1\n",
        "\n",
        "print(reverse_string('abcd'))\n",
        "print(reverse_string('python'))\n"
      ],
      "metadata": {
        "colab": {
          "base_uri": "https://localhost:8080/"
        },
        "id": "Lm2zVb5yjoTH",
        "outputId": "7e3f1745-04a8-475a-fe80-d74ab1f65ba2"
      },
      "execution_count": 44,
      "outputs": [
        {
          "output_type": "stream",
          "name": "stdout",
          "text": [
            "dcba\n",
            "python\n"
          ]
        }
      ]
    },
    {
      "cell_type": "markdown",
      "source": [
        "Print first non-repeating char\n",
        "\n",
        "Write a Python program to find the first non-repeating character in given string."
      ],
      "metadata": {
        "id": "dLfcQAXEjv2b"
      }
    },
    {
      "cell_type": "code",
      "source": [
        "def first_non_repeating_character(str1):\n",
        "  char_order = []\n",
        "  ctr = {}\n",
        "  for c in str1:\n",
        "    if c in ctr:\n",
        "      ctr[c] += 1\n",
        "    else:\n",
        "      ctr[c] = 1 \n",
        "      char_order.append(c)\n",
        "  for c in char_order:\n",
        "    if ctr[c] == 1:\n",
        "      return c\n",
        "  return None\n",
        "\n",
        "print(first_non_repeating_character('abcdef'))\n",
        "print(first_non_repeating_character('abcabcdef'))\n",
        "print(first_non_repeating_character('aabbcc'))"
      ],
      "metadata": {
        "colab": {
          "base_uri": "https://localhost:8080/"
        },
        "id": "2KlZwmlxjvDG",
        "outputId": "ae329967-75db-4057-97e7-6298e2b5631c"
      },
      "execution_count": 45,
      "outputs": [
        {
          "output_type": "stream",
          "name": "stdout",
          "text": [
            "a\n",
            "d\n",
            "None\n"
          ]
        }
      ]
    },
    {
      "cell_type": "markdown",
      "source": [
        "Print second most repeated word\n",
        "\n",
        "Write a Python program to find the second most repeated word in a given string."
      ],
      "metadata": {
        "id": "2FiGe3udkAq5"
      }
    },
    {
      "cell_type": "code",
      "source": [
        "def word_count(str):\n",
        "    counts = dict()\n",
        "    words = str.split()\n",
        "\n",
        "    for word in words:\n",
        "        if word in counts:\n",
        "            counts[word] += 1\n",
        "        else:\n",
        "            counts[word] = 1\n",
        "\n",
        "    counts_x = sorted(counts.items(), key=lambda kv: kv[1])\n",
        "    #print(counts_x)\n",
        "    return counts_x[-2]\n",
        " \n",
        "print(word_count(\"Both of these issues are fixed by postponing the evaluation of annotations. Instead of compiling code which executes expressions in annotations at their definition time, the compiler stores the annotation in a string form equivalent to the AST of the expression in question. If needed, annotations can be resolved at runtime using typing.get_type_hints(). In the common case where this is not required, the annotations are cheaper to store (since short strings are interned by the interpreter) and make startup time faster.\"))"
      ],
      "metadata": {
        "colab": {
          "base_uri": "https://localhost:8080/"
        },
        "id": "GZx8DyEskMvN",
        "outputId": "2a5dc197-ccc1-489a-b33f-b668b494e150"
      },
      "execution_count": 46,
      "outputs": [
        {
          "output_type": "stream",
          "name": "stdout",
          "text": [
            "('of', 4)\n"
          ]
        }
      ]
    },
    {
      "cell_type": "markdown",
      "source": [
        "Sort list of tuples\n",
        "\n",
        "Write a Python program to get a list, sorted in increasing order by the last element in each tuple from a given list of non-empty tuples."
      ],
      "metadata": {
        "id": "3Vp1foAskUhk"
      }
    },
    {
      "cell_type": "code",
      "source": [
        "def last(n): return n[-1]\n",
        "\n",
        "def sort_list_last(tuples):\n",
        "  return sorted(tuples, key=last)\n",
        "\n",
        "print(sort_list_last([(2, 5), (1, 2), (4, 4), (2, 3), (2, 1)]))"
      ],
      "metadata": {
        "colab": {
          "base_uri": "https://localhost:8080/"
        },
        "id": "uZ9qusP-khMt",
        "outputId": "01d49577-960e-41e7-aaba-dd983805618c"
      },
      "execution_count": 47,
      "outputs": [
        {
          "output_type": "stream",
          "name": "stdout",
          "text": [
            "[(2, 1), (1, 2), (2, 3), (4, 4), (2, 5)]\n"
          ]
        }
      ]
    },
    {
      "cell_type": "markdown",
      "source": [
        "Count number of strings\n",
        "\n",
        "Write a Python program to count the number of strings where the string length is 2 or more and the first and last character are same from a given list of strings."
      ],
      "metadata": {
        "id": "DEIlhtf4kob_"
      }
    },
    {
      "cell_type": "code",
      "source": [
        "def match_words(words):\n",
        "  ctr = 0\n",
        "\n",
        "  for word in words:\n",
        "    if len(word) > 1 and word[0] == word[-1]:\n",
        "      ctr += 1\n",
        "  return ctr\n",
        "\n",
        "print(match_words(['abc', 'xyz', 'aba', '1221']))\n"
      ],
      "metadata": {
        "colab": {
          "base_uri": "https://localhost:8080/"
        },
        "id": "sf5L_HAIk3ib",
        "outputId": "9a460486-b841-4c5a-e2e8-e7460c921b7a"
      },
      "execution_count": 48,
      "outputs": [
        {
          "output_type": "stream",
          "name": "stdout",
          "text": [
            "2\n"
          ]
        }
      ]
    },
    {
      "cell_type": "markdown",
      "source": [
        "Insert string at beginning\n",
        "\n",
        "Write a Python program to insert a given string at the beginning of all items in a list."
      ],
      "metadata": {
        "id": "suiFri8Nk-QG"
      }
    },
    {
      "cell_type": "code",
      "source": [
        "num = [1,2,3,4]\n",
        "print(['emp{0}'.format(i) for i in  num])"
      ],
      "metadata": {
        "colab": {
          "base_uri": "https://localhost:8080/"
        },
        "id": "2gXF7KJulGxw",
        "outputId": "811f8c1f-55b2-4974-e8b6-8d1ca59f6f37"
      },
      "execution_count": 49,
      "outputs": [
        {
          "output_type": "stream",
          "name": "stdout",
          "text": [
            "['emp1', 'emp2', 'emp3', 'emp4']\n"
          ]
        }
      ]
    },
    {
      "cell_type": "markdown",
      "source": [
        "Move all zeros to end\n",
        "\n",
        "Write a Python program to move all zero digits to end of a given list of numbers."
      ],
      "metadata": {
        "id": "KLVu_kWtlK18"
      }
    },
    {
      "cell_type": "code",
      "source": [
        "# initializing a list\n",
        "numbers = [1, 3, 0, 4, 0, 5, 6, 0, 7]\n",
        "# moving all the zeroes to end\n",
        "new_list = [num for num in numbers if num != 0] + [num for num in numbers if num == 0]\n",
        "# printing the new list\n",
        "print(new_list)\n",
        "[1, 3, 4, 5, 6, 7, 0, 0, 0]"
      ],
      "metadata": {
        "colab": {
          "base_uri": "https://localhost:8080/"
        },
        "id": "YHwXlIy9lTtx",
        "outputId": "18b66014-3d2b-460c-c1a0-8ceafcec64a7"
      },
      "execution_count": 50,
      "outputs": [
        {
          "output_type": "stream",
          "name": "stdout",
          "text": [
            "[1, 3, 4, 5, 6, 7, 0, 0, 0]\n"
          ]
        },
        {
          "output_type": "execute_result",
          "data": {
            "text/plain": [
              "[1, 3, 4, 5, 6, 7, 0, 0, 0]"
            ]
          },
          "metadata": {},
          "execution_count": 50
        }
      ]
    },
    {
      "cell_type": "markdown",
      "source": [
        "Remove duplicates from list of lists\n",
        "\n",
        "Write a Python program to remove duplicates from a list of lists."
      ],
      "metadata": {
        "id": "iZUgiIEilaAv"
      }
    },
    {
      "cell_type": "code",
      "source": [
        "import itertools\n",
        "num = [[10, 20], [40], [30, 56, 25], [10, 20], [33], [40]]\n",
        "print(\"Original List\", num)\n",
        "num.sort()\n",
        "new_num = list(num for num,_ in itertools.groupby(num))\n",
        "print(\"New List\", new_num)"
      ],
      "metadata": {
        "colab": {
          "base_uri": "https://localhost:8080/"
        },
        "id": "jgyQDfeLlcQP",
        "outputId": "8faa8597-cb22-4fbe-ee1f-aec686440770"
      },
      "execution_count": 51,
      "outputs": [
        {
          "output_type": "stream",
          "name": "stdout",
          "text": [
            "Original List [[10, 20], [40], [30, 56, 25], [10, 20], [33], [40]]\n",
            "New List [[10, 20], [30, 56, 25], [33], [40]]\n"
          ]
        }
      ]
    },
    {
      "cell_type": "code",
      "source": [
        "lst = eval(input())\n",
        "lst.sort()\n",
        "new_num = list(lst for lst,_ in itertools.groupby(lst))\n",
        "a=new_num.pop()\n",
        "new_num.insert(1,a)\n",
        "print(new_num)"
      ],
      "metadata": {
        "colab": {
          "base_uri": "https://localhost:8080/"
        },
        "id": "YRkVMoP2oMRO",
        "outputId": "b72b5c58-4cf8-48c2-c25d-0c12a3ceb7ab"
      },
      "execution_count": 56,
      "outputs": [
        {
          "output_type": "stream",
          "name": "stdout",
          "text": [
            "[[10, 20], [40], [30, 56, 25], [10, 20], [33], [40]]\n",
            "[[10, 20], [40], [30, 56, 25], [33]]\n"
          ]
        }
      ]
    },
    {
      "cell_type": "markdown",
      "source": [
        "Calculations within list\n",
        "\n",
        "Write a Python program to round every number of a given list of numbers and print the total sum multiplied by the length of the list."
      ],
      "metadata": {
        "id": "nbJpXHKSlt4Z"
      }
    },
    {
      "cell_type": "code",
      "source": [
        "nums = [22.4, 4.0, -16.22, -9.10, 11.00, -12.22, 14.20, -5.20, 17.50]\n",
        "print(\"Original list: \", nums)\n",
        "print(\"Result:\")\n",
        "lenght=len(nums)\n",
        "print(sum(list(map(round,nums))* lenght)) "
      ],
      "metadata": {
        "id": "M08l64qPp93_"
      },
      "execution_count": null,
      "outputs": []
    },
    {
      "cell_type": "markdown",
      "source": [
        "\n",
        "Write a Python program to construct the following pattern, using a nested for loop."
      ],
      "metadata": {
        "id": "m_x6uZueqa-6"
      }
    },
    {
      "cell_type": "code",
      "source": [
        "n=int(input())\n",
        "for i in range(n):\n",
        "    for j in range(i):\n",
        "        print ('*.', end=\"\")\n",
        "    print('')\n",
        "\n",
        "for i in range(n,0,-1):\n",
        "    for j in range(i):\n",
        "        print('*.', end=\"\")\n",
        "    print('')"
      ],
      "metadata": {
        "colab": {
          "base_uri": "https://localhost:8080/"
        },
        "id": "D6lWAlfuqanH",
        "outputId": "c9bea70b-4b4c-4ba8-992c-fee645e2b811"
      },
      "execution_count": 60,
      "outputs": [
        {
          "output_type": "stream",
          "name": "stdout",
          "text": [
            "5\n",
            "\n",
            "*.\n",
            "*.*.\n",
            "*.*.*.\n",
            "*.*.*.*.\n",
            "*.*.*.*.*.\n",
            "*.*.*.*.\n",
            "*.*.*.\n",
            "*.*.\n",
            "*.\n"
          ]
        }
      ]
    },
    {
      "cell_type": "markdown",
      "source": [
        "Print 1 and 0 in Alternative Columns\n",
        "\n",
        "Write a Python Program to Print 1 and 0 in Alternative Columns."
      ],
      "metadata": {
        "id": "2bkwvZrIq0VJ"
      }
    },
    {
      "cell_type": "code",
      "source": [
        "rows = int(input(\"Please Enter the total Number of Rows  : \"))\n",
        "columns = int(input(\"Please Enter the total Number of Columns  : \"))\n",
        "\n",
        "print(\"Print Number Pattern - 1 and 0 in alternative Columns\")\n",
        "i = 1\n",
        "while(i <= rows):\n",
        "    j = 1\n",
        "    while(j <= columns):\n",
        "        if(j % 2 != 0):          \n",
        "            print('1', end = '.')\n",
        "        else:\n",
        "            print('0', end = '.')\n",
        "        j = j + 1\n",
        "    i = i + 1\n",
        "    print()"
      ],
      "metadata": {
        "colab": {
          "base_uri": "https://localhost:8080/"
        },
        "id": "7KShjRjjqmyo",
        "outputId": "9fb75bed-47e7-47e4-bea8-824ee86cc9b2"
      },
      "execution_count": 62,
      "outputs": [
        {
          "output_type": "stream",
          "name": "stdout",
          "text": [
            "Please Enter the total Number of Rows  : 4\n",
            "Please Enter the total Number of Columns  : 3\n",
            "Print Number Pattern - 1 and 0 in alternative Columns\n",
            "1.0.1.\n",
            "1.0.1.\n",
            "1.0.1.\n",
            "1.0.1.\n"
          ]
        }
      ]
    },
    {
      "cell_type": "markdown",
      "source": [
        "Print hollow pattern\n",
        "\n",
        "Write a Python Program to Print Hollow Rectangle Star Pattern"
      ],
      "metadata": {
        "id": "t2tBN_hFrLVO"
      }
    },
    {
      "cell_type": "code",
      "source": [
        "row = 5\n",
        "col = 5\n",
        "\n",
        "print(\"Hollow rectangular pattern is: \")\n",
        "for i in range(1,row+1):\n",
        "    for j in range(1,col+1):\n",
        "        if i==1 or i==row or j==1 or j==col:\n",
        "            print(\"0.\", end=\"\")\n",
        "        else:\n",
        "            print(\"  \", end=\"\")\n",
        "    print()"
      ],
      "metadata": {
        "colab": {
          "base_uri": "https://localhost:8080/"
        },
        "id": "a84_XZojq_62",
        "outputId": "61530eda-3aeb-47ef-cd17-ae49d6da7d31"
      },
      "execution_count": 63,
      "outputs": [
        {
          "output_type": "stream",
          "name": "stdout",
          "text": [
            "Hollow rectangular pattern is: \n",
            "0.0.0.0.0.\n",
            "0.      0.\n",
            "0.      0.\n",
            "0.      0.\n",
            "0.0.0.0.0.\n"
          ]
        }
      ]
    },
    {
      "cell_type": "markdown",
      "source": [
        "Enter * between identical chars in string\n",
        "\n",
        "Write a Python Program to Enter * Between two Identical Characters in a String."
      ],
      "metadata": {
        "id": "OPUqlHv9rYMH"
      }
    },
    {
      "cell_type": "code",
      "source": [
        "gvn_str = input()\n",
        "new_str = \"\"\n",
        "itr = 0\n",
        "for itr in range(0, len(gvn_str)-1):\n",
        "  new_str = new_str + gvn_str[itr]\n",
        "  if(gvn_str[itr] == gvn_str[itr+1]):\n",
        "    new_str += '*'\n",
        "print(new_str)"
      ],
      "metadata": {
        "colab": {
          "base_uri": "https://localhost:8080/"
        },
        "id": "eJMBRvrIr6Qk",
        "outputId": "26c44a63-c390-4d5c-f292-9dd5c92e169e"
      },
      "execution_count": 65,
      "outputs": [
        {
          "output_type": "stream",
          "name": "stdout",
          "text": [
            "AlmaBetterr\n",
            "AlmaBet*ter*\n"
          ]
        }
      ]
    },
    {
      "cell_type": "markdown",
      "source": [
        "Reorder list acc. to given index\n",
        "\n",
        "Write a Python Program to Reorder a List According to Given Indexes."
      ],
      "metadata": {
        "id": "WGNAxCZJrqHi"
      }
    },
    {
      "cell_type": "code",
      "source": [
        "def sort_by_indexes(lst, indexes, reverse=False):\n",
        "  return [val for (_, val) in sorted(zip(indexes, lst), key=lambda x: \\\n",
        "          x[0], reverse=reverse)]\n",
        "lst= eval(input())\n",
        "index= eval(input())\n",
        "print('The given list after reordering according to the given indexes list :')\n",
        "print(sort_by_indexes(lst,index)) \n",
        "print('The Index list after reordering:')\n",
        "print(sorted(index)) "
      ],
      "metadata": {
        "colab": {
          "base_uri": "https://localhost:8080/"
        },
        "id": "mFuoNeLqtRO6",
        "outputId": "58bbb43e-bc44-45a8-a635-cadfd636b7c0"
      },
      "execution_count": 67,
      "outputs": [
        {
          "output_type": "stream",
          "name": "stdout",
          "text": [
            "10, 20, 30, 40, 50, 60\n",
            "4, 3, 5, 0, 1, 2\n",
            "The given list after reordering according to the given indexes list :\n",
            "[40, 50, 60, 20, 10, 30]\n",
            "The Index list after reordering:\n",
            "[0, 1, 2, 3, 4, 5]\n"
          ]
        }
      ]
    },
    {
      "cell_type": "markdown",
      "source": [
        "Count number of duplicates\n",
        "Medium\n",
        "Write a program in Python to count number of duplicates in an array having multiple duplicates.\n",
        "\n",
        "For Example\n",
        "\n",
        "Number of elements= 5\n",
        "\n",
        "Enter the element between 0 to 4: 2\n",
        "\n",
        "Enter the element between 0 to 4: 2\n",
        "\n",
        "Enter the element between 0 to 4: 3\n",
        "\n",
        "Enter the element between 0 to 4: 2\n",
        "\n",
        "Enter the element between 0 to 4: 2\n",
        "\n",
        "Output: 2 is repeated 4 times"
      ],
      "metadata": {
        "id": "jXR0573TtBci"
      }
    },
    {
      "cell_type": "code",
      "source": [
        "num_of_elements = int(input())\n",
        "a=int(input())\n",
        "b=int(input())\n",
        "c=int(input())\n",
        "d=int(input())\n",
        "e=int(input())\n",
        "arr=[a,b,c,d,e]\n",
        "for i in range(0, len(arr)):\n",
        "  for j in range(i+1, len(arr)):\n",
        "    if(arr[i] == arr[j]):\n",
        "        print(arr[j])"
      ],
      "metadata": {
        "colab": {
          "base_uri": "https://localhost:8080/"
        },
        "id": "5xzQQWVwsKxI",
        "outputId": "c757b445-e4bf-48e2-f461-015ef3529f4b"
      },
      "execution_count": 69,
      "outputs": [
        {
          "output_type": "stream",
          "name": "stdout",
          "text": [
            "5\n",
            "2\n",
            "2\n",
            "3\n",
            "2\n",
            "2\n",
            "2\n",
            "2\n",
            "2\n",
            "2\n",
            "2\n",
            "2\n"
          ]
        }
      ]
    },
    {
      "cell_type": "code",
      "source": [
        "def countX(lst, x):\n",
        "    count = 0\n",
        "    for ele in lst:\n",
        "        if (ele == x):\n",
        "            count = count + 1\n",
        "    return count\n",
        " \n",
        " \n",
        "# Driver Code\n",
        "lst = [8, 6, 8, 10, 8, 20, 10, 8, 8]\n",
        "x = 8\n",
        "print('{} has occurred {} times'.format(x,countX(lst, x)))"
      ],
      "metadata": {
        "colab": {
          "base_uri": "https://localhost:8080/"
        },
        "id": "njJ_oD8kuzyq",
        "outputId": "586c3184-5aad-4132-afe6-fc866b1b4235"
      },
      "execution_count": 71,
      "outputs": [
        {
          "output_type": "stream",
          "name": "stdout",
          "text": [
            "8 has occurred 5 times\n"
          ]
        }
      ]
    },
    {
      "cell_type": "markdown",
      "source": [
        "Remove duplicate elements\n",
        "\n",
        "Write a program in Python to remove duplicate elements from array."
      ],
      "metadata": {
        "id": "OLp0C8w2vx6Q"
      }
    },
    {
      "cell_type": "code",
      "source": [
        "import array\n",
        "arr, count = [],[]\n",
        "n = int(input(\"enter size of array : \"))\n",
        "for x in range(n):\n",
        "    count.append(0)\n",
        "    x=int(input(\"enter element of array : \"))\n",
        "    arr.append(x)\n",
        "print(\"Array elements after removing duplicates\")\n",
        "for x in range(n):\n",
        "    count[arr[x]]=count[arr[x]]+1\n",
        "    if count[arr[x]]==1:\n",
        "        print(arr[x]) "
      ],
      "metadata": {
        "colab": {
          "base_uri": "https://localhost:8080/"
        },
        "id": "WGMseNHtv8wC",
        "outputId": "9b3b7dc1-9411-49d8-d39d-c19ac1d070e6"
      },
      "execution_count": 72,
      "outputs": [
        {
          "output_type": "stream",
          "name": "stdout",
          "text": [
            "enter size of array : 5\n",
            "enter element of array : 4\n",
            "enter element of array : 2\n",
            "enter element of array : 4\n",
            "enter element of array : 3\n",
            "enter element of array : 2\n",
            "Array elements after removing duplicates\n",
            "4\n",
            "2\n",
            "3\n"
          ]
        }
      ]
    },
    {
      "cell_type": "markdown",
      "source": [
        "String with given prefix\n",
        "\n",
        "Write a Python program to find the strings in a given list, starting with a given prefix."
      ],
      "metadata": {
        "id": "6KdMCKn7wQc8"
      }
    },
    {
      "cell_type": "code",
      "source": [
        "def test(strs, prefix):\n",
        "     return [s for s in strs if s.startswith(prefix)]\n",
        "strs =  ['cat', 'car', 'fear', 'center']\n",
        "prefix = \"ca\"\n",
        "print(\"Original strings:\")\n",
        "print(strs)\n",
        "print(\"Starting prefix:\", prefix)\n",
        "print(\"Strings in the said list starting with a given prefix:\")\n",
        "print(test(strs, prefix))"
      ],
      "metadata": {
        "colab": {
          "base_uri": "https://localhost:8080/"
        },
        "id": "FQAjTTbNwEl9",
        "outputId": "ee44feb8-27cf-4297-da46-e059e3a07821"
      },
      "execution_count": 73,
      "outputs": [
        {
          "output_type": "stream",
          "name": "stdout",
          "text": [
            "Original strings:\n",
            "['cat', 'car', 'fear', 'center']\n",
            "Starting prefix: ca\n",
            "Strings in the said list starting with a given prefix:\n",
            "['cat', 'car']\n"
          ]
        }
      ]
    },
    {
      "cell_type": "markdown",
      "source": [
        "Monotonic sequence\n",
        "\n",
        "Write a Python program to determine the direction ('increasing' or 'decreasing') of monotonic sequence numbers."
      ],
      "metadata": {
        "id": "4imxwjLtwk0x"
      }
    },
    {
      "cell_type": "code",
      "source": [
        "def test(nums):\n",
        "    return \"Increasing.\" if all(nums[i] < nums[i + 1] for i in range(len(nums) - 1)) else \\\n",
        "        \"Decreasing.\" if all(nums[i + 1] < nums[i] for i in range(len(nums) - 1)) else \\\n",
        "        \"Not a monotonic sequence!\"\n",
        "nums = [1,2,3,4,5,6]\n",
        "print(\"Original list:\")\n",
        "print(nums)\n",
        "print(\"Check the direction ('increasing' or 'decreasing') of the said list:\")\n",
        "print(test(nums))\n",
        "nums = [6,5,4,3,2,1]\n",
        "print(\"\\nOriginal list:\")\n",
        "print(nums)\n",
        "print(\"Check the direction ('increasing' or 'decreasing') of the said list:\")\n",
        "print(test(nums))\n",
        "nums = [19,19,5,5,5,5,5]\n",
        "print(\"\\nOriginal list:\")\n",
        "print(nums)\n",
        "print(\"Check the direction ('increasing' or 'decreasing') of the said list:\")\n",
        "print(test(nums))"
      ],
      "metadata": {
        "colab": {
          "base_uri": "https://localhost:8080/"
        },
        "id": "E4em-_ptwtP2",
        "outputId": "74f4c533-279d-419f-8ae4-0795c6a8faca"
      },
      "execution_count": 74,
      "outputs": [
        {
          "output_type": "stream",
          "name": "stdout",
          "text": [
            "Original list:\n",
            "[1, 2, 3, 4, 5, 6]\n",
            "Check the direction ('increasing' or 'decreasing') of the said list:\n",
            "Increasing.\n",
            "\n",
            "Original list:\n",
            "[6, 5, 4, 3, 2, 1]\n",
            "Check the direction ('increasing' or 'decreasing') of the said list:\n",
            "Decreasing.\n",
            "\n",
            "Original list:\n",
            "[19, 19, 5, 5, 5, 5, 5]\n",
            "Check the direction ('increasing' or 'decreasing') of the said list:\n",
            "Not a monotonic sequence!\n"
          ]
        }
      ]
    },
    {
      "cell_type": "markdown",
      "source": [
        "Convert the average to binary\n",
        "\n",
        "Write a Python program to calculate the average of the numbers a through b (b not included) rounded to nearest integer, in binary (or -1 if there are no such numbers)."
      ],
      "metadata": {
        "id": "_CV46D5fwxbO"
      }
    },
    {
      "cell_type": "code",
      "source": [
        "def test(a,b):\n",
        "    r = range(a, b)\n",
        "    if len(r) == 0:\n",
        "        return \"-1\"\n",
        "    return bin(round(sum(r) / len(r)))\n",
        "a = int(input())\n",
        "b = int(input())\n",
        "print(test(a, b)) "
      ],
      "metadata": {
        "colab": {
          "base_uri": "https://localhost:8080/",
          "height": 356
        },
        "id": "wbI94dCKxYCt",
        "outputId": "9f350fc0-1854-4891-f36f-5dffd11a6b3e"
      },
      "execution_count": 76,
      "outputs": [
        {
          "name": "stdout",
          "output_type": "stream",
          "text": [
            "4\n",
            "7\n"
          ]
        },
        {
          "output_type": "error",
          "ename": "TypeError",
          "evalue": "ignored",
          "traceback": [
            "\u001b[0;31m---------------------------------------------------------------------------\u001b[0m",
            "\u001b[0;31mTypeError\u001b[0m                                 Traceback (most recent call last)",
            "\u001b[0;32m<ipython-input-76-aca541d7babf>\u001b[0m in \u001b[0;36m<module>\u001b[0;34m\u001b[0m\n\u001b[1;32m      6\u001b[0m \u001b[0ma\u001b[0m \u001b[0;34m=\u001b[0m \u001b[0mint\u001b[0m\u001b[0;34m(\u001b[0m\u001b[0minput\u001b[0m\u001b[0;34m(\u001b[0m\u001b[0;34m)\u001b[0m\u001b[0;34m)\u001b[0m\u001b[0;34m\u001b[0m\u001b[0;34m\u001b[0m\u001b[0m\n\u001b[1;32m      7\u001b[0m \u001b[0mb\u001b[0m \u001b[0;34m=\u001b[0m \u001b[0mint\u001b[0m\u001b[0;34m(\u001b[0m\u001b[0minput\u001b[0m\u001b[0;34m(\u001b[0m\u001b[0;34m)\u001b[0m\u001b[0;34m)\u001b[0m\u001b[0;34m\u001b[0m\u001b[0;34m\u001b[0m\u001b[0m\n\u001b[0;32m----> 8\u001b[0;31m \u001b[0mprint\u001b[0m\u001b[0;34m(\u001b[0m\u001b[0mtest\u001b[0m\u001b[0;34m(\u001b[0m\u001b[0ma\u001b[0m\u001b[0;34m,\u001b[0m \u001b[0mb\u001b[0m\u001b[0;34m)\u001b[0m\u001b[0;34m)\u001b[0m\u001b[0;34m\u001b[0m\u001b[0;34m\u001b[0m\u001b[0m\n\u001b[0m",
            "\u001b[0;32m<ipython-input-76-aca541d7babf>\u001b[0m in \u001b[0;36mtest\u001b[0;34m(a, b)\u001b[0m\n\u001b[1;32m      3\u001b[0m     \u001b[0;32mif\u001b[0m \u001b[0mlen\u001b[0m\u001b[0;34m(\u001b[0m\u001b[0mr\u001b[0m\u001b[0;34m)\u001b[0m \u001b[0;34m==\u001b[0m \u001b[0;36m0\u001b[0m\u001b[0;34m:\u001b[0m\u001b[0;34m\u001b[0m\u001b[0;34m\u001b[0m\u001b[0m\n\u001b[1;32m      4\u001b[0m         \u001b[0;32mreturn\u001b[0m \u001b[0;34m\"-1\"\u001b[0m\u001b[0;34m\u001b[0m\u001b[0;34m\u001b[0m\u001b[0m\n\u001b[0;32m----> 5\u001b[0;31m     \u001b[0;32mreturn\u001b[0m \u001b[0mbin\u001b[0m\u001b[0;34m(\u001b[0m\u001b[0mround\u001b[0m\u001b[0;34m(\u001b[0m\u001b[0msum\u001b[0m\u001b[0;34m(\u001b[0m\u001b[0mr\u001b[0m\u001b[0;34m)\u001b[0m \u001b[0;34m/\u001b[0m \u001b[0mlen\u001b[0m\u001b[0;34m(\u001b[0m\u001b[0mr\u001b[0m\u001b[0;34m)\u001b[0m\u001b[0;34m)\u001b[0m\u001b[0;34m)\u001b[0m\u001b[0;34m\u001b[0m\u001b[0;34m\u001b[0m\u001b[0m\n\u001b[0m\u001b[1;32m      6\u001b[0m \u001b[0ma\u001b[0m \u001b[0;34m=\u001b[0m \u001b[0mint\u001b[0m\u001b[0;34m(\u001b[0m\u001b[0minput\u001b[0m\u001b[0;34m(\u001b[0m\u001b[0;34m)\u001b[0m\u001b[0;34m)\u001b[0m\u001b[0;34m\u001b[0m\u001b[0;34m\u001b[0m\u001b[0m\n\u001b[1;32m      7\u001b[0m \u001b[0mb\u001b[0m \u001b[0;34m=\u001b[0m \u001b[0mint\u001b[0m\u001b[0;34m(\u001b[0m\u001b[0minput\u001b[0m\u001b[0;34m(\u001b[0m\u001b[0;34m)\u001b[0m\u001b[0;34m)\u001b[0m\u001b[0;34m\u001b[0m\u001b[0;34m\u001b[0m\u001b[0m\n",
            "\u001b[0;31mTypeError\u001b[0m: 'int' object is not callable"
          ]
        }
      ]
    },
    {
      "cell_type": "markdown",
      "source": [
        "Unhappy string\n",
        "\n",
        "Write a Python program to find two indices making a given string unhappy.\n",
        "\n",
        "Note- A string is happy if every three consecutive characters are distinct."
      ],
      "metadata": {
        "id": "LRzCiijfx1fW"
      }
    },
    {
      "cell_type": "code",
      "source": [
        "def test(s):\n",
        "    for i in range(len(s) - 2):\n",
        "        if s[i] == s[i + 1]:\n",
        "            return [i, i + 1]\n",
        "        if s[i] == s[i + 2]:\n",
        "            return [i, i + 2] \n",
        "\n",
        "strs = \"Python\"\n",
        "print(\"Original string:\",strs) \n",
        "print(\"Find two indices making the said string unhappy!\")\n",
        "print(test(strs))"
      ],
      "metadata": {
        "colab": {
          "base_uri": "https://localhost:8080/"
        },
        "id": "27JRSo78xc7L",
        "outputId": "da1b179a-0a32-4987-9388-370dd2214a37"
      },
      "execution_count": 78,
      "outputs": [
        {
          "output_type": "stream",
          "name": "stdout",
          "text": [
            "Original string: Python\n",
            "Find two indices making the said string unhappy!\n",
            "None\n"
          ]
        }
      ]
    },
    {
      "cell_type": "code",
      "source": [
        "def test(s):\n",
        "    for i in range(len(s) - 2):\n",
        "        if s[i] == s[i + 1]:\n",
        "            return [i, i + 1]\n",
        "        if s[i] == s[i + 2]:\n",
        "            return [i, i + 2] \n",
        "n =input()     \n",
        "print(test(n))       "
      ],
      "metadata": {
        "colab": {
          "base_uri": "https://localhost:8080/"
        },
        "id": "YOamU7JlyT5E",
        "outputId": "7b1fb6d3-2890-4b62-ab2b-34e09ed15baf"
      },
      "execution_count": 80,
      "outputs": [
        {
          "output_type": "stream",
          "name": "stdout",
          "text": [
            "unhappy\n",
            "[4, 5]\n"
          ]
        }
      ]
    },
    {
      "cell_type": "markdown",
      "source": [
        "Integer start or ends with 2\n",
        "\n",
        "Write a Python program to find all n-digit integers that start or end with 2."
      ],
      "metadata": {
        "id": "A4aFxy5hyHyv"
      }
    },
    {
      "cell_type": "code",
      "source": [
        "def test(n):\n",
        "    ans = []\n",
        "    for i in range(10 ** (n - 1), 10 ** n):\n",
        "        assert len(str(i)) == n\n",
        "        if str(i).startswith(\"2\") or str(i).endswith(\"2\"):\n",
        "            ans.append(i)\n",
        "    return ans\n",
        "n = int(input())\n",
        "print(test(n))   "
      ],
      "metadata": {
        "colab": {
          "base_uri": "https://localhost:8080/"
        },
        "id": "3nBr1jS-yOjn",
        "outputId": "8306c93f-06e9-4d8d-d923-811492753a5e"
      },
      "execution_count": 79,
      "outputs": [
        {
          "output_type": "stream",
          "name": "stdout",
          "text": [
            "1\n",
            "[2]\n"
          ]
        }
      ]
    },
    {
      "cell_type": "markdown",
      "source": [
        "Inject a number\n",
        "\n",
        "Given a list of numbers and a number to inject, write a Python program to create a list containing that number in between each pair of adjacent numbers."
      ],
      "metadata": {
        "id": "MpXrRp1myb0l"
      }
    },
    {
      "cell_type": "code",
      "source": [
        "def test(nums, sep):\n",
        "    ans = [sep] * (2 * len(nums) - 1)\n",
        "    ans[::2] = nums\n",
        "    return ans \n",
        "lst=eval(input())\n",
        "n = int(input())\n",
        "print(test(lst,n))"
      ],
      "metadata": {
        "colab": {
          "base_uri": "https://localhost:8080/"
        },
        "id": "C3YifZRbyQDu",
        "outputId": "e87d9975-b8bf-4d96-a7e1-4eea655ac28a"
      },
      "execution_count": 81,
      "outputs": [
        {
          "output_type": "stream",
          "name": "stdout",
          "text": [
            "[12, -7, 3, -89, 14, 88, -78, -1, 2, 7]\n",
            "6\n",
            "[12, 6, -7, 6, 3, 6, -89, 6, 14, 6, 88, 6, -78, 6, -1, 6, 2, 6, 7]\n"
          ]
        }
      ]
    },
    {
      "cell_type": "markdown",
      "source": [
        "Vowel between consonants\n",
        "Medium\n",
        "Write a Python program to find a substring in a given string which contains a vowel between two consonants.\n",
        "\n",
        "A consonant is a speech sound that is not a vowel. It also refers to letters of the alphabet that represent those sounds: Z, B, T, G, and H are all consonants. Consonants are all the non-vowel sounds, or their corresponding letters: A, E, I, O, U and sometimes Y are not consonants.\n",
        "\n",
        "Example 1:\n",
        "Input:\n",
        "Hello\n",
        "\n",
        "Output:\n",
        "Hel"
      ],
      "metadata": {
        "id": "I9NJyNkOyuQv"
      }
    },
    {
      "cell_type": "code",
      "source": [
        "def test(s):\n",
        "    cons = \"bcdfghjklmnpqrstvwxz\"\n",
        "    vows = \"aeiou\"\n",
        "    return next(s[i - 1:i + 2] for i in range(1, len(s) - 1)\n",
        "                if s[i].lower() in vows and s[i - 1].lower() in cons and s[i + 1].lower() in cons)\n",
        "\n",
        "n = input()\n",
        "print(test(n))    "
      ],
      "metadata": {
        "colab": {
          "base_uri": "https://localhost:8080/"
        },
        "id": "0oJD4sQsynVG",
        "outputId": "ce2adb54-847f-4f14-8302-6581a761402c"
      },
      "execution_count": 82,
      "outputs": [
        {
          "output_type": "stream",
          "name": "stdout",
          "text": [
            "hello\n",
            "hel\n"
          ]
        }
      ]
    },
    {
      "cell_type": "markdown",
      "source": [
        "Three numbers with sum 0\n",
        "\n",
        "Write a Python program to find three numbers from an array such that the sum of three numbers equal to zero."
      ],
      "metadata": {
        "id": "WXEvUTRoy75g"
      }
    },
    {
      "cell_type": "code",
      "source": [
        "def three_Sum(num):\n",
        "    if len(num)<3: return []\n",
        "    num.sort()\n",
        "    result=[]\n",
        "    for i in range(len(num)-2):\n",
        "        left=i+1\n",
        "        right=len(num)-1\n",
        "        if i!=0 and num[i]==num[i-1]:continue\n",
        "        while left<right:\n",
        "            if num[left]+num[right]==-num[i]:\n",
        "                result.append([num[i],num[left],num[right]])\n",
        "                left=left+1\n",
        "                right=right-1\n",
        "                while num[left]==num[left-1] and left<right:left=left+1\n",
        "                while num[right]==num[right+1] and left<right: right=right-1\n",
        "            elif num[left]+num[right]<-num[i]:\n",
        "                left=left+1\n",
        "            else:\n",
        "                right=right-1\n",
        "    return result\n",
        "n = eval(input())  \n",
        "print(three_Sum(n))  "
      ],
      "metadata": {
        "colab": {
          "base_uri": "https://localhost:8080/"
        },
        "id": "I3BS6YJey61d",
        "outputId": "f29b3787-dc59-4f44-fa4c-326767dc3822"
      },
      "execution_count": 83,
      "outputs": [
        {
          "output_type": "stream",
          "name": "stdout",
          "text": [
            "[-1,0,1,2,-1,-4]\n",
            "[[-1, -1, 2], [-1, 0, 1]]\n"
          ]
        }
      ]
    },
    {
      "cell_type": "markdown",
      "source": [
        "Indices of nos with sum 0\n",
        "\n",
        "Write a Python program to find the indices of three numbers that sum to 0 in a given list of numbers."
      ],
      "metadata": {
        "id": "Lc-z7FNwzJ0W"
      }
    },
    {
      "cell_type": "code",
      "source": [
        "def test(nums):\n",
        "    inv = {n: i for i, n in enumerate(nums)}  # note that later duplicates will override earlier entries\n",
        "    for i, n in enumerate(nums):\n",
        "        if inv[n] == i:\n",
        "            del inv[n]\n",
        "        if any((-m - n) in inv for m in nums[:i]):  # found solution!\n",
        "            j, m = next((j, m) for j, m in enumerate(nums) if (-m - n) in inv)\n",
        "            k = inv[-m - n]\n",
        "            return sorted([i, j, k])\n",
        "n = eval(input())\n",
        "print(test(n))            "
      ],
      "metadata": {
        "colab": {
          "base_uri": "https://localhost:8080/"
        },
        "id": "SqBiix44zGKX",
        "outputId": "fd843d89-9e27-4882-8eec-7ea10b5c1080"
      },
      "execution_count": 84,
      "outputs": [
        {
          "output_type": "stream",
          "name": "stdout",
          "text": [
            "[12, -7, 3, -89, 14, 4, -78, -1, 2, 7]\n",
            "[1, 2, 5]\n"
          ]
        }
      ]
    },
    {
      "cell_type": "markdown",
      "source": [
        "Most Common Grade\n",
        "Easy\n",
        "Marty Smart, a Math Teacher at Harwood High, has amassed his student’s grades for the semester and has come to you to write a code in python to determine the most common grade.\n",
        "\n",
        "Example 1:\n",
        "Input:\n",
        "students = {'Marc': 99, 'Amie': 76, 'Jonny': 98, 'Anne': 99, 'Andy': 77, 'Elli': 98, 'Acer': 67, 'Joan': 61, 'Mike': 54, 'Anna': 76, 'Bobi': 67, 'Kate': 99, 'Todd': 98, 'Emma': 49, 'Stan': 76, 'Harv': 99, 'Ward': 67, 'Hank': 54, 'Wendy': 98, 'Sven': 100}\n",
        "\n",
        "Output:\n",
        "99"
      ],
      "metadata": {
        "id": "Tc4TqzDBzj4P"
      }
    },
    {
      "cell_type": "code",
      "source": [
        "from collections import Counter \n",
        "students = {'Marc': 99, 'Amie': 76, 'Jonny': 98, 'Anne': 99, 'Andy': 77, 'Elli': 98, 'Acer': 67, 'Joan': 61, 'Mike': 54, 'Anna': 76, 'Bobi': 67, 'Kate': 99, 'Todd': 98, 'Emma': 49, 'Stan': 76, 'Harv': 99, 'Ward': 67, 'Hank': 54, 'Wendy': 98, 'Sven': 100}\n",
        "value, count = Counter(students.values()).most_common(1)[0]\n",
        "print(value)"
      ],
      "metadata": {
        "colab": {
          "base_uri": "https://localhost:8080/"
        },
        "id": "0SqLsnjqzSer",
        "outputId": "1c742063-2b15-43dd-dcc1-13172d211eb1"
      },
      "execution_count": 85,
      "outputs": [
        {
          "output_type": "stream",
          "name": "stdout",
          "text": [
            "99\n"
          ]
        }
      ]
    },
    {
      "cell_type": "markdown",
      "source": [
        "Write a code in python to slice the string from rear end till 5th character from the last."
      ],
      "metadata": {
        "id": "qfhu3e-nzuba"
      }
    },
    {
      "cell_type": "code",
      "source": [
        "inputt='ALMABETTER'\n",
        "print(inputt[:4:-1])"
      ],
      "metadata": {
        "colab": {
          "base_uri": "https://localhost:8080/"
        },
        "id": "ZoYUFHWVzyci",
        "outputId": "cb2170de-f970-497f-9a4f-a36e8b67f53b"
      },
      "execution_count": 86,
      "outputs": [
        {
          "output_type": "stream",
          "name": "stdout",
          "text": [
            "RETTE\n"
          ]
        }
      ]
    },
    {
      "cell_type": "markdown",
      "source": [
        "Write a code in python to reverse the following string using for loop"
      ],
      "metadata": {
        "id": "lN42owQFz4Kc"
      }
    },
    {
      "cell_type": "code",
      "source": [
        "def reverse(s):\n",
        "    str = \"\"\n",
        "    for i in s:\n",
        "        str = i + str\n",
        "    return str\n",
        "s=\"ALMABETTER\"\n",
        "print(reverse(s))"
      ],
      "metadata": {
        "colab": {
          "base_uri": "https://localhost:8080/"
        },
        "id": "BlUvWAYVz7rS",
        "outputId": "74656c66-f683-4f5d-bdd4-52dbf7b42bc2"
      },
      "execution_count": 87,
      "outputs": [
        {
          "output_type": "stream",
          "name": "stdout",
          "text": [
            "RETTEBAMLA\n"
          ]
        }
      ]
    },
    {
      "cell_type": "markdown",
      "source": [
        "Even and Odd characters\n",
        "\n",
        "Write a python program to print the even and odd index characters of a string."
      ],
      "metadata": {
        "id": "dq0MFQ1E0Adj"
      }
    },
    {
      "cell_type": "code",
      "source": [
        "str=\"ALMABETTER\"\n",
        "even_chars=[]\n",
        "odd_chars=[]\n",
        "for i in range(len(str)):\n",
        "    # check if index is divisible by 2\n",
        "    if i % 2 != 0:\n",
        "        even_chars.append(str[i])\n",
        "    else:\n",
        "       odd_chars.append(str[i])  \n",
        "print('Odd characters: {}'.format(odd_chars))  \n",
        "print('Even characters: {}'.format(even_chars))    "
      ],
      "metadata": {
        "colab": {
          "base_uri": "https://localhost:8080/"
        },
        "id": "2y9d-xHn0FUW",
        "outputId": "2f985bc6-7574-4042-f576-3fae389d60d0"
      },
      "execution_count": 88,
      "outputs": [
        {
          "output_type": "stream",
          "name": "stdout",
          "text": [
            "Odd characters: ['A', 'M', 'B', 'T', 'E']\n",
            "Even characters: ['L', 'A', 'E', 'T', 'R']\n"
          ]
        }
      ]
    },
    {
      "cell_type": "markdown",
      "source": [
        "Print even length words\n",
        "\n",
        "\n",
        "Write a Python program to print even length words in a string using list comprehension"
      ],
      "metadata": {
        "id": "ENLgNOTV0TKn"
      }
    },
    {
      "cell_type": "code",
      "source": [
        "n=\"I am working at Almabetter\"\n",
        "#splitting the words in a given string\n",
        "s=n.split(\" \")\n",
        "l=list(filter(lambda x: (len(x)%2==0),s))\n",
        "print(l)"
      ],
      "metadata": {
        "colab": {
          "base_uri": "https://localhost:8080/"
        },
        "id": "ejRUqlzj0GDG",
        "outputId": "33138b41-4d4a-49b8-e297-10f23f9d6a2c"
      },
      "execution_count": 89,
      "outputs": [
        {
          "output_type": "stream",
          "name": "stdout",
          "text": [
            "['am', 'at', 'Almabetter']\n"
          ]
        }
      ]
    },
    {
      "cell_type": "markdown",
      "source": [
        "Concatenate reverse lists\n",
        "\n",
        "Write a python program to divide a list in halves, reverse each halve and concatenate both."
      ],
      "metadata": {
        "id": "EXFeHrFh0eQ9"
      }
    },
    {
      "cell_type": "code",
      "source": [
        "list1 = [1,2,3,4,5,6,7,8]\n",
        "\n",
        "\n",
        "#initialize the middle index with the length of first half\n",
        "middle_index=4\n",
        "\n",
        "#Split the list from starting index upto middle index in first half\n",
        "first_half=list1[:middle_index]\n",
        "\n",
        "#Split the list from middle index index upto the last index in second half\n",
        "sec_half=list1[middle_index:]\n",
        "\n",
        "#printing original lists and two halves\n",
        "print(first_half[::-1]+sec_half[::-1])"
      ],
      "metadata": {
        "colab": {
          "base_uri": "https://localhost:8080/"
        },
        "id": "F72vf5n40iom",
        "outputId": "d6e78b69-5ac5-479f-a147-da99bea0fe71"
      },
      "execution_count": 90,
      "outputs": [
        {
          "output_type": "stream",
          "name": "stdout",
          "text": [
            "[4, 3, 2, 1, 8, 7, 6, 5]\n"
          ]
        }
      ]
    },
    {
      "cell_type": "markdown",
      "source": [
        "All indices\n",
        "\n",
        "Write a python program by using the enumerate() function to get all the indexes for the integer 20 in the “nums” list."
      ],
      "metadata": {
        "id": "u4P56TvD0oCv"
      }
    },
    {
      "cell_type": "code",
      "source": [
        "nums = [10,15,20,25,30,14,20,19,34,14,20,12]\n",
        "for i in enumerate(nums):\n",
        "    if i[1] == 20:\n",
        "        print(i[0],end=\",\")"
      ],
      "metadata": {
        "colab": {
          "base_uri": "https://localhost:8080/"
        },
        "id": "J1yZRUxk0tME",
        "outputId": "1b411f09-53af-4779-8e2f-43578791020a"
      },
      "execution_count": 91,
      "outputs": [
        {
          "output_type": "stream",
          "name": "stdout",
          "text": [
            "2,6,10,"
          ]
        }
      ]
    },
    {
      "cell_type": "markdown",
      "source": [
        "Fibonacci Series\n",
        "\n",
        "Write a python program to print fibonacci series upto 15 terms in python."
      ],
      "metadata": {
        "id": "jqd7EYZm016P"
      }
    },
    {
      "cell_type": "code",
      "source": [
        "num = 15\n",
        "n1, n2 = 0, 1\n",
        "print(\"Fibonacci Series:\", n1, n2, end=\",\")\n",
        "for i in range(2, num):\n",
        "    n3 = n1 + n2\n",
        "    n1 = n2\n",
        "    n2 = n3\n",
        "    print(n3, end=\",\")\n",
        "\n",
        "print()"
      ],
      "metadata": {
        "colab": {
          "base_uri": "https://localhost:8080/"
        },
        "id": "H6ztGvnV07Tv",
        "outputId": "48d93645-8a9c-4088-9a37-0438786b8640"
      },
      "execution_count": 92,
      "outputs": [
        {
          "output_type": "stream",
          "name": "stdout",
          "text": [
            "Fibonacci Series: 0 1,1,2,3,5,8,13,21,34,55,89,144,233,377,\n"
          ]
        }
      ]
    },
    {
      "cell_type": "markdown",
      "source": [
        "Convert numbers to words\n",
        "\n",
        "Write a Python program to get the single digits in numbers sorted backwards and converted to English words."
      ],
      "metadata": {
        "id": "iMvQn-f91Fia"
      }
    },
    {
      "cell_type": "code",
      "source": [
        "def test(nums):\n",
        "    digits = {\"zero\": None,\n",
        "              \"one\": 1,\n",
        "              \"two\": 2,\n",
        "              \"three\": 3,\n",
        "              \"four\": 4,\n",
        "              \"five\": 5,\n",
        "              \"six\": 6,\n",
        "              \"seven\": 7,\n",
        "              \"eight\": 8,\n",
        "              \"nine\": 9}\n",
        "    digits_backwards = {digits[k]: k for k in digits}\n",
        "    digits = [digits[s] for s in digits]\n",
        "    li = [digits[n] for n in nums if n in digits]\n",
        "    return [digits_backwards[n] for n in sorted(li, reverse=True)]\n",
        "n = eval(input())\n",
        "print(test(n))"
      ],
      "metadata": {
        "colab": {
          "base_uri": "https://localhost:8080/"
        },
        "id": "1-Hoxpx01LOV",
        "outputId": "fd91857b-2533-4ba8-caac-98e3d5ce6674"
      },
      "execution_count": 94,
      "outputs": [
        {
          "output_type": "stream",
          "name": "stdout",
          "text": [
            "[1, 3, 4, 5, 11]\n",
            "['five', 'four', 'three', 'one']\n"
          ]
        }
      ]
    },
    {
      "cell_type": "markdown",
      "source": [
        "Check extension\n",
        "\n",
        "A valid filename should end in .txt, .exe, .jpg, .png, or .dll, and should have at most three digits, no additional periods.\n",
        "\n",
        "Write a Python program to create a list of True/False that determine whether candidate filename is valid or not."
      ],
      "metadata": {
        "id": "jzGpAy3b1cQZ"
      }
    },
    {
      "cell_type": "code",
      "source": [
        "def test(file_names):\n",
        "         return [\"Yes\" if\n",
        "            f.split(\".\")[1:] in [['txt'], ['png'], ['dll'], ['exe'], ['jpg']] and f[0].isalpha() and sum(c.isdigit() for c in f) < 4\n",
        "            else \"No\"\n",
        "            for f in file_names]\n",
        "n=eval(input())\n",
        "print(test(n))"
      ],
      "metadata": {
        "colab": {
          "base_uri": "https://localhost:8080/",
          "height": 363
        },
        "id": "KgPne8dl1lgs",
        "outputId": "51c808d3-9190-4a60-a7db-ce84a6014be8"
      },
      "execution_count": 97,
      "outputs": [
        {
          "name": "stdout",
          "output_type": "stream",
          "text": [
            "['abc.txt', 'windows.dll', 'tiger.png', 'rose.jpg', 'test.py', 'win32.exe']\n"
          ]
        },
        {
          "output_type": "error",
          "ename": "TypeError",
          "evalue": "ignored",
          "traceback": [
            "\u001b[0;31m---------------------------------------------------------------------------\u001b[0m",
            "\u001b[0;31mTypeError\u001b[0m                                 Traceback (most recent call last)",
            "\u001b[0;32m<ipython-input-97-bb903b420b89>\u001b[0m in \u001b[0;36m<module>\u001b[0;34m\u001b[0m\n\u001b[1;32m      5\u001b[0m             for f in file_names]\n\u001b[1;32m      6\u001b[0m \u001b[0mn\u001b[0m\u001b[0;34m=\u001b[0m\u001b[0meval\u001b[0m\u001b[0;34m(\u001b[0m\u001b[0minput\u001b[0m\u001b[0;34m(\u001b[0m\u001b[0;34m)\u001b[0m\u001b[0;34m)\u001b[0m\u001b[0;34m\u001b[0m\u001b[0;34m\u001b[0m\u001b[0m\n\u001b[0;32m----> 7\u001b[0;31m \u001b[0mprint\u001b[0m\u001b[0;34m(\u001b[0m\u001b[0mtest\u001b[0m\u001b[0;34m(\u001b[0m\u001b[0mn\u001b[0m\u001b[0;34m)\u001b[0m\u001b[0;34m)\u001b[0m\u001b[0;34m\u001b[0m\u001b[0;34m\u001b[0m\u001b[0m\n\u001b[0m",
            "\u001b[0;32m<ipython-input-97-bb903b420b89>\u001b[0m in \u001b[0;36mtest\u001b[0;34m(file_names)\u001b[0m\n\u001b[1;32m      1\u001b[0m \u001b[0;32mdef\u001b[0m \u001b[0mtest\u001b[0m\u001b[0;34m(\u001b[0m\u001b[0mfile_names\u001b[0m\u001b[0;34m)\u001b[0m\u001b[0;34m:\u001b[0m\u001b[0;34m\u001b[0m\u001b[0;34m\u001b[0m\u001b[0m\n\u001b[0;32m----> 2\u001b[0;31m          return [\"Yes\" if\n\u001b[0m\u001b[1;32m      3\u001b[0m             \u001b[0mf\u001b[0m\u001b[0;34m.\u001b[0m\u001b[0msplit\u001b[0m\u001b[0;34m(\u001b[0m\u001b[0;34m\".\"\u001b[0m\u001b[0;34m)\u001b[0m\u001b[0;34m[\u001b[0m\u001b[0;36m1\u001b[0m\u001b[0;34m:\u001b[0m\u001b[0;34m]\u001b[0m \u001b[0;32min\u001b[0m \u001b[0;34m[\u001b[0m\u001b[0;34m[\u001b[0m\u001b[0;34m'txt'\u001b[0m\u001b[0;34m]\u001b[0m\u001b[0;34m,\u001b[0m \u001b[0;34m[\u001b[0m\u001b[0;34m'png'\u001b[0m\u001b[0;34m]\u001b[0m\u001b[0;34m,\u001b[0m \u001b[0;34m[\u001b[0m\u001b[0;34m'dll'\u001b[0m\u001b[0;34m]\u001b[0m\u001b[0;34m,\u001b[0m \u001b[0;34m[\u001b[0m\u001b[0;34m'exe'\u001b[0m\u001b[0;34m]\u001b[0m\u001b[0;34m,\u001b[0m \u001b[0;34m[\u001b[0m\u001b[0;34m'jpg'\u001b[0m\u001b[0;34m]\u001b[0m\u001b[0;34m]\u001b[0m \u001b[0;32mand\u001b[0m \u001b[0mf\u001b[0m\u001b[0;34m[\u001b[0m\u001b[0;36m0\u001b[0m\u001b[0;34m]\u001b[0m\u001b[0;34m.\u001b[0m\u001b[0misalpha\u001b[0m\u001b[0;34m(\u001b[0m\u001b[0;34m)\u001b[0m \u001b[0;32mand\u001b[0m \u001b[0msum\u001b[0m\u001b[0;34m(\u001b[0m\u001b[0mc\u001b[0m\u001b[0;34m.\u001b[0m\u001b[0misdigit\u001b[0m\u001b[0;34m(\u001b[0m\u001b[0;34m)\u001b[0m \u001b[0;32mfor\u001b[0m \u001b[0mc\u001b[0m \u001b[0;32min\u001b[0m \u001b[0mf\u001b[0m\u001b[0;34m)\u001b[0m \u001b[0;34m<\u001b[0m \u001b[0;36m4\u001b[0m\u001b[0;34m\u001b[0m\u001b[0;34m\u001b[0m\u001b[0m\n\u001b[1;32m      4\u001b[0m             \u001b[0;32melse\u001b[0m \u001b[0;34m\"No\"\u001b[0m\u001b[0;34m\u001b[0m\u001b[0;34m\u001b[0m\u001b[0m\n\u001b[1;32m      5\u001b[0m             for f in file_names]\n",
            "\u001b[0;32m<ipython-input-97-bb903b420b89>\u001b[0m in \u001b[0;36m<listcomp>\u001b[0;34m(.0)\u001b[0m\n\u001b[1;32m      1\u001b[0m \u001b[0;32mdef\u001b[0m \u001b[0mtest\u001b[0m\u001b[0;34m(\u001b[0m\u001b[0mfile_names\u001b[0m\u001b[0;34m)\u001b[0m\u001b[0;34m:\u001b[0m\u001b[0;34m\u001b[0m\u001b[0;34m\u001b[0m\u001b[0m\n\u001b[1;32m      2\u001b[0m          return [\"Yes\" if\n\u001b[0;32m----> 3\u001b[0;31m             \u001b[0mf\u001b[0m\u001b[0;34m.\u001b[0m\u001b[0msplit\u001b[0m\u001b[0;34m(\u001b[0m\u001b[0;34m\".\"\u001b[0m\u001b[0;34m)\u001b[0m\u001b[0;34m[\u001b[0m\u001b[0;36m1\u001b[0m\u001b[0;34m:\u001b[0m\u001b[0;34m]\u001b[0m \u001b[0;32min\u001b[0m \u001b[0;34m[\u001b[0m\u001b[0;34m[\u001b[0m\u001b[0;34m'txt'\u001b[0m\u001b[0;34m]\u001b[0m\u001b[0;34m,\u001b[0m \u001b[0;34m[\u001b[0m\u001b[0;34m'png'\u001b[0m\u001b[0;34m]\u001b[0m\u001b[0;34m,\u001b[0m \u001b[0;34m[\u001b[0m\u001b[0;34m'dll'\u001b[0m\u001b[0;34m]\u001b[0m\u001b[0;34m,\u001b[0m \u001b[0;34m[\u001b[0m\u001b[0;34m'exe'\u001b[0m\u001b[0;34m]\u001b[0m\u001b[0;34m,\u001b[0m \u001b[0;34m[\u001b[0m\u001b[0;34m'jpg'\u001b[0m\u001b[0;34m]\u001b[0m\u001b[0;34m]\u001b[0m \u001b[0;32mand\u001b[0m \u001b[0mf\u001b[0m\u001b[0;34m[\u001b[0m\u001b[0;36m0\u001b[0m\u001b[0;34m]\u001b[0m\u001b[0;34m.\u001b[0m\u001b[0misalpha\u001b[0m\u001b[0;34m(\u001b[0m\u001b[0;34m)\u001b[0m \u001b[0;32mand\u001b[0m \u001b[0msum\u001b[0m\u001b[0;34m(\u001b[0m\u001b[0mc\u001b[0m\u001b[0;34m.\u001b[0m\u001b[0misdigit\u001b[0m\u001b[0;34m(\u001b[0m\u001b[0;34m)\u001b[0m \u001b[0;32mfor\u001b[0m \u001b[0mc\u001b[0m \u001b[0;32min\u001b[0m \u001b[0mf\u001b[0m\u001b[0;34m)\u001b[0m \u001b[0;34m<\u001b[0m \u001b[0;36m4\u001b[0m\u001b[0;34m\u001b[0m\u001b[0;34m\u001b[0m\u001b[0m\n\u001b[0m\u001b[1;32m      4\u001b[0m             \u001b[0;32melse\u001b[0m \u001b[0;34m\"No\"\u001b[0m\u001b[0;34m\u001b[0m\u001b[0;34m\u001b[0m\u001b[0m\n\u001b[1;32m      5\u001b[0m             for f in file_names]\n",
            "\u001b[0;31mTypeError\u001b[0m: 'int' object is not callable"
          ]
        }
      ]
    },
    {
      "cell_type": "markdown",
      "source": [
        "Compute sum\n",
        "Medium\n",
        "Surprisingly there are only three numbers that can be written as the sum of fourth powers of their digits:\n",
        "\n",
        "1634 = 1^4 + 6^4 + 3^4 + 4^4\n",
        "\n",
        "8208 = 8^4 + 2^4 + 0^4 + 8^4\n",
        "\n",
        "9474 = 9^4 + 4^4 + 7^4 + 4^4\n",
        "\n",
        "As 1 = 1^4 is not a sum it is not included.\n",
        "\n",
        "The sum of these numbers is 1634 + 8208 + 9474 = 19316.\n",
        "\n",
        "Write a Python program to find the sum of all the numbers (within certain range) that can be written as the sum of fifth powers of their digits."
      ],
      "metadata": {
        "id": "TWMjUl5w2YHE"
      }
    },
    {
      "cell_type": "code",
      "source": [
        "def compute():\n",
        "\tresult = sum(i for i in range(2, 1000000) if i == fifthPower_digitSum(i))\n",
        "\treturn str(result)\n",
        "\n",
        "def fifthPower_digitSum(n):\n",
        "\treturn sum(int(x)**5 for x in str(n))\n",
        "\n",
        "print(compute())"
      ],
      "metadata": {
        "colab": {
          "base_uri": "https://localhost:8080/",
          "height": 321
        },
        "id": "kgretZpI2MjH",
        "outputId": "eed5c7bd-d92a-4c70-d8ed-9b5ee4670ebc"
      },
      "execution_count": 98,
      "outputs": [
        {
          "output_type": "error",
          "ename": "TypeError",
          "evalue": "ignored",
          "traceback": [
            "\u001b[0;31m---------------------------------------------------------------------------\u001b[0m",
            "\u001b[0;31mTypeError\u001b[0m                                 Traceback (most recent call last)",
            "\u001b[0;32m<ipython-input-98-53e6bbfa67f7>\u001b[0m in \u001b[0;36m<module>\u001b[0;34m\u001b[0m\n\u001b[1;32m      6\u001b[0m         \u001b[0;32mreturn\u001b[0m \u001b[0msum\u001b[0m\u001b[0;34m(\u001b[0m\u001b[0mint\u001b[0m\u001b[0;34m(\u001b[0m\u001b[0mx\u001b[0m\u001b[0;34m)\u001b[0m\u001b[0;34m**\u001b[0m\u001b[0;36m5\u001b[0m \u001b[0;32mfor\u001b[0m \u001b[0mx\u001b[0m \u001b[0;32min\u001b[0m \u001b[0mstr\u001b[0m\u001b[0;34m(\u001b[0m\u001b[0mn\u001b[0m\u001b[0;34m)\u001b[0m\u001b[0;34m)\u001b[0m\u001b[0;34m\u001b[0m\u001b[0;34m\u001b[0m\u001b[0m\n\u001b[1;32m      7\u001b[0m \u001b[0;34m\u001b[0m\u001b[0m\n\u001b[0;32m----> 8\u001b[0;31m \u001b[0mprint\u001b[0m\u001b[0;34m(\u001b[0m\u001b[0mcompute\u001b[0m\u001b[0;34m(\u001b[0m\u001b[0;34m)\u001b[0m\u001b[0;34m)\u001b[0m\u001b[0;34m\u001b[0m\u001b[0;34m\u001b[0m\u001b[0m\n\u001b[0m",
            "\u001b[0;32m<ipython-input-98-53e6bbfa67f7>\u001b[0m in \u001b[0;36mcompute\u001b[0;34m()\u001b[0m\n\u001b[1;32m      1\u001b[0m \u001b[0;32mdef\u001b[0m \u001b[0mcompute\u001b[0m\u001b[0;34m(\u001b[0m\u001b[0;34m)\u001b[0m\u001b[0;34m:\u001b[0m\u001b[0;34m\u001b[0m\u001b[0;34m\u001b[0m\u001b[0m\n\u001b[0;32m----> 2\u001b[0;31m         \u001b[0mresult\u001b[0m \u001b[0;34m=\u001b[0m \u001b[0msum\u001b[0m\u001b[0;34m(\u001b[0m\u001b[0mi\u001b[0m \u001b[0;32mfor\u001b[0m \u001b[0mi\u001b[0m \u001b[0;32min\u001b[0m \u001b[0mrange\u001b[0m\u001b[0;34m(\u001b[0m\u001b[0;36m2\u001b[0m\u001b[0;34m,\u001b[0m \u001b[0;36m1000000\u001b[0m\u001b[0;34m)\u001b[0m \u001b[0;32mif\u001b[0m \u001b[0mi\u001b[0m \u001b[0;34m==\u001b[0m \u001b[0mfifthPower_digitSum\u001b[0m\u001b[0;34m(\u001b[0m\u001b[0mi\u001b[0m\u001b[0;34m)\u001b[0m\u001b[0;34m)\u001b[0m\u001b[0;34m\u001b[0m\u001b[0;34m\u001b[0m\u001b[0m\n\u001b[0m\u001b[1;32m      3\u001b[0m         \u001b[0;32mreturn\u001b[0m \u001b[0mstr\u001b[0m\u001b[0;34m(\u001b[0m\u001b[0mresult\u001b[0m\u001b[0;34m)\u001b[0m\u001b[0;34m\u001b[0m\u001b[0;34m\u001b[0m\u001b[0m\n\u001b[1;32m      4\u001b[0m \u001b[0;34m\u001b[0m\u001b[0m\n\u001b[1;32m      5\u001b[0m \u001b[0;32mdef\u001b[0m \u001b[0mfifthPower_digitSum\u001b[0m\u001b[0;34m(\u001b[0m\u001b[0mn\u001b[0m\u001b[0;34m)\u001b[0m\u001b[0;34m:\u001b[0m\u001b[0;34m\u001b[0m\u001b[0;34m\u001b[0m\u001b[0m\n",
            "\u001b[0;31mTypeError\u001b[0m: 'int' object is not callable"
          ]
        }
      ]
    },
    {
      "cell_type": "markdown",
      "source": [
        "Find vowels from each word\n",
        "\n",
        "Write a Python program to find the vowels from each of the original texts (y counts as a vowel at the end of the word) from a given list of strings."
      ],
      "metadata": {
        "id": "RIUIvQnr2q5Z"
      }
    },
    {
      "cell_type": "code",
      "source": [
        "def test(strs):\n",
        "        return [\"\".join(c for c in text if c.lower() in \"aeiou\") + (text[-1] if text[-1].lower() == \"y\" else \"\")\n",
        "            for text in strs]\n",
        "n = eval(input())\n",
        "print(test(n))"
      ],
      "metadata": {
        "colab": {
          "base_uri": "https://localhost:8080/"
        },
        "id": "7krbLUWz2u6X",
        "outputId": "2ba56e4d-984a-48a5-c1da-63b93a19ddbb"
      },
      "execution_count": 99,
      "outputs": [
        {
          "output_type": "stream",
          "name": "stdout",
          "text": [
            "['w3resource', 'Python', 'Java', 'C++']\n",
            "['eoue', 'o', 'aa', '']\n"
          ]
        }
      ]
    },
    {
      "cell_type": "markdown",
      "source": [
        "Find index and sum\n",
        "Medium\n",
        "Write a Python program to find the index of the largest prime in the list and the sum of its digits."
      ],
      "metadata": {
        "id": "RpfUH3kg22Ja"
      }
    },
    {
      "cell_type": "code",
      "source": [
        "def test(nums):\n",
        "    n, i = max((n, i) for i, n in enumerate(nums) if is_prime(n))\n",
        "    return [i, sum(int(c) for c in str(n))]\n",
        "def is_prime(n):\n",
        "    return n > 1 and all(n % j for j in range(2, int(n ** 0.5) + 1))\n",
        "n = eval(input())\n",
        "print(\"Index of the largest prime in the said list and the sum of its digits:\")\n",
        "print(test(n))    \n",
        "    "
      ],
      "metadata": {
        "colab": {
          "base_uri": "https://localhost:8080/",
          "height": 373
        },
        "id": "ing6DzYq2y78",
        "outputId": "23e4df2a-f39b-42cd-e1c9-39d207bf9e24"
      },
      "execution_count": 101,
      "outputs": [
        {
          "output_type": "stream",
          "name": "stdout",
          "text": [
            "[3, 7, 4]\n",
            "Index of the largest prime in the said list and the sum of its digits:\n"
          ]
        },
        {
          "output_type": "error",
          "ename": "TypeError",
          "evalue": "ignored",
          "traceback": [
            "\u001b[0;31m---------------------------------------------------------------------------\u001b[0m",
            "\u001b[0;31mTypeError\u001b[0m                                 Traceback (most recent call last)",
            "\u001b[0;32m<ipython-input-101-877889a1e865>\u001b[0m in \u001b[0;36m<module>\u001b[0;34m\u001b[0m\n\u001b[1;32m      6\u001b[0m \u001b[0mn\u001b[0m \u001b[0;34m=\u001b[0m \u001b[0meval\u001b[0m\u001b[0;34m(\u001b[0m\u001b[0minput\u001b[0m\u001b[0;34m(\u001b[0m\u001b[0;34m)\u001b[0m\u001b[0;34m)\u001b[0m\u001b[0;34m\u001b[0m\u001b[0;34m\u001b[0m\u001b[0m\n\u001b[1;32m      7\u001b[0m \u001b[0mprint\u001b[0m\u001b[0;34m(\u001b[0m\u001b[0;34m\"Index of the largest prime in the said list and the sum of its digits:\"\u001b[0m\u001b[0;34m)\u001b[0m\u001b[0;34m\u001b[0m\u001b[0;34m\u001b[0m\u001b[0m\n\u001b[0;32m----> 8\u001b[0;31m \u001b[0mprint\u001b[0m\u001b[0;34m(\u001b[0m\u001b[0mtest\u001b[0m\u001b[0;34m(\u001b[0m\u001b[0mn\u001b[0m\u001b[0;34m)\u001b[0m\u001b[0;34m)\u001b[0m\u001b[0;34m\u001b[0m\u001b[0;34m\u001b[0m\u001b[0m\n\u001b[0m\u001b[1;32m      9\u001b[0m \u001b[0;34m\u001b[0m\u001b[0m\n",
            "\u001b[0;32m<ipython-input-101-877889a1e865>\u001b[0m in \u001b[0;36mtest\u001b[0;34m(nums)\u001b[0m\n\u001b[1;32m      1\u001b[0m \u001b[0;32mdef\u001b[0m \u001b[0mtest\u001b[0m\u001b[0;34m(\u001b[0m\u001b[0mnums\u001b[0m\u001b[0;34m)\u001b[0m\u001b[0;34m:\u001b[0m\u001b[0;34m\u001b[0m\u001b[0;34m\u001b[0m\u001b[0m\n\u001b[1;32m      2\u001b[0m     \u001b[0mn\u001b[0m\u001b[0;34m,\u001b[0m \u001b[0mi\u001b[0m \u001b[0;34m=\u001b[0m \u001b[0mmax\u001b[0m\u001b[0;34m(\u001b[0m\u001b[0;34m(\u001b[0m\u001b[0mn\u001b[0m\u001b[0;34m,\u001b[0m \u001b[0mi\u001b[0m\u001b[0;34m)\u001b[0m \u001b[0;32mfor\u001b[0m \u001b[0mi\u001b[0m\u001b[0;34m,\u001b[0m \u001b[0mn\u001b[0m \u001b[0;32min\u001b[0m \u001b[0menumerate\u001b[0m\u001b[0;34m(\u001b[0m\u001b[0mnums\u001b[0m\u001b[0;34m)\u001b[0m \u001b[0;32mif\u001b[0m \u001b[0mis_prime\u001b[0m\u001b[0;34m(\u001b[0m\u001b[0mn\u001b[0m\u001b[0;34m)\u001b[0m\u001b[0;34m)\u001b[0m\u001b[0;34m\u001b[0m\u001b[0;34m\u001b[0m\u001b[0m\n\u001b[0;32m----> 3\u001b[0;31m     \u001b[0;32mreturn\u001b[0m \u001b[0;34m[\u001b[0m\u001b[0mi\u001b[0m\u001b[0;34m,\u001b[0m \u001b[0msum\u001b[0m\u001b[0;34m(\u001b[0m\u001b[0mint\u001b[0m\u001b[0;34m(\u001b[0m\u001b[0mc\u001b[0m\u001b[0;34m)\u001b[0m \u001b[0;32mfor\u001b[0m \u001b[0mc\u001b[0m \u001b[0;32min\u001b[0m \u001b[0mint\u001b[0m\u001b[0;34m(\u001b[0m\u001b[0mn\u001b[0m\u001b[0;34m)\u001b[0m\u001b[0;34m)\u001b[0m\u001b[0;34m]\u001b[0m\u001b[0;34m\u001b[0m\u001b[0;34m\u001b[0m\u001b[0m\n\u001b[0m\u001b[1;32m      4\u001b[0m \u001b[0;32mdef\u001b[0m \u001b[0mis_prime\u001b[0m\u001b[0;34m(\u001b[0m\u001b[0mn\u001b[0m\u001b[0;34m)\u001b[0m\u001b[0;34m:\u001b[0m\u001b[0;34m\u001b[0m\u001b[0;34m\u001b[0m\u001b[0m\n\u001b[1;32m      5\u001b[0m     \u001b[0;32mreturn\u001b[0m \u001b[0mn\u001b[0m \u001b[0;34m>\u001b[0m \u001b[0;36m1\u001b[0m \u001b[0;32mand\u001b[0m \u001b[0mall\u001b[0m\u001b[0;34m(\u001b[0m\u001b[0mn\u001b[0m \u001b[0;34m%\u001b[0m \u001b[0mj\u001b[0m \u001b[0;32mfor\u001b[0m \u001b[0mj\u001b[0m \u001b[0;32min\u001b[0m \u001b[0mrange\u001b[0m\u001b[0;34m(\u001b[0m\u001b[0;36m2\u001b[0m\u001b[0;34m,\u001b[0m \u001b[0mint\u001b[0m\u001b[0;34m(\u001b[0m\u001b[0mn\u001b[0m \u001b[0;34m**\u001b[0m \u001b[0;36m0.5\u001b[0m\u001b[0;34m)\u001b[0m \u001b[0;34m+\u001b[0m \u001b[0;36m1\u001b[0m\u001b[0;34m)\u001b[0m\u001b[0;34m)\u001b[0m\u001b[0;34m\u001b[0m\u001b[0;34m\u001b[0m\u001b[0m\n",
            "\u001b[0;31mTypeError\u001b[0m: 'int' object is not iterable"
          ]
        }
      ]
    },
    {
      "cell_type": "markdown",
      "source": [
        "Closest distinct numbers\n",
        "\n",
        "Write a Python program to find the two closest distinct numbers in a given a list of numbers."
      ],
      "metadata": {
        "id": "TLafvhez3RQC"
      }
    },
    {
      "cell_type": "code",
      "source": [
        "def test(nums):\n",
        "    s = sorted(set(nums))\n",
        "    return min([[a, b] for a, b in zip(s, s[1:])], key=lambda x: x[1] - x[0])\n",
        "lst = eval(input())\n",
        "print(test(lst))"
      ],
      "metadata": {
        "colab": {
          "base_uri": "https://localhost:8080/"
        },
        "id": "SEu1AEz9292z",
        "outputId": "ce29f66b-63a4-43c5-8ecc-1e2dcbf989b4"
      },
      "execution_count": 102,
      "outputs": [
        {
          "output_type": "stream",
          "name": "stdout",
          "text": [
            "[1.3, 5.24, 0.89, 21.0, 5.27, 1.3]\n",
            "[5.24, 5.27]\n"
          ]
        }
      ]
    },
    {
      "cell_type": "markdown",
      "source": [
        "Find all 5's in integers\n",
        "\n",
        "Write a Python program to find all 5's in integers less than n that are divisible by 9 or 15."
      ],
      "metadata": {
        "id": "4tJyrsGs3gf2"
      }
    },
    {
      "cell_type": "code",
      "source": [
        "def test(n):\n",
        "    return [[i,j] for i in range(n) for j in range(len(str(i))) if str(i)[j] == '5' and (i%15==0 or i%9==0)]\n",
        "n = int(input())\n",
        "print(test(n)) "
      ],
      "metadata": {
        "colab": {
          "base_uri": "https://localhost:8080/",
          "height": 345
        },
        "id": "oC3XAdsM3ccB",
        "outputId": "539b4cae-7aeb-4bad-e422-c49193e299a0"
      },
      "execution_count": 103,
      "outputs": [
        {
          "name": "stdout",
          "output_type": "stream",
          "text": [
            "50\n"
          ]
        },
        {
          "output_type": "error",
          "ename": "TypeError",
          "evalue": "ignored",
          "traceback": [
            "\u001b[0;31m---------------------------------------------------------------------------\u001b[0m",
            "\u001b[0;31mTypeError\u001b[0m                                 Traceback (most recent call last)",
            "\u001b[0;32m<ipython-input-103-70780ed4d2fe>\u001b[0m in \u001b[0;36m<module>\u001b[0;34m\u001b[0m\n\u001b[1;32m      2\u001b[0m     \u001b[0;32mreturn\u001b[0m \u001b[0;34m[\u001b[0m\u001b[0;34m[\u001b[0m\u001b[0mi\u001b[0m\u001b[0;34m,\u001b[0m\u001b[0mj\u001b[0m\u001b[0;34m]\u001b[0m \u001b[0;32mfor\u001b[0m \u001b[0mi\u001b[0m \u001b[0;32min\u001b[0m \u001b[0mrange\u001b[0m\u001b[0;34m(\u001b[0m\u001b[0mn\u001b[0m\u001b[0;34m)\u001b[0m \u001b[0;32mfor\u001b[0m \u001b[0mj\u001b[0m \u001b[0;32min\u001b[0m \u001b[0mrange\u001b[0m\u001b[0;34m(\u001b[0m\u001b[0mlen\u001b[0m\u001b[0;34m(\u001b[0m\u001b[0mstr\u001b[0m\u001b[0;34m(\u001b[0m\u001b[0mi\u001b[0m\u001b[0;34m)\u001b[0m\u001b[0;34m)\u001b[0m\u001b[0;34m)\u001b[0m \u001b[0;32mif\u001b[0m \u001b[0mstr\u001b[0m\u001b[0;34m(\u001b[0m\u001b[0mi\u001b[0m\u001b[0;34m)\u001b[0m\u001b[0;34m[\u001b[0m\u001b[0mj\u001b[0m\u001b[0;34m]\u001b[0m \u001b[0;34m==\u001b[0m \u001b[0;34m'5'\u001b[0m \u001b[0;32mand\u001b[0m \u001b[0;34m(\u001b[0m\u001b[0mi\u001b[0m\u001b[0;34m%\u001b[0m\u001b[0;36m15\u001b[0m\u001b[0;34m==\u001b[0m\u001b[0;36m0\u001b[0m \u001b[0;32mor\u001b[0m \u001b[0mi\u001b[0m\u001b[0;34m%\u001b[0m\u001b[0;36m9\u001b[0m\u001b[0;34m==\u001b[0m\u001b[0;36m0\u001b[0m\u001b[0;34m)\u001b[0m\u001b[0;34m]\u001b[0m\u001b[0;34m\u001b[0m\u001b[0;34m\u001b[0m\u001b[0m\n\u001b[1;32m      3\u001b[0m \u001b[0mn\u001b[0m \u001b[0;34m=\u001b[0m \u001b[0mint\u001b[0m\u001b[0;34m(\u001b[0m\u001b[0minput\u001b[0m\u001b[0;34m(\u001b[0m\u001b[0;34m)\u001b[0m\u001b[0;34m)\u001b[0m\u001b[0;34m\u001b[0m\u001b[0;34m\u001b[0m\u001b[0m\n\u001b[0;32m----> 4\u001b[0;31m \u001b[0mprint\u001b[0m\u001b[0;34m(\u001b[0m\u001b[0mtest\u001b[0m\u001b[0;34m(\u001b[0m\u001b[0mn\u001b[0m\u001b[0;34m)\u001b[0m\u001b[0;34m)\u001b[0m\u001b[0;34m\u001b[0m\u001b[0;34m\u001b[0m\u001b[0m\n\u001b[0m",
            "\u001b[0;32m<ipython-input-103-70780ed4d2fe>\u001b[0m in \u001b[0;36mtest\u001b[0;34m(n)\u001b[0m\n\u001b[1;32m      1\u001b[0m \u001b[0;32mdef\u001b[0m \u001b[0mtest\u001b[0m\u001b[0;34m(\u001b[0m\u001b[0mn\u001b[0m\u001b[0;34m)\u001b[0m\u001b[0;34m:\u001b[0m\u001b[0;34m\u001b[0m\u001b[0;34m\u001b[0m\u001b[0m\n\u001b[0;32m----> 2\u001b[0;31m     \u001b[0;32mreturn\u001b[0m \u001b[0;34m[\u001b[0m\u001b[0;34m[\u001b[0m\u001b[0mi\u001b[0m\u001b[0;34m,\u001b[0m\u001b[0mj\u001b[0m\u001b[0;34m]\u001b[0m \u001b[0;32mfor\u001b[0m \u001b[0mi\u001b[0m \u001b[0;32min\u001b[0m \u001b[0mrange\u001b[0m\u001b[0;34m(\u001b[0m\u001b[0mn\u001b[0m\u001b[0;34m)\u001b[0m \u001b[0;32mfor\u001b[0m \u001b[0mj\u001b[0m \u001b[0;32min\u001b[0m \u001b[0mrange\u001b[0m\u001b[0;34m(\u001b[0m\u001b[0mlen\u001b[0m\u001b[0;34m(\u001b[0m\u001b[0mstr\u001b[0m\u001b[0;34m(\u001b[0m\u001b[0mi\u001b[0m\u001b[0;34m)\u001b[0m\u001b[0;34m)\u001b[0m\u001b[0;34m)\u001b[0m \u001b[0;32mif\u001b[0m \u001b[0mstr\u001b[0m\u001b[0;34m(\u001b[0m\u001b[0mi\u001b[0m\u001b[0;34m)\u001b[0m\u001b[0;34m[\u001b[0m\u001b[0mj\u001b[0m\u001b[0;34m]\u001b[0m \u001b[0;34m==\u001b[0m \u001b[0;34m'5'\u001b[0m \u001b[0;32mand\u001b[0m \u001b[0;34m(\u001b[0m\u001b[0mi\u001b[0m\u001b[0;34m%\u001b[0m\u001b[0;36m15\u001b[0m\u001b[0;34m==\u001b[0m\u001b[0;36m0\u001b[0m \u001b[0;32mor\u001b[0m \u001b[0mi\u001b[0m\u001b[0;34m%\u001b[0m\u001b[0;36m9\u001b[0m\u001b[0;34m==\u001b[0m\u001b[0;36m0\u001b[0m\u001b[0;34m)\u001b[0m\u001b[0;34m]\u001b[0m\u001b[0;34m\u001b[0m\u001b[0;34m\u001b[0m\u001b[0m\n\u001b[0m\u001b[1;32m      3\u001b[0m \u001b[0mn\u001b[0m \u001b[0;34m=\u001b[0m \u001b[0mint\u001b[0m\u001b[0;34m(\u001b[0m\u001b[0minput\u001b[0m\u001b[0;34m(\u001b[0m\u001b[0;34m)\u001b[0m\u001b[0;34m)\u001b[0m\u001b[0;34m\u001b[0m\u001b[0;34m\u001b[0m\u001b[0m\n\u001b[1;32m      4\u001b[0m \u001b[0mprint\u001b[0m\u001b[0;34m(\u001b[0m\u001b[0mtest\u001b[0m\u001b[0;34m(\u001b[0m\u001b[0mn\u001b[0m\u001b[0;34m)\u001b[0m\u001b[0;34m)\u001b[0m\u001b[0;34m\u001b[0m\u001b[0;34m\u001b[0m\u001b[0m\n",
            "\u001b[0;32m<ipython-input-103-70780ed4d2fe>\u001b[0m in \u001b[0;36m<listcomp>\u001b[0;34m(.0)\u001b[0m\n\u001b[1;32m      1\u001b[0m \u001b[0;32mdef\u001b[0m \u001b[0mtest\u001b[0m\u001b[0;34m(\u001b[0m\u001b[0mn\u001b[0m\u001b[0;34m)\u001b[0m\u001b[0;34m:\u001b[0m\u001b[0;34m\u001b[0m\u001b[0;34m\u001b[0m\u001b[0m\n\u001b[0;32m----> 2\u001b[0;31m     \u001b[0;32mreturn\u001b[0m \u001b[0;34m[\u001b[0m\u001b[0;34m[\u001b[0m\u001b[0mi\u001b[0m\u001b[0;34m,\u001b[0m\u001b[0mj\u001b[0m\u001b[0;34m]\u001b[0m \u001b[0;32mfor\u001b[0m \u001b[0mi\u001b[0m \u001b[0;32min\u001b[0m \u001b[0mrange\u001b[0m\u001b[0;34m(\u001b[0m\u001b[0mn\u001b[0m\u001b[0;34m)\u001b[0m \u001b[0;32mfor\u001b[0m \u001b[0mj\u001b[0m \u001b[0;32min\u001b[0m \u001b[0mrange\u001b[0m\u001b[0;34m(\u001b[0m\u001b[0mlen\u001b[0m\u001b[0;34m(\u001b[0m\u001b[0mstr\u001b[0m\u001b[0;34m(\u001b[0m\u001b[0mi\u001b[0m\u001b[0;34m)\u001b[0m\u001b[0;34m)\u001b[0m\u001b[0;34m)\u001b[0m \u001b[0;32mif\u001b[0m \u001b[0mstr\u001b[0m\u001b[0;34m(\u001b[0m\u001b[0mi\u001b[0m\u001b[0;34m)\u001b[0m\u001b[0;34m[\u001b[0m\u001b[0mj\u001b[0m\u001b[0;34m]\u001b[0m \u001b[0;34m==\u001b[0m \u001b[0;34m'5'\u001b[0m \u001b[0;32mand\u001b[0m \u001b[0;34m(\u001b[0m\u001b[0mi\u001b[0m\u001b[0;34m%\u001b[0m\u001b[0;36m15\u001b[0m\u001b[0;34m==\u001b[0m\u001b[0;36m0\u001b[0m \u001b[0;32mor\u001b[0m \u001b[0mi\u001b[0m\u001b[0;34m%\u001b[0m\u001b[0;36m9\u001b[0m\u001b[0;34m==\u001b[0m\u001b[0;36m0\u001b[0m\u001b[0;34m)\u001b[0m\u001b[0;34m]\u001b[0m\u001b[0;34m\u001b[0m\u001b[0;34m\u001b[0m\u001b[0m\n\u001b[0m\u001b[1;32m      3\u001b[0m \u001b[0mn\u001b[0m \u001b[0;34m=\u001b[0m \u001b[0mint\u001b[0m\u001b[0;34m(\u001b[0m\u001b[0minput\u001b[0m\u001b[0;34m(\u001b[0m\u001b[0;34m)\u001b[0m\u001b[0;34m)\u001b[0m\u001b[0;34m\u001b[0m\u001b[0;34m\u001b[0m\u001b[0m\n\u001b[1;32m      4\u001b[0m \u001b[0mprint\u001b[0m\u001b[0;34m(\u001b[0m\u001b[0mtest\u001b[0m\u001b[0;34m(\u001b[0m\u001b[0mn\u001b[0m\u001b[0;34m)\u001b[0m\u001b[0;34m)\u001b[0m\u001b[0;34m\u001b[0m\u001b[0;34m\u001b[0m\u001b[0m\n",
            "\u001b[0;31mTypeError\u001b[0m: 'str' object is not callable"
          ]
        }
      ]
    },
    {
      "cell_type": "markdown",
      "source": [
        "Shift decimal digits\n",
        "\n",
        "Write a Python program to shift the decimal digits n places to the left, wrapping the extra digits around. If shift > the number of digits of n, reverse the string."
      ],
      "metadata": {
        "id": "nLCyYv3D3vU7"
      }
    },
    {
      "cell_type": "code",
      "source": [
        "def test(n, shift):\n",
        "    s = str(n)\n",
        "    if shift > len(s):\n",
        "        return s[::-1]\n",
        "    return s[shift:] + s[:shift]\n",
        "n = int(input())\n",
        "shift= int(input())\n",
        "print(test(n, shift))"
      ],
      "metadata": {
        "colab": {
          "base_uri": "https://localhost:8080/",
          "height": 356
        },
        "id": "ypdBSU3p3qyF",
        "outputId": "4873cba1-bf54-4841-a266-7f6b2a077c28"
      },
      "execution_count": 104,
      "outputs": [
        {
          "name": "stdout",
          "output_type": "stream",
          "text": [
            "12345\n",
            "1\n"
          ]
        },
        {
          "output_type": "error",
          "ename": "TypeError",
          "evalue": "ignored",
          "traceback": [
            "\u001b[0;31m---------------------------------------------------------------------------\u001b[0m",
            "\u001b[0;31mTypeError\u001b[0m                                 Traceback (most recent call last)",
            "\u001b[0;32m<ipython-input-104-96c076cd6a26>\u001b[0m in \u001b[0;36m<module>\u001b[0;34m\u001b[0m\n\u001b[1;32m      6\u001b[0m \u001b[0mn\u001b[0m \u001b[0;34m=\u001b[0m \u001b[0mint\u001b[0m\u001b[0;34m(\u001b[0m\u001b[0minput\u001b[0m\u001b[0;34m(\u001b[0m\u001b[0;34m)\u001b[0m\u001b[0;34m)\u001b[0m\u001b[0;34m\u001b[0m\u001b[0;34m\u001b[0m\u001b[0m\n\u001b[1;32m      7\u001b[0m \u001b[0mshift\u001b[0m\u001b[0;34m=\u001b[0m \u001b[0mint\u001b[0m\u001b[0;34m(\u001b[0m\u001b[0minput\u001b[0m\u001b[0;34m(\u001b[0m\u001b[0;34m)\u001b[0m\u001b[0;34m)\u001b[0m\u001b[0;34m\u001b[0m\u001b[0;34m\u001b[0m\u001b[0m\n\u001b[0;32m----> 8\u001b[0;31m \u001b[0mprint\u001b[0m\u001b[0;34m(\u001b[0m\u001b[0mtest\u001b[0m\u001b[0;34m(\u001b[0m\u001b[0mn\u001b[0m\u001b[0;34m,\u001b[0m \u001b[0mshift\u001b[0m\u001b[0;34m)\u001b[0m\u001b[0;34m)\u001b[0m\u001b[0;34m\u001b[0m\u001b[0;34m\u001b[0m\u001b[0m\n\u001b[0m",
            "\u001b[0;32m<ipython-input-104-96c076cd6a26>\u001b[0m in \u001b[0;36mtest\u001b[0;34m(n, shift)\u001b[0m\n\u001b[1;32m      1\u001b[0m \u001b[0;32mdef\u001b[0m \u001b[0mtest\u001b[0m\u001b[0;34m(\u001b[0m\u001b[0mn\u001b[0m\u001b[0;34m,\u001b[0m \u001b[0mshift\u001b[0m\u001b[0;34m)\u001b[0m\u001b[0;34m:\u001b[0m\u001b[0;34m\u001b[0m\u001b[0;34m\u001b[0m\u001b[0m\n\u001b[0;32m----> 2\u001b[0;31m     \u001b[0ms\u001b[0m \u001b[0;34m=\u001b[0m \u001b[0mstr\u001b[0m\u001b[0;34m(\u001b[0m\u001b[0mn\u001b[0m\u001b[0;34m)\u001b[0m\u001b[0;34m\u001b[0m\u001b[0;34m\u001b[0m\u001b[0m\n\u001b[0m\u001b[1;32m      3\u001b[0m     \u001b[0;32mif\u001b[0m \u001b[0mshift\u001b[0m \u001b[0;34m>\u001b[0m \u001b[0mlen\u001b[0m\u001b[0;34m(\u001b[0m\u001b[0ms\u001b[0m\u001b[0;34m)\u001b[0m\u001b[0;34m:\u001b[0m\u001b[0;34m\u001b[0m\u001b[0;34m\u001b[0m\u001b[0m\n\u001b[1;32m      4\u001b[0m         \u001b[0;32mreturn\u001b[0m \u001b[0ms\u001b[0m\u001b[0;34m[\u001b[0m\u001b[0;34m:\u001b[0m\u001b[0;34m:\u001b[0m\u001b[0;34m-\u001b[0m\u001b[0;36m1\u001b[0m\u001b[0;34m]\u001b[0m\u001b[0;34m\u001b[0m\u001b[0;34m\u001b[0m\u001b[0m\n\u001b[1;32m      5\u001b[0m     \u001b[0;32mreturn\u001b[0m \u001b[0ms\u001b[0m\u001b[0;34m[\u001b[0m\u001b[0mshift\u001b[0m\u001b[0;34m:\u001b[0m\u001b[0;34m]\u001b[0m \u001b[0;34m+\u001b[0m \u001b[0ms\u001b[0m\u001b[0;34m[\u001b[0m\u001b[0;34m:\u001b[0m\u001b[0mshift\u001b[0m\u001b[0;34m]\u001b[0m\u001b[0;34m\u001b[0m\u001b[0;34m\u001b[0m\u001b[0m\n",
            "\u001b[0;31mTypeError\u001b[0m: 'str' object is not callable"
          ]
        }
      ]
    },
    {
      "cell_type": "markdown",
      "source": [
        "Sum of even elements\n",
        "\n",
        "Write a Python program to find the sum of the even elements that are at odd indices."
      ],
      "metadata": {
        "id": "cd-fsP374LHO"
      }
    },
    {
      "cell_type": "code",
      "source": [
        "def test(nums):\n",
        "    return sum(i for i in nums[1::2] if i % 2 == 0) \n",
        "n = eval(input())\n",
        "print(test(n))"
      ],
      "metadata": {
        "colab": {
          "base_uri": "https://localhost:8080/",
          "height": 321
        },
        "id": "-5KbRiVQ4BFl",
        "outputId": "daaec693-7cb3-40c9-e971-be715771c142"
      },
      "execution_count": 105,
      "outputs": [
        {
          "name": "stdout",
          "output_type": "stream",
          "text": [
            "[1, 2, 8, 3, 9, 4]\n"
          ]
        },
        {
          "output_type": "error",
          "ename": "TypeError",
          "evalue": "ignored",
          "traceback": [
            "\u001b[0;31m---------------------------------------------------------------------------\u001b[0m",
            "\u001b[0;31mTypeError\u001b[0m                                 Traceback (most recent call last)",
            "\u001b[0;32m<ipython-input-105-6d614a5c513d>\u001b[0m in \u001b[0;36m<module>\u001b[0;34m\u001b[0m\n\u001b[1;32m      2\u001b[0m     \u001b[0;32mreturn\u001b[0m \u001b[0msum\u001b[0m\u001b[0;34m(\u001b[0m\u001b[0mi\u001b[0m \u001b[0;32mfor\u001b[0m \u001b[0mi\u001b[0m \u001b[0;32min\u001b[0m \u001b[0mnums\u001b[0m\u001b[0;34m[\u001b[0m\u001b[0;36m1\u001b[0m\u001b[0;34m:\u001b[0m\u001b[0;34m:\u001b[0m\u001b[0;36m2\u001b[0m\u001b[0;34m]\u001b[0m \u001b[0;32mif\u001b[0m \u001b[0mi\u001b[0m \u001b[0;34m%\u001b[0m \u001b[0;36m2\u001b[0m \u001b[0;34m==\u001b[0m \u001b[0;36m0\u001b[0m\u001b[0;34m)\u001b[0m\u001b[0;34m\u001b[0m\u001b[0;34m\u001b[0m\u001b[0m\n\u001b[1;32m      3\u001b[0m \u001b[0mn\u001b[0m \u001b[0;34m=\u001b[0m \u001b[0meval\u001b[0m\u001b[0;34m(\u001b[0m\u001b[0minput\u001b[0m\u001b[0;34m(\u001b[0m\u001b[0;34m)\u001b[0m\u001b[0;34m)\u001b[0m\u001b[0;34m\u001b[0m\u001b[0;34m\u001b[0m\u001b[0m\n\u001b[0;32m----> 4\u001b[0;31m \u001b[0mprint\u001b[0m\u001b[0;34m(\u001b[0m\u001b[0mtest\u001b[0m\u001b[0;34m(\u001b[0m\u001b[0mn\u001b[0m\u001b[0;34m)\u001b[0m\u001b[0;34m)\u001b[0m\u001b[0;34m\u001b[0m\u001b[0;34m\u001b[0m\u001b[0m\n\u001b[0m",
            "\u001b[0;32m<ipython-input-105-6d614a5c513d>\u001b[0m in \u001b[0;36mtest\u001b[0;34m(nums)\u001b[0m\n\u001b[1;32m      1\u001b[0m \u001b[0;32mdef\u001b[0m \u001b[0mtest\u001b[0m\u001b[0;34m(\u001b[0m\u001b[0mnums\u001b[0m\u001b[0;34m)\u001b[0m\u001b[0;34m:\u001b[0m\u001b[0;34m\u001b[0m\u001b[0;34m\u001b[0m\u001b[0m\n\u001b[0;32m----> 2\u001b[0;31m     \u001b[0;32mreturn\u001b[0m \u001b[0msum\u001b[0m\u001b[0;34m(\u001b[0m\u001b[0mi\u001b[0m \u001b[0;32mfor\u001b[0m \u001b[0mi\u001b[0m \u001b[0;32min\u001b[0m \u001b[0mnums\u001b[0m\u001b[0;34m[\u001b[0m\u001b[0;36m1\u001b[0m\u001b[0;34m:\u001b[0m\u001b[0;34m:\u001b[0m\u001b[0;36m2\u001b[0m\u001b[0;34m]\u001b[0m \u001b[0;32mif\u001b[0m \u001b[0mi\u001b[0m \u001b[0;34m%\u001b[0m \u001b[0;36m2\u001b[0m \u001b[0;34m==\u001b[0m \u001b[0;36m0\u001b[0m\u001b[0;34m)\u001b[0m\u001b[0;34m\u001b[0m\u001b[0;34m\u001b[0m\u001b[0m\n\u001b[0m\u001b[1;32m      3\u001b[0m \u001b[0mn\u001b[0m \u001b[0;34m=\u001b[0m \u001b[0meval\u001b[0m\u001b[0;34m(\u001b[0m\u001b[0minput\u001b[0m\u001b[0;34m(\u001b[0m\u001b[0;34m)\u001b[0m\u001b[0;34m)\u001b[0m\u001b[0;34m\u001b[0m\u001b[0;34m\u001b[0m\u001b[0m\n\u001b[1;32m      4\u001b[0m \u001b[0mprint\u001b[0m\u001b[0;34m(\u001b[0m\u001b[0mtest\u001b[0m\u001b[0;34m(\u001b[0m\u001b[0mn\u001b[0m\u001b[0;34m)\u001b[0m\u001b[0;34m)\u001b[0m\u001b[0;34m\u001b[0m\u001b[0;34m\u001b[0m\u001b[0m\n",
            "\u001b[0;31mTypeError\u001b[0m: 'int' object is not callable"
          ]
        }
      ]
    },
    {
      "cell_type": "markdown",
      "source": [
        "Factorial using recursive method\n",
        "\n",
        "Write a python program to find the factorial of the number using recursion method."
      ],
      "metadata": {
        "id": "Lv3UeL_f4WQj"
      }
    },
    {
      "cell_type": "code",
      "source": [
        "def recur_factorial(n):\n",
        "   if n == 1:\n",
        "       return n\n",
        "   else:\n",
        "       return n*recur_factorial(n-1)\n",
        "\n",
        "num = int(input())\n",
        "if num < 0:\n",
        "   print(\"Factorial can't be calculated for negative number\")\n",
        "elif num == 0:\n",
        "   print(\"Factorial of 0 is 1\")\n",
        "else:\n",
        "   print(\"Factorial of\", num, \"is\", recur_factorial(num))"
      ],
      "metadata": {
        "colab": {
          "base_uri": "https://localhost:8080/"
        },
        "id": "e1ozlVHR4TlZ",
        "outputId": "b596bcf1-c6d7-4c0a-83a7-a0b19880aca2"
      },
      "execution_count": 106,
      "outputs": [
        {
          "output_type": "stream",
          "name": "stdout",
          "text": [
            "5\n",
            "Factorial of 5 is 120\n"
          ]
        }
      ]
    },
    {
      "cell_type": "markdown",
      "source": [
        "Find alphanumeric words\n",
        "\n",
        "Write a program to find words with both alphabets and numbers from an input string."
      ],
      "metadata": {
        "id": "3aqj5rdY4vzu"
      }
    },
    {
      "cell_type": "code",
      "source": [
        "string='Emma25 is Data scientist50 and AI Expert'\n",
        "res = []\n",
        "temp = string.split()\n",
        "for idx in temp:\n",
        "    if any(chr.isalpha() for chr in idx) and any(chr.isdigit() for chr in idx):\n",
        "        res.append(idx)\n",
        "         \n",
        "# printing result\n",
        "print(\"Displaying words with alphabets and numbers\")\n",
        "print(str(res))"
      ],
      "metadata": {
        "colab": {
          "base_uri": "https://localhost:8080/",
          "height": 217
        },
        "id": "b7PdLGgb4dEx",
        "outputId": "b999c246-7b66-4029-b4c7-5e1ca72ae640"
      },
      "execution_count": 107,
      "outputs": [
        {
          "output_type": "stream",
          "name": "stdout",
          "text": [
            "Displaying words with alphabets and numbers\n"
          ]
        },
        {
          "output_type": "error",
          "ename": "TypeError",
          "evalue": "ignored",
          "traceback": [
            "\u001b[0;31m---------------------------------------------------------------------------\u001b[0m",
            "\u001b[0;31mTypeError\u001b[0m                                 Traceback (most recent call last)",
            "\u001b[0;32m<ipython-input-107-bd759cff467c>\u001b[0m in \u001b[0;36m<module>\u001b[0;34m\u001b[0m\n\u001b[1;32m      8\u001b[0m \u001b[0;31m# printing result\u001b[0m\u001b[0;34m\u001b[0m\u001b[0;34m\u001b[0m\u001b[0;34m\u001b[0m\u001b[0m\n\u001b[1;32m      9\u001b[0m \u001b[0mprint\u001b[0m\u001b[0;34m(\u001b[0m\u001b[0;34m\"Displaying words with alphabets and numbers\"\u001b[0m\u001b[0;34m)\u001b[0m\u001b[0;34m\u001b[0m\u001b[0;34m\u001b[0m\u001b[0m\n\u001b[0;32m---> 10\u001b[0;31m \u001b[0mprint\u001b[0m\u001b[0;34m(\u001b[0m\u001b[0mstr\u001b[0m\u001b[0;34m(\u001b[0m\u001b[0mres\u001b[0m\u001b[0;34m)\u001b[0m\u001b[0;34m)\u001b[0m\u001b[0;34m\u001b[0m\u001b[0;34m\u001b[0m\u001b[0m\n\u001b[0m",
            "\u001b[0;31mTypeError\u001b[0m: 'str' object is not callable"
          ]
        }
      ]
    },
    {
      "cell_type": "markdown",
      "source": [
        "Pack consecutive duplicates\n",
        "\n",
        "Write a Python program to pack consecutive duplicates of a given list elements into sublists."
      ],
      "metadata": {
        "id": "q2GxSyZQ5BB0"
      }
    },
    {
      "cell_type": "code",
      "source": [
        "from itertools import groupby\n",
        "def pack_consecutive_duplicates(l_nums):\n",
        "    return [list(group) for key, group in groupby(l_nums)]\n",
        "l=eval(input())\n",
        "print(pack_consecutive_duplicates(l)) \n"
      ],
      "metadata": {
        "colab": {
          "base_uri": "https://localhost:8080/"
        },
        "id": "G-UzFTfw5Gke",
        "outputId": "5d3051e4-0863-4c8a-9f10-99ec0782117e"
      },
      "execution_count": 108,
      "outputs": [
        {
          "output_type": "stream",
          "name": "stdout",
          "text": [
            "[0, 0, 1, 2, 3, 4, 4, 5, 6, 6, 6, 7, 8, 9]\n",
            "[[0, 0], [1], [2], [3], [4, 4], [5], [6, 6, 6], [7], [8], [9]]\n"
          ]
        }
      ]
    },
    {
      "cell_type": "markdown",
      "source": [
        "Print Combo Pattern\n",
        "\n",
        "Write a Python Program to Print Pattern with a Combination of Numbers and Stars."
      ],
      "metadata": {
        "id": "nVF7lCNo5Nso"
      }
    },
    {
      "cell_type": "code",
      "source": [
        "row = 8\n",
        "for i in range(0, row):\n",
        "    c = 1\n",
        "    print(c, end='')\n",
        "    for j in range(row - i - 1, 0, -1):\n",
        "        print('*', end='')\n",
        "        c = c + 1\n",
        "        print(c, end=' ')\n",
        "    print('')"
      ],
      "metadata": {
        "colab": {
          "base_uri": "https://localhost:8080/"
        },
        "id": "DjGhy0wH5KiK",
        "outputId": "e68ac208-f401-4d23-eb24-1e18c5ce1f57"
      },
      "execution_count": 109,
      "outputs": [
        {
          "output_type": "stream",
          "name": "stdout",
          "text": [
            "1*2 *3 *4 *5 *6 *7 *8 \n",
            "1*2 *3 *4 *5 *6 *7 \n",
            "1*2 *3 *4 *5 *6 \n",
            "1*2 *3 *4 *5 \n",
            "1*2 *3 *4 \n",
            "1*2 *3 \n",
            "1*2 \n",
            "1\n"
          ]
        }
      ]
    },
    {
      "cell_type": "markdown",
      "source": [
        "Compress string as per rules\n",
        "Hard\n",
        "When character are consecutive in a string , it is possible to shorten the character string by replacing the character with a certain rule. For example, in the case of the character string YYYYY, if it is expressed as # 5 Y, it is compressed by one character.\n",
        "\n",
        "Write a Python program to restore the original string by entering the compressed string with this rule. However, the # character does not appear in the restored character string.\n",
        "\n",
        "Note: The original sentences are uppercase letters, lowercase letters, numbers, symbols, less than 100 letters, and consecutive letters are not more than 9 letters."
      ],
      "metadata": {
        "id": "jnlJDGf-5muq"
      }
    },
    {
      "cell_type": "code",
      "source": [
        "def restore_original_str(a1):\n",
        "  result = \"\"\n",
        "  ind = 0\n",
        "  end = len(a1)\n",
        "  while ind < end:\n",
        "    if a1[ind] == \"#\":\n",
        "      result += a1[ind + 2] * int(a1[ind + 1])\n",
        "      ind += 3\n",
        "    else:\n",
        "      result += a1[ind]\n",
        "      ind += 1\n",
        "  return result"
      ],
      "metadata": {
        "id": "4gC5kXUl5qSF"
      },
      "execution_count": 110,
      "outputs": []
    },
    {
      "cell_type": "markdown",
      "source": [
        "Solve Equations\n",
        "\n",
        "Write a Python program which solve the equation:\n",
        "\n",
        "ax+by=c\n",
        "\n",
        "dx+ey=f\n",
        "\n",
        "Print the values of x, y where a, b, c, d, e and f are given.\n",
        "\n"
      ],
      "metadata": {
        "id": "gkUiCVIt5wfj"
      }
    },
    {
      "cell_type": "code",
      "source": [
        "a, b, c, d, e, f = map(float, input().split())\n",
        "n = a*e - b*d\n",
        "print(\"Values of x and y:\")\n",
        "if n != 0:\n",
        "    x = (c*e - b*f) / n\n",
        "    y = (a*f - c*d) / n\n",
        "    print('{:.3f} {:.3f}'.format(x+0, y+0))"
      ],
      "metadata": {
        "colab": {
          "base_uri": "https://localhost:8080/"
        },
        "id": "6g3I69jY5v8O",
        "outputId": "39adef17-b67a-403d-faa6-f8544511eb28"
      },
      "execution_count": 111,
      "outputs": [
        {
          "output_type": "stream",
          "name": "stdout",
          "text": [
            "5 8 6 7 9 4\n",
            "Values of x and y:\n",
            "-2.000 2.000\n"
          ]
        }
      ]
    },
    {
      "cell_type": "markdown",
      "source": [
        "Find list with four distinct values\n",
        "\n",
        "Write a Python program to find list integers containing exactly four distinct values, such that no integer repeats twice consecutively among the first twenty entries."
      ],
      "metadata": {
        "id": "1PP8B4R-6BdV"
      }
    },
    {
      "cell_type": "code",
      "source": [
        "def test(nums):\n",
        "    return all([nums[i] != nums[i + 1] for i in range(len(nums)-1)]) and len(set(nums)) == 4\n",
        "l=eval(input())\n",
        "print(test(l))\n"
      ],
      "metadata": {
        "colab": {
          "base_uri": "https://localhost:8080/"
        },
        "id": "1LUCAZP5583n",
        "outputId": "4424c03b-f5bb-4236-abc1-dc702c2d52b7"
      },
      "execution_count": 112,
      "outputs": [
        {
          "output_type": "stream",
          "name": "stdout",
          "text": [
            "[1, 2, 3, 4, 1, 2, 3, 4, 1, 2, 3, 4, 1, 2, 3, 4]\n",
            "True\n"
          ]
        }
      ]
    },
    {
      "cell_type": "markdown",
      "source": [
        "Max of first ith elements\n",
        "\n",
        "Write a Python program to create a list whose ith element is the maximum of the first i elements from a input list."
      ],
      "metadata": {
        "id": "8yOkaTFc6MdZ"
      }
    },
    {
      "cell_type": "code",
      "source": [
        "def test(nums):\n",
        "    return [max(nums[:i]) for i in range(1, len(nums) + 1)]\n",
        "n = eval(input())\n",
        "print(test(n))"
      ],
      "metadata": {
        "colab": {
          "base_uri": "https://localhost:8080/"
        },
        "id": "NKDhRd1x6Iom",
        "outputId": "5ab06cca-e41b-4a09-8140-acf217d9b370"
      },
      "execution_count": 113,
      "outputs": [
        {
          "output_type": "stream",
          "name": "stdout",
          "text": [
            "[0, -1, 3, 8, 5, 9, 8, 14, 2, 4, 3, -10, 10, 17, 41, 22, -4, -4, -15, 0]\n",
            "[0, 0, 3, 8, 8, 9, 9, 14, 14, 14, 14, 14, 14, 17, 41, 41, 41, 41, 41, 41]\n"
          ]
        }
      ]
    },
    {
      "cell_type": "markdown",
      "source": [
        "Find rotating string\n",
        "\n",
        "\n",
        "Write a Python Program to Determine Whether one String is a Rotation of Another"
      ],
      "metadata": {
        "id": "-8Y15BmZ6Zx7"
      }
    },
    {
      "cell_type": "code",
      "source": [
        "def checkString(s1, s2, indexFound, Size):\n",
        "    for i in range(Size):\n",
        " \n",
        "        \n",
        "        if(s1[i] != s2[(indexFound + i) % Size]):\n",
        "            return False\n",
        "    return True\n",
        " \n",
        "s1 = input()\n",
        "s2 = input()\n",
        " \n",
        "if(len(s1) != len(s2)):\n",
        "    print(\"s2 is not a rotation on s1\")\n",
        " \n",
        "else:\n",
        "    indexes = []  \n",
        "    Size = len(s1)\n",
        "    firstChar = s1[0]\n",
        "    for i in range(Size):\n",
        "        if(s2[i] == firstChar):\n",
        "            indexes.append(i)\n",
        " \n",
        "    isRotation = False\n",
        "    \n",
        "    for idx in indexes:\n",
        " \n",
        "        isRotation = checkString(s1, s2, idx, Size)\n",
        " \n",
        "        if(isRotation):\n",
        "            break\n",
        "    if(isRotation):\n",
        "        print(\"The second string is not the rotation of the first string\")\n",
        "    else:\n",
        "        print(\"The second string is the rotation of the first string\")        "
      ],
      "metadata": {
        "colab": {
          "base_uri": "https://localhost:8080/"
        },
        "id": "CB0RL8RW6imn",
        "outputId": "84202cd6-e540-4d2c-c858-2e9d6490455a"
      },
      "execution_count": 116,
      "outputs": [
        {
          "output_type": "stream",
          "name": "stdout",
          "text": [
            " \"btechgeeks\"\n",
            " \"geeksbtech\"\n",
            "The second string is the rotation of the first string\n"
          ]
        }
      ]
    },
    {
      "cell_type": "code",
      "source": [],
      "metadata": {
        "id": "GfrIJion6yaJ"
      },
      "execution_count": null,
      "outputs": []
    }
  ]
}